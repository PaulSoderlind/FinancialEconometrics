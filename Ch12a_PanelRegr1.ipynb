{
 "cells": [
  {
   "cell_type": "markdown",
   "metadata": {},
   "source": [
    "# Panel Regressions\n",
    "\n",
    "This notebook illustrates several panel data models and estimation methods (pooled OLS, fixed effects, the \"between\" estimator, first differences, etc)"
   ]
  },
  {
   "cell_type": "markdown",
   "metadata": {},
   "source": [
    "## Load Packages and Extra Functions"
   ]
  },
  {
   "cell_type": "code",
   "execution_count": 1,
   "metadata": {},
   "outputs": [
    {
     "data": {
      "text/plain": [
       "FindNNPs"
      ]
     },
     "execution_count": 1,
     "metadata": {},
     "output_type": "execute_result"
    }
   ],
   "source": [
    "using Printf, DelimitedFiles, Statistics, LinearAlgebra\n",
    "\n",
    "include(\"jlFiles/printmat.jl\")\n",
    "include(\"jlFiles/CovNWFn.jl\")\n",
    "include(\"jlFiles/Ols.jl\")\n",
    "include(\"jlFiles/lagFn.jl\")\n",
    "include(\"jlFiles/excise.jl\")"
   ]
  },
  {
   "cell_type": "markdown",
   "metadata": {},
   "source": [
    "## Loading Data"
   ]
  },
  {
   "cell_type": "code",
   "execution_count": 2,
   "metadata": {},
   "outputs": [
    {
     "name": "stdout",
     "output_type": "stream",
     "text": [
      "T=5 and N=716\n"
     ]
    }
   ],
   "source": [
    "x = readdlm(\"Data/nls_panelEd.txt\",skipstart=1)    #classical data set from Hill et al (2008)\n",
    "\n",
    "NT = size(x,1)\n",
    "c  = ones(NT)\n",
    "\n",
    "T = 5                 #number of time periods\n",
    "N = round(Int,NT/T)   #number of individuals\n",
    "\n",
    "(id,year,lnwage)   = (x[:,1],x[:,2],x[:,3])\n",
    "(exper,exper2)     = (x[:,15],x[:,16])\n",
    "(tenure,tenure2)   = (x[:,17],x[:,18])\n",
    "(south,tradeunion) = (x[:,12],x[:,14])\n",
    "\n",
    "id = round.(Int,id)    #id should be an integer (1,2,3,...)\n",
    "\n",
    "println(\"T=$T and N=$N\")"
   ]
  },
  {
   "cell_type": "markdown",
   "metadata": {},
   "source": [
    "## Creating Variables for the Regressions\n",
    "\n",
    "The next cell creates a matrix $yx$ which has the dependent variable as the first column and the regressors as the remaining columns.\n",
    "\n",
    "The first observations of the data set are tabulated. Notice the structure: the first 5 observations are for individual (`id`) 1 (period 1-5), the next 5 for individual 2. \n",
    "\n",
    "The subsequent cell makes a \"within transformation\" by creating \n",
    "\n",
    "$\n",
    "yx^*_{it} = yx_{it} - \\bar{yx}_{it}, \n",
    "$\n",
    "\n",
    "where $\\bar{yx}_{it}$ is a row vector with the averages of each column of $yx$ for individual $i$."
   ]
  },
  {
   "cell_type": "code",
   "execution_count": 3,
   "metadata": {},
   "outputs": [
    {
     "name": "stdout",
     "output_type": "stream",
     "text": [
      "\u001b[34m\u001b[1mThe first few lines of the data set:\u001b[22m\u001b[39m\n",
      "\n",
      "             id    lnwage         c exper/100\n",
      "obs1      1         1.808     1.000     0.077\n",
      "obs2      1         1.863     1.000     0.086\n",
      "obs3      1         1.789     1.000     0.102\n",
      "obs4      1         1.847     1.000     0.122\n",
      "obs5      1         1.856     1.000     0.136\n",
      "obs6      2         1.281     1.000     0.076\n",
      "obs7      2         1.516     1.000     0.084\n",
      "obs8      2         1.930     1.000     0.104\n",
      "obs9      2         1.919     1.000     0.120\n",
      "obs10     2         2.201     1.000     0.132\n",
      "obs11     3         1.815     1.000     0.114\n",
      "\n"
     ]
    }
   ],
   "source": [
    "xNames = [\"exper/100\",\"exper^2/100\",\"tenure/100\",\"tenure^2/100\",\"south\",\"union\"]\n",
    "yx = [lnwage c exper/100 exper2/100 tenure/100 tenure2/100 south tradeunion]\n",
    "K  = size(yx,2) - 1\n",
    "\n",
    "printblue(\"The first few lines of the data set:\\n\")\n",
    "rowNames = [string(\"obs\",i) for i=1:11]\n",
    "printmat(Any[id[1:11] yx[1:11,1:3]],colNames=[\"id\",\"lnwage\",\"c\",\"exper/100\"],rowNames=rowNames)"
   ]
  },
  {
   "cell_type": "code",
   "execution_count": 4,
   "metadata": {},
   "outputs": [],
   "source": [
    "id_uniq = unique(id)               #which id values are in data set\n",
    "N       = length(id_uniq)\n",
    "\n",
    "yxStar = fill(NaN,size(yx))          #individual de-meaning\n",
    "yxbar  = fill(NaN,(N,1+K)) \n",
    "for i = 1:N                          #loop over individuals\n",
    "    #local vv_i                      #local/global is needed in script\n",
    "    vv_i          = id .== id_uniq[i]                #locate rows in yx which refer to individual i\n",
    "    yxbar[i,:]    = mean(yx[vv_i,:],dims=1)          #averages for individual i\n",
    "    yxStar[vv_i,:] = yx[vv_i,:] .- yxbar[i:i,:]      #i:i to keep it a row vector\n",
    "end"
   ]
  },
  {
   "cell_type": "markdown",
   "metadata": {},
   "source": [
    "## Pooled OLS, FE, and Between Estimations\n",
    "\n",
    "'Pooled OLS' is just OLS on the original data `y,x`, 'fixed effects' (FE) is on the individually demeaned data `yxStar` and the 'between estimator' is a cross-sectional OLS on the individual means."
   ]
  },
  {
   "cell_type": "code",
   "execution_count": 5,
   "metadata": {},
   "outputs": [
    {
     "name": "stdout",
     "output_type": "stream",
     "text": [
      "\u001b[34m\u001b[1mPoint estimates:\u001b[22m\u001b[39m\n",
      "                Pooled        FE   Between\n",
      "exper/100        7.837     4.108    10.641\n",
      "exper^2/100     -0.201    -0.041    -0.317\n",
      "tenure/100       1.206     1.391     1.247\n",
      "tenure^2/100    -0.024    -0.090    -0.016\n",
      "south           -0.196    -0.016    -0.201\n",
      "union            0.110     0.064     0.121\n",
      "\n",
      "\u001b[34m\u001b[1mt-stats:\u001b[22m\u001b[39m\n",
      "                Pooled        FE   Between\n",
      "exper/100        8.954     5.917     4.573\n",
      "exper^2/100     -5.264    -1.466    -3.054\n",
      "tenure/100       2.346     3.975     0.883\n",
      "tenure^2/100    -0.828    -4.136    -0.198\n",
      "south          -13.247    -0.367    -6.519\n",
      "union            6.928     4.181     3.102\n",
      "\n"
     ]
    }
   ],
   "source": [
    "(b,res,yhat,Covb,R2,) = OlsNWFn(yx[:,1],yx[:,2:end])            #pooled OLS\n",
    "xutLS = hcat(b,b./sqrt.(diag(Covb)))\n",
    "xutLS = xutLS[2:end,:]\n",
    "\n",
    "\n",
    "(b,res,yhat,Covb,R2,) = OlsNWFn(yxStar[:,1],yxStar[:,3:end])    #fixed effect\n",
    "xutFE = hcat(b,b./sqrt.(diag(Covb))*sqrt(NT-N-2)/sqrt(NT-2))\n",
    "s2_e  = sum(res.^2)/(NT-N-(K-1))              #needed for GLS (see below)\n",
    "\n",
    "\n",
    "(b,res,yhat,Covb,R2,) = OlsNWFn(yxbar[:,1],yxbar[:,2:end])      #between estimator\n",
    "xutB = hcat(b,b./sqrt.(diag(Covb)))\n",
    "xutB = xutB[2:end,:]\n",
    "s2_u = max(0,sum(res.^2)/(N-K) - s2_e/T)      #needed for GLS\n",
    "\n",
    "\n",
    "printblue(\"Point estimates:\")\n",
    "printmat([xutLS[:,1] xutFE[:,1] xutB[:,1]],colNames=[\"Pooled\",\"FE\",\"Between\"],rowNames=xNames)\n",
    "\n",
    "printblue(\"t-stats:\")\n",
    "printmat([xutLS[:,2] xutFE[:,2] xutB[:,2]],colNames=[\"Pooled\",\"FE\",\"Between\"],rowNames=xNames)"
   ]
  },
  {
   "cell_type": "markdown",
   "metadata": {},
   "source": [
    "## First-Difference Model\n",
    "\n",
    "To estimate the first-difference model, we first need to calculate the differences (over two time periods) for the *same individual*.\n",
    "\n",
    "In the cell below, we call on the function `lagnFn` which lags the data once (as a default). For the first time period, the result is a NaN (as there are no earlier values). After the loop we locate and delete all rows that include some NaNs. This means that we will have only $T-1$ data points for each individual."
   ]
  },
  {
   "cell_type": "code",
   "execution_count": 6,
   "metadata": {},
   "outputs": [
    {
     "name": "stdout",
     "output_type": "stream",
     "text": [
      "size of yxStarΔ: (2864, 8)\n"
     ]
    }
   ],
   "source": [
    "yxStarΔ = fill(NaN,size(yx))\n",
    "for i = 1:N                          #individual first-differencing, loop over individuals\n",
    "    #local vv_i                      #only in script\n",
    "    vv_i            = id .== id_uniq[i]   #rows in yx which refer to individual i\n",
    "    yxStarΔ[vv_i,:] = yx[vv_i,:] - lagFn(yx[vv_i,:])   #yx[t] -yx[t-1]\n",
    "end\n",
    "\n",
    "yxStarΔ = excise(yxStarΔ)          #cut out rows with NaNs\n",
    "yxStarΔ[:,2] .= 1                    #constant  \n",
    "\n",
    "println(\"size of yxStarΔ: \",size(yxStarΔ))"
   ]
  },
  {
   "cell_type": "code",
   "execution_count": 7,
   "metadata": {},
   "outputs": [
    {
     "name": "stdout",
     "output_type": "stream",
     "text": [
      "\u001b[34m\u001b[1m1-st difference estimation:\u001b[22m\u001b[39m\n",
      "                  Coef       Std\n",
      "exper/100        3.548     2.277\n",
      "exper^2/100     -0.045    -0.933\n",
      "tenure/100       1.293     2.527\n",
      "tenure^2/100    -0.083    -2.329\n",
      "south           -0.024    -0.395\n",
      "union            0.044     3.115\n",
      "\n"
     ]
    }
   ],
   "source": [
    "(b,res,yhat,Covb,R2,) = OlsNWFn(yxStarΔ[:,1],yxStarΔ[:,2:end])\n",
    "xutΔ = hcat(b,b./sqrt.(diag(Covb)))\n",
    "xutΔ = xutΔ[2:end,:]\n",
    "\n",
    "printblue(\"1-st difference estimation:\")\n",
    "printmat(xutΔ,colNames=[\"Coef\",\"Std\"],rowNames=xNames)"
   ]
  },
  {
   "cell_type": "markdown",
   "metadata": {},
   "source": [
    "## GLS of Random Effects Model (extra)\n",
    "\n",
    "GLS is similar to the FE estimator discussed above, except that it is based on a 'quasi-demeaning' $y_{it} - \\vartheta\\bar{y_{it}}$ and similarly for $x_{it}$."
   ]
  },
  {
   "cell_type": "code",
   "execution_count": 8,
   "metadata": {},
   "outputs": [
    {
     "name": "stdout",
     "output_type": "stream",
     "text": [
      "ϑ in GLS:      0.774         \n",
      "\n",
      "\u001b[34m\u001b[1mGLS:\u001b[22m\u001b[39m\n",
      "                  Coef       Std\n",
      "exper/100        4.570     7.111\n",
      "exper^2/100     -0.063    -2.387\n",
      "tenure/100       1.380     4.032\n",
      "tenure^2/100    -0.074    -3.575\n",
      "south           -0.132    -5.255\n",
      "union            0.075     5.611\n",
      "\n"
     ]
    }
   ],
   "source": [
    "ϑ = 1 - sqrt(s2_e)/sqrt(T*s2_u+s2_e)                       #GLS\n",
    "printlnPs(\"ϑ in GLS: \",ϑ,\"\\n\")\n",
    "\n",
    "yxStar_ϑ = fill(NaN,size(yx))\n",
    "for i = 1:N\n",
    "    #local vv_i              #local/global is needed in script\n",
    "    vv_i             = id .== id_uniq[i]\n",
    "    yxStar_ϑ[vv_i,:] = yx[vv_i,:] .- ϑ*yxbar[i:i,:]\n",
    "end\n",
    "\n",
    "(b,res,yhat,Covb,R2,) = OlsNWFn(yxStar_ϑ[:,1],yxStar_ϑ[:,2:end])\n",
    "xutGLS = hcat(b,b./sqrt.(diag(Covb)))\n",
    "xutGLS = xutGLS[2:end,:]\n",
    "\n",
    "printblue(\"GLS:\")\n",
    "printmat(xutGLS,colNames=[\"Coef\",\"Std\"],rowNames=xNames)"
   ]
  },
  {
   "cell_type": "markdown",
   "metadata": {},
   "source": [
    "# A More Ambitious Function for Panel Regressions (extra)"
   ]
  },
  {
   "cell_type": "code",
   "execution_count": 9,
   "metadata": {},
   "outputs": [
    {
     "data": {
      "text/plain": [
       "replaceNaNinYX!"
      ]
     },
     "execution_count": 9,
     "metadata": {},
     "output_type": "execute_result"
    }
   ],
   "source": [
    "include(\"jlFiles/FixedEffects.jl\")\n",
    "include(\"jlFiles/PanelOls.jl\")"
   ]
  },
  {
   "cell_type": "markdown",
   "metadata": {},
   "source": [
    "We first reshuffle the dependent variable into an $T\\times N$ matrix `Y` and a $T \\times K \\times N$ array `X`. This will help handling autocorrelation and cross-sectional clustering. "
   ]
  },
  {
   "cell_type": "code",
   "execution_count": 10,
   "metadata": {},
   "outputs": [
    {
     "data": {
      "text/plain": [
       "5×716 Matrix{Float64}:\n",
       " 1.80829  1.28093  1.81482  2.31254  …  1.53039  1.52823  1.46094  1.60944\n",
       " 1.86342  1.51585  1.91991  2.34858     1.59881  2.4065   1.49669  1.45944\n",
       " 1.78937  1.93017  1.95838  2.37349     1.60405  2.55886  1.55984  1.42712\n",
       " 1.84653  1.91903  2.00707  2.3689      1.26794  2.64418  1.6536   1.49437\n",
       " 1.85645  2.20097  2.08985  2.35053     1.55823  2.58664  1.61586  1.34142"
      ]
     },
     "metadata": {},
     "output_type": "display_data"
    }
   ],
   "source": [
    "Y = fill(NaN,T,N)               #reshuffling the data\n",
    "X = fill(NaN,T,K,N)\n",
    "\n",
    "for i = 1:N\n",
    "    vv_i = id .== id_uniq[i]   #rows in yx which refer to individual i\n",
    "    Y[:,i] = yx[vv_i,1]\n",
    "    X[:,:,i] = yx[vv_i,2:end]\n",
    "end\n",
    "\n",
    "display(Y)"
   ]
  },
  {
   "cell_type": "markdown",
   "metadata": {},
   "source": [
    "We next call a function `FixedEffects()` to remove individual (and/or time) fixed effects."
   ]
  },
  {
   "cell_type": "code",
   "execution_count": 11,
   "metadata": {},
   "outputs": [
    {
     "name": "stdout",
     "output_type": "stream",
     "text": [
      "\n"
     ]
    }
   ],
   "source": [
    "(Ystar,Xstar) = FixedEffects(Y,X,:id)         #:id for individual fixed effects. :t for time fixed effects\n",
    "Xstar[:,1,:] .= 1                             #put back the intercept\n",
    "println()"
   ]
  },
  {
   "cell_type": "markdown",
   "metadata": {},
   "source": [
    "Finally, we call the `PanelOls()` function. The output is a named tuple. Use `keys(fO)` to see the entries."
   ]
  },
  {
   "cell_type": "code",
   "execution_count": 12,
   "metadata": {},
   "outputs": [
    {
     "name": "stdout",
     "output_type": "stream",
     "text": [
      "\u001b[34m\u001b[1mresults from PanelOls()\u001b[22m\u001b[39m\n",
      "                  coef    t-stat\n",
      "c               -0.000    -0.000\n",
      "exper/100        4.108     6.616\n",
      "exper^2/100     -0.041    -1.640\n",
      "tenure/100       1.391     4.445\n",
      "tenure^2/100    -0.090    -4.624\n",
      "south           -0.016    -0.411\n",
      "union            0.064     4.675\n",
      "\n",
      "\u001b[31m\u001b[1mCompare with the FE estimates above. The t-stats might differ because of lack of small-sample adjustment.\u001b[22m\u001b[39m\n"
     ]
    }
   ],
   "source": [
    "fO = PanelOls(Ystar,Xstar)\n",
    "\n",
    "θ      = fO.theta\n",
    "stderr = sqrt.(diag(fO.CovW))\n",
    "tstat  = θ./stderr\n",
    "\n",
    "printblue(\"results from PanelOls()\")\n",
    "printmat(θ,tstat,colNames=[\"coef\",\"t-stat\"],rowNames=[\"c\";xNames])\n",
    "\n",
    "printred(\"Compare with the FE estimates above. The t-stats might differ because of lack of small-sample adjustment.\")"
   ]
  },
  {
   "cell_type": "markdown",
   "metadata": {},
   "source": [
    "## Clustered Standard Errors\n",
    "\n",
    "We now redo the estimation but provide information on clustering for the standard errors. For simplicity, the clusters are defined as the value of the `South` dummy in $t=1$."
   ]
  },
  {
   "cell_type": "code",
   "execution_count": 13,
   "metadata": {},
   "outputs": [
    {
     "name": "stdout",
     "output_type": "stream",
     "text": [
      "\u001b[34m\u001b[1mresults from PanelOls()\u001b[22m\u001b[39m\n",
      "                       coef   t-stat White   t-stat Clust\n",
      "c                    -0.000         -0.000         -0.000\n",
      "exper/100             4.108          6.616          5.586\n",
      "exper^2/100          -0.041         -1.640         -2.027\n",
      "tenure/100            1.391          4.445          3.829\n",
      "tenure^2/100         -0.090         -4.624         -4.880\n",
      "south                -0.016         -0.411         -0.467\n",
      "union                 0.064          4.675          3.631\n",
      "\n"
     ]
    }
   ],
   "source": [
    "clust = convert.(Int,X[1,6,:])       #define clusters based on South/North in t=1\n",
    "\n",
    "fO = PanelOls(Ystar,Xstar,0,clust)   #0 autocorrelations, but clustering\n",
    "\n",
    "θ      = fO.theta\n",
    "stderrW = sqrt.(diag(fO.CovW))       #White's std\n",
    "stderrC = sqrt.(diag(fO.CovC))       #clustered std\n",
    "tstatW  = θ./stderrW\n",
    "tstatC  = θ./stderrC\n",
    "\n",
    "printblue(\"results from PanelOls()\")\n",
    "printmat(θ,tstatW,tstatC,colNames=[\"coef\",\"t-stat White\",\"t-stat Clust\"],rowNames=[\"c\";xNames],width=15)"
   ]
  },
  {
   "cell_type": "markdown",
   "metadata": {},
   "source": [
    "## Individual and Time Fixed Effects\n",
    "\n",
    "Redo the panel regression, but first we reconstruct `(Ystar,Xstar)` to handle both individual and time fixed effects."
   ]
  },
  {
   "cell_type": "code",
   "execution_count": 14,
   "metadata": {},
   "outputs": [
    {
     "name": "stdout",
     "output_type": "stream",
     "text": [
      "\u001b[34m\u001b[1mresults from PanelOls()\u001b[22m\u001b[39m\n",
      "                  coef    t-stat\n",
      "c                0.000     0.000\n",
      "exper/100        6.713     4.654\n",
      "exper^2/100     -0.045    -1.762\n",
      "tenure/100       1.347     4.279\n",
      "tenure^2/100    -0.090    -4.641\n",
      "south           -0.014    -0.358\n",
      "union            0.065     4.801\n",
      "\n"
     ]
    }
   ],
   "source": [
    "(Ystar,Xstar) = FixedEffects(Y,X,:idt)\n",
    "Xstar[:,1,:] .= 1\n",
    "\n",
    "fO = PanelOls(Ystar,Xstar)\n",
    "\n",
    "θ      = fO.theta\n",
    "stderr = sqrt.(diag(fO.CovW))\n",
    "tstat  = θ./stderr\n",
    "\n",
    "printblue(\"results from PanelOls()\")\n",
    "printmat(θ,tstat,colNames=[\"coef\",\"t-stat\"],rowNames=[\"c\";xNames])"
   ]
  },
  {
   "cell_type": "code",
   "execution_count": null,
   "metadata": {},
   "outputs": [],
   "source": []
  }
 ],
 "metadata": {
  "@webio": {
   "lastCommId": null,
   "lastKernelId": null
  },
  "anaconda-cloud": {},
  "kernelspec": {
   "display_name": "Julia 1.6.1",
   "language": "julia",
   "name": "julia-1.6"
  },
  "language_info": {
   "file_extension": ".jl",
   "mimetype": "application/julia",
   "name": "julia",
   "version": "1.6.2"
  }
 },
 "nbformat": 4,
 "nbformat_minor": 1
}
