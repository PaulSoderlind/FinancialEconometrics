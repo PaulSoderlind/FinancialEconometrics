{
 "cells": [
  {
   "cell_type": "markdown",
   "metadata": {},
   "source": [
    "# Panel Regressions\n",
    "\n",
    "This notebook illustrates several panel data models and estimation methods (pooled OLS, fixed effects, the \"between\" estimator, first differences, etc)"
   ]
  },
  {
   "cell_type": "markdown",
   "metadata": {},
   "source": [
    "## Load Packages and Extra Functions"
   ]
  },
  {
   "cell_type": "code",
   "execution_count": 1,
   "metadata": {},
   "outputs": [
    {
     "data": {
      "text/plain": [
       "exciseFn (generic function with 1 method)"
      ]
     },
     "execution_count": 1,
     "metadata": {},
     "output_type": "execute_result"
    }
   ],
   "source": [
    "using Printf, DelimitedFiles, Statistics, LinearAlgebra\n",
    "\n",
    "include(\"jlFiles/printmat.jl\")\n",
    "include(\"jlFiles/CovNWFn.jl\")\n",
    "include(\"jlFiles/Ols.jl\")\n",
    "include(\"jlFiles/lagFn.jl\")\n",
    "include(\"jlFiles/exciseFn.jl\")"
   ]
  },
  {
   "cell_type": "markdown",
   "metadata": {},
   "source": [
    "## Loading Data"
   ]
  },
  {
   "cell_type": "code",
   "execution_count": 2,
   "metadata": {},
   "outputs": [
    {
     "name": "stdout",
     "output_type": "stream",
     "text": [
      "T=5 and N=716\n"
     ]
    }
   ],
   "source": [
    "x = readdlm(\"Data/nls_panelEd.txt\",skipstart=1)    #classical data set from Hill et al (2008)\n",
    "\n",
    "NT = size(x,1)\n",
    "c  = ones(NT)\n",
    "\n",
    "T = 5                 #number of time periods\n",
    "N = round(Int,NT/T)   #number of individuals\n",
    "\n",
    "(id,year,lnwage)   = (x[:,1],x[:,2],x[:,3])\n",
    "(exper,exper2)     = (x[:,15],x[:,16])\n",
    "(tenure,tenure2)   = (x[:,17],x[:,18])\n",
    "(south,tradeunion) = (x[:,12],x[:,14])\n",
    "\n",
    "id = round.(Int,id)    #id should be an integer (1,2,3,...)\n",
    "\n",
    "println(\"T=$T and N=$N\")"
   ]
  },
  {
   "cell_type": "markdown",
   "metadata": {},
   "source": [
    "## Creating Variables for the Regressions\n",
    "\n",
    "The next cell creates a matrix $yx$ which has the dependent variable as the first column and the regressors as the remaining columns.\n",
    "\n",
    "The first observations of the data set are tabulated. Notice the structure: the first 5 observations are for individual (`id`) 1 (period 1-5), the next 5 for individual 2. \n",
    "\n",
    "The subsequent cell makes a \"within transformation\" by creating \n",
    "\n",
    "$\n",
    "yx^*_{it} = yx_{it} - \\bar{yx}_{it}, \n",
    "$\n",
    "\n",
    "where $\\bar{yx}_{it}$ is a row vector with the averages of each column of $yx$ for individual $i$."
   ]
  },
  {
   "cell_type": "code",
   "execution_count": 3,
   "metadata": {},
   "outputs": [
    {
     "name": "stdout",
     "output_type": "stream",
     "text": [
      "\u001b[34m\u001b[1mThe first lines of the data set:\u001b[22m\u001b[39m\n",
      "             id    lnwage         c exper/100\n",
      "obs1      1         1.808     1.000     0.077\n",
      "obs2      1         1.863     1.000     0.086\n",
      "obs3      1         1.789     1.000     0.102\n",
      "obs4      1         1.847     1.000     0.122\n",
      "obs5      1         1.856     1.000     0.136\n",
      "obs6      2         1.281     1.000     0.076\n",
      "obs7      2         1.516     1.000     0.084\n",
      "obs8      2         1.930     1.000     0.104\n",
      "obs9      2         1.919     1.000     0.120\n",
      "obs10     2         2.201     1.000     0.132\n",
      "obs11     3         1.815     1.000     0.114\n",
      "\n"
     ]
    }
   ],
   "source": [
    "xNames = [\"exper/100\",\"exper^2/100\",\"tenure/100\",\"tenure^2/100\",\"south\",\"union\"]\n",
    "yx = [lnwage c exper/100 exper2/100 tenure/100 tenure2/100 south tradeunion]\n",
    "K  = size(yx,2) - 1\n",
    "\n",
    "printblue(\"The first lines of the data set:\")\n",
    "rowNames = [string(\"obs\",i) for i=1:11]\n",
    "printmat(Any[id[1:11] yx[1:11,1:3]],colNames=[\"id\" \"lnwage\" \"c\" \"exper/100\"],rowNames=rowNames)"
   ]
  },
  {
   "cell_type": "code",
   "execution_count": 4,
   "metadata": {},
   "outputs": [],
   "source": [
    "id_uniq = unique(id)               #which id values are in data set\n",
    "N       = length(id_uniq)\n",
    "\n",
    "yxStar = fill(NaN,size(yx))          #individual de-meaning\n",
    "yxbar  = fill(NaN,(N,1+K)) \n",
    "for i = 1:N                          #loop over individuals\n",
    "    #local vv_i                      #only needed in script\n",
    "    vv_i          = id .== id_uniq[i]                #locate rows in yx which refer to individual i\n",
    "    yxbar[i,:]    = mean(yx[vv_i,:],dims=1)          #averages for individual i\n",
    "    yxStar[vv_i,:] = yx[vv_i,:] .- yxbar[i:i,:]      #i:i to keep it a row vector\n",
    "end"
   ]
  },
  {
   "cell_type": "markdown",
   "metadata": {},
   "source": [
    "## Pooled OLS, FE, and Between Estimations\n",
    "\n",
    "'Pooled OLS' is just OLS on the original data `y,x`, 'fixed effects' (FE) is on the individually demeaned data `yxStar` and the 'between estimator' is a cross-sectional OLS on the individual means."
   ]
  },
  {
   "cell_type": "code",
   "execution_count": 5,
   "metadata": {},
   "outputs": [
    {
     "name": "stdout",
     "output_type": "stream",
     "text": [
      "\u001b[34m\u001b[1mPoint estimates\u001b[22m\u001b[39m\n",
      "                Pooled        FE   Between\n",
      "exper/100        7.837     4.108    10.641\n",
      "exper^2/100     -0.201    -0.041    -0.317\n",
      "tenure/100       1.206     1.391     1.247\n",
      "tenure^2/100    -0.024    -0.090    -0.016\n",
      "south           -0.196    -0.016    -0.201\n",
      "union            0.110     0.064     0.121\n",
      "\n",
      "\u001b[34m\u001b[1mt-stats\u001b[22m\u001b[39m\n",
      "                Pooled        FE   Between\n",
      "exper/100        8.954     5.917     4.573\n",
      "exper^2/100     -5.264    -1.466    -3.054\n",
      "tenure/100       2.346     3.975     0.883\n",
      "tenure^2/100    -0.828    -4.136    -0.198\n",
      "south          -13.247    -0.367    -6.519\n",
      "union            6.928     4.181     3.102\n",
      "\n"
     ]
    }
   ],
   "source": [
    "(b,res,yhat,Covb,R2,) = OlsNWFn(yx[:,1],yx[:,2:end])            #pooled OLS\n",
    "xutLS = hcat(b,b./sqrt.(diag(Covb)))\n",
    "xutLS = xutLS[2:end,:]\n",
    "\n",
    "\n",
    "(b,res,yhat,Covb,R2,) = OlsNWFn(yxStar[:,1],yxStar[:,3:end])    #fixed effect\n",
    "xutFE = hcat(b,b./sqrt.(diag(Covb))*sqrt(NT-N-2)/sqrt(NT-2))\n",
    "s2_e  = sum(res.^2)/(NT-N-(K-1))              #needed for GLS (see below)\n",
    "\n",
    "\n",
    "(b,res,yhat,Covb,R2,) = OlsNWFn(yxbar[:,1],yxbar[:,2:end])      #between estimator\n",
    "xutB = hcat(b,b./sqrt.(diag(Covb)))\n",
    "xutB = xutB[2:end,:]\n",
    "s2_u = max(0,sum(res.^2)/(N-K) - s2_e/T)      #needed for GLS\n",
    "\n",
    "\n",
    "printblue(\"Point estimates\")\n",
    "printmat([xutLS[:,1] xutFE[:,1] xutB[:,1]],colNames=[\"Pooled\" \"FE\" \"Between\"],rowNames=xNames)\n",
    "\n",
    "printblue(\"t-stats\")\n",
    "printmat([xutLS[:,2] xutFE[:,2] xutB[:,2]],colNames=[\"Pooled\" \"FE\" \"Between\"],rowNames=xNames)"
   ]
  },
  {
   "cell_type": "markdown",
   "metadata": {},
   "source": [
    "## First-Difference Model\n",
    "\n",
    "To estimate the first-difference model, we first need to calculate the differences (over two time periods) for the *same individual*.\n",
    "\n",
    "In the cell below, we call on the function `lagnFn` which lags the data once (as a default). For the first time period, the result is a NaN (as there are no earlier values). After the loop we locate and delete all rows that include some NaNs. This means that we will have only $T-1$ data points for each individual."
   ]
  },
  {
   "cell_type": "code",
   "execution_count": 6,
   "metadata": {},
   "outputs": [
    {
     "name": "stdout",
     "output_type": "stream",
     "text": [
      "size of yxStarΔ: (2864, 8)\n"
     ]
    }
   ],
   "source": [
    "yxStarΔ = fill(NaN,size(yx))\n",
    "for i = 1:N                          #individual first-differencing, loop over individuals\n",
    "    #local vv_i                      #only in script\n",
    "    vv_i            = id .== id_uniq[i]   #rows in yx which refer to individual i\n",
    "    yxStarΔ[vv_i,:] = yx[vv_i,:] - lagFn(yx[vv_i,:])   #yx[t] -yx[t-1]\n",
    "end\n",
    "\n",
    "yxStarΔ = exciseFn(yxStarΔ)          #cut out rows with NaNs\n",
    "yxStarΔ[:,2] .= 1                    #constant  \n",
    "\n",
    "println(\"size of yxStarΔ: \",size(yxStarΔ))"
   ]
  },
  {
   "cell_type": "code",
   "execution_count": 7,
   "metadata": {},
   "outputs": [
    {
     "name": "stdout",
     "output_type": "stream",
     "text": [
      "\u001b[34m\u001b[1m1-st difference estimation:\u001b[22m\u001b[39m\n",
      "                  Coef       Std\n",
      "exper/100        3.548     2.277\n",
      "exper^2/100     -0.045    -0.933\n",
      "tenure/100       1.293     2.527\n",
      "tenure^2/100    -0.083    -2.329\n",
      "south           -0.024    -0.395\n",
      "union            0.044     3.115\n",
      "\n"
     ]
    }
   ],
   "source": [
    "(b,res,yhat,Covb,R2,) = OlsNWFn(yxStarΔ[:,1],yxStarΔ[:,2:end])\n",
    "xutΔ = hcat(b,b./sqrt.(diag(Covb)))\n",
    "xutΔ = xutΔ[2:end,:]\n",
    "\n",
    "printblue(\"1-st difference estimation:\")\n",
    "printmat(xutΔ,colNames=[\"Coef\" \"Std\"],rowNames=xNames)"
   ]
  },
  {
   "cell_type": "markdown",
   "metadata": {},
   "source": [
    "## GLS of Random Effects Model (extra)\n",
    "\n",
    "GLS is similar to the FE estimator discussed above, except that it is based on a 'quasi-demeaning' $y_{it} - \\vartheta\\bar{y_{it}}$ and similarly for $x_{it}$."
   ]
  },
  {
   "cell_type": "code",
   "execution_count": 8,
   "metadata": {},
   "outputs": [
    {
     "name": "stdout",
     "output_type": "stream",
     "text": [
      "ϑ in GLS: 0.774376573133901\n",
      "\n",
      "\u001b[34m\u001b[1mGLS:\u001b[22m\u001b[39m\n",
      "                  Coef       Std\n",
      "exper/100        4.570     7.111\n",
      "exper^2/100     -0.063    -2.387\n",
      "tenure/100       1.380     4.032\n",
      "tenure^2/100    -0.074    -3.575\n",
      "south           -0.132    -5.255\n",
      "union            0.075     5.611\n",
      "\n"
     ]
    }
   ],
   "source": [
    "ϑ = 1 - sqrt(s2_e)/sqrt(T*s2_u+s2_e)                       #GLS\n",
    "println(\"ϑ in GLS: $ϑ\\n\")\n",
    "\n",
    "yxStar_ϑ = fill(NaN,size(yx))\n",
    "for i = 1:N\n",
    "    #local vv_i              #only needed in script\n",
    "    vv_i             = id .== id_uniq[i]\n",
    "    yxStar_ϑ[vv_i,:] = yx[vv_i,:] .- ϑ*yxbar[i:i,:]\n",
    "end\n",
    "\n",
    "(b,res,yhat,Covb,R2,) = OlsNWFn(yxStar_ϑ[:,1],yxStar_ϑ[:,2:end])\n",
    "xutGLS = hcat(b,b./sqrt.(diag(Covb)))\n",
    "xutGLS = xutGLS[2:end,:]\n",
    "\n",
    "printblue(\"GLS:\")\n",
    "printmat(xutGLS,colNames=[\"Coef\" \"Std\"],rowNames=xNames)"
   ]
  },
  {
   "cell_type": "code",
   "execution_count": null,
   "metadata": {},
   "outputs": [],
   "source": []
  }
 ],
 "metadata": {
  "@webio": {
   "lastCommId": null,
   "lastKernelId": null
  },
  "anaconda-cloud": {},
  "kernelspec": {
   "display_name": "Julia 1.6.0",
   "language": "julia",
   "name": "julia-1.6"
  },
  "language_info": {
   "file_extension": ".jl",
   "mimetype": "application/julia",
   "name": "julia",
   "version": "1.6.0"
  }
 },
 "nbformat": 4,
 "nbformat_minor": 1
}
