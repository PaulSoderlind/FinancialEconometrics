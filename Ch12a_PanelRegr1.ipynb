{
 "cells": [
  {
   "cell_type": "markdown",
   "metadata": {},
   "source": [
    "# Panel Regressions\n",
    "\n",
    "This notebook illustrates several panel data models and estimation methods: pooled OLS, fixed effects, the \"between\" estimator, first differences, etc."
   ]
  },
  {
   "cell_type": "markdown",
   "metadata": {},
   "source": [
    "## Load Packages and Extra Functions"
   ]
  },
  {
   "cell_type": "code",
   "execution_count": 1,
   "metadata": {
    "tags": []
   },
   "outputs": [],
   "source": [
    "using Printf, DelimitedFiles, Statistics, LinearAlgebra\n",
    "\n",
    "include(\"jlFiles/printmat.jl\")\n",
    "include(\"jlFiles/CovNWFn.jl\")\n",
    "include(\"jlFiles/Ols.jl\")\n",
    "include(\"jlFiles/UtilityFunctions.jl\");"
   ]
  },
  {
   "cell_type": "markdown",
   "metadata": {},
   "source": [
    "## Loading Data\n",
    "\n",
    "### A Remark on the Code\n",
    "\n",
    "The data set contains many variables (one per column). It is convenient to store them as a named tuple where the names are taken directly from the header in the file. This allows us to later use, for instance, `X.lwage` to refer to the data on log wages. As an alternative, consider the `DataFrames.jl` package. \n",
    "\n",
    "The second cell below shows some of the data used in the regressions. Notice the structure: the first 5 observations are for individual (`id`) 1 (period 1-5), the next 5 for individual 2. The code we use below does *not* rely on this structure, as it could equally well handle the case where the first `N` observations are for period 1 for each of the ids."
   ]
  },
  {
   "cell_type": "code",
   "execution_count": 2,
   "metadata": {
    "tags": []
   },
   "outputs": [
    {
     "name": "stdout",
     "output_type": "stream",
     "text": [
      "(:id, :year, :lwage, :hours, :age, :educ, :collgrad, :msp, :nev_mar, :not_smsa, :c_city, :south, :black, :union, :exper, :exper2, :tenure, :tenure2)\n",
      "\n",
      "T=5 and N=716\n"
     ]
    }
   ],
   "source": [
    "(data,header) = readdlm(\"Data/nls_panelEd.txt\",header=true)    #classical data set from Hill et al (2008)\n",
    "\n",
    "X = PutDataInNT(data,header)                      #NamedTuple with X.X.id, X.lwage, etc\n",
    "println(keys(X))\n",
    "\n",
    "id = convert.(Int,X.id)                           #id of individuals: 1,2,...,N\n",
    "T = length(unique(X.year))                        #number of time periods\n",
    "N = length(unique(id))                            #number of individuals\n",
    "NT = N*T\n",
    "c  = ones(NT)\n",
    "\n",
    "println(\"\\nT=$T and N=$N\")"
   ]
  },
  {
   "cell_type": "code",
   "execution_count": 3,
   "metadata": {
    "tags": []
   },
   "outputs": [
    {
     "name": "stdout",
     "output_type": "stream",
     "text": [
      "\u001b[34m\u001b[1mThe first few lines of (some of) the data:\u001b[22m\u001b[39m\n",
      "\n",
      "obs        id    lnwage         c exper/100\n",
      "1       1         1.808     1.000     0.077\n",
      "2       1         1.863     1.000     0.086\n",
      "3       1         1.789     1.000     0.102\n",
      "4       1         1.847     1.000     0.122\n",
      "5       1         1.856     1.000     0.136\n",
      "6       2         1.281     1.000     0.076\n",
      "7       2         1.516     1.000     0.084\n",
      "8       2         1.930     1.000     0.104\n",
      "9       2         1.919     1.000     0.120\n",
      "10      2         2.201     1.000     0.132\n",
      "11      3         1.815     1.000     0.114\n",
      "\n"
     ]
    }
   ],
   "source": [
    "y = X.lwage\n",
    "xNames = [\"exper/100\",\"exper^2/100\",\"tenure/100\",\"tenure^2/100\",\"south\",\"union\"]\n",
    "x = [c X.exper/100 X.exper2/100 X.tenure/100 X.tenure2/100 X.south X.union]\n",
    "K = size(x,2)                  #number of regressors\n",
    "\n",
    "printblue(\"The first few lines of (some of) the data:\\n\")\n",
    "printmat(id[1:11],y[1:11],x[1:11,1:2];colNames=[\"id\",\"lnwage\",\"c\",\"exper/100\"],rowNames=string.(1:11),cell00=\"obs\")"
   ]
  },
  {
   "cell_type": "markdown",
   "metadata": {},
   "source": [
    "## Pooled OLS, FE, and Between Estimations\n",
    "\n",
    "For the FE and between methods, we create individually demeaned data $(y^*,x^*)$ and individal averages $(\\hat{y},\\hat{x}),$ by\n",
    "\n",
    "$\n",
    "x^*_{it} = x_{it} - \\bar{x}_{i}, \n",
    "$\n",
    "\n",
    "where $\\bar{x}_{i}$ is a row vector with the averages of each column of $x$ for individual $i$. The transformation of $y$ to $y^*$ is similar.\n",
    "\n",
    "\n",
    "'Pooled OLS' is just OLS on the original data `(y,x)`, 'fixed effects' (FE) is on the individually demeaned data `(yˣ,xˣ)` and the 'between estimator' is a cross-sectional OLS on the individual means `(ȳ,x̄)`.\n",
    "\n",
    "\n",
    "\n",
    "### A Remark on the Code\n",
    "\n",
    "- `OlsNWFn(y,x,m=0)` is a function for doing OLS. Setting `m>=1` gives Newey-West standard errors. With `m=0` (the default) we instead get White's standard errors."
   ]
  },
  {
   "cell_type": "code",
   "execution_count": 4,
   "metadata": {},
   "outputs": [
    {
     "data": {
      "text/plain": [
       "IndividualDemean"
      ]
     },
     "execution_count": 4,
     "metadata": {},
     "output_type": "execute_result"
    }
   ],
   "source": [
    "\"\"\"\n",
    "    IndividualDemean(y,x,id,ϑ=1)\n",
    "\n",
    "Demean y and x by individuals (cross-sectional units), assuming `y` is a NT vector \n",
    "and `x` is NTxK and both are organised as the NT-vector `id`. The code handles both\n",
    "the case where data is organised according to id or according to time.\n",
    "\n",
    "ϑ=1 is used for the FE estimator, but the GLS estimator uses 0<ϑ<1 (see below).\n",
    "\n",
    "\"\"\"\n",
    "function IndividualDemean(y,x,id,ϑ=1)\n",
    "\n",
    "    id_uniq = unique(id)               #which id values are in data set\n",
    "    N       = length(id_uniq)\n",
    "    K       = size(x,2)\n",
    "\n",
    "    (yˣ,xˣ) = (fill(NaN,size(y)),fill(NaN,size(x)))\n",
    "    (ȳ,x̄)   = (fill(NaN,N),fill(NaN,N,K))\n",
    "        \n",
    "    for i = 1:N                              #loop over individuals\n",
    "        vv_i       = id .== id_uniq[i]           #locate rows which refer to individual i\n",
    "        ȳ[i]       = mean(y[vv_i])               #averages for individual i\n",
    "        x̄[i,:]     = mean(x[vv_i,:],dims=1)\n",
    "        yˣ[vv_i]   = y[vv_i]   .- ϑ*ȳ[i]    \n",
    "        xˣ[vv_i,:] = x[vv_i,:] .- ϑ*x̄[i:i,:]       #i:i to keep it a row vector\n",
    "    end\n",
    "\n",
    "    return yˣ,xˣ,ȳ,x̄\n",
    "\n",
    "end"
   ]
  },
  {
   "cell_type": "code",
   "execution_count": 5,
   "metadata": {
    "tags": []
   },
   "outputs": [],
   "source": [
    "(yˣ,xˣ,ȳ,x̄) = IndividualDemean(y,x,id);    #individual deamaning\n",
    "\n",
    "xˣ[:,1] .= 1;               #put the intercept back"
   ]
  },
  {
   "cell_type": "code",
   "execution_count": 6,
   "metadata": {
    "tags": []
   },
   "outputs": [
    {
     "name": "stdout",
     "output_type": "stream",
     "text": [
      "\u001b[34m\u001b[1mPoint estimates:\u001b[22m\u001b[39m\n",
      "                Pooled        FE   Between\n",
      "c                1.285    -0.000     1.122\n",
      "exper/100        7.837     4.108    10.641\n",
      "exper^2/100     -0.201    -0.041    -0.317\n",
      "tenure/100       1.206     1.391     1.247\n",
      "tenure^2/100    -0.024    -0.090    -0.016\n",
      "south           -0.196    -0.016    -0.201\n",
      "union            0.110     0.064     0.121\n",
      "\n",
      "\u001b[34m\u001b[1mt-stats:\u001b[22m\u001b[39m\n",
      "                Pooled        FE   Between\n",
      "c               28.513    -0.000     9.801\n",
      "exper/100        8.954     6.616     4.573\n",
      "exper^2/100     -5.264    -1.640    -3.054\n",
      "tenure/100       2.346     4.445     0.883\n",
      "tenure^2/100    -0.828    -4.624    -0.198\n",
      "south          -13.247    -0.411    -6.519\n",
      "union            6.928     4.675     3.102\n",
      "\n"
     ]
    }
   ],
   "source": [
    "(b,res,yhat,Covb,R2,) = OlsNWFn(y,x)            #pooled OLS\n",
    "xutLS = hcat(b,b./sqrt.(diag(Covb)))\n",
    "\n",
    "(b,res,yhat,Covb,R2,) = OlsNWFn(yˣ,xˣ)          #fixed effect\n",
    "xutFE = hcat(b,b./sqrt.(diag(Covb)))\n",
    "s2_e  = sum(res.^2)/(NT-N-(K-1))                #needed for GLS (see below)\n",
    "\n",
    "(b,res,yhat,Covb,R2,) = OlsNWFn(ȳ,x̄)         #between estimator\n",
    "xutB = hcat(b,b./sqrt.(diag(Covb)))\n",
    "s2_u = max(0,sum(res.^2)/(N-K) - s2_e/T)      #needed for GLS\n",
    "printblue(\"Point estimates:\")\n",
    "printmat(xutLS[:,1],xutFE[:,1],xutB[:,1];colNames=[\"Pooled\",\"FE\",\"Between\"],rowNames=[\"c\";xNames])\n",
    "\n",
    "printblue(\"t-stats:\")\n",
    "printmat(xutLS[:,2],xutFE[:,2],xutB[:,2];colNames=[\"Pooled\",\"FE\",\"Between\"],rowNames=[\"c\";xNames])"
   ]
  },
  {
   "cell_type": "markdown",
   "metadata": {},
   "source": [
    "## First-Difference Model\n",
    "\n",
    "To estimate the first-difference model, we first need to calculate the differences (over two time periods) for the *same individual*. This is done in a function defined in the next cell.\n",
    "\n",
    "### A Remark on the Code\n",
    "\n",
    "- `FirstDiff()` calls on the function `lagFn` which lags the data once (as a default). For the first time period, the result is a NaN (as there are no earlier values).\n",
    "- After the loop in `FirstDiff()` we locate and delete all rows that include some NaNs. This means that we will have only $T-1$ data points for each individual."
   ]
  },
  {
   "cell_type": "code",
   "execution_count": 7,
   "metadata": {},
   "outputs": [
    {
     "data": {
      "text/plain": [
       "FirstDiff"
      ]
     },
     "execution_count": 7,
     "metadata": {},
     "output_type": "execute_result"
    }
   ],
   "source": [
    "\"\"\"\n",
    "    FirstDiff(y,x,id)\n",
    "\n",
    "Calculate first differences (for each individual) of y and x. Data is assumed to be \n",
    "organised as in `IndividualDemean()`. It is important, however, that obs (i,t+1) is \n",
    "below that of (i,t).\n",
    "\n",
    "\"\"\"\n",
    "function FirstDiff(y,x,id)\n",
    "\n",
    "    id_uniq = unique(id)               #which id values are in data set\n",
    "    N       = length(id_uniq)\n",
    "    K       = size(x,2)\n",
    "  \n",
    "    (Δy,Δx) = (fill(NaN,size(y)),fill(NaN,size(x)))\n",
    "\n",
    "    for i = 1:N                          #individual first-differencing, loop over individuals\n",
    "        vv_i       = id .== id_uniq[i]   ##locate rows which refer to individual i\n",
    "        Δy[vv_i,:] = y[vv_i]   - lagFn(y[vv_i,:])   #y[t] -y[t-1]\n",
    "        Δx[vv_i,:] = x[vv_i,:] - lagFn(x[vv_i,:])   #x[t,:] -x[t-1,:]        \n",
    "    end\n",
    "\n",
    "    (Δy,Δx) = (excise(Δy),excise(Δx))          #cut out rows with NaNs\n",
    "\n",
    "    return Δy,Δx\n",
    "    \n",
    "end    "
   ]
  },
  {
   "cell_type": "code",
   "execution_count": 8,
   "metadata": {
    "tags": []
   },
   "outputs": [],
   "source": [
    "(Δy,Δx)  = FirstDiff(y,x,id)\n",
    "Δx[:,1] .= 1;                  #put a (non-zero) constant back"
   ]
  },
  {
   "cell_type": "code",
   "execution_count": 9,
   "metadata": {
    "tags": []
   },
   "outputs": [
    {
     "name": "stdout",
     "output_type": "stream",
     "text": [
      "\u001b[34m\u001b[1m1-st difference estimation:\u001b[22m\u001b[39m\n",
      "                  Coef       Std\n",
      "exper/100        3.548     2.277\n",
      "exper^2/100     -0.045    -0.933\n",
      "tenure/100       1.293     2.527\n",
      "tenure^2/100    -0.083    -2.329\n",
      "south           -0.024    -0.395\n",
      "union            0.044     3.115\n",
      "\n"
     ]
    }
   ],
   "source": [
    "(b,res,yhat,Covb,R2,) = OlsNWFn(Δy,Δx)\n",
    "xutΔ = hcat(b,b./sqrt.(diag(Covb)))\n",
    "xutΔ = xutΔ[2:end,:]\n",
    "\n",
    "printblue(\"1-st difference estimation:\")\n",
    "printmat(xutΔ,colNames=[\"Coef\",\"Std\"],rowNames=xNames)"
   ]
  },
  {
   "cell_type": "markdown",
   "metadata": {},
   "source": [
    "## GLS of Random Effects Model (extra)\n",
    "\n",
    "GLS is similar to the FE estimator discussed above, except that it is based on a 'quasi-demeaning' $y_{it} - \\vartheta\\bar{y_{i}}$ and similarly for $x_{it}$."
   ]
  },
  {
   "cell_type": "code",
   "execution_count": 10,
   "metadata": {
    "tags": []
   },
   "outputs": [
    {
     "name": "stdout",
     "output_type": "stream",
     "text": [
      "ϑ in GLS:      0.774          \n",
      "\n"
     ]
    }
   ],
   "source": [
    "ϑ = 1 - sqrt(s2_e)/sqrt(T*s2_u+s2_e)                       #GLS\n",
    "printlnPs(\"ϑ in GLS: \",ϑ,\"\\n\")\n",
    "(yˣ,xˣ,) = IndividualDemean(y,x,id,ϑ);"
   ]
  },
  {
   "cell_type": "code",
   "execution_count": 11,
   "metadata": {
    "tags": []
   },
   "outputs": [
    {
     "name": "stdout",
     "output_type": "stream",
     "text": [
      "\u001b[34m\u001b[1mGLS:\u001b[22m\u001b[39m\n",
      "                  Coef       Std\n",
      "exper/100        4.570     7.111\n",
      "exper^2/100     -0.063    -2.387\n",
      "tenure/100       1.380     4.032\n",
      "tenure^2/100    -0.074    -3.575\n",
      "south           -0.132    -5.255\n",
      "union            0.075     5.611\n",
      "\n"
     ]
    }
   ],
   "source": [
    "(b,res,yhat,Covb,R2,) = OlsNWFn(yˣ,xˣ)\n",
    "xutGLS = hcat(b,b./sqrt.(diag(Covb)))\n",
    "xutGLS = xutGLS[2:end,:]\n",
    "\n",
    "printblue(\"GLS:\")\n",
    "printmat(xutGLS,colNames=[\"Coef\",\"Std\"],rowNames=xNames)"
   ]
  },
  {
   "cell_type": "code",
   "execution_count": null,
   "metadata": {},
   "outputs": [],
   "source": []
  }
 ],
 "metadata": {
  "@webio": {
   "lastCommId": null,
   "lastKernelId": null
  },
  "anaconda-cloud": {},
  "kernelspec": {
   "display_name": "Julia 1.9.4",
   "language": "julia",
   "name": "julia-1.9"
  },
  "language_info": {
   "file_extension": ".jl",
   "mimetype": "application/julia",
   "name": "julia",
   "version": "1.9.4"
  }
 },
 "nbformat": 4,
 "nbformat_minor": 4
}
