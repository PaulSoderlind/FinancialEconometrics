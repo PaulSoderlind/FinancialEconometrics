{
 "cells": [
  {
   "cell_type": "markdown",
   "metadata": {},
   "source": [
    "# Basic OLS\n",
    "\n",
    "This notebook estimates a linear regression and reports standard errors (assuming iid residuals).\n",
    "\n",
    "For a package, consider [GLM.jl](https://github.com/JuliaStats/GLM.jl) (not used here)."
   ]
  },
  {
   "cell_type": "markdown",
   "metadata": {},
   "source": [
    "## Load Packages and Extra Functions"
   ]
  },
  {
   "cell_type": "code",
   "execution_count": 1,
   "metadata": {},
   "outputs": [
    {
     "data": {
      "text/plain": [
       "printyellow (generic function with 1 method)"
      ]
     },
     "execution_count": 1,
     "metadata": {},
     "output_type": "execute_result"
    }
   ],
   "source": [
    "using Printf, DelimitedFiles, Statistics, LinearAlgebra, Distributions\n",
    "\n",
    "include(\"jlFiles/printmat.jl\")"
   ]
  },
  {
   "cell_type": "markdown",
   "metadata": {},
   "source": [
    "## Loading Data"
   ]
  },
  {
   "cell_type": "code",
   "execution_count": 2,
   "metadata": {},
   "outputs": [
    {
     "name": "stdout",
     "output_type": "stream",
     "text": [
      "Sample size:    (388,)\n"
     ]
    }
   ],
   "source": [
    "x = readdlm(\"Data/FFmFactorsPs.csv\",',',skipstart=1)\n",
    "\n",
    "                #yearmonth, market, small minus big, high minus low\n",
    "(ym,Rme,RSMB,RHML) = (x[:,1],x[:,2]/100,x[:,3]/100,x[:,4]/100) \n",
    "x = nothing\n",
    "\n",
    "printlnPs(\"Sample size:\",size(Rme))"
   ]
  },
  {
   "cell_type": "markdown",
   "metadata": {},
   "source": [
    "## OLS Estimates and Their Distribution"
   ]
  },
  {
   "cell_type": "markdown",
   "metadata": {},
   "source": [
    "Consider the linear regression\n",
    "\n",
    "$\n",
    "y_{t}=\\beta^{\\prime}x_{t}+u_{t},\n",
    "$\n",
    "\n",
    "where $y_{t}$ is a scalar and $x_{t}$ is $k\\times1$. The OLS estimate is\n",
    "\n",
    "$\n",
    "\\hat{\\beta} = S_{xx}^{-1}S_{xy}, \\: \\text{ where } \\: \n",
    "S_{xx}      = \\sum\\nolimits_{t=1}^{T}x_{t}x_{t}^{\\prime}\n",
    "\\: \\text{ and } \\:\n",
    "S_{xy}      = \\sum\\nolimits_{t=1}^{T}x_{t}y_{t}.\n",
    "$\n",
    "\n",
    "When $x_t$ and $u_t$ are independent (Gauss-Markov assumptions), then the distribution of the estimates is (typically)\n",
    "\n",
    "$\n",
    "(\\hat{\\beta}-\\beta_{0})\\overset{d}{\\rightarrow}N(0,S_{xx}^{-1}\\sigma^2),\n",
    "$\n",
    "\n",
    "where $\\sigma^2$ is the variance of the residual.\n",
    "\n",
    "To calculate the estimates and the covariance matrix, we define the matrices $X_{T\\times k}$ and $Y_{T\\times1}$\n",
    "by letting $x_{t}^{\\prime}$ and $y_{t}$ be the $t^{th}$ rows\n",
    "\n",
    "$\n",
    "X_{T\\times k}=\n",
    "\\begin{bmatrix}\n",
    "x_{1}^{\\prime}\\\\\n",
    "\\vdots\\\\\n",
    "x_{T}^{\\prime}\n",
    "\\end{bmatrix}\n",
    "\\ \\text{ and } \\ Y_{T\\times1}=\n",
    "\\begin{bmatrix}\n",
    "y_{1}\\\\\n",
    "\\vdots\\\\\n",
    "y_{T}\n",
    "\\end{bmatrix}.\n",
    "$\n",
    "\n",
    "The estimates can then be calculated as \n",
    "```\n",
    "b = X\\Y\n",
    "```"
   ]
  },
  {
   "cell_type": "markdown",
   "metadata": {},
   "source": [
    "## A Function for OLS"
   ]
  },
  {
   "cell_type": "code",
   "execution_count": 3,
   "metadata": {},
   "outputs": [
    {
     "data": {
      "text/plain": [
       "OlsGMFn"
      ]
     },
     "execution_count": 3,
     "metadata": {},
     "output_type": "execute_result"
    }
   ],
   "source": [
    "\"\"\"\n",
    "    OlsGMFn(Y,X)\n",
    "\n",
    "LS of Y on X; for one dependent variable, Gauss-Markov assumptions\n",
    "\n",
    "# Usage\n",
    "(b,u,Yhat,V,R2) = OlsGMFn(Y,X)\n",
    "\n",
    "# Input\n",
    "- `Y::Vector`:    T-vector, the dependent variable\n",
    "- `X::Matrix`:    Txk matrix of regressors (including deterministic ones)\n",
    "\n",
    "# Output\n",
    "- `b::Vector`:    k-vector, regression coefficients\n",
    "- `u::Vector`:    T-vector, residuals Y - yhat\n",
    "- `Yhat::Vector`: T-vector, fitted values X*b\n",
    "- `V::Matrix`:    kxk matrix, covariance matrix of b\n",
    "- `R2::Number`:   scalar, R2 value\n",
    "\n",
    "\"\"\"\n",
    "function OlsGMFn(Y,X)\n",
    "\n",
    "    T    = size(Y,1)\n",
    "\n",
    "    b    = X\\Y\n",
    "    Yhat = X*b\n",
    "    u    = Y - Yhat\n",
    "\n",
    "    σ2   = var(u)\n",
    "    V    = inv(X'X)*σ2\n",
    "    R2   = 1 - σ2/var(Y)\n",
    "\n",
    "    return b, u, Yhat, V, R2\n",
    "\n",
    "end"
   ]
  },
  {
   "cell_type": "code",
   "execution_count": 4,
   "metadata": {},
   "outputs": [
    {
     "name": "stdout",
     "output_type": "stream",
     "text": [
      "\u001b[34m\u001b[1mOLS Results:\u001b[22m\u001b[39m\n",
      "\n",
      "            b       std\n",
      "c       0.007     0.002\n",
      "SMB     0.217     0.073\n",
      "HML    -0.429     0.074\n",
      "\n",
      "      R2:      0.134\n"
     ]
    }
   ],
   "source": [
    "Y = Rme                    #to get standard OLS notation\n",
    "T = size(Y,1)\n",
    "X = [ones(T) RSMB RHML]\n",
    "\n",
    "(b,_,_,V,R2) = OlsGMFn(Y,X)\n",
    "Stdb = sqrt.(diag(V))        #standard error\n",
    "\n",
    "printblue(\"OLS Results:\\n\")\n",
    "xNames = [\"c\",\"SMB\",\"HML\"]\n",
    "printmat([b Stdb],colNames=[\"b\",\"std\"],rowNames=xNames)\n",
    "\n",
    "printlnPs(\"R2: \",R2)"
   ]
  },
  {
   "cell_type": "markdown",
   "metadata": {},
   "source": [
    "# Missing Values\n",
    "\n",
    "The next cells use some simple functions to remove observations ($t$) where $y_{t}$ and/or some of the $x_t$ variables are NaN/missing.\n",
    "\n",
    "We illustrate the usage by a very simple example."
   ]
  },
  {
   "cell_type": "code",
   "execution_count": 5,
   "metadata": {},
   "outputs": [
    {
     "data": {
      "text/plain": [
       "FindNNPs"
      ]
     },
     "execution_count": 5,
     "metadata": {},
     "output_type": "execute_result"
    }
   ],
   "source": [
    "include(\"jlFiles/excise.jl\")"
   ]
  },
  {
   "cell_type": "code",
   "execution_count": 6,
   "metadata": {},
   "outputs": [
    {
     "name": "stdout",
     "output_type": "stream",
     "text": [
      "before\n",
      "         y        x1        x2\n",
      "     1.000     1.000    11.000\n",
      "     2.000     1.000       NaN\n",
      "     3.000     1.000    13.500\n",
      "\n",
      "after\n",
      "         y        x1        x2\n",
      "     1.000     1.000    11.000\n",
      "     3.000     1.000    13.500\n",
      "\n",
      "OLS using only observations without any NaN/missing\n",
      "    -7.800\n",
      "     0.800\n",
      "\n"
     ]
    }
   ],
   "source": [
    "y = [1,2,3.0]\n",
    "x = [1 11;\n",
    "     1 NaN;\n",
    "     1 13.5]\n",
    "\n",
    "(y1,x1) = excise(y,x)\n",
    "println(\"before\")\n",
    "printmat(y,x,colNames=[\"y\",\"x1\",\"x2\"])\n",
    "\n",
    "println(\"after\")\n",
    "printmat(y1,x1,colNames=[\"y\",\"x1\",\"x2\"])\n",
    "\n",
    "println(\"OLS using only observations without any NaN/missing\")\n",
    "b = x1\\y1\n",
    "printmat(b)"
   ]
  },
  {
   "cell_type": "markdown",
   "metadata": {},
   "source": [
    "# Different Ways to Calculate OLS Estimates (extra)\n",
    "\n",
    "The next cell calculates the OLS estimates in three different ways: (1) a loop to create $S_{xx}$ and $S_{xy}$ followed by $S_{xx}^{-1}S_{xy}$; (2) $(X'X)^{-1}X'Y$; (3) and `X\\Y`. They should give the same result in well-behaved data sets, but (3) is probably the most stable version."
   ]
  },
  {
   "cell_type": "code",
   "execution_count": 7,
   "metadata": {},
   "outputs": [
    {
     "name": "stdout",
     "output_type": "stream",
     "text": [
      "\u001b[34m\u001b[1mThree different ways to calculate OLS estimates:\u001b[22m\u001b[39m\n",
      "           b1        b2        b3\n",
      "c       0.007     0.007     0.007\n",
      "SMB     0.217     0.217     0.217\n",
      "HML    -0.429    -0.429    -0.429\n",
      "\n"
     ]
    }
   ],
   "source": [
    "printblue(\"Three different ways to calculate OLS estimates:\")\n",
    "\n",
    "K    = size(X,2)\n",
    "S_xx = zeros(K,K)\n",
    "S_xy = zeros(K,1)\n",
    "for t = 1:T\n",
    "    #local x_t, y_t            #local/global is needed in script\n",
    "    #global S_xx, S_xy\n",
    "    x_t = X[t,:]               #a vector\n",
    "    y_t = Y[t:t,:]\n",
    "    S_xx = S_xx + x_t*x_t'     #KxK\n",
    "    S_xy = S_xy + x_t*y_t      #Kx1\n",
    "end\n",
    "b1 = inv(S_xx)*S_xy          #OLS coeffs, version 1\n",
    "\n",
    "b2 = inv(X'X)*X'Y            #OLS coeffs, version 2\n",
    "\n",
    "b3 = X\\Y                     #OLS coeffs, version 3\n",
    "\n",
    "printmat([b1 b2 b3],colNames=[\"b1\",\"b2\",\"b3\"],rowNames=xNames)"
   ]
  },
  {
   "cell_type": "markdown",
   "metadata": {},
   "source": []
  },
  {
   "cell_type": "markdown",
   "metadata": {},
   "source": [
    "# Basic OLS, A Numerical Example (extra)\n",
    "\n",
    "The cells below shows the details of the calculations for a linear regression."
   ]
  },
  {
   "cell_type": "markdown",
   "metadata": {},
   "source": [
    "## The \"Data\""
   ]
  },
  {
   "cell_type": "code",
   "execution_count": 8,
   "metadata": {},
   "outputs": [
    {
     "name": "stdout",
     "output_type": "stream",
     "text": [
      "\n"
     ]
    }
   ],
   "source": [
    "(y₁,y₂,y₃) = (-1.5,-0.6,2.1)        #dependent variable in t=1,2,3 \n",
    "\n",
    "x₁ = [1;-1]                        #regressors in t=1\n",
    "x₂ = [1;0]                         #regressors in t=2\n",
    "x₃ = [1;1]                         #regressors in t=3\n",
    "println()"
   ]
  },
  {
   "cell_type": "markdown",
   "metadata": {},
   "source": [
    "## The calculations in t=1"
   ]
  },
  {
   "cell_type": "code",
   "execution_count": 9,
   "metadata": {},
   "outputs": [
    {
     "name": "stdout",
     "output_type": "stream",
     "text": [
      "\u001b[34m\u001b[1mx₁ (regressors in t=1):\u001b[22m\u001b[39m\n",
      "     1    \n",
      "    -1    \n",
      "\n",
      "\u001b[34m\u001b[1mx₁':\u001b[22m\u001b[39m\n",
      "     1        -1    \n",
      "\n",
      "\u001b[34m\u001b[1mx₁*x₁':\u001b[22m\u001b[39m\n",
      "     1        -1    \n",
      "    -1         1    \n",
      "\n",
      "\u001b[34m\u001b[1mx₁y₁:\u001b[22m\u001b[39m\n",
      "    -1.500\n",
      "     1.500\n",
      "\n"
     ]
    }
   ],
   "source": [
    "printblue(\"x₁ (regressors in t=1):\")\n",
    "printmat(x₁)\n",
    "printblue(\"x₁':\")\n",
    "printmat(x₁')\n",
    "\n",
    "printblue(\"x₁*x₁':\")\n",
    "printmat(x₁*x₁')\n",
    "printblue(\"x₁y₁:\")\n",
    "printmat(x₁*y₁)"
   ]
  },
  {
   "cell_type": "markdown",
   "metadata": {},
   "source": [
    "## All Periods, finding the OLS Estimates"
   ]
  },
  {
   "cell_type": "code",
   "execution_count": 10,
   "metadata": {},
   "outputs": [
    {
     "name": "stdout",
     "output_type": "stream",
     "text": [
      "\u001b[35m\u001b[1mThis illustrates Sxx and Sxy (for all t):\u001b[22m\u001b[39m\n",
      "\n",
      "Sxx and Sxy\n",
      "     3         0    \n",
      "     0         2    \n",
      "\n",
      "     0.000\n",
      "     3.600\n",
      "\n"
     ]
    }
   ],
   "source": [
    "printmagenta(\"This illustrates Sxx and Sxy (for all t):\\n\")\n",
    "\n",
    "Sxx = x₁*x₁' + x₂*x₂' + x₃*x₃'\n",
    "Sxy = x₁*y₁ + x₂*y₂ + x₃*y₃\n",
    "\n",
    "println(\"Sxx and Sxy\")\n",
    "printmat(Sxx)\n",
    "printmat(Sxy)"
   ]
  },
  {
   "cell_type": "code",
   "execution_count": 11,
   "metadata": {},
   "outputs": [
    {
     "name": "stdout",
     "output_type": "stream",
     "text": [
      "\u001b[34m\u001b[1mSxx^(-1):\u001b[22m\u001b[39m\n",
      "     0.333     0.000\n",
      "     0.000     0.500\n",
      "\n",
      "\u001b[34m\u001b[1mchecking Sxx * Sxx^(-1):\u001b[22m\u001b[39m\n",
      "     1.000     0.000\n",
      "     0.000     1.000\n",
      "\n"
     ]
    }
   ],
   "source": [
    "printblue(\"Sxx^(-1):\")               #a matrix inverse\n",
    "printmat(Sxx^(-1))\n",
    "\n",
    "printblue(\"checking Sxx * Sxx^(-1):\")\n",
    "printmat(Sxx * Sxx^(-1))"
   ]
  },
  {
   "cell_type": "code",
   "execution_count": 12,
   "metadata": {},
   "outputs": [
    {
     "name": "stdout",
     "output_type": "stream",
     "text": [
      "\u001b[34m\u001b[1mThe estimated coeffs are:\u001b[22m\u001b[39m\n",
      "\n",
      "Regressor 1     0.000\n",
      "Regressor 2     1.800\n",
      "\n"
     ]
    }
   ],
   "source": [
    "b1 = Sxx^(-1)*Sxy\n",
    "printblue(\"The estimated coeffs are:\\n\")\n",
    "xNames = [\"Regressor 1\",\"Regressor 2\"]\n",
    "printmat(b1,rowNames=xNames)"
   ]
  },
  {
   "cell_type": "markdown",
   "metadata": {},
   "source": [
    "## Matrix Version\n",
    "\n",
    "This cell redoes the previous calculations, but using (the convenient) matrix version."
   ]
  },
  {
   "cell_type": "code",
   "execution_count": 13,
   "metadata": {},
   "outputs": [
    {
     "name": "stdout",
     "output_type": "stream",
     "text": [
      "\u001b[34m\u001b[1mX: (xₜ' in row t of X):\u001b[22m\u001b[39m\n",
      "\n",
      "     1        -1    \n",
      "     1         0    \n",
      "     1         1    \n",
      "\n",
      "\u001b[34m\u001b[1mY (yₜ in row t of Y)\u001b[22m\u001b[39m\n",
      "\n",
      "    -1.500\n",
      "    -0.600\n",
      "     2.100\n",
      "\n",
      "\u001b[34m\u001b[1mThe estimated coeffs are:\u001b[22m\u001b[39m\n",
      "\n",
      "Regressor 1     0.000\n",
      "Regressor 2     1.800\n",
      "\n"
     ]
    }
   ],
   "source": [
    "X = [x₁';x₂';x₃']       #put xₜ' in row t of X\n",
    "Y = [y₁;y₂;y₃]          #put yₜ in row t of Y\n",
    "\n",
    "printblue(\"X: (xₜ' in row t of X):\\n\")\n",
    "printmat(X)\n",
    "printblue(\"Y (yₜ in row t of Y)\\n\")\n",
    "printmat(Y)\n",
    "\n",
    "b2 = (X'X)^(-1)*X'Y\n",
    "printblue(\"The estimated coeffs are:\\n\")\n",
    "printmat(b2,rowNames=xNames)"
   ]
  },
  {
   "cell_type": "markdown",
   "metadata": {},
   "source": [
    "## How to Code\n",
    "\n",
    "to get a more robust (numerical) calculation. (The choice between the different methods typically only matter when the regressors are strongly correlated and/or have very strange magnitudes.)"
   ]
  },
  {
   "cell_type": "code",
   "execution_count": 14,
   "metadata": {},
   "outputs": [
    {
     "name": "stdout",
     "output_type": "stream",
     "text": [
      "\u001b[34m\u001b[1mThe estimated coeffs are:\u001b[22m\u001b[39m\n",
      "\n",
      "Regressor 1    -0.000\n",
      "Regressor 2     1.800\n",
      "\n"
     ]
    }
   ],
   "source": [
    "b3 = X\\Y\n",
    "printblue(\"The estimated coeffs are:\\n\")\n",
    "printmat(b3,rowNames=xNames)"
   ]
  },
  {
   "cell_type": "code",
   "execution_count": null,
   "metadata": {},
   "outputs": [],
   "source": []
  }
 ],
 "metadata": {
  "@webio": {
   "lastCommId": null,
   "lastKernelId": null
  },
  "anaconda-cloud": {},
  "kernelspec": {
   "display_name": "Julia 1.7.0",
   "language": "julia",
   "name": "julia-1.7"
  },
  "language_info": {
   "file_extension": ".jl",
   "mimetype": "application/julia",
   "name": "julia",
   "version": "1.7.0"
  }
 },
 "nbformat": 4,
 "nbformat_minor": 4
}
