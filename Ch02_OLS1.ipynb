{
 "cells": [
  {
   "cell_type": "markdown",
   "metadata": {},
   "source": [
    "# Basic OLS\n",
    "\n",
    "This notebook estimates a linear regression and reports standard errors (assuming iid residuals).\n",
    "\n",
    "For a package, consider [GLM.jl](https://github.com/JuliaStats/GLM.jl) or [LinearRegression.jl](https://github.com/st--/LinearRegression.jl) (not used here)."
   ]
  },
  {
   "cell_type": "markdown",
   "metadata": {},
   "source": [
    "## Load Packages and Extra Functions"
   ]
  },
  {
   "cell_type": "code",
   "execution_count": 1,
   "metadata": {},
   "outputs": [
    {
     "data": {
      "text/plain": [
       "printyellow (generic function with 1 method)"
      ]
     },
     "execution_count": 1,
     "metadata": {},
     "output_type": "execute_result"
    }
   ],
   "source": [
    "using Printf, DelimitedFiles, Statistics, LinearAlgebra, Distributions\n",
    "\n",
    "include(\"jlFiles/printmat.jl\")"
   ]
  },
  {
   "cell_type": "markdown",
   "metadata": {},
   "source": [
    "## Loading Data"
   ]
  },
  {
   "cell_type": "code",
   "execution_count": 2,
   "metadata": {},
   "outputs": [
    {
     "name": "stdout",
     "output_type": "stream",
     "text": [
      "Sample size:    (388,)\n"
     ]
    }
   ],
   "source": [
    "x = readdlm(\"Data/FFmFactorsPs.csv\",',',skipstart=1)\n",
    "\n",
    "                #yearmonth, market, small minus big, high minus low\n",
    "(ym,Rme,RSMB,RHML) = (x[:,1],x[:,2]/100,x[:,3]/100,x[:,4]/100) \n",
    "x = nothing\n",
    "\n",
    "printlnPs(\"Sample size:\",size(Rme))"
   ]
  },
  {
   "cell_type": "markdown",
   "metadata": {},
   "source": [
    "## OLS Estimates and Their Distribution\n",
    "\n",
    "Consider the linear regression\n",
    "\n",
    "$\n",
    "y_{t}=\\beta^{\\prime}x_{t}+u_{t},\n",
    "$\n",
    "\n",
    "When $x_t$ and $u_t$ are independent and $u_t$ is iid (Gauss-Markov assumptions), then the distribution of the estimates is (typically)\n",
    "\n",
    "$\n",
    "\\hat{\\beta} \\sim  N(\\beta_{0},S_{xx}^{-1}\\sigma^2),\n",
    "$\n",
    "\n",
    "where $\\sigma^2$ is the variance of the residual and $S_{xx} = \\sum\\nolimits_{t=1}^{T}x_{t}x_{t}^{\\prime}$.\n",
    "\n",
    "In matrix form, these expressions are \n",
    "$\n",
    "Y = Xb + u, \\: \\text{ and } \\: S_{xx} = X'X,\n",
    "$\n",
    "where $X$ is defined below.\n",
    "\n",
    "\n",
    "### A Remark on the Code\n",
    "\n",
    "To calculate the estimates it is often convenient to work with matrices. Define $X_{T\\times k}$ by \n",
    "letting $x_{t}^{\\prime}$ and be the $t^{th}$ row\n",
    "\n",
    "$$\n",
    "X_{T\\times k}=\n",
    "\\begin{bmatrix}\n",
    "x_{1}^{\\prime}\\\\\n",
    "\\vdots\\\\\n",
    "x_{T}^{\\prime}\n",
    "\\end{bmatrix}\n",
    "$$\n",
    "\n",
    "In contrast $Y$ is a just a vector with $T$ elements (or possibly a $T \\times 1$ matrix).\n",
    "\n",
    "The estimates and the variance-covariance matrix can then be calculated as \n",
    "```\n",
    "b = X\\Y\n",
    "u = Y - X*b\n",
    "V = inv(X'X)*var(u)\n",
    "```"
   ]
  },
  {
   "cell_type": "markdown",
   "metadata": {},
   "source": [
    "## A Function for OLS"
   ]
  },
  {
   "cell_type": "code",
   "execution_count": 3,
   "metadata": {},
   "outputs": [
    {
     "data": {
      "text/plain": [
       "OlsGMFn"
      ]
     },
     "execution_count": 3,
     "metadata": {},
     "output_type": "execute_result"
    }
   ],
   "source": [
    "\"\"\"\n",
    "    OlsGMFn(Y,X)\n",
    "\n",
    "LS of Y on X; for one dependent variable, Gauss-Markov assumptions\n",
    "\n",
    "# Usage\n",
    "(b,u,Yhat,V,R²) = OlsGMFn(Y,X)\n",
    "\n",
    "# Input\n",
    "- `Y::Vector`:    T-vector, the dependent variable\n",
    "- `X::Matrix`:    Txk matrix of regressors (including deterministic ones)\n",
    "\n",
    "# Output\n",
    "- `b::Vector`:    k-vector, regression coefficients\n",
    "- `u::Vector`:    T-vector, residuals Y - yhat\n",
    "- `Yhat::Vector`: T-vector, fitted values X*b\n",
    "- `V::Matrix`:    kxk matrix, covariance matrix of b\n",
    "- `R²::Number`:   scalar, R² value\n",
    "\n",
    "\"\"\"\n",
    "function OlsGMFn(Y,X)\n",
    "\n",
    "    T    = size(Y,1)\n",
    "\n",
    "    b    = X\\Y\n",
    "    Yhat = X*b\n",
    "    u    = Y - Yhat\n",
    "\n",
    "    σ²   = var(u)             #\\sigma\\^2[TAB]\n",
    "    V    = inv(X'X)*σ²\n",
    "    R²   = 1 - σ²/var(Y)\n",
    "\n",
    "    return b, u, Yhat, V, R²\n",
    "\n",
    "end"
   ]
  },
  {
   "cell_type": "code",
   "execution_count": 4,
   "metadata": {},
   "outputs": [
    {
     "name": "stdout",
     "output_type": "stream",
     "text": [
      "\u001b[34m\u001b[1mOLS Results:\u001b[22m\u001b[39m\n",
      "\n",
      "            b       std\n",
      "c       0.007     0.002\n",
      "SMB     0.217     0.073\n",
      "HML    -0.429     0.074\n",
      "\n",
      "      R²:      0.134\n"
     ]
    }
   ],
   "source": [
    "Y = Rme                    #to get standard OLS notation\n",
    "T = size(Y,1)\n",
    "X = [ones(T) RSMB RHML]\n",
    "\n",
    "(b,_,_,V,R²) = OlsGMFn(Y,X)\n",
    "Stdb = sqrt.(diag(V))        #standard errors\n",
    "\n",
    "printblue(\"OLS Results:\\n\")\n",
    "xNames = [\"c\",\"SMB\",\"HML\"]\n",
    "printmat(b,Stdb,colNames=[\"b\",\"std\"],rowNames=xNames)\n",
    "\n",
    "printlnPs(\"R²: \",R²)"
   ]
  },
  {
   "cell_type": "markdown",
   "metadata": {},
   "source": [
    "# Missing Values (extra)\n",
    "\n",
    "The next cells use some simple functions to remove observations ($t$) where $y_t$ and/or some of the $x_t$ variables are NaN/missing. We illustrate the usage by a very simple example.\n",
    "\n",
    "An alternative approach is to fill *both* $y_t$ and $x_t$ with zeros (if any of them contains NaN/missing) and then do the regression. This is illustrated in the second cell."
   ]
  },
  {
   "cell_type": "code",
   "execution_count": 5,
   "metadata": {},
   "outputs": [],
   "source": [
    "include(\"jlFiles/excise.jl\");"
   ]
  },
  {
   "cell_type": "code",
   "execution_count": 6,
   "metadata": {},
   "outputs": [
    {
     "name": "stdout",
     "output_type": "stream",
     "text": [
      "obs 1-3 before\n",
      "         y         c       SMB       HML\n",
      "     0.042     1.000     0.037     0.023\n",
      "    -0.034     1.000       NaN     0.012\n",
      "     0.058     1.000     0.032    -0.007\n",
      "\n",
      "after\n",
      "         y         c       SMB       HML\n",
      "     0.042     1.000     0.037     0.023\n",
      "     0.058     1.000     0.032    -0.007\n",
      "     0.001     1.000     0.022     0.011\n",
      "\n",
      "\u001b[34m\u001b[1mOLS using only observations without any NaN/missing:\u001b[22m\u001b[39m\n",
      "     0.007\n",
      "     0.218\n",
      "    -0.428\n",
      "\n"
     ]
    }
   ],
   "source": [
    "(y0,x0) = (copy(Y),copy(X))    #so we can can change some values\n",
    "x0[2,2] = NaN                  #set a value to NaN\n",
    "\n",
    "(y1,x1) = excise(y0,x0)\n",
    "println(\"obs 1-3 before\")\n",
    "printmat([y0[1:3] x0[1:3,:]];colNames=vcat(\"y\",xNames))\n",
    "\n",
    "println(\"after\")\n",
    "printmat(y1[1:3],x1[1:3,:];colNames=vcat(\"y\",xNames))\n",
    "\n",
    "printblue(\"OLS using only observations without any NaN/missing:\")\n",
    "b = x1\\y1\n",
    "printmat(b)"
   ]
  },
  {
   "cell_type": "code",
   "execution_count": 7,
   "metadata": {},
   "outputs": [
    {
     "name": "stdout",
     "output_type": "stream",
     "text": [
      "after\n",
      "         y         c       SMB       HML\n",
      "     0.042     1.000     0.037     0.023\n",
      "     0.000     0.000     0.000     0.000\n",
      "     0.058     1.000     0.032    -0.007\n",
      "\n",
      "\u001b[34m\u001b[1mOLS from setting observations with any NaN/missing to 0:\u001b[22m\u001b[39m\n",
      "     0.007\n",
      "     0.218\n",
      "    -0.428\n",
      "\n"
     ]
    }
   ],
   "source": [
    "vv = FindNNPs(y0,x0)             #vv[t] = true if no missing/NaN i (y[t],x[t,:])\n",
    "\n",
    "(y2,x2)     = (copy(y0),copy(x0))    #set both y[t] and x[t,:] to 0 if any missing/NaN for obs. t\n",
    "y2[.!vv  ] .=  0\n",
    "x2[.!vv,:] .= 0\n",
    "\n",
    "println(\"after\")\n",
    "printmat(y2[1:3],x2[1:3,:];colNames=vcat(\"y\",xNames))\n",
    "\n",
    "printblue(\"OLS from setting observations with any NaN/missing to 0:\")\n",
    "b = x2\\y2\n",
    "printmat(b)"
   ]
  },
  {
   "cell_type": "markdown",
   "metadata": {},
   "source": [
    "# Different Ways to Calculate OLS Estimates (extra)\n",
    "\n",
    "Recall that OLS can be calculated as\n",
    "\n",
    "$\n",
    "\\hat{\\beta} = S_{xx}^{-1}S_{xy}, \\: \\text{ where } \\: \n",
    "S_{xx}      = \\sum\\nolimits_{t=1}^{T}x_{t}x_{t}^{\\prime}\n",
    "\\: \\text{ and } \\:\n",
    "S_{xy}      = \\sum\\nolimits_{t=1}^{T}x_{t}y_{t}.\n",
    "$\n",
    "\n",
    "\n",
    "The next cell calculates the OLS estimates in three different ways: (1) a loop to create $S_{xx}$ and $S_{xy}$ followed by $S_{xx}^{-1}S_{xy}$; (2) $(X'X)^{-1}X'Y$; (3) and `X\\Y`. They should give the same result in well-behaved data sets, but (3) is probably the most stable version."
   ]
  },
  {
   "cell_type": "code",
   "execution_count": 8,
   "metadata": {},
   "outputs": [
    {
     "name": "stdout",
     "output_type": "stream",
     "text": [
      "\u001b[34m\u001b[1mThree different ways to calculate OLS estimates:\u001b[22m\u001b[39m\n",
      "           b1        b2        b3\n",
      "c       0.007     0.007     0.007\n",
      "SMB     0.217     0.217     0.217\n",
      "HML    -0.429    -0.429    -0.429\n",
      "\n"
     ]
    }
   ],
   "source": [
    "printblue(\"Three different ways to calculate OLS estimates:\")\n",
    "\n",
    "k    = size(X,2)\n",
    "Sxx = zeros(k,k)\n",
    "Sxy = zeros(k,1)\n",
    "for t = 1:T\n",
    "    #local x_t, y_t            #local/global is needed in script\n",
    "    #global Sxx, Sxy\n",
    "    x_t = X[t,:]               #a vector\n",
    "    y_t = Y[t]\n",
    "    Sxx = Sxx + x_t*x_t'     #kxk, same as Sxx += x_t*x_t'\n",
    "    Sxy = Sxy + x_t*y_t      #kx1, same as Sxy += x_t*y_t\n",
    "end\n",
    "b1 = inv(Sxx)*Sxy            #OLS coeffs, version 1\n",
    "\n",
    "b2 = inv(X'X)*X'Y            #OLS coeffs, version 2\n",
    "\n",
    "b3 = X\\Y                     #OLS coeffs, version 3\n",
    "\n",
    "printmat(b1,b2,b3,colNames=[\"b1\",\"b2\",\"b3\"],rowNames=xNames)"
   ]
  },
  {
   "cell_type": "code",
   "execution_count": null,
   "metadata": {},
   "outputs": [],
   "source": []
  }
 ],
 "metadata": {
  "@webio": {
   "lastCommId": null,
   "lastKernelId": null
  },
  "anaconda-cloud": {},
  "kernelspec": {
   "display_name": "Julia 1.9.4",
   "language": "julia",
   "name": "julia-1.9"
  },
  "language_info": {
   "file_extension": ".jl",
   "mimetype": "application/julia",
   "name": "julia",
   "version": "1.9.4"
  }
 },
 "nbformat": 4,
 "nbformat_minor": 4
}
