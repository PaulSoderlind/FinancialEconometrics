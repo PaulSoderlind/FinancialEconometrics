{
 "cells": [
  {
   "cell_type": "markdown",
   "metadata": {},
   "source": [
    "# Binary Choice and Censored Models\n",
    "\n",
    "This notebook uses MLE to estimate Probit, truncated and censored models. "
   ]
  },
  {
   "cell_type": "markdown",
   "metadata": {},
   "source": [
    "## Load Packages and Extra Functions\n",
    "\n",
    "The key functions used for OLS and IV/2SLS are from the (local) `FinEcmt_OLS` module."
   ]
  },
  {
   "cell_type": "code",
   "execution_count": 1,
   "metadata": {},
   "outputs": [],
   "source": [
    "MyModulePath = joinpath(pwd(),\"src\")\n",
    "!in(MyModulePath,LOAD_PATH) && push!(LOAD_PATH,MyModulePath)\n",
    "using FinEcmt_OLS, FinEcmt_ProbitTobit\n",
    "using FinEcmt_MLEGMM: MLE"
   ]
  },
  {
   "cell_type": "code",
   "execution_count": 2,
   "metadata": {},
   "outputs": [],
   "source": [
    "#=\n",
    "include(joinpath(pwd(),\"src\",\"FinEcmt_OLS.jl\"))\n",
    "using .FinEcmt_OLS, .FinEcmt_ProbitTobit\n",
    "using .FinEcmt_MLEGMM: MLE\n",
    "=#"
   ]
  },
  {
   "cell_type": "code",
   "execution_count": 3,
   "metadata": {
    "tags": []
   },
   "outputs": [],
   "source": [
    "using DelimitedFiles, Statistics"
   ]
  },
  {
   "cell_type": "markdown",
   "metadata": {},
   "source": [
    "# Probit\n",
    "\n",
    "and linear probaility models for binary data (typically, 0 or 1)."
   ]
  },
  {
   "cell_type": "markdown",
   "metadata": {},
   "source": [
    "## Loading Data"
   ]
  },
  {
   "cell_type": "code",
   "execution_count": 4,
   "metadata": {},
   "outputs": [
    {
     "data": {
      "text/plain": [
       "2-element Vector{String}:\n",
       " \"c\"\n",
       " \"dtime\""
      ]
     },
     "metadata": {},
     "output_type": "display_data"
    }
   ],
   "source": [
    "x = readdlm(\"Data/transportEd.txt\",skipstart=1)\n",
    "T = size(x,1)\n",
    "(auto,dtime,constant) = (x[:,4],x[:,3],ones(T))\n",
    "x      = [constant dtime]\n",
    "xNames = [\"c\",\"dtime\"]"
   ]
  },
  {
   "cell_type": "markdown",
   "metadata": {},
   "source": [
    "## Estimate"
   ]
  },
  {
   "cell_type": "code",
   "execution_count": 5,
   "metadata": {},
   "outputs": [
    {
     "name": "stdout",
     "output_type": "stream",
     "text": [
      "OLS estimates\n",
      "\n",
      "c         0.485\n",
      "dtime     0.007\n",
      "\n",
      "\n",
      "Probit parameter estimates, t-stat: \n",
      "    -0.064    -0.162\n",
      "     0.030     3.109\n",
      "\n",
      "\n",
      "McFadden's R2      0.576  \n",
      "R2_pred      0.800\n"
     ]
    }
   ],
   "source": [
    "b_ols, = OlsGM(auto,x)\n",
    "printmat(\"OLS estimates\")\n",
    "printmat(b_ols;rowNames=xNames)\n",
    "\n",
    "LLtFun_p(par,y,x) = ProbitLL(par,y,x)[1]\n",
    "(b_prob,_,_,std_sandw,LL1) = MLE(LLtFun_p,b_ols,auto,x)\n",
    "t_prob = b_prob./std_sandw\n",
    "\n",
    "(LL0,pHat) = BinLLConst(auto.>0.5)\n",
    "R2  = 1 - sum(LL1)/LL0\n",
    "predHat = ProbitLL(b_prob,auto,x)[2] .> 0.5\n",
    "\n",
    "(R2_pred,cTab) = BinaryChoiceR2pred(auto.>0.5,predHat)\n",
    "\n",
    "printlnPs(\"\\nProbit parameter estimates, t-stat: \")\n",
    "printmat([b_prob t_prob])\n",
    "printlnPs(\"\\nMcFadden's R2 \",R2,\"\\nR2_pred \",R2_pred)"
   ]
  },
  {
   "cell_type": "markdown",
   "metadata": {},
   "source": [
    "# Truncated Model\n",
    "\n",
    "for the case where data $(y,x)$ is unavailable when $y < c$, where $c$ is some (known) threshold."
   ]
  },
  {
   "cell_type": "markdown",
   "metadata": {},
   "source": [
    "## Loading the Data\n",
    "\n",
    "The next cells replicates an old example from Hill et al (2008), Table 16.8. See the lecture notes for more details.\n",
    "\n",
    "### A remark on the code\n",
    "The data set contains many different variables. To import them with their correct names, we create a named tuple of them by using the function `PutDataInNT()` from the `FinEcmt_OLS` module. (This is convenient, but not important for the focus of this notebook. An alternative is to use the `DataFrames.jl` package.)"
   ]
  },
  {
   "cell_type": "code",
   "execution_count": 6,
   "metadata": {
    "tags": []
   },
   "outputs": [
    {
     "name": "stdout",
     "output_type": "stream",
     "text": [
      "The variables in X (use as, for instance, X.wage): \n",
      "(:taxableinc, :federaltax, :hsiblings, :hfathereduc, :hmothereduc, :siblings, :lfp, :hours, :kidsl6, :kids618, :age, :educ, :wage, :wage76, :hhours, :hage, :heduc, :hwage, :faminc, :mtr, :mothereduc, :fathereduc, :unemployment, :bigcity, :exper)\n",
      "\n"
     ]
    }
   ],
   "source": [
    "(x,header) = readdlm(\"Data/mrozEd.txt\",header=true)\n",
    "X          = PutDataInNT(x,header)                         #NamedTuple with X.wage, X.exper, etc\n",
    "\n",
    "c = ones(size(x,1))                                       #constant, used in the regressions\n",
    "\n",
    "println(\"The variables in X (use as, for instance, X.wage): \")\n",
    "printmat(keys(X))\n",
    "\n",
    "y = X.hours\n",
    "T = length(y)\n",
    "x = [ones(T) X.educ X.exper X.age X.kidsl6];"
   ]
  },
  {
   "cell_type": "code",
   "execution_count": 7,
   "metadata": {},
   "outputs": [
    {
     "name": "stdout",
     "output_type": "stream",
     "text": [
      "Truncated MLE: \n",
      "       OLS       MLEt-stat (MLE)\n",
      "  1829.746  1920.045     4.534\n",
      "   -16.462   -22.716    -1.062\n",
      "    33.936    46.748     6.050\n",
      "   -17.108   -25.245    -3.015\n",
      "  -305.309  -491.158    -2.225\n",
      "\n"
     ]
    }
   ],
   "source": [
    "vv = y .> 0\n",
    "b_ols,res, = OlsGM(y[vv],x[vv,:])\n",
    "\n",
    "par0 = par0 = [b_ols;std(res)]\n",
    "LLtFun_t(par,y,x) = TruncRegrLL(par,y,x)[1]     #truncated\n",
    "(b_trunc,_,_,std_sandw,_) = MLE(LLtFun_t,par0,y[vv],x[vv,:])\n",
    "t_trunc = b_trunc./std_sandw\n",
    "printlnPs(\"Truncated MLE: \")\n",
    "printmat([b_ols b_trunc[1:end-1] t_trunc[1:end-1]];colNames=[\"OLS\",\"MLE\",\"t-stat (MLE)\"])\n"
   ]
  },
  {
   "cell_type": "markdown",
   "metadata": {},
   "source": [
    "# Censored Model\n",
    "\n",
    "Similar to the truncated case, except that the data $(y,x) = (c,x)$  when $y < c$. This means that we have more information than in the truncated case.\n",
    "\n",
    "Applied to the same model as for the truncated case. Again, see THill et al (2008), Table 16.8 and the lecture notes for more details."
   ]
  },
  {
   "cell_type": "code",
   "execution_count": 8,
   "metadata": {},
   "outputs": [
    {
     "name": "stdout",
     "output_type": "stream",
     "text": [
      "Censored MLE: \n",
      "      coef       std\n",
      "  1349.900     3.443\n",
      "    73.290     3.595\n",
      "    80.536    13.066\n",
      "   -60.768    -9.123\n",
      "  -918.911    -8.005\n",
      "  1133.693    26.187\n",
      "\n"
     ]
    }
   ],
   "source": [
    "LLtFun_c(par,y,x) = CensRegrLL(par,y,x)[1]        #censored\n",
    "(b_cens,_,_,std_sandw,_) = MLE(LLtFun_c,par0,y,x)\n",
    "t_cens = b_cens./std_sandw\n",
    "printlnPs(\"Censored MLE: \")\n",
    "printmat([b_cens t_cens];colNames=[\"coef\",\"std\"])"
   ]
  },
  {
   "cell_type": "code",
   "execution_count": 9,
   "metadata": {},
   "outputs": [],
   "source": []
  }
 ],
 "metadata": {
  "@webio": {
   "lastCommId": null,
   "lastKernelId": null
  },
  "anaconda-cloud": {},
  "kernelspec": {
   "display_name": "Julia 1.11.6",
   "language": "julia",
   "name": "julia-1.11"
  },
  "language_info": {
   "file_extension": ".jl",
   "mimetype": "application/julia",
   "name": "julia",
   "version": "1.11.6"
  }
 },
 "nbformat": 4,
 "nbformat_minor": 4
}
