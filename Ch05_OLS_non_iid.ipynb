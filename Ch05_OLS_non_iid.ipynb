{
 "cells": [
  {
   "cell_type": "markdown",
   "metadata": {},
   "source": [
    "# OLS, Testing with Non-iid Residuals\n",
    "\n",
    "This notebook tests for autocorrelation and heteroskedasticity and then tests hypotheses using standard errors from White's and Newey-West's methods.\n",
    "\n",
    "You may also consider the [HypothesisTests.jl](https://github.com/JuliaStats/HypothesisTests.jl) package (not used here)."
   ]
  },
  {
   "cell_type": "markdown",
   "metadata": {},
   "source": [
    "## Load Packages and Extra Functions"
   ]
  },
  {
   "cell_type": "code",
   "execution_count": 1,
   "metadata": {},
   "outputs": [],
   "source": [
    "MyModulePath = joinpath(pwd(),\"src\")\n",
    "!in(MyModulePath,LOAD_PATH) && push!(LOAD_PATH,MyModulePath)\n",
    "using FinEcmt_OLS"
   ]
  },
  {
   "cell_type": "code",
   "execution_count": 2,
   "metadata": {},
   "outputs": [],
   "source": [
    "#=\n",
    "include(joinpath(pwd(),\"src\",\"FinEcmt_OLS.jl\"))\n",
    "using .FinEcmt_OLS\n",
    "=#"
   ]
  },
  {
   "cell_type": "code",
   "execution_count": 3,
   "metadata": {
    "tags": []
   },
   "outputs": [],
   "source": [
    "using DelimitedFiles, Statistics, LinearAlgebra, Distributions"
   ]
  },
  {
   "cell_type": "markdown",
   "metadata": {},
   "source": [
    "## Loading Data"
   ]
  },
  {
   "cell_type": "code",
   "execution_count": 4,
   "metadata": {
    "tags": []
   },
   "outputs": [
    {
     "name": "stdout",
     "output_type": "stream",
     "text": [
      "Sample size:    (388,)\n"
     ]
    }
   ],
   "source": [
    "x = readdlm(\"Data/FFmFactorsPs.csv\",',',skipstart=1)\n",
    "\n",
    "                #yearmonth, market, small minus big, high minus low\n",
    "(ym,Rme,RSMB,RHML) = (x[:,1],x[:,2]/100,x[:,3]/100,x[:,4]/100)\n",
    "x = nothing\n",
    "\n",
    "printlnPs(\"Sample size:\",size(Rme))"
   ]
  },
  {
   "cell_type": "markdown",
   "metadata": {},
   "source": [
    "## OLS under the Gauss-Markov Assumptions\n",
    "\n",
    "(assuming iid residuals)"
   ]
  },
  {
   "cell_type": "code",
   "execution_count": 5,
   "metadata": {
    "tags": []
   },
   "outputs": [
    {
     "name": "stdout",
     "output_type": "stream",
     "text": [
      "\u001b[34m\u001b[1mOLS Results (assuming iid residuals):\u001b[22m\u001b[39m\n",
      "\n",
      "            b   std_iid\n",
      "c       0.007     0.002\n",
      "SMB     0.217     0.073\n",
      "HML    -0.429     0.074\n",
      "\n"
     ]
    }
   ],
   "source": [
    "Y = Rme\n",
    "T = size(Y,1)\n",
    "X = [ones(T) RSMB RHML]\n",
    "\n",
    "(b,u,_,V,R²) = OlsGM(Y,X)\n",
    "std_iid = sqrt.(diag(V))\n",
    "\n",
    "printblue(\"OLS Results (assuming iid residuals):\\n\")\n",
    "xNames = [\"c\",\"SMB\",\"HML\"]\n",
    "printmat(b,std_iid;colNames=[\"b\",\"std_iid\"],rowNames=xNames)"
   ]
  },
  {
   "cell_type": "markdown",
   "metadata": {},
   "source": [
    "# Distribution of OLS Estimates without the Gauss-Markov Assumptions\n",
    "\n",
    "\n",
    "The distribution of the OLS estimates is (typically)\n",
    "\n",
    "$(\\hat{\\beta}-\\beta_{0})\\overset{d}{\\rightarrow}N(0,V)\n",
    "\\: \\text{ where } \\: V=S_{xx}^{-1} S S_{xx}^{-1}.$\n",
    "\n",
    "and where $S_{xx} = \\sum\\nolimits_{t=1}^{T}x_{t}x_{t}^{\\prime}$ \n",
    "and $S$ is the covariance matrix of $\\sum_{t=1}^{T}u_{t}x_{t}$.\n",
    "\n",
    "\n",
    "*When* the Gauss-Markov assumptions hold, then $S$ can be simplified to $S_{xx}\\sigma^2$, where $\\sigma^2$ is the variance of $u_t$, so $V=S_{xx}^{-1}\\sigma^2$.\n",
    "\n",
    "In contrast, with heteroskedasticity and/or autocorrelation, $S$ must be estimated differently."
   ]
  },
  {
   "cell_type": "markdown",
   "metadata": {},
   "source": [
    "# Heteroskedasticity"
   ]
  },
  {
   "cell_type": "markdown",
   "metadata": {},
   "source": [
    "## Regression Diagnostics: Heteroskedasticity\n",
    "\n",
    "The `OlsWhitesTest()` function does White's test for heteroskedasticity. Again, the regression must have an intercept for this test to be useful."
   ]
  },
  {
   "cell_type": "code",
   "execution_count": 6,
   "metadata": {},
   "outputs": [
    {
     "data": {
      "text/markdown": [
       "```\n",
       "OlsWhitesTest(u,x)\n",
       "```\n",
       "\n",
       "Test of heteroskedasticity. Notice that the regression must contain  an intercept for the test to be useful.\n",
       "\n",
       "### Input\n",
       "\n",
       "  * `u::Vector`:   T-vector, residuals\n",
       "  * `x::Matrix`:   Txk, regressors\n",
       "\n",
       "### Output\n",
       "\n",
       "  * `RegrStat::Number`: test statistic\n",
       "  * `pval::Number`:     p-value\n"
      ]
     },
     "metadata": {},
     "output_type": "display_data"
    }
   ],
   "source": [
    "@doc2 OlsWhitesTest"
   ]
  },
  {
   "cell_type": "code",
   "execution_count": 7,
   "metadata": {},
   "outputs": [],
   "source": [
    "#println(@code_string OlsWhitesTest([1],[1]))    #print the source code"
   ]
  },
  {
   "cell_type": "code",
   "execution_count": 8,
   "metadata": {
    "scrolled": true,
    "tags": []
   },
   "outputs": [
    {
     "name": "stdout",
     "output_type": "stream",
     "text": [
      "\u001b[34m\u001b[1mWhite's test (H₀: heteroskedasticity is not correlated with regressors):\u001b[22m\u001b[39m\n",
      "\n",
      "stat     77.278\n",
      "p-val     0.000\n",
      "\n"
     ]
    }
   ],
   "source": [
    "(WhiteStat,pval) = OlsWhitesTest(u,X)\n",
    "\n",
    "printblue(\"White's test (H₀: heteroskedasticity is not correlated with regressors):\\n\")\n",
    "printmat([WhiteStat,pval],rowNames=[\"stat\",\"p-val\"])"
   ]
  },
  {
   "cell_type": "markdown",
   "metadata": {},
   "source": [
    "## White's Covariance Matrix\n",
    "\n",
    "If $u_{t}x_{t}$ is not autocorrelated, then $S$ simplifies to $\\sum_{t=1}^{T} x_tx_t^{\\prime}\\sigma_t^2$. White's method replaces $\\sigma_t^2$ by $\\hat{u}_{t}^{2}$. This estimate is robust to heteroskedasticity (in particular, time variation in $\\sigma_t^2$ that is related to $x_t$).\n",
    "\n",
    "### A Remark on the Code\n",
    "$S_{xx}$ can be calculated as `Sxx = X'X` and $S$ as `S = (X.*u)'*(X.*u)`.\n",
    "\n",
    "Clearly, these calculations can also be done in a loop like\n",
    "```\n",
    "for t = 1:T\n",
    "   Sxx = Sxx + X[t,:]*X[t,:]' \n",
    "   S   = S   + X[t,:]*X[t,:]'*u[t]^2\n",
    "end\n",
    "```"
   ]
  },
  {
   "cell_type": "code",
   "execution_count": 9,
   "metadata": {
    "tags": []
   },
   "outputs": [
    {
     "name": "stdout",
     "output_type": "stream",
     "text": [
      "\u001b[34m\u001b[1mCoefficients and standard errors (from different methods):\u001b[22m\u001b[39m\n",
      "\n",
      "              b     std_iid   std_White\n",
      "c         0.007       0.002       0.002\n",
      "SMB       0.217       0.073       0.113\n",
      "HML      -0.429       0.074       0.097\n",
      "\n"
     ]
    }
   ],
   "source": [
    "Sxx = X'X\n",
    "\n",
    "S     = (X.*u)'*(X.*u)                #S according to White's method\n",
    "V     = inv(Sxx)'S*inv(Sxx)           #Cov(b), White\n",
    "std_W = sqrt.(diag(V))\n",
    "\n",
    "printblue(\"Coefficients and standard errors (from different methods):\\n\")\n",
    "xx = [b std_iid std_W]\n",
    "printmat(xx;colNames=[\"b\",\"std_iid\",\"std_White\"],rowNames=xNames,width=12)"
   ]
  },
  {
   "cell_type": "markdown",
   "metadata": {},
   "source": [
    "# Autocorrelation"
   ]
  },
  {
   "cell_type": "markdown",
   "metadata": {},
   "source": [
    "## Regression Diagnostics: Autocorrelation of the Residuals\n",
    "\n",
    "The `OlsAutoCorr()` function estimates autocorrelations, calculates the DW and Box-Pierce statistics for the input (often, the residual)."
   ]
  },
  {
   "cell_type": "code",
   "execution_count": 10,
   "metadata": {},
   "outputs": [
    {
     "data": {
      "text/markdown": [
       "```\n",
       "OlsAutoCorr(u,L=1)\n",
       "```\n",
       "\n",
       "Test the autocorrelation of OLS residuals\n",
       "\n",
       "### Input\n",
       "\n",
       "  * `u::Vector`:   T-vector, residuals\n",
       "  * `L::Int`:      scalar, number of lags in autocorrelation and Box-Pierce test\n",
       "\n",
       "### Output\n",
       "\n",
       "  * `AutoCorr::Matrix`:   Lx3, autocorrelation, t-stat and p-value\n",
       "  * `BoxPierce::Matrix`:  1x2, Box-Pierce statistic and p-value\n",
       "  * `DW::Number`:         DW statistic\n",
       "\n",
       "### Requires\n",
       "\n",
       "  * StatsBase, Distributions\n"
      ]
     },
     "metadata": {},
     "output_type": "display_data"
    }
   ],
   "source": [
    "@doc2 OlsAutoCorr"
   ]
  },
  {
   "cell_type": "code",
   "execution_count": 11,
   "metadata": {},
   "outputs": [],
   "source": [
    "#println(@code_string OlsAutoCorr([1],5))    #print the source code"
   ]
  },
  {
   "cell_type": "code",
   "execution_count": 12,
   "metadata": {
    "tags": []
   },
   "outputs": [
    {
     "name": "stdout",
     "output_type": "stream",
     "text": [
      "\u001b[35m\u001b[1mTesting autocorrelation of residuals\u001b[22m\u001b[39m\n",
      "\n",
      "\u001b[34m\u001b[1mAutocorrelations (lag 1 to 3):\u001b[22m\u001b[39m\n",
      "\n",
      "lag  autocorr    t-stat     p-val\n",
      "1       0.074     1.467     0.142\n",
      "2      -0.037    -0.733     0.464\n",
      "3       0.019     0.377     0.706\n",
      "\n",
      "\n",
      "\u001b[34m\u001b[1mBoxPierce (3 lags): \u001b[22m\u001b[39m\n",
      "stat      2.831\n",
      "p-val     0.418\n",
      "\n",
      "\u001b[34m\u001b[1mDW statistic:\u001b[22m\u001b[39m\n",
      "     1.849\n"
     ]
    }
   ],
   "source": [
    "L = 3     #number of autocorrs to test\n",
    "\n",
    "(ρStats,BoxPierce,DW) = OlsAutoCorr(u,L)\n",
    "\n",
    "printmagenta(\"Testing autocorrelation of residuals\\n\")\n",
    "\n",
    "printblue(\"Autocorrelations (lag 1 to $L):\\n\")\n",
    "printmat(ρStats,colNames=[\"autocorr\",\"t-stat\",\"p-val\"],rowNames=1:L,cell00=\"lag\")\n",
    "\n",
    "printblue(\"\\nBoxPierce ($L lags): \")\n",
    "printmat(BoxPierce',rowNames=[\"stat\",\"p-val\"])\n",
    "\n",
    "printblue(\"DW statistic:\")\n",
    "printlnPs(DW)"
   ]
  },
  {
   "cell_type": "markdown",
   "metadata": {},
   "source": [
    "## Autocorrelation of of `X.*u`\n",
    "\n",
    "What matters most for the uncertainty about a slope coefficient is not the autocorrelation of the residual itself, but of the residual times the regressor. This is tested below."
   ]
  },
  {
   "cell_type": "code",
   "execution_count": 13,
   "metadata": {},
   "outputs": [
    {
     "name": "stdout",
     "output_type": "stream",
     "text": [
      "\u001b[34m\u001b[1mAutocorrelations of c*u  (lag 1 to 3):\u001b[22m\u001b[39m\n",
      "lag  autocorr    t-stat     p-val\n",
      "1       0.074     1.467     0.142\n",
      "2      -0.037    -0.733     0.464\n",
      "3       0.019     0.377     0.706\n",
      "\n",
      "\u001b[34m\u001b[1mAutocorrelations of SMB*u  (lag 1 to 3):\u001b[22m\u001b[39m\n",
      "lag  autocorr    t-stat     p-val\n",
      "1       0.219     4.312     0.000\n",
      "2      -0.014    -0.268     0.789\n",
      "3       0.044     0.857     0.391\n",
      "\n",
      "\u001b[34m\u001b[1mAutocorrelations of HML*u  (lag 1 to 3):\u001b[22m\u001b[39m\n",
      "lag  autocorr    t-stat     p-val\n",
      "1       0.278     5.472     0.000\n",
      "2       0.131     2.582     0.010\n",
      "3       0.225     4.438     0.000\n",
      "\n"
     ]
    }
   ],
   "source": [
    "k = size(X,2)\n",
    "for i in 1:k         #iterate over different regressors\n",
    "    #local pStats\n",
    "    ρStats, = OlsAutoCorr(X[:,i].*u,L)\n",
    "    printblue(\"Autocorrelations of $(xNames[i])*u  (lag 1 to $L):\")\n",
    "    printmat(ρStats,colNames=[\"autocorr\",\"t-stat\",\"p-val\"],rowNames=1:L,cell00=\"lag\")\n",
    "end"
   ]
  },
  {
   "cell_type": "markdown",
   "metadata": {},
   "source": [
    "## Newey-West's Covariance Matrix\n",
    "\n",
    "Let $g_t=u_{t}x_{t}$ be a $k$-vector of data.\n",
    "\n",
    "To calculate the Newey-West covariance matrix, we first need\n",
    "\n",
    "$\\Lambda_{s} = \\sum_{t=s+1}^{T} (g_{t}-\\bar{g})(g_{t-s}-\\bar{g})^{\\prime},$\n",
    "\n",
    "which is proportional to the $s$th autocovariance matrices.\n",
    "\n",
    "Then we form a linear\n",
    "combination (with tent-shaped weights) of those autocovariance matrices (from\n",
    "lag $-m$ to $m$) as in\n",
    "\n",
    "$S = \\mathrm{Cov}(\\sum_t g_t)  = \n",
    "\\Lambda_{0} + \\sum_{s=1}^{m}( 1-\\frac{s}{m+1})  \n",
    "(\\Lambda_{s}+\\Lambda_{s}^{\\prime}).$\n",
    "\n",
    "With $m=0$ this is the same as White's method.\n",
    "\n",
    "If we divide $S$ by $T$, then we get an estimate of $\\mathrm{Cov}(\\sqrt{T} \\bar{g})$, and if we instead divide by $T^2$ then we get an estimate of $\\mathrm{Cov}(\\bar{g})$.\n",
    "\n",
    "The `CovNW()` function implements this."
   ]
  },
  {
   "cell_type": "code",
   "execution_count": 14,
   "metadata": {},
   "outputs": [
    {
     "data": {
      "text/markdown": [
       "```\n",
       "CovNW(g0,m=0,DivideByT=0)\n",
       "```\n",
       "\n",
       "Calculates covariance matrix of sample sum (DivideByT=0), √T*(sample average) (DivideByT=1) or sample average (DivideByT=2).\n",
       "\n",
       "### Input\n",
       "\n",
       "  * `g0::Matrix`:      Txq matrix of data\n",
       "  * `m::Int`:          number of lags to use\n",
       "  * `DivideByT::Int`:  divide the result by T^DivideByT\n",
       "\n",
       "### Output\n",
       "\n",
       "  * `S::Matrix`: qxq covariance matrix\n",
       "\n",
       "### Remark\n",
       "\n",
       "  * `DivideByT=0`: Var(g₁+g₂+...), variance of sample sum\n",
       "  * `DivideByT=1`: Var(g₁+g₂+...)/T = Var(√T gbar), where gbar is the sample average. This is  the same as Var(gᵢ) if data is iid\n",
       "  * `DivideByT=2`: Var(g₁+g₂+...)/T^2 = Var(gbar)\n"
      ]
     },
     "metadata": {},
     "output_type": "display_data"
    }
   ],
   "source": [
    "@doc2 CovNW"
   ]
  },
  {
   "cell_type": "code",
   "execution_count": 15,
   "metadata": {},
   "outputs": [
    {
     "name": "stdout",
     "output_type": "stream",
     "text": [
      "function CovNW(g0,m=0,DivideByT=0)\n",
      "\n",
      "    T = size(g0,1)                    #g0 is Txq\n",
      "    m = min(m,T-1)                    #number of lags\n",
      "\n",
      "    g = g0 .- mean(g0,dims=1)         #normalizing to zero means\n",
      "\n",
      "    S = g'g                           #(qxT)*(Txq)\n",
      "    for s = 1:m\n",
      "        Λ_s = g[s+1:T,:]'g[1:T-s,:]   #same as Sum[g_t*g_{t-s}',t=s+1,T]\n",
      "        S   = S  +  (1 - s/(m+1))*(Λ_s + Λ_s')\n",
      "    end\n",
      "\n",
      "    (DivideByT > 0) && (S = S/T^DivideByT)\n",
      "\n",
      "    return S\n",
      "\n",
      "end\n"
     ]
    }
   ],
   "source": [
    "using CodeTracking\n",
    "println(@code_string CovNW([1],2))    #print the source code"
   ]
  },
  {
   "cell_type": "code",
   "execution_count": 16,
   "metadata": {
    "tags": []
   },
   "outputs": [
    {
     "name": "stdout",
     "output_type": "stream",
     "text": [
      "\u001b[34m\u001b[1mCoefficients and standard errors (from different methods):\u001b[22m\u001b[39m\n",
      "\n",
      "                  b         std_iid       std_White          std_NW   std_NW 0 lags\n",
      "c             0.007           0.002           0.002           0.002           0.002\n",
      "SMB           0.217           0.073           0.113           0.129           0.113\n",
      "HML          -0.429           0.074           0.097           0.118           0.097\n",
      "\n",
      "\u001b[31m\u001b[1mRemark: NW with 0 lags should be the same as White's method\u001b[22m\u001b[39m\n"
     ]
    }
   ],
   "source": [
    "S      = CovNW(X.*u,2)         #S acccording to Newey-West, 2 lags\n",
    "V      = inv(Sxx)'S*inv(Sxx)     #Cov(b), Newey-West\n",
    "std_NW = sqrt.(diag(V))\n",
    "\n",
    "S       = CovNW(X.*u,0)        #S acccording to Newey-West, 0 lags\n",
    "V       = inv(Sxx)'S*inv(Sxx)\n",
    "std_NW0 = sqrt.(diag(V))\n",
    "\n",
    "printblue(\"Coefficients and standard errors (from different methods):\\n\")\n",
    "xx = [b std_iid std_W std_NW std_NW0]\n",
    "printmat(xx,colNames=[\"b\",\"std_iid\",\"std_White\",\"std_NW\",\"std_NW 0 lags\"],rowNames=xNames,width=16)\n",
    "\n",
    "printred(\"Remark: NW with 0 lags should be the same as White's method\")"
   ]
  },
  {
   "cell_type": "markdown",
   "metadata": {},
   "source": [
    "# A Convenience Function for Printing the Tests (extra)"
   ]
  },
  {
   "cell_type": "code",
   "execution_count": 17,
   "metadata": {},
   "outputs": [
    {
     "name": "stdout",
     "output_type": "stream",
     "text": [
      "\u001b[34m\u001b[1mWhite's test (H₀: heteroskedasticity is not correlated with regressors)\u001b[22m\u001b[39m\n",
      "stat     77.278\n",
      "p-val     0.000\n",
      "\n",
      "\u001b[34m\u001b[1mTesting autocorrelation of residuals (lag 1 to 3)\u001b[22m\u001b[39m\n",
      "lag  autocorr    t-stat     p-val\n",
      "1       0.074     1.467     0.142\n",
      "2      -0.037    -0.733     0.464\n",
      "3       0.019     0.377     0.706\n",
      "\n",
      "\u001b[34m\u001b[1mBoxPierce (3 lags) \u001b[22m\u001b[39m\n",
      "stat      2.831\n",
      "p-val     0.418\n",
      "\n",
      "\u001b[34m\u001b[1mDW statistic\u001b[22m\u001b[39m\n",
      "     1.849          \n",
      "\n",
      "\u001b[34m\u001b[1mAutocorrelations of c*u  (lag 1 to 3)\u001b[22m\u001b[39m\n",
      "lag  autocorr    t-stat     p-val\n",
      "1       0.074     1.467     0.142\n",
      "2      -0.037    -0.733     0.464\n",
      "3       0.019     0.377     0.706\n",
      "\n",
      "\u001b[34m\u001b[1mAutocorrelations of SMB*u  (lag 1 to 3)\u001b[22m\u001b[39m\n",
      "lag  autocorr    t-stat     p-val\n",
      "1       0.219     4.312     0.000\n",
      "2      -0.014    -0.268     0.789\n",
      "3       0.044     0.857     0.391\n",
      "\n",
      "\u001b[34m\u001b[1mAutocorrelations of HML*u  (lag 1 to 3)\u001b[22m\u001b[39m\n",
      "lag  autocorr    t-stat     p-val\n",
      "1       0.278     5.472     0.000\n",
      "2       0.131     2.582     0.010\n",
      "3       0.225     4.438     0.000\n",
      "\n"
     ]
    }
   ],
   "source": [
    "DiagnosticsNoniidTable(X,u,3,xNames)"
   ]
  },
  {
   "cell_type": "code",
   "execution_count": null,
   "metadata": {},
   "outputs": [],
   "source": []
  }
 ],
 "metadata": {
  "@webio": {
   "lastCommId": null,
   "lastKernelId": null
  },
  "anaconda-cloud": {},
  "kernelspec": {
   "display_name": "Julia 1.11.5",
   "language": "julia",
   "name": "julia-1.11"
  },
  "language_info": {
   "file_extension": ".jl",
   "mimetype": "application/julia",
   "name": "julia",
   "version": "1.11.5"
  }
 },
 "nbformat": 4,
 "nbformat_minor": 4
}
