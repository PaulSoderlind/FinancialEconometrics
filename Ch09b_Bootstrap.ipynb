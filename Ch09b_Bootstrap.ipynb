{
 "cells": [
  {
   "cell_type": "markdown",
   "metadata": {},
   "source": [
    "# Bootstrapping a Linear Regression\n",
    "\n",
    "This notebook implements both a traditional bootstrap and a block bootstrap in order to get more robust standard errors of OLS coefficients."
   ]
  },
  {
   "cell_type": "markdown",
   "metadata": {},
   "source": [
    "## Load Packages and Extra Functions"
   ]
  },
  {
   "cell_type": "code",
   "execution_count": 1,
   "metadata": {},
   "outputs": [
    {
     "data": {
      "text/plain": [
       "CovNWFn"
      ]
     },
     "execution_count": 1,
     "metadata": {},
     "output_type": "execute_result"
    }
   ],
   "source": [
    "using Printf, DelimitedFiles, Statistics, LinearAlgebra, Random\n",
    "\n",
    "include(\"jlFiles/printmat.jl\")\n",
    "include(\"jlFiles/Ols.jl\")\n",
    "include(\"jlFiles/CovNWFn.jl\")"
   ]
  },
  {
   "cell_type": "markdown",
   "metadata": {},
   "source": [
    "## Loading Data\n",
    "\n",
    "The regressions used below are of the type\n",
    "\n",
    "$\n",
    "y_t = x_t'b + u_t\n",
    "$\n",
    "\n",
    "where $y_t$ are monthly data on 1-year excess returns on a bond and $x_t$ are lagged (12 months) forward rates. "
   ]
  },
  {
   "cell_type": "code",
   "execution_count": 2,
   "metadata": {},
   "outputs": [
    {
     "name": "stdout",
     "output_type": "stream",
     "text": [
      "T = 580, n = 1, K = 6\n"
     ]
    }
   ],
   "source": [
    "xx  = readdlm(\"Data/BondPremiaPs.csv\",',',skipstart=1)\n",
    "rx  = xx[:,5]                     #bond excess returns\n",
    "f   = xx[:,6:end]                 #forward rates, several columns\n",
    "\n",
    "x = [ones(size(f,1)-12) f[1:end-12,:]]   #regressors\n",
    "y = rx[13:end]                           #dependent variable\n",
    "\n",
    "\n",
    "(T,n) = (size(y,1),size(y,2))            #no. obs and no. test assets\n",
    "K     = size(x,2)                        #no. regressors\n",
    "\n",
    "println(\"T = $T, n = $n, K = $K\")"
   ]
  },
  {
   "cell_type": "markdown",
   "metadata": {},
   "source": [
    "## Point Estimates"
   ]
  },
  {
   "cell_type": "code",
   "execution_count": 3,
   "metadata": {},
   "outputs": [
    {
     "name": "stdout",
     "output_type": "stream",
     "text": [
      "\u001b[34m\u001b[1mOLS estimates:\u001b[22m\u001b[39m\n",
      "\n",
      "            coeff    std (trad.)\n",
      "x1         -3.306          0.824\n",
      "x2         -4.209          0.712\n",
      "x3         10.627          4.513\n",
      "x4        -14.397         12.896\n",
      "x5          7.096         15.876\n",
      "x6          1.284          6.904\n",
      "\n"
     ]
    }
   ],
   "source": [
    "(bLS,u,yhat,Covb,) = OlsGMFn(y,x)            #OLS estimate and traditional std errors\n",
    "StdbLS = sqrt.(diag(Covb))                   #Covb is Cov(sqrt(T)b)\n",
    "\n",
    "printblue(\"OLS estimates:\\n\")\n",
    "rowNames = [string(\"x\",i) for i=1:K]\n",
    "printmat([bLS  StdbLS],colNames=[\"coeff\",\"std (trad.)\"],rowNames=rowNames,width=15)"
   ]
  },
  {
   "cell_type": "markdown",
   "metadata": {},
   "source": [
    "## Standard Bootstrap (I)\n",
    "\n",
    "In each loop, a new series of residuals, $\\tilde{u}_{t}$, is created by drawing (with replacement) values from the fitted residuals. Then, simulated values of the dependent variable are created as $\\tilde{y}_{t}=x_{t}^{\\prime}\\beta+\\tilde{u}_{t}$ and we redo the estimation on ($\\tilde{y}_{t},x_{t}$).\n",
    "\n",
    "This is repeated `NSim` times."
   ]
  },
  {
   "cell_type": "code",
   "execution_count": 4,
   "metadata": {},
   "outputs": [
    {
     "name": "stdout",
     "output_type": "stream",
     "text": [
      "\u001b[34m\u001b[1mCoefficients:\u001b[22m\u001b[39m\n",
      "                   OLS        avg. bootstr\n",
      "x1              -3.306              -3.299\n",
      "x2              -4.209              -4.192\n",
      "x3              10.627              10.478\n",
      "x4             -14.397             -14.010\n",
      "x5               7.096               6.687\n",
      "x6               1.284               1.438\n",
      "\n",
      "\u001b[34m\u001b[1mStd:\u001b[22m\u001b[39m\n",
      "                 trad.         bootstrap 1\n",
      "x1               0.824               0.821\n",
      "x2               0.712               0.715\n",
      "x3               4.513               4.465\n",
      "x4              12.896              12.628\n",
      "x5              15.876              15.513\n",
      "x6               6.904               6.750\n",
      "\n",
      "\u001b[31m\u001b[1mlooks like there is no particular need for bootstrap in this case, but...see below\u001b[22m\u001b[39m\n"
     ]
    }
   ],
   "source": [
    "NSim      = 2000                 #no. of simulations\n",
    "Random.seed!(123)\n",
    "\n",
    "bBoot   = fill(NaN,(NSim,K))\n",
    "for i = 1:NSim                                       #loop over simulations\n",
    "  #local t_i, utilde, ytilde                         #local/global is needed in script\n",
    "  t_i        = rand(1:T,T)                           #T random numbers from 1:T (with replacement)\n",
    "  #println(t_i)                                      #uncomment to see which rows that are picked out\n",
    "  utilde     = u[t_i]\n",
    "  ytilde     = x*bLS + utilde[1:T]\n",
    "  bBoot[i,:] = OlsGMFn(ytilde,x)[1]\n",
    "end\n",
    "\n",
    "printblue(\"Coefficients:\")\n",
    "xx = [bLS  mean(bBoot,dims=1)']\n",
    "printmat(xx,colNames=[\"OLS\",\"avg. bootstr\"],rowNames=rowNames,width=20)\n",
    "\n",
    "printblue(\"Std:\")\n",
    "xx = [StdbLS std(bBoot,dims=1)']\n",
    "printmat(xx,colNames=[\"trad.\",\"bootstrap 1\"],rowNames=rowNames,width=20)\n",
    "\n",
    "printred(\"looks like there is no particular need for bootstrap in this case, but...see below\")"
   ]
  },
  {
   "cell_type": "markdown",
   "metadata": {},
   "source": [
    "## Block Bootstrap (II)\n",
    "\n",
    "To handle autocorrelated residuals, we now consider a *block bootstrap*.\n",
    "\n",
    "\n",
    "In each loop, we initially define a random starting point (row number) of each block (by using the `rand()` function)---and create a vector of all rows that are in a block. For instance, suppose we randomly draw that the blocks should start on rows $27$ and $35$ and that we have decided that each block should contain $10$ rows, then the artificial sample will pick out rows $27-36$ and $35-44$. Clearly, some rows can be in several blocks. Once we have $T$ rows, we define a new series of residuals, $\\tilde{u}_{t}$.\n",
    "\n",
    "Then, new values of the dependent variable are created as $\\tilde{y}_{t}=x_{t}^{\\prime}\\beta+\\tilde{u}_{t}$ and we redo the estimation on ($\\tilde{y}_{t},x_{t}$)."
   ]
  },
  {
   "cell_type": "code",
   "execution_count": 5,
   "metadata": {},
   "outputs": [
    {
     "data": {
      "text/plain": [
       "DrawBlocksFn"
      ]
     },
     "execution_count": 5,
     "metadata": {},
     "output_type": "execute_result"
    }
   ],
   "source": [
    "\"\"\"\n",
    "    DrawBlocksFn(T,BlockSize)\n",
    "\n",
    "Draw a T-vector of indices `t_i` that can be used to create bootstrap residuals. \n",
    "The indices are such that they form blocks of length `BlockSize`\n",
    "\n",
    "\"\"\"\n",
    "function DrawBlocksFn(T,BlockSize)\n",
    "    nBlocks     = round(Int,ceil(T/BlockSize))          #number of blocks, rounded up\n",
    "    t_i         = rand(1:T,nBlocks,1)                   #nBlocks x 1, random starting row of blocks\n",
    "    t_i         = t_i .+ collect(0:BlockSize-1)'        #nBlocks x BlockSize, each row is a block\n",
    "    vv_i        = t_i .> T\n",
    "    t_i[vv_i]   = t_i[vv_i] .- T                        #wrap around if index > T\n",
    "    #println(t_i)                                       #uncomment to see which rows that are picked out\n",
    "    t_i         = vec(t_i')                             #column vector of the blocks\n",
    "    return t_i\n",
    "end"
   ]
  },
  {
   "cell_type": "code",
   "execution_count": 6,
   "metadata": {},
   "outputs": [
    {
     "name": "stdout",
     "output_type": "stream",
     "text": [
      "\u001b[34m\u001b[1millustrating how to draw 25 observations, in blocks of 5:\u001b[22m\u001b[39m\n",
      "\n",
      "each column in the printout is a block\n",
      "    18        17         7        10         3    \n",
      "    19        18         8        11         4    \n",
      "    20        19         9        12         5    \n",
      "    21        20        10        13         6    \n",
      "    22        21        11        14         7    \n",
      "\n"
     ]
    }
   ],
   "source": [
    "Random.seed!(1234567)\n",
    "BlockSize = 5                   #size of blocks\n",
    "\n",
    "printblue(\"illustrating how to draw 25 observations, in blocks of $BlockSize:\\n\")\n",
    "t_i = DrawBlocksFn(25,BlockSize)\n",
    "\n",
    "println(\"each column in the printout is a block\")\n",
    "printmat(reshape(t_i,BlockSize,:))"
   ]
  },
  {
   "cell_type": "code",
   "execution_count": 7,
   "metadata": {},
   "outputs": [
    {
     "name": "stdout",
     "output_type": "stream",
     "text": [
      "\u001b[34m\u001b[1mStd:\u001b[22m\u001b[39m\n",
      "                 trad.         bootstrap 1       block bootstr\n",
      "x1               0.824               0.821               2.089\n",
      "x2               0.712               0.715               1.410\n",
      "x3               4.513               4.465               8.304\n",
      "x4              12.896              12.628              23.666\n",
      "x5              15.876              15.513              29.522\n",
      "x6               6.904               6.750              13.080\n",
      "\n",
      "\u001b[31m\u001b[1mthis bootstrap handles autocorrelation, so the stds tend to be higher\u001b[22m\u001b[39m\n"
     ]
    }
   ],
   "source": [
    "BlockSize = 10                   #size of blocks\n",
    "NSim      = 2000                 #no. of simulations\n",
    "Random.seed!(123)\n",
    "\n",
    "bBoot2  = fill(NaN,(NSim,K*n))\n",
    "for i = 1:NSim                                       #loop over simulations\n",
    "    #local t_i, utilde, ytilde                       #local/global is needed in script\n",
    "    t_i         = DrawBlocksFn(T,BlockSize)\n",
    "    utilde      = u[t_i]\n",
    "    ytilde      = x*bLS + utilde[1:T]\n",
    "    bBoot2[i,:] = OlsGMFn(ytilde,x)[1]\n",
    "end\n",
    "\n",
    "printblue(\"Std:\")\n",
    "xx = [StdbLS std(bBoot,dims=1)' std(bBoot2,dims=1)']\n",
    "printmat(xx,colNames=[\"trad.\",\"bootstrap 1\",\"block bootstr\"],rowNames=rowNames,width=20)\n",
    "\n",
    "printred(\"this bootstrap handles autocorrelation, so the stds tend to be higher\")"
   ]
  },
  {
   "cell_type": "code",
   "execution_count": null,
   "metadata": {},
   "outputs": [],
   "source": []
  }
 ],
 "metadata": {
  "@webio": {
   "lastCommId": null,
   "lastKernelId": null
  },
  "anaconda-cloud": {},
  "kernelspec": {
   "display_name": "Julia 1.6.1",
   "language": "julia",
   "name": "julia-1.6"
  },
  "language_info": {
   "file_extension": ".jl",
   "mimetype": "application/julia",
   "name": "julia",
   "version": "1.6.1"
  }
 },
 "nbformat": 4,
 "nbformat_minor": 1
}
