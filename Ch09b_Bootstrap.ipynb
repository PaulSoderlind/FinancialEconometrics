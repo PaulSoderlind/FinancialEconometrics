{
 "cells": [
  {
   "cell_type": "markdown",
   "metadata": {},
   "source": [
    "# Bootstrapping a Linear Regression\n",
    "\n",
    "This notebook implements both a traditional bootstrap and a block bootstrap in order to get more robust standard errors of OLS coefficients."
   ]
  },
  {
   "cell_type": "markdown",
   "metadata": {},
   "source": [
    "## Load Packages and Extra Functions"
   ]
  },
  {
   "cell_type": "code",
   "execution_count": 1,
   "metadata": {
    "tags": []
   },
   "outputs": [],
   "source": [
    "using Printf, DelimitedFiles, Statistics, LinearAlgebra, Random\n",
    "\n",
    "include(\"jlFiles/printmat.jl\")\n",
    "include(\"jlFiles/Ols.jl\");"
   ]
  },
  {
   "cell_type": "markdown",
   "metadata": {},
   "source": [
    "## Loading Data\n",
    "\n",
    "The regressions used below are of the type\n",
    "\n",
    "$\n",
    "y_t = x_t'b + u_t\n",
    "$\n",
    "\n",
    "where $y_t$ is monthly data on 1-year excess returns on a 5-year bond (so there is an 11-month overlap between two data points) and $x_t$ includes a constant and the lagged 1-year forward rates for investments starting (0,1,2,3,4) years ahead."
   ]
  },
  {
   "cell_type": "code",
   "execution_count": 2,
   "metadata": {
    "tags": []
   },
   "outputs": [
    {
     "name": "stdout",
     "output_type": "stream",
     "text": [
      "T = 580, n = 1, K = 6\n"
     ]
    }
   ],
   "source": [
    "xx  = readdlm(\"Data/BondPremiaPs.csv\",',',skipstart=1)\n",
    "rx  = xx[:,5]                     #bond excess returns\n",
    "f   = xx[:,6:end]                 #forward rates, several columns\n",
    "\n",
    "x = [ones(size(f,1)-12) f[1:end-12,:]]   #regressors\n",
    "y = rx[13:end]                           #dependent variable\n",
    "\n",
    "\n",
    "(T,n) = (size(y,1),size(y,2))            #no. obs and no. test assets\n",
    "K     = size(x,2)                        #no. regressors\n",
    "\n",
    "println(\"T = $T, n = $n, K = $K\")"
   ]
  },
  {
   "cell_type": "markdown",
   "metadata": {},
   "source": [
    "## Point Estimates"
   ]
  },
  {
   "cell_type": "code",
   "execution_count": 3,
   "metadata": {
    "tags": []
   },
   "outputs": [
    {
     "name": "stdout",
     "output_type": "stream",
     "text": [
      "\u001b[34m\u001b[1mOLS estimates:\u001b[22m\u001b[39m\n",
      "\n",
      "            coeff    std (trad.)\n",
      "x₁         -3.306          0.824\n",
      "x₂         -4.209          0.712\n",
      "x₃         10.627          4.513\n",
      "x₄        -14.397         12.896\n",
      "x₅          7.096         15.876\n",
      "x₆          1.284          6.904\n",
      "\n"
     ]
    }
   ],
   "source": [
    "(bLS,u,yhat,Covb,) = OlsGMFn(y,x)            #OLS estimate and traditional std errors\n",
    "StdbLS = sqrt.(diag(Covb))\n",
    "\n",
    "printblue(\"OLS estimates:\\n\")\n",
    "rowNames = [string(\"x\",'₀'+i) for i=1:K]      #'₀'+1 to get ₁\n",
    "printmat(bLS,StdbLS;colNames=[\"coeff\",\"std (trad.)\"],rowNames=rowNames,width=15)"
   ]
  },
  {
   "cell_type": "markdown",
   "metadata": {},
   "source": [
    "## Standard Bootstrap (I)\n",
    "\n",
    "In each loop, a new series of residuals, $\\tilde{u}_{t}$, is created by drawing (with replacement) values from the fitted residuals (from the estimates in earlier cells). Then, simulated values of the dependent variable are created as \n",
    "\n",
    "$\\tilde{y}_{t}=x_{t}^{\\prime}\\beta+\\tilde{u}_{t}$ \n",
    "\n",
    "and we redo the estimation on ($\\tilde{y}_{t},x_{t}$). Notice that $x_t$ is the same as in the data.\n",
    "\n",
    "This is repeated `NSim` times."
   ]
  },
  {
   "cell_type": "code",
   "execution_count": 4,
   "metadata": {
    "tags": []
   },
   "outputs": [
    {
     "name": "stdout",
     "output_type": "stream",
     "text": [
      "\u001b[34m\u001b[1mCoefficients:\u001b[22m\u001b[39m\n",
      "                   OLS        avg. bootstr\n",
      "x₁              -3.306              -3.315\n",
      "x₂              -4.209              -4.225\n",
      "x₃              10.627              10.693\n",
      "x₄             -14.397             -14.619\n",
      "x₅               7.096               7.403\n",
      "x₆               1.284               1.150\n",
      "\n",
      "\u001b[34m\u001b[1mStd:\u001b[22m\u001b[39m\n",
      "                 trad.         bootstrap 1\n",
      "x₁               0.824               0.828\n",
      "x₂               0.712               0.722\n",
      "x₃               4.513               4.576\n",
      "x₄              12.896              13.011\n",
      "x₅              15.876              15.924\n",
      "x₆               6.904               6.891\n",
      "\n",
      "\u001b[31m\u001b[1mThe results from these bootstrap are similar to standard OLS, but...see below\u001b[22m\u001b[39m\n"
     ]
    }
   ],
   "source": [
    "NSim      = 2000                 #no. of simulations\n",
    "Random.seed!(123)\n",
    "\n",
    "bBoot   = fill(NaN,(NSim,K))\n",
    "for i = 1:NSim                                       #loop over simulations\n",
    "  #local t_i, utilde, ytilde                         #local/global is needed in script\n",
    "  t_i        = rand(1:T,T)                           #T random numbers from 1:T (with replacement)\n",
    "  #println(t_i)                                      #uncomment to see which rows that are picked out\n",
    "  utilde     = u[t_i]\n",
    "  ytilde     = x*bLS + utilde[1:T]\n",
    "  bBoot[i,:] = OlsGMFn(ytilde,x)[1]\n",
    "end\n",
    "\n",
    "printblue(\"Coefficients:\")\n",
    "xx = [bLS  mean(bBoot,dims=1)']\n",
    "printmat(xx;colNames=[\"OLS\",\"avg. bootstr\"],rowNames=rowNames,width=20)\n",
    "\n",
    "printblue(\"Std:\")\n",
    "xx = [StdbLS std(bBoot,dims=1)']\n",
    "printmat(xx;colNames=[\"trad.\",\"bootstrap 1\"],rowNames=rowNames,width=20)\n",
    "\n",
    "printred(\"The results from these bootstrap are similar to standard OLS, but...see below\")"
   ]
  },
  {
   "cell_type": "markdown",
   "metadata": {},
   "source": [
    "## Block Bootstrap (II)\n",
    "\n",
    "To handle autocorrelated residuals, we now consider a *block bootstrap*.\n",
    "\n",
    "\n",
    "In each loop, we initially define a random starting point (observation number) of each block (by using the `rand()` function). For instance, if we randomly draw that the blocks should start with observations $27$ and $35$ and have decided that each block should contain $10$ data points, then the artificial sample will pick out observations $27-36$ and $35-44$. Clearly, some observations can be in several blocks. Once we have $T$ data points, we define a new series of residuals, $\\tilde{u}_{t}$.\n",
    "\n",
    "Then, new values of the dependent variable are created as \n",
    "\n",
    "$\\tilde{y}_{t}=x_{t}^{\\prime}\\beta+\\tilde{u}_{t}$ \n",
    "\n",
    "and we redo the estimation on ($\\tilde{y}_{t},x_{t}$).\n",
    "\n",
    "### A Remark on the Code\n",
    "- `ceil(Int,11/5)` gives 3 (so 3 blocks would be created)\n",
    "- `[1 9] .+ (0:5-1)` creates a 5x2 matrix with a block in each column\n",
    "- `replace(z -> z>T ? z-T : z,t_i)` checks each element in `t_i` and subtracts `T` is the element is larger than `T`"
   ]
  },
  {
   "cell_type": "code",
   "execution_count": 5,
   "metadata": {
    "tags": []
   },
   "outputs": [
    {
     "data": {
      "text/plain": [
       "DrawBlocksFn"
      ]
     },
     "execution_count": 5,
     "metadata": {},
     "output_type": "execute_result"
    }
   ],
   "source": [
    "\"\"\"\n",
    "    DrawBlocksFn(T,BlockSize)\n",
    "\n",
    "Draw a T-vector of indices `v` that can be used to create bootstrap residuals. \n",
    "The indices are such that they form blocks of length `BlockSize`\n",
    "\n",
    "\"\"\"\n",
    "function DrawBlocksFn(T,BlockSize)\n",
    "    nBlocks = cld(T,BlockSize)                 #number of blocks, rounded up\n",
    "    v0      = rand(1:T,nBlocks)                #nBlocks, random starting obs of blocks\n",
    "    v       = vec(v0' .+ vec(0:BlockSize-1))   #each block in a column\n",
    "    v       = replace(z -> z>T ? z-T : z,v)    #wrap around if index > T\n",
    "    #println(v)                                  #uncomment to see result\n",
    "    return v\n",
    "end"
   ]
  },
  {
   "cell_type": "code",
   "execution_count": 6,
   "metadata": {
    "tags": []
   },
   "outputs": [
    {
     "name": "stdout",
     "output_type": "stream",
     "text": [
      "\u001b[34m\u001b[1millustrating how to draw 30 observations, in blocks of 10:\u001b[22m\u001b[39m\n",
      "\n",
      "   block 1   block 2   block 3\n",
      "     7        11        19    \n",
      "     8        12        20    \n",
      "     9        13        21    \n",
      "    10        14        22    \n",
      "    11        15        23    \n",
      "    12        16        24    \n",
      "    13        17        25    \n",
      "    14        18        26    \n",
      "    15        19        27    \n",
      "    16        20        28    \n",
      "\n"
     ]
    }
   ],
   "source": [
    "Random.seed!(1234567)\n",
    "BlockSize = 10                   #size of blocks\n",
    "\n",
    "printblue(\"illustrating how to draw 30 observations, in blocks of $BlockSize:\\n\")\n",
    "t_i = DrawBlocksFn(30,BlockSize)\n",
    "\n",
    "printmat(reshape(t_i,BlockSize,:);colNames=[\"block 1\",\"block 2\",\"block 3\"])"
   ]
  },
  {
   "cell_type": "code",
   "execution_count": 7,
   "metadata": {
    "tags": []
   },
   "outputs": [
    {
     "name": "stdout",
     "output_type": "stream",
     "text": [
      "\u001b[34m\u001b[1mStd:\u001b[22m\u001b[39m\n",
      "                 trad.         bootstrap 1       block bootstr\n",
      "x₁               0.824               0.828               2.102\n",
      "x₂               0.712               0.722               1.407\n",
      "x₃               4.513               4.576               8.327\n",
      "x₄              12.896              13.011              23.881\n",
      "x₅              15.876              15.924              29.839\n",
      "x₆               6.904               6.891              13.219\n",
      "\n",
      "\u001b[31m\u001b[1mThe block bootstrap accounts for autocorrelation, so the stds tend to be higher (since there is indeed autocorrelation)\u001b[22m\u001b[39m\n"
     ]
    }
   ],
   "source": [
    "BlockSize = 10                   #size of blocks\n",
    "NSim      = 2000                 #no. of simulations\n",
    "Random.seed!(123)\n",
    "\n",
    "bBoot2  = fill(NaN,(NSim,K*n))\n",
    "for i = 1:NSim                                       #loop over simulations\n",
    "    #local t_i, utilde, ytilde                       #local/global is needed in script\n",
    "    t_i         = DrawBlocksFn(T,BlockSize)\n",
    "    utilde      = u[t_i]\n",
    "    ytilde      = x*bLS + utilde[1:T]\n",
    "    bBoot2[i,:] = OlsGMFn(ytilde,x)[1]\n",
    "end\n",
    "\n",
    "printblue(\"Std:\")\n",
    "xx = [StdbLS std(bBoot,dims=1)' std(bBoot2,dims=1)']\n",
    "printmat(xx;colNames=[\"trad.\",\"bootstrap 1\",\"block bootstr\"],rowNames=rowNames,width=20)\n",
    "\n",
    "printred(\"The block bootstrap accounts for autocorrelation, so the stds tend to be higher (since there is indeed autocorrelation)\")"
   ]
  },
  {
   "cell_type": "code",
   "execution_count": null,
   "metadata": {},
   "outputs": [],
   "source": []
  }
 ],
 "metadata": {
  "@webio": {
   "lastCommId": null,
   "lastKernelId": null
  },
  "anaconda-cloud": {},
  "kernelspec": {
   "display_name": "Julia 1.9.4",
   "language": "julia",
   "name": "julia-1.9"
  },
  "language_info": {
   "file_extension": ".jl",
   "mimetype": "application/julia",
   "name": "julia",
   "version": "1.9.4"
  }
 },
 "nbformat": 4,
 "nbformat_minor": 4
}
