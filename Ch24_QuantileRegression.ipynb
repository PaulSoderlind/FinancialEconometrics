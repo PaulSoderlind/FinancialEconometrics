{
 "cells": [
  {
   "cell_type": "markdown",
   "metadata": {},
   "source": [
    "# Quantile Regressions\n",
    "\n",
    "This notebook illustrates quantile regressions.\n",
    "\n",
    "As an alternative, consider the [QuantileRegressions.jl](https://github.com/pkofod/QuantileRegressions.jl) package."
   ]
  },
  {
   "cell_type": "markdown",
   "metadata": {},
   "source": [
    "## Load Packages and Extra Functions"
   ]
  },
  {
   "cell_type": "code",
   "execution_count": 1,
   "metadata": {},
   "outputs": [
    {
     "data": {
      "text/plain": [
       "printyellow (generic function with 1 method)"
      ]
     },
     "execution_count": 1,
     "metadata": {},
     "output_type": "execute_result"
    }
   ],
   "source": [
    "using LinearAlgebra, Printf, DelimitedFiles, Statistics\n",
    "\n",
    "include(\"jlFiles/printmat.jl\")"
   ]
  },
  {
   "cell_type": "code",
   "execution_count": 2,
   "metadata": {},
   "outputs": [],
   "source": [
    "using Plots\n",
    "\n",
    "#pyplot(size=(600,400))            #pyplot() or gr()\n",
    "gr(size=(480,320))\n",
    "default(fmt = :png)"
   ]
  },
  {
   "cell_type": "markdown",
   "metadata": {},
   "source": [
    "## Loading Data"
   ]
  },
  {
   "cell_type": "code",
   "execution_count": 3,
   "metadata": {},
   "outputs": [
    {
     "name": "stdout",
     "output_type": "stream",
     "text": [
      "Sample size: 15355\n"
     ]
    }
   ],
   "source": [
    "xx  = readdlm(\"Data/FFdFactors.csv\",',',skipstart=1)\n",
    "xx  = xx[:,2]            #equity market excess returns\n",
    "\n",
    "y = xx[2:end]            #dependent variable\n",
    "x = xx[1:end-1]          #regressor in an AR(1)\n",
    "\n",
    "T   = size(y,1)\n",
    "println(\"Sample size: $T\")"
   ]
  },
  {
   "cell_type": "markdown",
   "metadata": {},
   "source": [
    "## A Function for Quantile Regressions\n",
    "\n",
    "The next cell defines a function `QuanRegrIRLSPs` which estimates a quantile regression. It uses a simple iterative (re-)weighted least squares (IRLS) approach. It can be shown that a linear programming approach gives almost identical results for this data set. However, it seems that the iterative approach is quicker in really large data sets.\n",
    "\n",
    "The subsequent cells calculate and show the results. The calculations take some time. "
   ]
  },
  {
   "cell_type": "code",
   "execution_count": 4,
   "metadata": {},
   "outputs": [
    {
     "data": {
      "text/plain": [
       "QuantRegrIRLSPs"
      ]
     },
     "execution_count": 4,
     "metadata": {},
     "output_type": "execute_result"
    }
   ],
   "source": [
    "\"\"\"\n",
    "    QuanRegrIRLSPs(y,x,q=0.5)\n",
    "\n",
    "Estimate a quantile regression for quantile `q`. The outputs are the point estimates \n",
    "and three different variance-covariance matrices of the estimates.\n",
    "\n",
    "# Input\n",
    "- `y::Vector`:     T vector, dependent variable\n",
    "- `x::Matrix`:     TXK, regressors (including any constant)\n",
    "- `q::Number`:     quantile to estimate at, 0<q<1\n",
    "- `prec::Float64`: convergence criterion, 1e-8\n",
    "- `epsu::Float64`: lower bound on 1/weight, 1e-6\n",
    "- `maxiter::Int`:  maximum number of iterations, 1000\n",
    "\n",
    "# Output\n",
    "- `theta::Vector`: K vector, estimated coefficients\n",
    "- `vcv::Matrix`:   KxK, traditional covariance matrix\n",
    "- `vcv2::Matrix`:  KxK, Powell (1991) covariance matrix\n",
    "- `vcv3::Matrix`:  KxK, Powell (1991) covariance matrix, uniform\n",
    "\"\"\"\n",
    "function QuantRegrIRLSPs(y,x::Matrix,q=0.5;prec=1e-8,epsu=1e-6,maxiter=1000)\n",
    "\n",
    "  (T,K) = size(x)\n",
    "  xw    = copy(x)\n",
    "\n",
    "  (b_old,b,u,iter) = (zeros(K),fill(1e+6,K) .+ prec,zeros(T),0)\n",
    "\n",
    "  while maximum(abs,b - b_old) > prec\n",
    "    copyto!(b_old, b)\n",
    "    b  .= (xw'*x)\\(xw'*y)\n",
    "    u  .= y - x*b\n",
    "    #u  .= ifelse.(u.>0,1-q,q).*abs.(u)   #as in Python code, divide loss fn by q(1-q) to get it\n",
    "    u  .= ifelse.(u.>0,1/q,1/(1-q)).*abs.(u)   #abs(u)/q if u>0, abs(u)/(1-q) if u<0\n",
    "    u  .= max.(u,epsu)                         #not smaller than epsu\n",
    "    xw .= x./u\n",
    "    iter = iter + 1\n",
    "    if iter > maxiter\n",
    "      @warn(\"$iter > maxiter\")\n",
    "      b = NaN\n",
    "      break\n",
    "    end\n",
    "  end\n",
    "\n",
    "  res = y - x*b\n",
    "\n",
    "  D   = x'x/T\n",
    "  h   = 1.06*std(res)/T^0.2                        #Silverman (1986) recommendation\n",
    "  fx  = exp.(-0.5*((res/h).^2))./(h*sqrt(2*pi))    #Green 7th ed, using N() kernel\n",
    "  f0  = mean(fx)\n",
    "  C   = f0*x'x/T\n",
    "  C_1 = inv(C)\n",
    "  vcv = q*(1-q)*C_1*D*C_1/T                         #variance-covariance matrix\n",
    "\n",
    "  C    = (fx.*x)'x/T                                #Wooldrige 2dn ed, Powell 1991\n",
    "  C_1  = inv(C)                                     #but with Gaussian kernel\n",
    "  vcv2 = q*(1-q)*C_1*D*C_1/T                        #caputures (x,res) dependence\n",
    "\n",
    "  fx  = (abs.(res) .<= h/2)/h                       #Wooldrige 2nd ed, Powell 1991\n",
    "  C   = (fx.*x)'x/T                                 #uniform kernel\n",
    "  C_1 = inv(C)\n",
    "  vcv3 = q*(1-q)*C_1*D*C_1/T\n",
    "\n",
    "  return b, vcv, vcv2, vcv3\n",
    "\n",
    "end"
   ]
  },
  {
   "cell_type": "code",
   "execution_count": 5,
   "metadata": {},
   "outputs": [
    {
     "name": "stdout",
     "output_type": "stream",
     "text": [
      "\u001b[34m\u001b[1mquantile regression coefs:\u001b[22m\u001b[39m\n",
      "\n",
      "quantile         c     slope\n",
      "0.01        -2.568     0.139\n",
      "0.05        -1.433     0.158\n",
      "0.25        -0.410     0.146\n",
      "0.5          0.047     0.067\n",
      "0.75         0.477     0.024\n",
      "0.95         1.409    -0.028\n",
      "0.99         2.582    -0.188\n",
      "\n",
      "\n",
      "\u001b[31m\u001b[1mThe function QuantRegrIRLSPs also outputs different variance-covariance matrices. Compare them.\u001b[22m\u001b[39m\n"
     ]
    }
   ],
   "source": [
    "xGrid = quantile(x,0.01:0.01:0.99)                 #quantiles of the regressor, for plots\n",
    "xGrid = [ones(size(xGrid)) xGrid]\n",
    "\n",
    "qM = [0.01,0.05,0.25,0.5,0.75,0.95,0.99]           #quantiles\n",
    "\n",
    "cx = [ones(T) x]                                   #[constant regressors]\n",
    "\n",
    "bM    = fill(NaN,length(qM),2)                     #to store regression coeffs\n",
    "qPred = fill(NaN,length(qM),size(xGrid,1))         #to store predicted values\n",
    "for i = 1:length(qM)\n",
    "    #local b_q            #local/global is needed in script\n",
    "    b_q        = QuantRegrIRLSPs(y,cx,qM[i])[1]\n",
    "    bM[i,:]    = b_q\n",
    "    qPred[i,:] = xGrid*b_q\n",
    "end\n",
    "\n",
    "printblue(\"quantile regression coefs:\\n\")\n",
    "printmat(bM,colNames=[\"c\",\"slope\"],rowNames=string.(qM),cell00=\"quantile\")\n",
    "\n",
    "printred(\"\\nThe function QuantRegrIRLSPs also outputs different variance-covariance matrices. Compare them.\")"
   ]
  },
  {
   "cell_type": "code",
   "execution_count": 6,
   "metadata": {},
   "outputs": [
    {
     "data": {
      "image/png": "[encoded data removed]"
     },
     "metadata": {},
     "output_type": "display_data"
    }
   ],
   "source": [
    "lab = permutedims([\"quantile $(qM[i])\" for i=1:length(qM)])\n",
    "\n",
    "p1 = plot( xGrid[:,2],qPred',\n",
    "           label = lab,\n",
    "           xlabel = \"lagged return\",\n",
    "           ylabel = \"fitted return\",\n",
    "           title = \"Fitted values for various quantiles\" )\n",
    "display(p1)"
   ]
  },
  {
   "cell_type": "code",
   "execution_count": null,
   "metadata": {},
   "outputs": [],
   "source": []
  }
 ],
 "metadata": {
  "@webio": {
   "lastCommId": null,
   "lastKernelId": null
  },
  "anaconda-cloud": {},
  "kernelspec": {
   "display_name": "Julia 1.7.0",
   "language": "julia",
   "name": "julia-1.7"
  },
  "language_info": {
   "file_extension": ".jl",
   "mimetype": "application/julia",
   "name": "julia",
   "version": "1.7.0"
  }
 },
 "nbformat": 4,
 "nbformat_minor": 4
}
