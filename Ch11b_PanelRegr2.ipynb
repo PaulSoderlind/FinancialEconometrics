{
 "cells": [
  {
   "cell_type": "markdown",
   "metadata": {},
   "source": [
    "# Calendar Time Regressions vs. Panel Regressions\n",
    "\n",
    "This notebook illustrates how calendar time regressions (form portfolios based on characteristics and then estimate a system of regressions) are related to panel regressions. "
   ]
  },
  {
   "cell_type": "markdown",
   "metadata": {},
   "source": [
    "## Load Packages and Extra Functions"
   ]
  },
  {
   "cell_type": "code",
   "execution_count": 1,
   "metadata": {},
   "outputs": [
    {
     "data": {
      "text/plain": [
       "OlsSureFn"
      ]
     },
     "execution_count": 1,
     "metadata": {},
     "output_type": "execute_result"
    }
   ],
   "source": [
    "using Printf, HDF5, Statistics, LinearAlgebra\n",
    "\n",
    "include(\"jlFiles/printmat.jl\")\n",
    "include(\"jlFiles/CovNWFn.jl\")\n",
    "include(\"jlFiles/OlsSureFn.jl\")"
   ]
  },
  {
   "cell_type": "markdown",
   "metadata": {},
   "source": [
    "## Loading Data"
   ]
  },
  {
   "cell_type": "code",
   "execution_count": 2,
   "metadata": {},
   "outputs": [
    {
     "name": "stdout",
     "output_type": "stream",
     "text": [
      "T=2354 and N=2637\n"
     ]
    }
   ],
   "source": [
    "using HDF5                       #to read hdf5 files, a very common data format\n",
    "fh = h5open(\"Data/PPM.h5\",\"r\")   #open for reading\n",
    "  (ER,Factors,Investors) = read(fh,\"Data/ER\",\"Data/Factors\",\"Data/Investors\")\n",
    "close(fh)\n",
    "\n",
    "N_Changes = Investors[:,1]\n",
    "\n",
    "(T,N) = size(ER)\n",
    "D     = N_Changes .> 50                #logical dummies: [very active]\n",
    "D0    = .!D                            #inactive\n",
    "\n",
    "println(\"T=$(size(ER,1)) and N=$(size(ER,2))\")"
   ]
  },
  {
   "cell_type": "markdown",
   "metadata": {},
   "source": [
    "## Individual alphas"
   ]
  },
  {
   "cell_type": "markdown",
   "metadata": {},
   "source": [
    "The following code takes the matrix of individual daily\n",
    "excess return $ER_{T\\times N}$ and runs one regression for each individual on\n",
    "a three risk $Factors_{T\\times3}$ (excess returns on Swedish equity, Swedish\n",
    "bonds and international equity). \n",
    "\n",
    "The $D$ vector ($N$ elements) is: ```D[i] = false``` if investor $i$ is classified as inactive (no/few portfolio changes, see above), true if active (many portfolio changes). \n",
    "\n",
    "The next cell shows the average alphas for each of the two groups."
   ]
  },
  {
   "cell_type": "code",
   "execution_count": 3,
   "metadata": {},
   "outputs": [
    {
     "name": "stdout",
     "output_type": "stream",
     "text": [
      "\n",
      "\u001b[34m\u001b[1mAverage annualised alphas for each of the two groups:\u001b[22m\u001b[39m\n",
      "   Inactive    Active\n",
      "α    -0.787     6.217\n",
      "\n"
     ]
    }
   ],
   "source": [
    "alphaM = fill(NaN,N)                                #individual alphas\n",
    "for i = 1:N\n",
    "   #local b           #only needed in script\n",
    "   b, = OlsSureFn(ER[:,i],[Factors ones(T)],true,0)\n",
    "   alphaM[i] = b[end]\n",
    "end\n",
    "\n",
    "printblue(\"\\nAverage annualised alphas for each of the two groups:\")\n",
    "xx = [mean(alphaM[D0]) mean(alphaM[D])]*252\n",
    "colNames = [\"Inactive\",\"Active\"]\n",
    "printmat(xx,colNames=colNames,rowNames=[\"α\"])"
   ]
  },
  {
   "cell_type": "markdown",
   "metadata": {},
   "source": [
    "## Calendar Time Portfolios"
   ]
  },
  {
   "cell_type": "markdown",
   "metadata": {},
   "source": [
    "The following code creates two time series (with $T$ observations in each) of portfolio returns: one for inactive investors, the other for active investors.\n",
    "\n",
    "Then, it calculates the average excess returns, the Sharpe ratios and finally the alphas.\n",
    "\n",
    "The alphas and betas are estimated with OLS, and we test the hypothesis that the two alphas are the same (using a SURE approach)."
   ]
  },
  {
   "cell_type": "code",
   "execution_count": 4,
   "metadata": {},
   "outputs": [
    {
     "name": "stdout",
     "output_type": "stream",
     "text": [
      "\u001b[34m\u001b[1mgroup by group:\u001b[22m\u001b[39m\n",
      "     Inactive    Active\n",
      "Avg    -1.262     5.534\n",
      "Std    15.728    13.882\n",
      "SR     -0.080     0.399\n",
      "α      -0.787     6.217\n",
      "\n"
     ]
    }
   ],
   "source": [
    "printblue(\"group by group:\")\n",
    "\n",
    "PortfER      = fill(NaN,(T,2))          #create portfolios as average across individuals\n",
    "PortfER[:,1] = mean(ER[:,D0],dims=2)    #Tx1, portfolio return = average individual return\n",
    "PortfER[:,2] = mean(ER[:,D],dims=2)\n",
    "\n",
    "\n",
    "Avg = mean(PortfER,dims=1)*252          #average excess return on portfolios\n",
    "Std = std(PortfER,dims=1)*sqrt(252)\n",
    "SR  = Avg./Std\n",
    "(b,res,yhat,Covb) = OlsSureFn(PortfER,[ones(T) Factors],true,0)\n",
    "\n",
    "xx = [Avg;Std;SR;b[1:1,:]*252]\n",
    "printmat(xx,colNames=colNames,rowNames=[\"Avg\",\"Std\",\"SR\",\"α\"])"
   ]
  },
  {
   "cell_type": "code",
   "execution_count": 5,
   "metadata": {},
   "outputs": [
    {
     "name": "stdout",
     "output_type": "stream",
     "text": [
      "\u001b[34m\u001b[1mdiff of annual alphas:\u001b[22m\u001b[39m\n",
      "α1-α2     -7.004\n",
      "t-stat    -2.784\n",
      "\n"
     ]
    }
   ],
   "source": [
    "R       = [1 0 0 0 -1 0 0 0]                       #testing if alpha(1) = alpha(2)\n",
    "a_diff  = (R*vec(b))[]                             #[] to make it a scalar\n",
    "tstatLS = a_diff/sqrt((R*Covb*R')[])\n",
    "\n",
    "printblue(\"diff of annual alphas:\")\n",
    "xx = [a_diff*252;tstatLS]\n",
    "printmat(xx,rowNames=[\"α1-α2\",\"t-stat\"])"
   ]
  },
  {
   "cell_type": "markdown",
   "metadata": {},
   "source": [
    "## Panel Regressions"
   ]
  },
  {
   "cell_type": "markdown",
   "metadata": {},
   "source": [
    "Finally, a panel ($T\\times N$) regression is done by simply stacking all data\n",
    "points---but by interacting the factors (and constant) with the activity dummies. The\n",
    "hypothesis of the same alphas is tested by both an OLS approach (assuming that\n",
    "all data is iid) and a Droscoll-Kraay approach (which accounts for cross-sectional correlations).\n",
    "\n",
    "The code for that panel regression is in the function `HszDkFn()`. It does a\n",
    "straightforward LS regression (by a loop over $t$, to save memory space) and\n",
    "then estimates the covariance matrix of the moment conditions as in\n",
    "Driscoll-Kraay (allowing for cross-sectional correlations). The coding makes no attempts to be quick."
   ]
  },
  {
   "cell_type": "code",
   "execution_count": 6,
   "metadata": {},
   "outputs": [
    {
     "data": {
      "text/plain": [
       "HszDkFn (generic function with 1 method)"
      ]
     },
     "execution_count": 6,
     "metadata": {},
     "output_type": "execute_result"
    }
   ],
   "source": [
    "function HDirProdFn(x,y)\n",
    "#HDirProdFn    Calculates horizontal direct product of two matrices with equal number of rows.\n",
    "#              z[i,:] is the Kronecker product of x[i,:] and y[i,:]\n",
    "  Kx = size(x,2)       #columns in x\n",
    "  Ky = size(y,2)       #columns in y\n",
    "  z  = repeat(y,1,Kx) .* kron(x,ones(Int,1,Ky))\n",
    "  return z\n",
    "end\n",
    "#-----------------------------------------------\n",
    "\n",
    "function HszDkFn(y,x,z)\n",
    "#HszDkFn   LS and Driscoll-Kray standard errors for panel, assuming x(t,i) = x(t) * z(i)\n",
    "\n",
    "  (T,N) = (size(y,1),size(y,2))\n",
    "  K     = size(x,2)*size(z,2)\n",
    "\n",
    "  Sxx = zeros(K,K)\n",
    "  Sxy = zeros(K,1)\n",
    "  for t = 1:T                           #OLS by looping over t\n",
    "    y_t  = y[t,:]                       #dependent variable, Nx1\n",
    "    x0_t = repeat(x[t:t,:],N,1)         #factors, NxK, could simplify?\n",
    "    x_t  = HDirProdFn(z,x0_t)           #effective regressors, z is NxKz, x_t is NxK\n",
    "    Sxx  = Sxx + x_t'x_t/(T*N)          #building up Sxx and Sxy\n",
    "    Sxy  = Sxy + x_t'y_t/(T*N)\n",
    "  end\n",
    "  theta = Sxx\\Sxy\n",
    "\n",
    "  s2     = 0.0\n",
    "  omegaj = zeros(K,K)\n",
    "  for t = 1:T                          #Covariance matrix by looping over t\n",
    "    y_t  = y[t,:]                      #create y_t and x_t (again)\n",
    "    x0_t = repeat(x[t:t,:],N,1)\n",
    "    x_t  = HDirProdFn(z,x0_t)\n",
    "    e_t  = y_t - x_t*theta             #residuals in t\n",
    "    h_t  = (x_t'e_t)'/N                #moment conditions in t (divided by N)\n",
    "    omegaj = omegaj + h_t'h_t          #building up covariance matrix\n",
    "    s2     = s2 + sum(e_t.^2)/N^2\n",
    "  end\n",
    "  Shat = omegaj/T^2                     #estimate of S\n",
    "  s2   = s2/T^2\n",
    "\n",
    "  zx_1  = inv(Sxx)\n",
    "  CovDK = zx_1 * Shat * zx_1'                     #covariance matrix, DK\n",
    "  stdDK = sqrt.(diag(CovDK))                      #standard errors, DK\n",
    "\n",
    "  CovLS = zx_1 * s2                               #covariance matrix, LS iid\n",
    "  stdLS = sqrt.(diag(CovLS))                      #standard errors, LS iid\n",
    "\n",
    "  return theta,CovDK,CovLS\n",
    "\n",
    "end"
   ]
  },
  {
   "cell_type": "markdown",
   "metadata": {},
   "source": [
    "In calling on `HszDkFn()` we use the individual returns (`ER` which is $TxN$) as the dependent variables, a constant and the `Factors` (together a $Tx4$ matrix) as the `x` regressors and `[D0 D]` as the dummies that we interact `x` with."
   ]
  },
  {
   "cell_type": "code",
   "execution_count": 7,
   "metadata": {},
   "outputs": [
    {
     "name": "stdout",
     "output_type": "stream",
     "text": [
      "\u001b[34m\u001b[1mpanel regression:\u001b[22m\u001b[39m\n",
      "α1-α2          -7.004\n",
      "t-stat (LS)   -24.017\n",
      "t-stat (DK)    -2.784\n",
      "\n",
      "\n",
      "\u001b[31m\u001b[1mCompare with calendar time regressions. Also notice the difference (any?) between the two t-stats\u001b[22m\u001b[39m\n"
     ]
    }
   ],
   "source": [
    "printblue(\"panel regression:\")\n",
    "(theta,CovDK,CovLS) = HszDkFn(ER,[ones(T) Factors],[D0 D] .+ 0.0)\n",
    "\n",
    "R       = [1 0 0 0 -1 0 0 0]                #testing if alpha(1) = alpha(2)\n",
    "a_diff  = (R*vec(theta))[]\n",
    "tstatLS = a_diff/sqrt((R*CovLS*R')[])\n",
    "tstatDK = a_diff/sqrt((R*CovDK*R')[])\n",
    "\n",
    "xx = [a_diff*252;tstatLS;tstatDK]\n",
    "printmat(xx,rowNames=[\"α1-α2\",\"t-stat (LS)\",\"t-stat (DK)\"])\n",
    "\n",
    "printred(\"\\nCompare with calendar time regressions. Also notice the difference (any?) between the two t-stats\")"
   ]
  },
  {
   "cell_type": "code",
   "execution_count": null,
   "metadata": {},
   "outputs": [],
   "source": []
  }
 ],
 "metadata": {
  "@webio": {
   "lastCommId": null,
   "lastKernelId": null
  },
  "anaconda-cloud": {},
  "kernelspec": {
   "display_name": "Julia 1.6.0",
   "language": "julia",
   "name": "julia-1.6"
  },
  "language_info": {
   "file_extension": ".jl",
   "mimetype": "application/julia",
   "name": "julia",
   "version": "1.6.0"
  }
 },
 "nbformat": 4,
 "nbformat_minor": 1
}
