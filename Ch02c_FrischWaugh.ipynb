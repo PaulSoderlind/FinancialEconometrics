{
 "cells": [
  {
   "cell_type": "markdown",
   "metadata": {},
   "source": [
    "# OLS, The Frisch-Waugh Theorem\n",
    "\n",
    "This notebook illustrates the Frish-Waugh theorem.\n",
    "\n",
    "In particular, it shows the following. First, we regress\n",
    "\n",
    "$y = x_1'\\beta_1 + x_2'\\beta_2 + u$\n",
    "\n",
    "Second, we run three regressions\n",
    "\n",
    "1. $y = x_1'\\gamma_1 + e_y$\n",
    "\n",
    "2. $x_2 = x_1'\\delta + e_2$\n",
    "\n",
    "3. $e_y = e_2'\\theta + v$,\n",
    "where $(e_y,e_2)$ are from the regressions in 1. and 2.\n",
    "\n",
    "Then, the estimates of $\\beta_2$ and $\\theta$ will be the same (as will their standard errors). This is used in, for instance, fixed effects panel regressions (where $x_1$ are dummies indicating different cross-sectional units)."
   ]
  },
  {
   "cell_type": "markdown",
   "metadata": {},
   "source": [
    "## Load Packages and Extra Functions\n",
    "\n",
    "The `OlsGM()` function was used in ch. 2. It is from the (local) `FinEcmt_OLS` module."
   ]
  },
  {
   "cell_type": "code",
   "execution_count": 1,
   "metadata": {},
   "outputs": [],
   "source": [
    "MyModulePath = joinpath(pwd(),\"src\")\n",
    "!in(MyModulePath,LOAD_PATH) && push!(LOAD_PATH,MyModulePath);"
   ]
  },
  {
   "cell_type": "code",
   "execution_count": 2,
   "metadata": {},
   "outputs": [],
   "source": [
    "using FinEcmt_OLS, DelimitedFiles, LinearAlgebra"
   ]
  },
  {
   "cell_type": "markdown",
   "metadata": {},
   "source": [
    "## Loading Data"
   ]
  },
  {
   "cell_type": "code",
   "execution_count": 3,
   "metadata": {},
   "outputs": [
    {
     "data": {
      "text/plain": [
       "388"
      ]
     },
     "execution_count": 3,
     "metadata": {},
     "output_type": "execute_result"
    }
   ],
   "source": [
    "x  = readdlm(\"Data/FFmFactorsPs.csv\",',',skipstart=1)\n",
    "(Rme,SMB,HML,Rf) = (x[:,2],x[:,3],x[:,4],x[:,5])\n",
    "\n",
    "x  = readdlm(\"Data/FF25Ps.csv\",',') #no header line\n",
    "R  = x[:,2:end]                     #returns for 25 FF portfolios\n",
    "Re = R .- Rf                        #excess returns for the 25 FF portfolios\n",
    "\n",
    "T = size(Re,1)                      #number of observations"
   ]
  },
  {
   "cell_type": "code",
   "execution_count": 4,
   "metadata": {},
   "outputs": [],
   "source": [
    "y  = Re[:,6]                        #to the notation used in comment, use asset 6\n",
    "x₁ = [ones(T) Rme]                  #1st set of regressors (2)\n",
    "x₂ = [SMB HML];                     #2nd set of regressors"
   ]
  },
  {
   "cell_type": "markdown",
   "metadata": {},
   "source": [
    "## Regress y on Both x₁ and x₂"
   ]
  },
  {
   "cell_type": "code",
   "execution_count": 5,
   "metadata": {},
   "outputs": [
    {
     "name": "stdout",
     "output_type": "stream",
     "text": [
      "\u001b[34m\u001b[1mOLS Results from y regressed on x:\u001b[22m\u001b[39m\n",
      "\n",
      "                 b       std\n",
      "x₁ (c)      -0.337     0.121\n",
      "x₁ (Rme)     1.184     0.028\n",
      "x₂ (SMB)     0.916     0.040\n",
      "x₂ (HML)    -0.384     0.042\n",
      "\n"
     ]
    }
   ],
   "source": [
    "(b,_,_,V,) = OlsGM(y,[x₁ x₂])\n",
    "std_b = sqrt.(diag(V))\n",
    "\n",
    "printblue(\"OLS Results from y regressed on x:\\n\")\n",
    "rowNames=[\"x₁ (c)\",\"x₁ (Rme)\",\"x₂ (SMB)\",\"x₂ (HML)\"]\n",
    "printmat([b std_b];colNames=[\"b\",\"std\"],rowNames)"
   ]
  },
  {
   "cell_type": "markdown",
   "metadata": {},
   "source": [
    "## The Three Steps in Frisch-Waugh\n",
    "\n",
    "1. Regress `y` on `x₁`  and save the residuals as `e_y`. (Sorry, cannot create a symbol like $e_y$.)\n",
    "\n",
    "2. Regress `x₂` on `x₁` and save the residuals as `e₂`.\n",
    "\n",
    "3. Regress `e_y` on `e₂`."
   ]
  },
  {
   "cell_type": "code",
   "execution_count": 6,
   "metadata": {},
   "outputs": [
    {
     "name": "stdout",
     "output_type": "stream",
     "text": [
      "\u001b[34m\u001b[1mOLS Results from e_y regressed on e₂:\u001b[22m\u001b[39m\n",
      "\n",
      "                 b       std\n",
      "e₂ (SMB)     0.916     0.040\n",
      "e₂ (HML)    -0.384     0.042\n",
      "\n",
      "\u001b[31m\u001b[1mShould be same coeff and std as in multiple regression (above)\u001b[22m\u001b[39m\n"
     ]
    }
   ],
   "source": [
    "(_,e_y,) = OlsGM(y,x₁);              #step 1\n",
    "\n",
    "(_,e₂,) = OlsGM(x₂,x₁);              #step 2\n",
    "\n",
    "(b,_,_,V,) = OlsGM(e_y,e₂)           #step 3\n",
    "std_b = isa(V,Number) ? sqrt(V) : sqrt.(diag(V)) #diag() fails if V is a number (not a matrix)\n",
    "\n",
    "printblue(\"OLS Results from e_y regressed on e₂:\\n\")\n",
    "printmat([b std_b],colNames=[\"b\",\"std\"],rowNames=[\"e₂ (SMB)\",\"e₂ (HML)\"])\n",
    "printred(\"Should be same coeff and std as in multiple regression (above)\")"
   ]
  },
  {
   "cell_type": "markdown",
   "metadata": {},
   "source": [
    "## A Partial Frisch-Waugh Approach (extra)\n",
    "\n",
    "Regress `y` (not `e_y`) on `e₂`. This gives the same point estimate, but wrong standard error."
   ]
  },
  {
   "cell_type": "code",
   "execution_count": 7,
   "metadata": {},
   "outputs": [
    {
     "name": "stdout",
     "output_type": "stream",
     "text": [
      "\u001b[34m\u001b[1mOLS Results from y regressed on e₂:\u001b[22m\u001b[39m\n",
      "\n",
      "                 b       std\n",
      "e₂ (SMB)     0.916     0.120\n",
      "e₂ (HML)    -0.384     0.124\n",
      "\n",
      "\u001b[31m\u001b[1mShould be same coeff (but different std) as in multiple regression (above)\u001b[22m\u001b[39m\n"
     ]
    }
   ],
   "source": [
    "(b,_,_,V,) = OlsGM(y,e₂)             #step 3, adjusted\n",
    "std_b = isa(V,Number) ? sqrt(V) : sqrt.(diag(V)) #diag() fails if V is a number (not a matrix)\n",
    "\n",
    "printblue(\"OLS Results from y regressed on e₂:\\n\")\n",
    "printmat([b std_b],colNames=[\"b\",\"std\"],rowNames=[\"e₂ (SMB)\",\"e₂ (HML)\"])\n",
    "printred(\"Should be same coeff (but different std) as in multiple regression (above)\")"
   ]
  },
  {
   "cell_type": "code",
   "execution_count": null,
   "metadata": {},
   "outputs": [],
   "source": []
  }
 ],
 "metadata": {
  "@webio": {
   "lastCommId": null,
   "lastKernelId": null
  },
  "anaconda-cloud": {},
  "kernelspec": {
   "display_name": "Julia 1.11.3",
   "language": "julia",
   "name": "julia-1.11"
  },
  "language_info": {
   "file_extension": ".jl",
   "mimetype": "application/julia",
   "name": "julia",
   "version": "1.11.3"
  }
 },
 "nbformat": 4,
 "nbformat_minor": 4
}
