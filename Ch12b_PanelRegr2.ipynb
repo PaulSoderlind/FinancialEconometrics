{
 "cells": [
  {
   "cell_type": "markdown",
   "metadata": {},
   "source": [
    "# Panel Regressions (extra)\n",
    "\n",
    "This notebook uses functions (from several files included below) to redo some of the panel regressions from the first notebook on panels. The notebook is essentially an example of how to use the functions. (In contrast, the first notebook tries to explain the background to the various estimation approaches.)\n",
    "\n",
    "The functions can handle autocorrelation and cross-sectional clustering."
   ]
  },
  {
   "cell_type": "markdown",
   "metadata": {},
   "source": [
    "## Load Packages and Extra Functions"
   ]
  },
  {
   "cell_type": "code",
   "execution_count": 2,
   "metadata": {
    "tags": []
   },
   "outputs": [],
   "source": [
    "using Printf, DelimitedFiles, Statistics, LinearAlgebra\n",
    "\n",
    "include(\"jlFiles/printmat.jl\")\n",
    "include(\"jlFiles/PutDataInNT.jl\")\n",
    "include(\"jlFiles/excise.jl\")\n",
    "include(\"jlFiles/FixedEffects.jl\")\n",
    "include(\"jlFiles/PanelOls.jl\");"
   ]
  },
  {
   "cell_type": "markdown",
   "metadata": {},
   "source": [
    "## Loading Data"
   ]
  },
  {
   "cell_type": "code",
   "execution_count": 3,
   "metadata": {
    "tags": []
   },
   "outputs": [
    {
     "name": "stdout",
     "output_type": "stream",
     "text": [
      "(:id, :year, :lwage, :hours, :age, :educ, :collgrad, :msp, :nev_mar, :not_smsa, :c_city, :south, :black, :union, :exper, :exper2, :tenure, :tenure2)\n",
      "\n",
      "T=5 and N=716\n"
     ]
    }
   ],
   "source": [
    "(x,header) = readdlm(\"Data/nls_panelEd.txt\",header=true)    #classical data set from Hill et al (2008)\n",
    "\n",
    "X = PutDataInNT(x,header)                         #NamedTuple with X.id, X.lwage, etc\n",
    "println(keys(X))\n",
    "\n",
    "NT = size(x,1)\n",
    "c  = ones(NT)\n",
    "\n",
    "T = 5                 #number of time periods\n",
    "N = round(Int,NT/T)   #number of individuals\n",
    "\n",
    "id = X.id\n",
    "\n",
    "println(\"\\nT=$T and N=$N\")"
   ]
  },
  {
   "cell_type": "markdown",
   "metadata": {},
   "source": [
    "## Creating Variables for the Regressions\n",
    "\n",
    "The next cell creates a matrix $yx$ which has the dependent variable as the first column and the regressors as the remaining columns.\n",
    "\n",
    "We then print the first few observations of (some of) the data. Notice the structure: the first 5 observations are for individual (`id`) 1 (period 1-5), the next 5 for individual 2."
   ]
  },
  {
   "cell_type": "code",
   "execution_count": 4,
   "metadata": {
    "tags": []
   },
   "outputs": [
    {
     "name": "stdout",
     "output_type": "stream",
     "text": [
      "\u001b[34m\u001b[1mThe first few lines of (some of) the data:\u001b[22m\u001b[39m\n",
      "\n",
      "obs        id    lnwage         c exper/100\n",
      "1       1.000     1.808     1.000     0.077\n",
      "2       1.000     1.863     1.000     0.086\n",
      "3       1.000     1.789     1.000     0.102\n",
      "4       1.000     1.847     1.000     0.122\n",
      "5       1.000     1.856     1.000     0.136\n",
      "6       2.000     1.281     1.000     0.076\n",
      "7       2.000     1.516     1.000     0.084\n",
      "8       2.000     1.930     1.000     0.104\n",
      "9       2.000     1.919     1.000     0.120\n",
      "10      2.000     2.201     1.000     0.132\n",
      "11      3.000     1.815     1.000     0.114\n",
      "\n"
     ]
    },
    {
     "data": {
      "text/plain": [
       "716"
      ]
     },
     "execution_count": 4,
     "metadata": {},
     "output_type": "execute_result"
    }
   ],
   "source": [
    "xNames = [\"exper/100\",\"exper^2/100\",\"tenure/100\",\"tenure^2/100\",\"south\",\"union\"]\n",
    "yx     = [X.lwage c X.exper/100 X.exper2/100 X.tenure/100 X.tenure2/100 X.south X.union]\n",
    "K      = size(yx,2) - 1\n",
    "\n",
    "printblue(\"The first few lines of (some of) the data:\\n\")\n",
    "printmat(Any[id[1:11] yx[1:11,1:3]],colNames=[\"id\",\"lnwage\",\"c\",\"exper/100\"],rowNames=string.(1:11),cell00=\"obs\")\n",
    "\n",
    "id_uniq = unique(id)               #which id values are in data set\n",
    "N       = length(id_uniq)          #number of cross-sectional units"
   ]
  },
  {
   "cell_type": "markdown",
   "metadata": {},
   "source": [
    "## Reshuffling the Data\n",
    "\n",
    "to fit the convention in the `PanelOls()` function.\n",
    "\n",
    "We reshuffle the dependent variable into an $T\\times N$ matrix `Y` and the regressors into a $T \\times K \\times N$ array `X`. This allows the `PanelOls()` function to handle autocorrelation and cross-sectional clustering."
   ]
  },
  {
   "cell_type": "code",
   "execution_count": 5,
   "metadata": {
    "tags": []
   },
   "outputs": [
    {
     "name": "stdout",
     "output_type": "stream",
     "text": [
      "The Y matrix is now TxN, while X is TxKxN\n"
     ]
    },
    {
     "data": {
      "text/plain": [
       "5×716 Matrix{Float64}:\n",
       " 1.80829  1.28093  1.81482  2.31254  …  1.53039  1.52823  1.46094  1.60944\n",
       " 1.86342  1.51585  1.91991  2.34858     1.59881  2.4065   1.49669  1.45944\n",
       " 1.78937  1.93017  1.95838  2.37349     1.60405  2.55886  1.55984  1.42712\n",
       " 1.84653  1.91903  2.00707  2.3689      1.26794  2.64418  1.6536   1.49437\n",
       " 1.85645  2.20097  2.08985  2.35053     1.55823  2.58664  1.61586  1.34142"
      ]
     },
     "metadata": {},
     "output_type": "display_data"
    }
   ],
   "source": [
    "Y = fill(NaN,T,N)               #reshuffling the data\n",
    "X = fill(NaN,T,K,N)\n",
    "\n",
    "for i = 1:N\n",
    "    vv_i     = id .== id_uniq[i]   #rows in yx which refer to individual i\n",
    "    Y[:,i]   = yx[vv_i,1]\n",
    "    X[:,:,i] = yx[vv_i,2:end]\n",
    "end\n",
    "\n",
    "println(\"The Y matrix is now TxN, while X is TxKxN\")\n",
    "display(Y)"
   ]
  },
  {
   "cell_type": "markdown",
   "metadata": {},
   "source": [
    "We next call a function `FixedEffects()` to remove individual (and/or time) fixed effects. This does basically the same as in the earlier `yxStar` loops, but the whole calculation is (for convenience) done inside a function."
   ]
  },
  {
   "cell_type": "code",
   "execution_count": 6,
   "metadata": {
    "tags": []
   },
   "outputs": [
    {
     "name": "stdout",
     "output_type": "stream",
     "text": [
      "\n"
     ]
    }
   ],
   "source": [
    "(Ystar,Xstar) = FixedEffects(Y,X,:id)         #:id for individual fixed effects. :t for time fixed effects\n",
    "Xstar[:,1,:] .= 1                             #put back a non-zero intercept\n",
    "println()"
   ]
  },
  {
   "cell_type": "markdown",
   "metadata": {},
   "source": [
    "Finally, we call the `PanelOls()` function. The output is a named tuple. Use `keys(fO)` to see the entries."
   ]
  },
  {
   "cell_type": "code",
   "execution_count": 7,
   "metadata": {
    "tags": []
   },
   "outputs": [
    {
     "name": "stdout",
     "output_type": "stream",
     "text": [
      "\u001b[34m\u001b[1mresults from PanelOls()\u001b[22m\u001b[39m\n",
      "                  coef    t-stat\n",
      "c               -0.000    -0.000\n",
      "exper/100        4.108     6.616\n",
      "exper^2/100     -0.041    -1.640\n",
      "tenure/100       1.391     4.445\n",
      "tenure^2/100    -0.090    -4.624\n",
      "south           -0.016    -0.411\n",
      "union            0.064     4.675\n",
      "\n",
      "\u001b[31m\u001b[1mCompare with the FE estimates above. The t-stats might differ because of lack of small-sample adjustment.\u001b[22m\u001b[39m\n"
     ]
    }
   ],
   "source": [
    "fO = PanelOls(Ystar,Xstar)\n",
    "\n",
    "θ      = fO.theta\n",
    "StdErr = sqrt.(diag(fO.CovW))\n",
    "tstat  = θ./StdErr\n",
    "\n",
    "printblue(\"results from PanelOls()\")\n",
    "printmat(θ,tstat,colNames=[\"coef\",\"t-stat\"],rowNames=[\"c\";xNames])\n",
    "\n",
    "printred(\"Compare with the FE estimates above. The t-stats might differ because of lack of small-sample adjustment.\")"
   ]
  },
  {
   "cell_type": "markdown",
   "metadata": {},
   "source": [
    "## Clustered Standard Errors\n",
    "\n",
    "We now redo the estimation but provide information on clustering for the standard errors. For simplicity, the clusters are defined as the value of the `South` dummy in $t=1$."
   ]
  },
  {
   "cell_type": "code",
   "execution_count": 8,
   "metadata": {
    "tags": []
   },
   "outputs": [
    {
     "name": "stdout",
     "output_type": "stream",
     "text": [
      "\u001b[34m\u001b[1mresults from PanelOls()\u001b[22m\u001b[39m\n",
      "                       coef   t-stat White   t-stat Clust\n",
      "c                    -0.000         -0.000         -0.000\n",
      "exper/100             4.108          6.616          5.586\n",
      "exper^2/100          -0.041         -1.640         -2.027\n",
      "tenure/100            1.391          4.445          3.829\n",
      "tenure^2/100         -0.090         -4.624         -4.880\n",
      "south                -0.016         -0.411         -0.467\n",
      "union                 0.064          4.675          3.631\n",
      "\n"
     ]
    }
   ],
   "source": [
    "clust = convert.(Int,X[1,6,:])       #define clusters based on South/North in t=1\n",
    "\n",
    "fO = PanelOls(Ystar,Xstar,0,clust)   #0 autocorrelations, but clustering\n",
    "\n",
    "θ      = fO.theta\n",
    "StdErrW = sqrt.(diag(fO.CovW))       #White's std\n",
    "StdErrC = sqrt.(diag(fO.CovC))       #clustered std\n",
    "tstatW  = θ./StdErrW\n",
    "tstatC  = θ./StdErrC\n",
    "\n",
    "printblue(\"results from PanelOls()\")\n",
    "printmat(θ,tstatW,tstatC,colNames=[\"coef\",\"t-stat White\",\"t-stat Clust\"],rowNames=[\"c\";xNames],width=15)"
   ]
  },
  {
   "cell_type": "markdown",
   "metadata": {},
   "source": [
    "## Individual and Time Fixed Effects\n",
    "\n",
    "Redo the panel regression, but first we reconstruct `(Ystar,Xstar)` to handle both individual and time fixed effects: see the `:idt` in the function call."
   ]
  },
  {
   "cell_type": "code",
   "execution_count": 9,
   "metadata": {
    "tags": []
   },
   "outputs": [
    {
     "name": "stdout",
     "output_type": "stream",
     "text": [
      "\u001b[34m\u001b[1mresults from PanelOls()\u001b[22m\u001b[39m\n",
      "                  coef    t-stat\n",
      "c                0.000     0.000\n",
      "exper/100        6.713     4.654\n",
      "exper^2/100     -0.045    -1.762\n",
      "tenure/100       1.347     4.279\n",
      "tenure^2/100    -0.090    -4.641\n",
      "south           -0.014    -0.358\n",
      "union            0.065     4.801\n",
      "\n"
     ]
    }
   ],
   "source": [
    "(Ystar,Xstar) = FixedEffects(Y,X,:idt)\n",
    "Xstar[:,1,:] .= 1\n",
    "\n",
    "fO = PanelOls(Ystar,Xstar)\n",
    "\n",
    "θ      = fO.theta\n",
    "StdErr = sqrt.(diag(fO.CovW))\n",
    "tstat  = θ./StdErr\n",
    "\n",
    "printblue(\"results from PanelOls()\")\n",
    "printmat(θ,tstat,colNames=[\"coef\",\"t-stat\"],rowNames=[\"c\";xNames])"
   ]
  },
  {
   "cell_type": "code",
   "execution_count": null,
   "metadata": {},
   "outputs": [],
   "source": []
  }
 ],
 "metadata": {
  "@webio": {
   "lastCommId": null,
   "lastKernelId": null
  },
  "anaconda-cloud": {},
  "kernelspec": {
   "display_name": "Julia 1.8.5",
   "language": "julia",
   "name": "julia-1.8"
  },
  "language_info": {
   "file_extension": ".jl",
   "mimetype": "application/julia",
   "name": "julia",
   "version": "1.8.5"
  }
 },
 "nbformat": 4,
 "nbformat_minor": 4
}
