{
 "cells": [
  {
   "cell_type": "markdown",
   "metadata": {},
   "source": [
    "# Calendar Time Regressions vs. Panel Regressions\n",
    "\n",
    "This notebook illustrates how calendar time regressions (form portfolios based on characteristics and then estimate a system of regressions) are related to panel regressions. "
   ]
  },
  {
   "cell_type": "markdown",
   "metadata": {},
   "source": [
    "## Load Packages and Extra Functions"
   ]
  },
  {
   "cell_type": "code",
   "execution_count": 1,
   "metadata": {},
   "outputs": [
    {
     "data": {
      "text/plain": [
       "replaceNaNinYX!"
      ]
     },
     "execution_count": 1,
     "metadata": {},
     "output_type": "execute_result"
    }
   ],
   "source": [
    "using Printf, HDF5, Statistics, LinearAlgebra\n",
    "\n",
    "include(\"jlFiles/printmat.jl\")\n",
    "include(\"jlFiles/Ols.jl\")\n",
    "include(\"jlFiles/CovNWFn.jl\")\n",
    "include(\"jlFiles/OlsSureFn.jl\")\n",
    "include(\"jlFiles/excise.jl\")\n",
    "include(\"jlFiles/PanelOls.jl\")"
   ]
  },
  {
   "cell_type": "markdown",
   "metadata": {},
   "source": [
    "## Loading Data\n",
    "\n",
    "The data is in an HDF5 file. This is a very common data format in science. To load it, the [HDF5.jl](https://github.com/JuliaIO/HDF5.jl) package is used."
   ]
  },
  {
   "cell_type": "code",
   "execution_count": 2,
   "metadata": {},
   "outputs": [
    {
     "name": "stdout",
     "output_type": "stream",
     "text": [
      "T=2354 and N=2637\n"
     ]
    }
   ],
   "source": [
    "fh = h5open(\"Data/PPM.h5\",\"r\")   #open for reading\n",
    "  (ER,Factors,Investors) = read(fh,\"Data/ER\",\"Data/Factors\",\"Data/Investors\")\n",
    "close(fh)\n",
    "\n",
    "N_Changes = Investors[:,1]\n",
    "\n",
    "(T,N) = size(ER)\n",
    "D     = N_Changes .> 50                #logical dummies: [very active]\n",
    "D0    = .!D                            #inactive\n",
    "\n",
    "println(\"T=$(size(ER,1)) and N=$(size(ER,2))\")"
   ]
  },
  {
   "cell_type": "markdown",
   "metadata": {},
   "source": [
    "## Individual alphas"
   ]
  },
  {
   "cell_type": "markdown",
   "metadata": {},
   "source": [
    "The following code takes the matrix of individual daily\n",
    "excess return `ER` (a $T\\times N$ matrix) and runs one regression for each of the $N$ individuals on\n",
    "a three risk factors (in `Factors`, a $T\\times 3$ matrix) which includes excess returns on Swedish equity, Swedish bonds and international equity.\n",
    "\n",
    "The `D` vector ($N$ elements) is: `D[i] = false` if investor $i$ is classified as inactive (no/few portfolio changes, see above), and `D[i] = true` if active (many portfolio changes).\n",
    "\n",
    "The cell shows the average alphas for each of the two groups."
   ]
  },
  {
   "cell_type": "code",
   "execution_count": 3,
   "metadata": {},
   "outputs": [
    {
     "name": "stdout",
     "output_type": "stream",
     "text": [
      "\n",
      "\u001b[34m\u001b[1mAverage annualised alphas for each of the two groups:\u001b[22m\u001b[39m\n",
      "\n",
      "   Inactive    Active\n",
      "α    -0.787     6.217\n",
      "\n"
     ]
    }
   ],
   "source": [
    "alphaM = fill(NaN,N)                                #individual alphas\n",
    "for i = 1:N\n",
    "   #local b           #local/global is needed in script\n",
    "   b, = OlsNWFn(ER[:,i],[Factors ones(T)],0)\n",
    "   alphaM[i] = b[end]\n",
    "end\n",
    "\n",
    "printblue(\"\\nAverage annualised alphas for each of the two groups:\\n\")\n",
    "xx = [mean(alphaM[D0]) mean(alphaM[D])]*252\n",
    "colNames = [\"Inactive\",\"Active\"]\n",
    "printmat(xx,colNames=colNames,rowNames=[\"α\"])"
   ]
  },
  {
   "cell_type": "markdown",
   "metadata": {},
   "source": [
    "## Calendar Time Portfolios"
   ]
  },
  {
   "cell_type": "markdown",
   "metadata": {},
   "source": [
    "The following code creates two time series (with $T$ observations in each) of portfolio returns: one for inactive investors, the other for active investors. In both cases, the portfolios are equally weighted, so the return is the average return of those in the portfolio.\n",
    "\n",
    "Then, it calculates the average excess returns, the Sharpe ratios and finally the alphas.\n",
    "\n",
    "The alphas and betas are estimated with OLS, and we test the hypothesis that the two alphas are the same (using a SURE approach).\n",
    "\n",
    "### A Remark on the Code\n",
    "\n",
    "- The SURE approach is implemented in the function `OlsSureFn` (included in one of the first cells above)."
   ]
  },
  {
   "cell_type": "code",
   "execution_count": 4,
   "metadata": {},
   "outputs": [
    {
     "name": "stdout",
     "output_type": "stream",
     "text": [
      "\u001b[34m\u001b[1mgroup by group, annualised values:\u001b[22m\u001b[39m\n",
      "\n",
      "     Inactive    Active\n",
      "Avg    -1.262     5.534\n",
      "Std    15.728    13.882\n",
      "SR     -0.080     0.399\n",
      "α      -0.787     6.217\n",
      "\n"
     ]
    }
   ],
   "source": [
    "printblue(\"group by group, annualised values:\\n\")\n",
    "\n",
    "PortfER      = fill(NaN,(T,2))          #create portfolios as average across individuals\n",
    "PortfER[:,1] = mean(ER[:,D0],dims=2)    #Tx1, portfolio return = average individual return\n",
    "PortfER[:,2] = mean(ER[:,D],dims=2)\n",
    "\n",
    "\n",
    "Avg = mean(PortfER,dims=1)*252          #average excess return on portfolios, annualised\n",
    "Std = std(PortfER,dims=1)*sqrt(252)\n",
    "SR  = Avg./Std\n",
    "(b,res,yhat,Covb) = OlsSureFn(PortfER,[ones(T) Factors],true,0)\n",
    "\n",
    "xx = [Avg;Std;SR;b[1:1,:]*252]\n",
    "printmat(xx,colNames=colNames,rowNames=[\"Avg\",\"Std\",\"SR\",\"α\"])"
   ]
  },
  {
   "cell_type": "code",
   "execution_count": 5,
   "metadata": {},
   "outputs": [
    {
     "name": "stdout",
     "output_type": "stream",
     "text": [
      "\u001b[34m\u001b[1mdiff of annual alphas:\u001b[22m\u001b[39m\n",
      "\n",
      "α1-α2     -7.004\n",
      "t-stat    -2.784\n",
      "\n"
     ]
    }
   ],
   "source": [
    "R       = [1 0 0 0 -1 0 0 0]                       #testing if α₁ = α₂\n",
    "a_diff  = (R*vec(b))[]                             #[] to make it a scalar\n",
    "tstatLS = a_diff/sqrt((R*Covb*R')[])\n",
    "\n",
    "printblue(\"diff of annual alphas:\\n\")\n",
    "xx = [a_diff*252;tstatLS]\n",
    "printmat(xx,rowNames=[\"α1-α2\",\"t-stat\"])"
   ]
  },
  {
   "cell_type": "markdown",
   "metadata": {},
   "source": [
    "## Panel Regressions"
   ]
  },
  {
   "cell_type": "markdown",
   "metadata": {},
   "source": [
    "Finally, a panel ($T\\times N$) regression is done by simply stacking all data points---but by interacting the factors and constant with the activity dummies. The hypothesis of the same alphas is tested by both an OLS approach (assuming that all data is iid) and a Driscoll-Kraay approach (which accounts for cross-sectional correlations).\n",
    "\n",
    "The code for the panel regression is in the function `PanelOls()`. It does a straightforward LS regression and then estimates the covariance matrix in several different ways: traditional OLS, White, Driscoll-Kraay and optionally also clustered (the cluster/group membership can be supplied to the function). Also, autocorrelation can be accounted for by applying a Newey-West approach to the (White, DK, clustered) methods.\n",
    "\n",
    "In calling on `PanelOls()` we use the individual returns (`ER` which is $TxN$) as the dependent variables, a $TxKxN$ array containing the regressors (interactions of `[ones(T) Factors]` with the dummies in`[D0 D]`). This approach is somewhat wasteful with memory since the dummies are (here) time-invariant. However,`PanelOls()` is set up to handle also more general cases."
   ]
  },
  {
   "cell_type": "code",
   "execution_count": 6,
   "metadata": {},
   "outputs": [
    {
     "name": "stdout",
     "output_type": "stream",
     "text": [
      "search: \u001b[0m\u001b[1mP\u001b[22m\u001b[0m\u001b[1ma\u001b[22m\u001b[0m\u001b[1mn\u001b[22m\u001b[0m\u001b[1me\u001b[22m\u001b[0m\u001b[1ml\u001b[22m\u001b[0m\u001b[1mO\u001b[22m\u001b[0m\u001b[1ml\u001b[22m\u001b[0m\u001b[1ms\u001b[22m\n",
      "\n"
     ]
    },
    {
     "data": {
      "text/latex": [
       "\\begin{verbatim}\n",
       "PanelOls(y,x,m=0,clust=[],vvM=[])\n",
       "\\end{verbatim}\n",
       "Pooled OLS estimation.\n",
       "\n",
       "\\section{Input}\n",
       "\\begin{itemize}\n",
       "\\item \\texttt{y::Matrix}:          TxN matrix with the dependent variable, y(t,i) is for period t, individual i\n",
       "\n",
       "\n",
       "\\item \\texttt{x::3D Array}:        TxKxN matrix with K regressors\n",
       "\n",
       "\n",
       "\\item \\texttt{m::Int}:             (optional), scalar, number of lags in covariance estimation\n",
       "\n",
       "\n",
       "\\item \\texttt{clust::Vector\\{Int\\}}: (optional), N vector with cluster number for each individual, [ones(N)]\n",
       "\n",
       "\n",
       "\\item \\texttt{vvM::Matrix}:        (optional), TxN with true/false where false indicates NaN/missings in observation (t,i)\n",
       "\n",
       "\\end{itemize}\n",
       "\\section{Output}\n",
       "\\begin{itemize}\n",
       "\\item \\texttt{fnOutput::NamedTuple}:   named tuple with the following elements    [1] theta         (K\\emph{L)x1 vector, LS estimates of regression coeefficients on kron(z,x)    [2] CovDK         (K}L)x(K*L) matrix, Driscoll-Kraay covariance matrix    [3] CovC          covariance matrix, cluster    [4] CovW          covariance matrix, White's    [5] R2            scalar, (pseudo-) R2    [6] yhat          TxN matrix with fitted values    [7] Nb            T-vector, number of obs in each period\n",
       "\n",
       "\\end{itemize}\n",
       "\\section{Notice}\n",
       "\\begin{itemize}\n",
       "\\item for TxNxK -> TxKxN, do \\texttt{x = permutedims(z,[1,3,2])}\n",
       "\n",
       "\n",
       "\\item for an unbalanced panel, set row t of \\texttt{(y[t,i],x[t,:,i])} to zeros if there is a NaN/missing value in that row (see vvM)\n",
       "\n",
       "\\end{itemize}\n",
       "Paul.Soderlind@unisg.ch\n",
       "\n"
      ],
      "text/markdown": [
       "```\n",
       "PanelOls(y,x,m=0,clust=[],vvM=[])\n",
       "```\n",
       "\n",
       "Pooled OLS estimation.\n",
       "\n",
       "# Input\n",
       "\n",
       "  * `y::Matrix`:          TxN matrix with the dependent variable, y(t,i) is for period t, individual i\n",
       "  * `x::3D Array`:        TxKxN matrix with K regressors\n",
       "  * `m::Int`:             (optional), scalar, number of lags in covariance estimation\n",
       "  * `clust::Vector{Int}`: (optional), N vector with cluster number for each individual, [ones(N)]\n",
       "  * `vvM::Matrix`:        (optional), TxN with true/false where false indicates NaN/missings in observation (t,i)\n",
       "\n",
       "# Output\n",
       "\n",
       "  * `fnOutput::NamedTuple`:   named tuple with the following elements    [1] theta         (K*L)x1 vector, LS estimates of regression coeefficients on kron(z,x)    [2] CovDK         (K*L)x(K*L) matrix, Driscoll-Kraay covariance matrix    [3] CovC          covariance matrix, cluster    [4] CovW          covariance matrix, White's    [5] R2            scalar, (pseudo-) R2    [6] yhat          TxN matrix with fitted values    [7] Nb            T-vector, number of obs in each period\n",
       "\n",
       "# Notice\n",
       "\n",
       "  * for TxNxK -> TxKxN, do `x = permutedims(z,[1,3,2])`\n",
       "  * for an unbalanced panel, set row t of `(y[t,i],x[t,:,i])` to zeros if there is a NaN/missing value in that row (see vvM)\n",
       "\n",
       "Paul.Soderlind@unisg.ch\n"
      ],
      "text/plain": [
       "\u001b[36m  PanelOls(y,x,m=0,clust=[],vvM=[])\u001b[39m\n",
       "\n",
       "  Pooled OLS estimation.\n",
       "\n",
       "\u001b[1m  Input\u001b[22m\n",
       "\u001b[1m  ≡≡≡≡≡≡≡\u001b[22m\n",
       "\n",
       "    •  \u001b[36my::Matrix\u001b[39m: TxN matrix with the dependent variable, y(t,i) is for\n",
       "       period t, individual i\n",
       "\n",
       "    •  \u001b[36mx::3D Array\u001b[39m: TxKxN matrix with K regressors\n",
       "\n",
       "    •  \u001b[36mm::Int\u001b[39m: (optional), scalar, number of lags in covariance\n",
       "       estimation\n",
       "\n",
       "    •  \u001b[36mclust::Vector{Int}\u001b[39m: (optional), N vector with cluster number for\n",
       "       each individual, [ones(N)]\n",
       "\n",
       "    •  \u001b[36mvvM::Matrix\u001b[39m: (optional), TxN with true/false where false indicates\n",
       "       NaN/missings in observation (t,i)\n",
       "\n",
       "\u001b[1m  Output\u001b[22m\n",
       "\u001b[1m  ≡≡≡≡≡≡≡≡\u001b[22m\n",
       "\n",
       "    •  \u001b[36mfnOutput::NamedTuple\u001b[39m: named tuple with the following elements [1]\n",
       "       theta (K\u001b[4mL)x1 vector, LS estimates of regression coeefficients on\n",
       "       kron(z,x) [2] CovDK (K\u001b[24mL)x(K*L) matrix, Driscoll-Kraay covariance\n",
       "       matrix [3] CovC covariance matrix, cluster [4] CovW covariance\n",
       "       matrix, White's [5] R2 scalar, (pseudo-) R2 [6] yhat TxN matrix\n",
       "       with fitted values [7] Nb T-vector, number of obs in each period\n",
       "\n",
       "\u001b[1m  Notice\u001b[22m\n",
       "\u001b[1m  ≡≡≡≡≡≡≡≡\u001b[22m\n",
       "\n",
       "    •  for TxNxK -> TxKxN, do \u001b[36mx = permutedims(z,[1,3,2])\u001b[39m\n",
       "\n",
       "    •  for an unbalanced panel, set row t of \u001b[36m(y[t,i],x[t,:,i])\u001b[39m to zeros\n",
       "       if there is a NaN/missing value in that row (see vvM)\n",
       "\n",
       "  Paul.Soderlind@unisg.ch"
      ]
     },
     "execution_count": 6,
     "metadata": {},
     "output_type": "execute_result"
    }
   ],
   "source": [
    "?PanelOls"
   ]
  },
  {
   "cell_type": "code",
   "execution_count": 7,
   "metadata": {},
   "outputs": [
    {
     "name": "stdout",
     "output_type": "stream",
     "text": [
      "\u001b[34m\u001b[1mpanel regression:\u001b[22m\u001b[39m\n",
      "\n",
      "α1-α2          -7.004\n",
      "t-stat (LS)   -24.017\n",
      "t-stat (DK)    -2.784\n",
      "\n",
      "\n",
      "\u001b[31m\u001b[1mCompare with calendar time regressions. Also notice the difference (any?) between the two t-stats\u001b[22m\u001b[39m\n"
     ]
    }
   ],
   "source": [
    "printblue(\"panel regression:\\n\")\n",
    "\n",
    "x  = [ones(T) Factors]\n",
    "K1 = size(x,2)\n",
    "X = fill(NaN,T,2*K1,N)                  #create TxKxN array of regressors\n",
    "for i = 1:N\n",
    "    X[:,:,i] = hcat(x.*D0[i],x.*D[i])\n",
    "end\n",
    "\n",
    "fnO = PanelOls(ER,X)                        #panel regression\n",
    "\n",
    "R       = [1 0 0 0 -1 0 0 0]                #testing if α₁ = α₂\n",
    "a_diff  = (R*vec(fnO.theta))[]\n",
    "\n",
    "tstatLS = a_diff/sqrt((R*fnO.CovLS*R')[])\n",
    "tstatDK = a_diff/sqrt((R*fnO.CovDK*R')[])\n",
    "\n",
    "xx = [a_diff*252;tstatLS;tstatDK]\n",
    "printmat(xx,rowNames=[\"α1-α2\",\"t-stat (LS)\",\"t-stat (DK)\"])\n",
    "\n",
    "printred(\"\\nCompare with calendar time regressions. Also notice the difference (any?) between the two t-stats\")"
   ]
  },
  {
   "cell_type": "markdown",
   "metadata": {},
   "source": [
    "# Unbalanced Panels (extra)\n",
    "\n",
    "The `PanelOls()` is coded in such a way that an unbalanced panel (NaNs/missings in `(y,x)`) can be handled by zeroing out all of (`y[t,i],x[t,:,i]`) if there is a NaN/missing value there. \n",
    "\n",
    "To do that, the `replaceNaNinYX!()` function is useful. The next cell illustrates how it works. *Warning*: the function overwrites the inputs (as indicated by the `!` in the name, following Julia conventions)."
   ]
  },
  {
   "cell_type": "code",
   "execution_count": 8,
   "metadata": {},
   "outputs": [
    {
     "name": "stdout",
     "output_type": "stream",
     "text": [
      "\u001b[34m\u001b[1mafter 'zeroing out' observations with NaNs\u001b[22m\u001b[39m\n",
      "     0.000    11.000\n",
      "     2.000    12.000\n",
      "     3.000    13.000\n",
      "\n",
      "x[:,:,1] \n",
      "     0.000     0.000     0.000\n",
      "     1.000    -0.728     0.890\n",
      "     1.000    -0.928     0.655\n",
      "\n",
      "x[:,:,2]\n",
      "     1.000     0.320     0.320\n",
      "     1.000     0.648    -0.836\n",
      "     1.000    -0.312    -0.397\n",
      "\n",
      "\u001b[31m\u001b[1mNotice that (y[1,1],x[1,:,1]) are filled with zeros - and that the old (y,x) are OVERWRITTEN\u001b[22m\u001b[39m\n"
     ]
    }
   ],
   "source": [
    "y   = [NaN 11;2 12;3 13]                     #y has a NaN for t=1, i = 1\n",
    "x   = hcat(ones(3,1,2),randn(3,2,2))\n",
    "vvM = replaceNaNinYX!(y,x)\n",
    "\n",
    "printblue(\"after 'zeroing out' observations with NaNs\")\n",
    "printmat(y)\n",
    "println(\"x[:,:,1] \")\n",
    "printmat(x[:,:,1])\n",
    "println(\"x[:,:,2]\")\n",
    "printmat(x[:,:,2])\n",
    "\n",
    "printred(\"Notice that (y[1,1],x[1,:,1]) are filled with zeros - and that the old (y,x) are OVERWRITTEN\")"
   ]
  },
  {
   "cell_type": "code",
   "execution_count": 9,
   "metadata": {},
   "outputs": [
    {
     "data": {
      "text/plain": [
       "(theta = [NaN; NaN; … ; NaN; NaN;;], CovDK = [NaN NaN … NaN NaN; NaN NaN … NaN NaN; … ; NaN NaN … NaN NaN; NaN NaN … NaN NaN], CovC = [NaN NaN … NaN NaN; NaN NaN … NaN NaN; … ; NaN NaN … NaN NaN; NaN NaN … NaN NaN], CovW = [NaN NaN … NaN NaN; NaN NaN … NaN NaN; … ; NaN NaN … NaN NaN; NaN NaN … NaN NaN], CovLS = [NaN NaN … NaN NaN; NaN NaN … NaN NaN; … ; NaN NaN … NaN NaN; NaN NaN … NaN NaN], R2 = NaN, yhat = [NaN NaN … NaN NaN; NaN NaN … NaN NaN; … ; NaN NaN … NaN NaN; NaN NaN … NaN NaN], Nobs = [2637; 2637; … ; 2637; 2637;;])"
      ]
     },
     "execution_count": 9,
     "metadata": {},
     "output_type": "execute_result"
    }
   ],
   "source": [
    "ER[1]  = NaN                 #let's introduce some NaNs in the data\n",
    "X[end] = NaN\n",
    "\n",
    "fnO = PanelOls(ER,X)           #will just give NaN as results"
   ]
  },
  {
   "cell_type": "code",
   "execution_count": 10,
   "metadata": {},
   "outputs": [
    {
     "name": "stdout",
     "output_type": "stream",
     "text": [
      "α₁-α₂          -7.005\n",
      "t-stat (DK)    -2.784\n",
      "\n"
     ]
    }
   ],
   "source": [
    "#ER_original = copy(ER)                #uncomment if you want to keep the original data\n",
    "#X_original  = copy(X)                 \n",
    "vvM = replaceNaNinYX!(ER,X)            #to save space, (ER,X) are overwritten\n",
    "\n",
    "fnO     = PanelOls(ER,X,0,[],vvM)\n",
    "a_diff  = (R*vec(fnO.theta))[]\n",
    "tstatDK = a_diff/sqrt((R*fnO.CovDK*R')[])\n",
    "\n",
    "xx = [a_diff*252;tstatDK]\n",
    "printmat(xx,rowNames=[\"α₁-α₂\",\"t-stat (DK)\"])"
   ]
  },
  {
   "cell_type": "code",
   "execution_count": null,
   "metadata": {},
   "outputs": [],
   "source": []
  }
 ],
 "metadata": {
  "@webio": {
   "lastCommId": null,
   "lastKernelId": null
  },
  "anaconda-cloud": {},
  "kernelspec": {
   "display_name": "Julia 1.7.3",
   "language": "julia",
   "name": "julia-1.7"
  },
  "language_info": {
   "file_extension": ".jl",
   "mimetype": "application/julia",
   "name": "julia",
   "version": "1.7.3"
  }
 },
 "nbformat": 4,
 "nbformat_minor": 4
}
