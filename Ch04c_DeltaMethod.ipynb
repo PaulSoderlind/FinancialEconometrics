{
 "cells": [
  {
   "cell_type": "markdown",
   "metadata": {},
   "source": [
    "# The Delta Method"
   ]
  },
  {
   "cell_type": "markdown",
   "metadata": {},
   "source": [
    "## Load Packages and Extra Functions\n",
    "\n",
    "The notebook first implements the delta method step-by-step. At the end it also presents a the function `DeltaMethod()` from the (local) `FinEcmt_OLS` module that wraps those calculations."
   ]
  },
  {
   "cell_type": "code",
   "execution_count": 1,
   "metadata": {},
   "outputs": [],
   "source": [
    "MyModulePath = joinpath(pwd(),\"jlFiles\")\n",
    "!in(MyModulePath,LOAD_PATH) && push!(LOAD_PATH,MyModulePath);"
   ]
  },
  {
   "cell_type": "code",
   "execution_count": 2,
   "metadata": {},
   "outputs": [],
   "source": [
    "using FinEcmt_OLS, DelimitedFiles, Statistics"
   ]
  },
  {
   "cell_type": "markdown",
   "metadata": {},
   "source": [
    "## Load Data"
   ]
  },
  {
   "cell_type": "code",
   "execution_count": 3,
   "metadata": {},
   "outputs": [
    {
     "data": {
      "text/plain": [
       "388"
      ]
     },
     "execution_count": 3,
     "metadata": {},
     "output_type": "execute_result"
    }
   ],
   "source": [
    "x  = readdlm(\"Data/FFmFactorsPs.csv\",',',skipstart=1)\n",
    "x  = x[:,2]              #x is an excess return in % (on the US equity market)\n",
    "T  = size(x,1)"
   ]
  },
  {
   "cell_type": "markdown",
   "metadata": {},
   "source": [
    "## Point Estimates of the Mean and Variance"
   ]
  },
  {
   "cell_type": "code",
   "execution_count": 4,
   "metadata": {},
   "outputs": [
    {
     "name": "stdout",
     "output_type": "stream",
     "text": [
      "\u001b[34m\u001b[1mmean and variance:\u001b[22m\u001b[39m\n",
      "μ      0.602\n",
      "σ²    21.142\n",
      "\n"
     ]
    }
   ],
   "source": [
    "μ   = mean(x)                  #estimates of the mean and variance\n",
    "σ²  = var(x,corrected=false)\n",
    "\n",
    "printblue(\"mean and variance:\")\n",
    "momNames = [\"μ\",\"σ²\"]\n",
    "printmat([μ,σ²];rowNames=momNames)"
   ]
  },
  {
   "cell_type": "markdown",
   "metadata": {},
   "source": [
    "The variance-covariance matrix (called $V$) of the point estimates depends on the distribution of the data. With a normal distribution, the form is particularly simple. We use that approximation in the next cell. Another approach is to estimate $V$ from the moment conditions (see GMM)."
   ]
  },
  {
   "cell_type": "code",
   "execution_count": 5,
   "metadata": {},
   "outputs": [
    {
     "name": "stdout",
     "output_type": "stream",
     "text": [
      "           μ        σ²\n",
      "μ      0.054     0.000\n",
      "σ²     0.000     2.304\n",
      "\n"
     ]
    }
   ],
   "source": [
    "V = [σ² 0;                 #variance-covariance matrix of the estimates of [μ,σ²]\n",
    "     0  2*abs2(σ²)]/T\n",
    "\n",
    "printmat(V;rowNames=momNames,colNames=momNames)"
   ]
  },
  {
   "cell_type": "markdown",
   "metadata": {},
   "source": [
    "## The Sharpe Ratio and Its Derivatives\n",
    "\n",
    "The Sharpe ratio and its derivatives (with respect to the parameters of the\n",
    "Sharpe ratio) are\n",
    "\n",
    "$\n",
    "SR  =\\frac{\\mu}{\\sigma},\\: \\text{where}\\: \\beta=(\\mu,\\sigma^2)\n",
    "$\n",
    "\n",
    "Let $f(\\beta)$ denote the Sharpe ratio where $\\beta$ is a vector of parameters \n",
    "consisting of the mean and the variance ($\\mu,\\sigma^2$). The derivatives are then\n",
    "\n",
    "$\n",
    "\\frac{\\partial f(\\beta)}{\\partial\\beta^{\\prime}}  \n",
    "= \\begin{bmatrix}\n",
    "\\frac{1}{\\sigma} & \\frac{-\\mu}{2 \\sigma^3}\n",
    "\\end{bmatrix}\n",
    "$\n",
    "\n",
    "We will refer to the matrix of derivatives as $P$."
   ]
  },
  {
   "cell_type": "code",
   "execution_count": 6,
   "metadata": {},
   "outputs": [
    {
     "data": {
      "text/plain": [
       "SRFn"
      ]
     },
     "execution_count": 6,
     "metadata": {},
     "output_type": "execute_result"
    }
   ],
   "source": [
    "\"\"\"\n",
    "    SRFn(μ,σ²)\n",
    "\n",
    "Calculate the Sharpe ratio from the mean μ and variance σ²\n",
    "\n",
    "\"\"\"\n",
    "function SRFn(μ,σ²)\n",
    "  σ  = sqrt(σ²)\n",
    "  SR = μ/σ\n",
    "  P = hcat(1/σ, -μ/(2*σ^3))     #Jacobian of SR, 1x2\n",
    "  return SR, P\n",
    "end"
   ]
  },
  {
   "cell_type": "code",
   "execution_count": 7,
   "metadata": {},
   "outputs": [
    {
     "name": "stdout",
     "output_type": "stream",
     "text": [
      "Sharpe ratio:      0.131\n",
      "\n",
      "\u001b[34m\u001b[1mDerivatives of Sharpe ratio function wrt:\u001b[22m\u001b[39m\n",
      "         μ        σ²\n",
      "     0.217    -0.003\n",
      "\n"
     ]
    }
   ],
   "source": [
    "(SR,P) = SRFn(μ,σ²)\n",
    "\n",
    "printlnPs(\"Sharpe ratio: \",SR)\n",
    "\n",
    "printblue(\"\\nDerivatives of Sharpe ratio function wrt:\")\n",
    "printmat(P,colNames=momNames)"
   ]
  },
  {
   "cell_type": "markdown",
   "metadata": {},
   "source": [
    "## Applying the Delta Method\n",
    "\n",
    "\n",
    "Recall that if\n",
    "\n",
    "$\n",
    "\\hat{\\beta} \\sim N(\\beta_{0},V),\n",
    "$\n",
    "\n",
    "then the distribution of the function $f(\\hat{\\beta})$ is asymptotically\n",
    "\n",
    "$\n",
    "f(\\hat{\\beta}) \\sim N(f(\\beta_{0}),PVP')  \n",
    "$\n",
    "\n",
    "where $P$ are the derivatives of $f(\\beta)$."
   ]
  },
  {
   "cell_type": "code",
   "execution_count": 8,
   "metadata": {},
   "outputs": [
    {
     "name": "stdout",
     "output_type": "stream",
     "text": [
      "\u001b[34m\u001b[1mResults from the delta method:\u001b[22m\u001b[39m\n",
      "        SR   Std(SR)    t-stat\n",
      "     0.131     0.051     2.567\n",
      "\n"
     ]
    }
   ],
   "source": [
    "Std_SR = sqrt(only(P*V*P'))  #only() to convert from 1x1 matrix to scalar\n",
    "tstat = SR/Std_SR\n",
    "\n",
    "printblue(\"Results from the delta method:\")\n",
    "printmat([SR Std_SR tstat],colNames=[\"SR\",\"Std(SR)\",\"t-stat\"])"
   ]
  },
  {
   "cell_type": "markdown",
   "metadata": {},
   "source": [
    "## A Function for the Delta Method (extra)\n",
    "\n",
    "is included below. It uses numerical derivatives from the `FiniteDiff.jl` package. \n",
    "\n",
    "To use this, first write a function that takes `(β,x)` as inputs (see `SRFn2(β,x)` below), where `β` is a vector of the parameters and `x` any data needed (for the Sharpe ratio, no data is needed). "
   ]
  },
  {
   "cell_type": "code",
   "execution_count": 9,
   "metadata": {},
   "outputs": [
    {
     "data": {
      "text/markdown": [
       "```\n",
       "DeltaMethod(fn::Function,β,V,x=NaN)\n",
       "```\n",
       "\n",
       "Apply the delta method on the function `fn(β,x)`\n",
       "\n",
       "# Input\n",
       "\n",
       "  * `fn::Function`:     of the type fn(β,x)\n",
       "  * `β::Vector`:        with parameters\n",
       "  * `V::Matrix`:        Cov(β)\n",
       "  * `x::VecOrMat`:      data (if any is needed)\n",
       "\n",
       "### Requires\n",
       "\n",
       "  * `using FiniteDiff: finite_difference_jacobian as jacobian`\n"
      ]
     },
     "metadata": {},
     "output_type": "display_data"
    }
   ],
   "source": [
    "display(\"text/markdown\",@doc DeltaMethod)"
   ]
  },
  {
   "cell_type": "code",
   "execution_count": 10,
   "metadata": {},
   "outputs": [
    {
     "name": "stdout",
     "output_type": "stream",
     "text": [
      "function DeltaMethod(fn::Function,β,V,x=NaN)\n",
      "    P = jacobian(b->fn(b,x),β)        #numerical Jacobian\n",
      "    Cov_fn = P*V*P'\n",
      "    return Cov_fn\n",
      "end\n"
     ]
    }
   ],
   "source": [
    "using CodeTracking\n",
    "println(@code_string  DeltaMethod(cos,[1],[1]))"
   ]
  },
  {
   "cell_type": "code",
   "execution_count": 11,
   "metadata": {},
   "outputs": [],
   "source": [
    "\"\"\"\n",
    "    SRFn2(β,x)\n",
    "\n",
    "Function for Sharpe ratio in terms of the vector β. No derivatives\n",
    "\"\"\"\n",
    "function SRFn2(β,x=NaN)\n",
    "  (μ,σ²) = β\n",
    "  σ  = sqrt(σ²)\n",
    "  SR = μ/σ\n",
    "  return SR\n",
    "end;"
   ]
  },
  {
   "cell_type": "code",
   "execution_count": 12,
   "metadata": {},
   "outputs": [
    {
     "name": "stdout",
     "output_type": "stream",
     "text": [
      "\u001b[34m\u001b[1mStd of SR from DeltaMethod():\u001b[22m\u001b[39m\n",
      "     0.051\n",
      "\n"
     ]
    }
   ],
   "source": [
    "Var_SR = DeltaMethod(SRFn2,[μ,σ²],V)\n",
    "\n",
    "printblue(\"Std of SR from DeltaMethod():\")\n",
    "printmat(sqrt(only(Var_SR)))"
   ]
  },
  {
   "cell_type": "code",
   "execution_count": null,
   "metadata": {},
   "outputs": [],
   "source": []
  }
 ],
 "metadata": {
  "@webio": {
   "lastCommId": null,
   "lastKernelId": null
  },
  "anaconda-cloud": {},
  "kernelspec": {
   "display_name": "Julia 1.10.0",
   "language": "julia",
   "name": "julia-1.10"
  },
  "language_info": {
   "file_extension": ".jl",
   "mimetype": "application/julia",
   "name": "julia",
   "version": "1.10.0"
  }
 },
 "nbformat": 4,
 "nbformat_minor": 4
}
