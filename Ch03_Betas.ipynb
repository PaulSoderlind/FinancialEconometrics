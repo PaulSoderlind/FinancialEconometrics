{
 "cells": [
  {
   "cell_type": "markdown",
   "metadata": {},
   "source": [
    "# Betas\n",
    "\n",
    "This notebook estimates (single and multi-) index models."
   ]
  },
  {
   "cell_type": "markdown",
   "metadata": {},
   "source": [
    "## Load Packages and Extra Functions"
   ]
  },
  {
   "cell_type": "code",
   "execution_count": 1,
   "metadata": {},
   "outputs": [],
   "source": [
    "MyModulePath = joinpath(pwd(),\"src\")     #add /src to module path\n",
    "!in(MyModulePath,LOAD_PATH) && push!(LOAD_PATH,MyModulePath)\n",
    "using FinEcmt_OLS"
   ]
  },
  {
   "cell_type": "code",
   "execution_count": 2,
   "metadata": {},
   "outputs": [],
   "source": [
    "#=\n",
    "include(joinpath(pwd(),\"src\",\"FinEcmt_OLS.jl\"))\n",
    "using .FinEcmt_OLS\n",
    "=#"
   ]
  },
  {
   "cell_type": "code",
   "execution_count": 3,
   "metadata": {},
   "outputs": [],
   "source": [
    "using DelimitedFiles, LinearAlgebra"
   ]
  },
  {
   "cell_type": "markdown",
   "metadata": {},
   "source": [
    "## Loading Data\n",
    "\n",
    "We load data from two data files: for the returns on Fama-French equity factors and then also for the 25 Fama-French portfolios. To keep the output simple (easy to display...), we use only 5 of those portfolios."
   ]
  },
  {
   "cell_type": "code",
   "execution_count": 4,
   "metadata": {
    "tags": []
   },
   "outputs": [
    {
     "data": {
      "text/plain": [
       "(388, 5)"
      ]
     },
     "execution_count": 4,
     "metadata": {},
     "output_type": "execute_result"
    }
   ],
   "source": [
    "x    = readdlm(\"Data/FFmFactorsPs.csv\",',',skipstart=1)\n",
    "Rme  = x[:,2]                #market excess return\n",
    "RSMB = x[:,3]                #small minus big firms\n",
    "RHML = x[:,4]                #high minus low book-to-market ratio\n",
    "Rf   = x[:,5]                #interest rate\n",
    "\n",
    "x  = readdlm(\"Data/FF25Ps.csv\",',') #no header line: x is matrix\n",
    "R  = x[:,2:end]                     #returns for 25 FF portfolios\n",
    "Re = R .- Rf                        #excess returns for the 25 FF portfolios\n",
    "Re = Re[:,[1,7,13,19,25]]           #use just 5 assets to make the printing easier\n",
    "\n",
    "(T,n) = size(Re)                    #no. obs and  no. test assets"
   ]
  },
  {
   "attachments": {},
   "cell_type": "markdown",
   "metadata": {},
   "source": [
    "# Estimating a Single-Index Model\n",
    "\n",
    "for `n` returns, by looping. (As an alternative, `OlsSure()` can do all regressions in one call.)"
   ]
  },
  {
   "cell_type": "code",
   "execution_count": 5,
   "metadata": {},
   "outputs": [
    {
     "name": "stdout",
     "output_type": "stream",
     "text": [
      "\u001b[34m\u001b[1mcoeffs for 5 assets, from OLS of Re on constant and Rme:\u001b[22m\u001b[39m\n",
      "           asset 1   asset 2   asset 3   asset 4   asset 5\n",
      "α           -0.504     0.153     0.305     0.279     0.336\n",
      "β on Rme     1.341     1.169     0.994     0.943     0.849\n",
      "\n",
      "\u001b[34m\u001b[1mt-stats for 5 assets, from OLS of Re on constant and Rme:\u001b[22m\u001b[39m\n",
      "           asset 1   asset 2   asset 3   asset 4   asset 5\n",
      "α           -1.656     1.031     2.471     2.163     2.073\n",
      "β on Rme    20.427    36.534    37.298    33.848    24.279\n",
      "\n"
     ]
    }
   ],
   "source": [
    "x = [ones(T) Rme]                   #regressors\n",
    "K = size(x,2)                       #no. regressors      \n",
    "\n",
    "(β,tstat) = (fill(NaN,K,n),fill(NaN,K,n))    #to fill with results \n",
    "for i in 1:n\n",
    "    (b,_,_,V,) = OlsGM(Re[:,i],x)\n",
    "    β[:,i]     = b\n",
    "    stdErr     = sqrt.(diag(V))\n",
    "    tstat[:,i] = b./stdErr\n",
    "end    \n",
    "\n",
    "colNames = [string(\"asset \",i) for i=1:n]\n",
    "rowNames = [\"α\",\"β on Rme\"]\n",
    "\n",
    "printblue(\"coeffs for $n assets, from OLS of Re on constant and Rme:\")\n",
    "printmat(β;colNames,rowNames)\n",
    "printblue(\"t-stats for $n assets, from OLS of Re on constant and Rme:\")\n",
    "printmat(tstat;colNames,rowNames)"
   ]
  },
  {
   "cell_type": "markdown",
   "metadata": {},
   "source": [
    "# Estimating a Multi-Index Model\n",
    "\n",
    "A multi-index model is based on \n",
    "\n",
    "$R_{it} =a_{i}+b_{i}^{\\prime}I_{t}+\\varepsilon_{it}$,\n",
    "\n",
    "where $b_{i}$ is a $K$-vector of slope coefficients."
   ]
  },
  {
   "cell_type": "code",
   "execution_count": 6,
   "metadata": {},
   "outputs": [
    {
     "name": "stdout",
     "output_type": "stream",
     "text": [
      "\u001b[34m\u001b[1mcoeffs for 5 assets, from OLS of Re on constant and Rme:\u001b[22m\u001b[39m\n",
      "            asset 1   asset 2   asset 3   asset 4   asset 5\n",
      "α            -0.513    -0.006     0.030    -0.020    -0.015\n",
      "β on Rme      1.070     1.080     1.035     1.056     1.041\n",
      "β on RSMB     1.264     0.768     0.437     0.153    -0.088\n",
      "β on RHML    -0.278     0.160     0.487     0.603     0.770\n",
      "\n",
      "\u001b[34m\u001b[1mt-stats for 5 assets, from OLS of Re on constant and Rme:\u001b[22m\u001b[39m\n",
      "            asset 1   asset 2   asset 3   asset 4   asset 5\n",
      "α            -2.306    -0.066     0.328    -0.206    -0.133\n",
      "β on Rme     21.091    50.113    50.250    48.060    41.247\n",
      "β on RSMB    17.068    24.418    14.534     4.757    -2.380\n",
      "β on RHML    -3.629     4.928    15.665    18.186    20.227\n",
      "\n"
     ]
    }
   ],
   "source": [
    "x = [ones(T) Rme RSMB RHML]               #regressors\n",
    "K = size(x,2)                       #no. regressors      \n",
    "\n",
    "(β,tstat) = (fill(NaN,K,n),fill(NaN,K,n))    #to fill with results \n",
    "for i in 1:n\n",
    "    (b,_,_,V,) = OlsGM(Re[:,i],x)\n",
    "    β[:,i]     = b\n",
    "    stdErr     = sqrt.(diag(V))\n",
    "    tstat[:,i] = b./stdErr\n",
    "end    \n",
    "\n",
    "colNames = [string(\"asset \",i) for i=1:n]\n",
    "rowNames = [\"α\",\"β on Rme\", \"β on RSMB\", \"β on RHML\"]\n",
    "\n",
    "printblue(\"coeffs for $n assets, from OLS of Re on constant and Rme:\")\n",
    "printmat(β;colNames,rowNames)\n",
    "printblue(\"t-stats for $n assets, from OLS of Re on constant and Rme:\")\n",
    "printmat(tstat;colNames,rowNames)"
   ]
  },
  {
   "cell_type": "code",
   "execution_count": null,
   "metadata": {},
   "outputs": [],
   "source": []
  }
 ],
 "metadata": {
  "@webio": {
   "lastCommId": null,
   "lastKernelId": null
  },
  "anaconda-cloud": {},
  "kernelspec": {
   "display_name": "Julia 1.11.5",
   "language": "julia",
   "name": "julia-1.11"
  },
  "language_info": {
   "file_extension": ".jl",
   "mimetype": "application/julia",
   "name": "julia",
   "version": "1.11.5"
  }
 },
 "nbformat": 4,
 "nbformat_minor": 4
}
