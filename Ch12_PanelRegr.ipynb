{
 "cells": [
  {
   "cell_type": "markdown",
   "metadata": {},
   "source": [
    "# Panel Regressions\n",
    "\n",
    "This notebook uses functions \n",
    "The functions can handle autocorrelation and cross-sectional clustering."
   ]
  },
  {
   "cell_type": "markdown",
   "metadata": {},
   "source": [
    "## Load Packages and Extra Functions\n",
    "\n",
    "The key functions used in this notebook are from the (local) `FinEcmt_OLS` module."
   ]
  },
  {
   "cell_type": "code",
   "execution_count": 1,
   "metadata": {},
   "outputs": [],
   "source": [
    "MyModulePath = joinpath(pwd(),\"jlFiles\")\n",
    "!in(MyModulePath,LOAD_PATH) && push!(LOAD_PATH,MyModulePath);"
   ]
  },
  {
   "cell_type": "code",
   "execution_count": 2,
   "metadata": {
    "tags": []
   },
   "outputs": [],
   "source": [
    "using FinEcmt_OLS, DelimitedFiles, Statistics, LinearAlgebra"
   ]
  },
  {
   "cell_type": "markdown",
   "metadata": {},
   "source": [
    "# Loading Data and Reshuffling Data"
   ]
  },
  {
   "cell_type": "code",
   "execution_count": 3,
   "metadata": {
    "tags": []
   },
   "outputs": [
    {
     "name": "stdout",
     "output_type": "stream",
     "text": [
      "(:id, :year, :lwage, :hours, :age, :educ, :collgrad, :msp, :nev_mar, :not_smsa, :c_city, :south, :black, :union, :exper, :exper2, :tenure, :tenure2)\n",
      "\n",
      "T=5 and N=716\n"
     ]
    }
   ],
   "source": [
    "(data,header) = readdlm(\"Data/nls_panelEd.txt\",header=true)    #classical data set from Hill et al (2008)\n",
    "\n",
    "Z = PutDataInNT(data,header)                      #NamedTuple with Z.id, Z.lwage, etc\n",
    "println(keys(Z))\n",
    "\n",
    "id = convert.(Int,Z.id)                           #id of individuals: 1,2,...,N\n",
    "T = length(unique(Z.year))                        #number of time periods\n",
    "N = length(unique(id))                            #number of individuals\n",
    "NT = N*T\n",
    "c  = ones(NT)\n",
    "\n",
    "println(\"\\nT=$T and N=$N\")"
   ]
  },
  {
   "cell_type": "markdown",
   "metadata": {},
   "source": [
    "## Creating Variables for the Regressions\n",
    "\n",
    "The next cell creates a $NT$-vector $y$ and a $NT \\times K$ matrix $x$.\n",
    "\n",
    "We then print the first few observations of (some of) the data. Notice the structure: the first 5 observations are for individual (`id`) 1 (period 1-5), the next 5 for individual 2."
   ]
  },
  {
   "cell_type": "code",
   "execution_count": 4,
   "metadata": {
    "tags": []
   },
   "outputs": [
    {
     "name": "stdout",
     "output_type": "stream",
     "text": [
      "\u001b[34m\u001b[1mThe first few lines of (some of) the data:\u001b[22m\u001b[39m\n",
      "\n",
      "obs        id    lnwage         c exper/100\n",
      "1       1         1.808     1.000     0.077\n",
      "2       1         1.863     1.000     0.086\n",
      "3       1         1.789     1.000     0.102\n",
      "4       1         1.847     1.000     0.122\n",
      "5       1         1.856     1.000     0.136\n",
      "6       2         1.281     1.000     0.076\n",
      "7       2         1.516     1.000     0.084\n",
      "8       2         1.930     1.000     0.104\n",
      "9       2         1.919     1.000     0.120\n",
      "10      2         2.201     1.000     0.132\n",
      "11      3         1.815     1.000     0.114\n",
      "\n"
     ]
    }
   ],
   "source": [
    "y = Z.lwage\n",
    "xNames = [\"exper/100\",\"exper^2/100\",\"tenure/100\",\"tenure^2/100\",\"south\",\"union\"]\n",
    "x = [c Z.exper/100 Z.exper2/100 Z.tenure/100 Z.tenure2/100 Z.south Z.union]\n",
    "K = size(x,2)                  #number of regressors\n",
    "\n",
    "printblue(\"The first few lines of (some of) the data:\\n\")\n",
    "printmat(id[1:11],y[1:11],x[1:11,1:2];colNames=[\"id\",\"lnwage\",\"c\",\"exper/100\"],rowNames=string.(1:11),cell00=\"obs\")"
   ]
  },
  {
   "cell_type": "markdown",
   "metadata": {},
   "source": [
    "# Pooled OLS with `OlsNW()`\n",
    "\n",
    "The next cell does pooled OLS estimation and reports White's standard errors. It is straightforward to used the `IndividualDemean()` or the `FirstDiff()` functions from the local `FinEcmt_OLS` module to also do fixed effects and first difference estimations. \n",
    "\n",
    "However, the OLS code is somewhat cumbersome to extend to clustered standard errors and also for handling autocorrelation (since all data is stacked to observation 35 and 36 (say) may belong to different cross-sectional units. For that reason, we later introduce the `PanelOls()` function which can handle these complications."
   ]
  },
  {
   "cell_type": "code",
   "execution_count": 5,
   "metadata": {},
   "outputs": [
    {
     "name": "stdout",
     "output_type": "stream",
     "text": [
      "\u001b[34m\u001b[1mresults from Ols():\u001b[22m\u001b[39m\n",
      "\n",
      "                  coef    t-stat\n",
      "c                1.285    28.513\n",
      "exper/100        7.837     8.954\n",
      "exper^2/100     -0.201    -5.264\n",
      "tenure/100       1.206     2.346\n",
      "tenure^2/100    -0.024    -0.828\n",
      "south           -0.196   -13.247\n",
      "union            0.110     6.928\n",
      "\n"
     ]
    }
   ],
   "source": [
    "(b_LS,res,yhat,Covb,R2,) = OlsNW(y,x)            #pooled OLS\n",
    "tstat_LS = b_LS./sqrt.(diag(Covb))\n",
    "\n",
    "printblue(\"results from Ols():\\n\")\n",
    "printmat(b_LS,tstat_LS,colNames=[\"coef\",\"t-stat\"],rowNames=[\"c\";xNames])\n"
   ]
  },
  {
   "cell_type": "markdown",
   "metadata": {},
   "source": [
    "# Reshuffling the Data\n",
    "\n",
    "to fit the convention in the `PanelOls()` function which we use below.\n",
    "\n",
    "We use the `PanelyxReshuffle(y,x,id)` from the local `FinEcmt_OLS` module function to reshuffle the dependent variable into an $T\\times N$ matrix `Y` and the regressors into a $T \\times K \\times N$ array `X`. This allows the `PanelOls()` function to handle autocorrelation and cross-sectional clustering."
   ]
  },
  {
   "cell_type": "code",
   "execution_count": 6,
   "metadata": {},
   "outputs": [],
   "source": [
    "#@doc2 PanelyxReshuffle"
   ]
  },
  {
   "cell_type": "code",
   "execution_count": 7,
   "metadata": {},
   "outputs": [
    {
     "name": "stdout",
     "output_type": "stream",
     "text": [
      "The Y matrix is now TxN, while X is TxKxN\n"
     ]
    },
    {
     "data": {
      "text/plain": [
       "5×716 Matrix{Float64}:\n",
       " 1.80829  1.28093  1.81482  2.31254  …  1.53039  1.52823  1.46094  1.60944\n",
       " 1.86342  1.51585  1.91991  2.34858     1.59881  2.4065   1.49669  1.45944\n",
       " 1.78937  1.93017  1.95838  2.37349     1.60405  2.55886  1.55984  1.42712\n",
       " 1.84653  1.91903  2.00707  2.3689      1.26794  2.64418  1.6536   1.49437\n",
       " 1.85645  2.20097  2.08985  2.35053     1.55823  2.58664  1.61586  1.34142"
      ]
     },
     "metadata": {},
     "output_type": "display_data"
    }
   ],
   "source": [
    "(Y,X) = PanelyxReshuffle(y,x,id)\n",
    "\n",
    "println(\"The Y matrix is now TxN, while X is TxKxN\")\n",
    "display(Y)"
   ]
  },
  {
   "cell_type": "markdown",
   "metadata": {},
   "source": [
    "# Pooled Estimation with `PanelOls()`\n",
    "\n",
    "using the `PanelOls()` function from the (local) `FinEcmt_OLS` module. The output is a named tuple. Use `keys(fO)` to see the names of the entries. The function reports White's covariance matrix () which gives the same results as using a traditional OLS approach, but it can also report a covariance matrix that allows for clustering (see further below in the notebook)."
   ]
  },
  {
   "cell_type": "code",
   "execution_count": 8,
   "metadata": {},
   "outputs": [
    {
     "data": {
      "text/markdown": [
       "```\n",
       "PanelOls(y,x,m=0,clust=[],vvM=[])\n",
       "```\n",
       "\n",
       "Pooled OLS estimation.\n",
       "\n",
       "### Input\n",
       "\n",
       "  * `y::Matrix`:          TxN matrix with the dependent variable, `y[t,i]` is for period `t`, individual `i`\n",
       "  * `x::3D Array`:        TxKxN matrix with K regressors\n",
       "  * `m::Int`:             (optional), scalar, number of lags in covariance estimation\n",
       "  * `clust::Vector{Int}`: (optional), N vector with cluster number for each individual, [`ones(N)`]\n",
       "  * `vvM::Matrix`:        (optional), TxN with true/false where false indicates NaN/missings in observation `(t,i)`\n",
       "\n",
       "### Output\n",
       "\n",
       "  * `fnOutput::NamedTuple`:   named tuple with the following elements\n",
       "\n",
       "    1. `theta`         (K*L)x1 vector, LS estimates of regression coeefficients on kron(z,x)\n",
       "    2. `CovDK`         (K*L)x(K*L) matrix, Driscoll-Kraay covariance matrix\n",
       "    3. `CovC`          covariance matrix, cluster\n",
       "    4. `CovW`          covariance matrix, White's\n",
       "    5. `R2`            scalar, (pseudo-) R2\n",
       "    6. `yhat`          TxN matrix with fitted values\n",
       "    7. `Nb`            T-vector, number of obs in each period\n",
       "\n",
       "### Notice\n",
       "\n",
       "  * for TxNxK -> TxKxN, do `x = permutedims(z,[1,3,2])`\n",
       "  * for an unbalanced panel, set row t of `(y[t,i],x[t,:,i])` to zeros if there is a NaN/missing value in that row (see vvM)\n"
      ]
     },
     "metadata": {},
     "output_type": "display_data"
    }
   ],
   "source": [
    "@doc2 PanelOls\n",
    "\n",
    "#using CodeTracking\n",
    "#println(@code_string PanelOls([1],[1]))"
   ]
  },
  {
   "cell_type": "markdown",
   "metadata": {},
   "source": [
    "## Pooled Estimation with the `PanelOls()` Function"
   ]
  },
  {
   "cell_type": "code",
   "execution_count": 9,
   "metadata": {},
   "outputs": [
    {
     "name": "stdout",
     "output_type": "stream",
     "text": [
      "\u001b[34m\u001b[1mresults from pooled OLS using PanelOls(), White's standard errors:\u001b[22m\u001b[39m\n",
      "\n",
      "                  coef    t-stat\n",
      "c                1.285    28.513\n",
      "exper/100        7.837     8.954\n",
      "exper^2/100     -0.201    -5.264\n",
      "tenure/100       1.206     2.346\n",
      "tenure^2/100    -0.024    -0.828\n",
      "south           -0.196   -13.247\n",
      "union            0.110     6.928\n",
      "\n",
      "\u001b[31m\u001b[1mcompare with the result from `OlsNW()`: they should be the same\u001b[22m\u001b[39m\n"
     ]
    }
   ],
   "source": [
    "fO = PanelOls(Y,X)\n",
    "\n",
    "θ_pooled      = fO.theta\n",
    "StdErr        = sqrt.(diag(fO.CovW))\n",
    "tstat_pooled  = θ_pooled./StdErr\n",
    "\n",
    "printblue(\"results from pooled OLS using PanelOls(), White's standard errors:\\n\")\n",
    "printmat(θ_pooled,tstat_pooled,colNames=[\"coef\",\"t-stat\"],rowNames=[\"c\";xNames])\n",
    "\n",
    "printred(\"compare with the result from `OlsNW()`: they should be the same\")"
   ]
  },
  {
   "cell_type": "markdown",
   "metadata": {},
   "source": [
    "## First Difference Estimation\n",
    "\n",
    "by first creating first difference (`ΔY,ΔX`) and then using `PanelOls`."
   ]
  },
  {
   "cell_type": "code",
   "execution_count": 10,
   "metadata": {},
   "outputs": [
    {
     "name": "stdout",
     "output_type": "stream",
     "text": [
      "\u001b[34m\u001b[1mresults from first difference model using PanelOls(), White's standard errors:\u001b[22m\u001b[39m\n",
      "\n",
      "                  coef    t-stat\n",
      "c                0.010     0.633\n",
      "exper/100        3.548     2.277\n",
      "exper^2/100     -0.045    -0.933\n",
      "tenure/100       1.293     2.527\n",
      "tenure^2/100    -0.083    -2.329\n",
      "south           -0.024    -0.395\n",
      "union            0.044     3.115\n",
      "\n"
     ]
    }
   ],
   "source": [
    "ΔY = Y[2:end,:]   - Y[1:end-1,:]         #first differences\n",
    "ΔX = X[2:end,:,:] - X[1:end-1,:,:]\n",
    "ΔX[:,1,:] .= 1                           #put back a non-zero intercept\n",
    "\n",
    "fO = PanelOls(ΔY,ΔX)\n",
    "\n",
    "θ_Δ     = fO.theta\n",
    "StdErr  = sqrt.(diag(fO.CovW))\n",
    "tstat_Δ = θ_Δ./StdErr\n",
    "\n",
    "printblue(\"results from first difference model using PanelOls(), White's standard errors:\\n\")\n",
    "printmat(θ_Δ,tstat_Δ,colNames=[\"coef\",\"t-stat\"],rowNames=[\"c\";xNames])"
   ]
  },
  {
   "cell_type": "markdown",
   "metadata": {},
   "source": [
    "## Fixed Effects Estimation\n",
    "\n",
    "The `FixedEffects()` function from the local `FinEcmt_OLS` module removes individual (and/or time) fixed effects. Then we apply the `PanelOls()` function."
   ]
  },
  {
   "cell_type": "code",
   "execution_count": 11,
   "metadata": {
    "tags": []
   },
   "outputs": [
    {
     "name": "stdout",
     "output_type": "stream",
     "text": [
      "\u001b[34m\u001b[1mresults from fixed effects model using PanelOls(), White's standard errors:\u001b[22m\u001b[39m\n",
      "\n",
      "                  coef    t-stat\n",
      "c               -0.000    -0.000\n",
      "exper/100        4.108     6.616\n",
      "exper^2/100     -0.041    -1.640\n",
      "tenure/100       1.391     4.445\n",
      "tenure^2/100    -0.090    -4.624\n",
      "south           -0.016    -0.411\n",
      "union            0.064     4.675\n",
      "\n"
     ]
    }
   ],
   "source": [
    "(yˣ,xˣ,) = FixedEffects(Y,X,:id)   #:id for individual fixed effects. :t for time fixed effects\n",
    "xˣ[:,1,:] .= 1;                    #put back a non-zero intercept\n",
    "\n",
    "fO = PanelOls(yˣ,xˣ)\n",
    "\n",
    "θ_FE     = fO.theta\n",
    "StdErr   = sqrt.(diag(fO.CovW))\n",
    "tstat_FE = θ_FE./StdErr\n",
    "\n",
    "printblue(\"results from fixed effects model using PanelOls(), White's standard errors:\\n\")\n",
    "printmat(θ_FE,tstat_FE,colNames=[\"coef\",\"t-stat\"],rowNames=[\"c\";xNames])"
   ]
  },
  {
   "cell_type": "markdown",
   "metadata": {},
   "source": [
    "# Clustered Standard Errors\n",
    "\n",
    "We now redo the FE estimation but provide information on clustering for the standard errors. For simplicity, the clusters are defined as the value of the `South` dummy in $t=1$. Clearly, this could be done for the pooled OLS or the first difference models as well."
   ]
  },
  {
   "cell_type": "code",
   "execution_count": 12,
   "metadata": {
    "tags": []
   },
   "outputs": [
    {
     "name": "stdout",
     "output_type": "stream",
     "text": [
      "\u001b[34m\u001b[1mFE estimation with clustered standard errors:\u001b[22m\u001b[39m\n",
      "\n",
      "                       coef   t-stat White   t-stat Clust\n",
      "c                    -0.000         -0.000         -0.000\n",
      "exper/100             4.108          6.616          5.586\n",
      "exper^2/100          -0.041         -1.640         -2.027\n",
      "tenure/100            1.391          4.445          3.829\n",
      "tenure^2/100         -0.090         -4.624         -4.880\n",
      "south                -0.016         -0.411         -0.467\n",
      "union                 0.064          4.675          3.631\n",
      "\n"
     ]
    }
   ],
   "source": [
    "clust = convert.(Int,X[1,6,:])      #define clusters based on South/North in t=1\n",
    "\n",
    "fO = PanelOls(yˣ,xˣ,0,clust)         #0 autocorrelations, but clustering\n",
    "\n",
    "θ       = fO.theta\n",
    "StdErrW = sqrt.(diag(fO.CovW))       #White's std\n",
    "StdErrC = sqrt.(diag(fO.CovC))       #clustered std\n",
    "tstatW  = θ./StdErrW\n",
    "tstatC  = θ./StdErrC\n",
    "\n",
    "printblue(\"FE estimation with clustered standard errors:\\n\")\n",
    "printmat(θ,tstatW,tstatC;colNames=[\"coef\",\"t-stat White\",\"t-stat Clust\"],\n",
    "                         rowNames=[\"c\";xNames],width=15)"
   ]
  },
  {
   "cell_type": "markdown",
   "metadata": {},
   "source": [
    "## Individual and Time Fixed Effects (extra)\n",
    "\n",
    "Redo the FE panel regression, but first we reconstruct `(yˣ,xˣ)` to handle both individual and time fixed effects: see the `:idt` in the function call."
   ]
  },
  {
   "cell_type": "code",
   "execution_count": 13,
   "metadata": {
    "tags": []
   },
   "outputs": [
    {
     "name": "stdout",
     "output_type": "stream",
     "text": [
      "\u001b[34m\u001b[1mPanel regression with individual and time fixed effects:\u001b[22m\u001b[39m\n",
      "\n",
      "                  coef    t-stat\n",
      "c                0.000     0.000\n",
      "exper/100        6.713     4.654\n",
      "exper^2/100     -0.045    -1.762\n",
      "tenure/100       1.347     4.279\n",
      "tenure^2/100    -0.090    -4.641\n",
      "south           -0.014    -0.358\n",
      "union            0.065     4.801\n",
      "\n"
     ]
    }
   ],
   "source": [
    "(yˣ,xˣ,) = FixedEffects(Y,X,:idt)\n",
    "xˣ[:,1,:] .= 1              #put back the intercept\n",
    "\n",
    "fO = PanelOls(yˣ,xˣ)\n",
    "\n",
    "θ      = fO.theta\n",
    "StdErr = sqrt.(diag(fO.CovW))\n",
    "tstat  = θ./StdErr\n",
    "\n",
    "printblue(\"Panel regression with individual and time fixed effects:\\n\")\n",
    "printmat(θ,tstat,colNames=[\"coef\",\"t-stat\"],rowNames=[\"c\";xNames])"
   ]
  },
  {
   "cell_type": "markdown",
   "metadata": {},
   "source": [
    "## Unbalanced Panels (extra)\n",
    "\n",
    "The `PanelOls()` is coded in such a way that an unbalanced panel (NaNs/missings in `(y,x)`) can be handled by zeroing out all of (`y[t,i],x[t,:,i]`) if there is a NaN/missing value for observation `(t,i)`. \n",
    "\n",
    "Importantly, `FixedEffects()` will calculate means based on only those observations that have no NaNs/missings, that is, based on those observations that are effectlively used in `PanelOls()`.\n",
    "\n",
    "This is illustrated in the cell below by first setting some of the data to `NaN` and then apply the functions. (The results are similar, but clearly not identical, to those above.)"
   ]
  },
  {
   "cell_type": "code",
   "execution_count": 14,
   "metadata": {},
   "outputs": [
    {
     "name": "stdout",
     "output_type": "stream",
     "text": [
      "\u001b[34m\u001b[1mResults after zeroing out observations with some missing values/NaNs:\u001b[22m\u001b[39m\n",
      "\n",
      "                  coef    t-stat\n",
      "c                0.000     0.000\n",
      "exper/100        4.080     6.563\n",
      "exper^2/100     -0.039    -1.579\n",
      "tenure/100       1.402     4.478\n",
      "tenure^2/100    -0.090    -4.667\n",
      "south           -0.016    -0.413\n",
      "union            0.064     4.673\n",
      "\n"
     ]
    }
   ],
   "source": [
    "(Yc,Xc) = (copy(Y),copy(X))               #create new arrays (we change them below)\n",
    "(Yc[1],Xc[end]) = (NaN,NaN)               #introduce some missings/NaNs\n",
    "\n",
    "(ycˣ,xcˣ,) = FixedEffects(Yc,Xc,:id)      #demeans, using only those obs that have no missings/NaNs\n",
    "xcˣ[:,1,:] .= 1                           #putting the constant back\n",
    "\n",
    "vvM = PanelyxReplaceNaN!(ycˣ,xcˣ)         #zero out rows with any NaN/missing, overwrites (ycˣ,xcˣ)\n",
    "fO = PanelOls(ycˣ,xcˣ)                    #FE estimation\n",
    "\n",
    "θ      = fO.theta\n",
    "StdErr = sqrt.(diag(fO.CovW))\n",
    "tstat  = θ./StdErr\n",
    "\n",
    "printblue(\"Results after zeroing out observations with some missing values/NaNs:\\n\")\n",
    "printmat(θ,tstat,colNames=[\"coef\",\"t-stat\"],rowNames=[\"c\";xNames])"
   ]
  },
  {
   "cell_type": "code",
   "execution_count": null,
   "metadata": {},
   "outputs": [],
   "source": []
  }
 ],
 "metadata": {
  "@webio": {
   "lastCommId": null,
   "lastKernelId": null
  },
  "anaconda-cloud": {},
  "kernelspec": {
   "display_name": "Julia 1.10.2",
   "language": "julia",
   "name": "julia-1.10"
  },
  "language_info": {
   "file_extension": ".jl",
   "mimetype": "application/julia",
   "name": "julia",
   "version": "1.10.2"
  }
 },
 "nbformat": 4,
 "nbformat_minor": 4
}
