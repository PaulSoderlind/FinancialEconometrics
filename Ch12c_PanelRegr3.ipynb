{
 "cells": [
  {
   "cell_type": "markdown",
   "metadata": {},
   "source": [
    "# Calendar Time Regressions vs. Panel Regressions (extra)\n",
    "\n",
    "This notebook illustrates how calendar time regressions (form portfolios based on characteristics and then estimate a system of regressions) are related to panel regressions. The approach is to *apply* some functions, rather than to explain how they are built up."
   ]
  },
  {
   "cell_type": "markdown",
   "metadata": {},
   "source": [
    "## Load Packages and Extra Functions"
   ]
  },
  {
   "cell_type": "code",
   "execution_count": 1,
   "metadata": {
    "tags": []
   },
   "outputs": [],
   "source": [
    "using Printf, Statistics, LinearAlgebra, FileIO, JLD2, HDF5\n",
    "\n",
    "include(\"jlFiles/printmat.jl\")\n",
    "include(\"jlFiles/Ols.jl\")\n",
    "include(\"jlFiles/CovNWFn.jl\")\n",
    "include(\"jlFiles/OlsSureFn.jl\")\n",
    "include(\"jlFiles/PanelOls.jl\")\n",
    "include(\"jlFiles/UtilityFunctions.jl\");"
   ]
  },
  {
   "cell_type": "markdown",
   "metadata": {},
   "source": [
    "## Loading Data\n",
    "\n",
    "The data is in a JLD2 file. This is a very useful data format for Julia. To load it, the [JLD2.jl](https://github.com/JuliaIO/JLD2.jl) package is used.\n",
    "\n",
    "`Re` is a TxN matrix with daily excess returns, `Factors` is a Tx3 matrix of pricing factors, and `N_Changes` is an N-vector with the number of fund changes (over the entire sample)."
   ]
  },
  {
   "cell_type": "code",
   "execution_count": 2,
   "metadata": {
    "tags": []
   },
   "outputs": [
    {
     "name": "stdout",
     "output_type": "stream",
     "text": [
      "T=2354 and N=2637\n"
     ]
    }
   ],
   "source": [
    "(Re,Factors,N_Changes) = load(\"Data/PPM.jld2\",\"ER\",\"Factors\",\"N_Changes\")\n",
    "\n",
    "(T,N) = size(Re)\n",
    "D     = N_Changes .> 50                #logical dummies: very active\n",
    "D0    = .!D                            #inactive\n",
    "\n",
    "println(\"T=$(size(Re,1)) and N=$(size(Re,2))\")"
   ]
  },
  {
   "cell_type": "markdown",
   "metadata": {},
   "source": [
    "## Individual alphas\n",
    "\n",
    "The following code takes the matrix of individual daily\n",
    "excess return `Re` (a $T\\times N$ matrix) and runs one regression for each of the $N$ individuals on\n",
    "three risk factors (in `Factors`, a $T\\times 3$ matrix) which includes excess returns on Swedish equity, Swedish bonds and international equity.\n",
    "\n",
    "The `D` vector ($N$ elements) is: `D[i] = false` if investor $i$ is classified as inactive (no/few portfolio changes, see above), and `D[i] = true` if active (many portfolio changes).\n",
    "\n",
    "The cell shows the average alphas for each of the two (D) groups."
   ]
  },
  {
   "cell_type": "code",
   "execution_count": 3,
   "metadata": {
    "tags": []
   },
   "outputs": [
    {
     "name": "stdout",
     "output_type": "stream",
     "text": [
      "\n",
      "\u001b[34m\u001b[1mAverage annualised alphas for each of the two groups:\u001b[22m\u001b[39m\n",
      "\n",
      "   Inactive    Active\n",
      "α    -0.787     6.217\n",
      "\n"
     ]
    }
   ],
   "source": [
    "alphaM = fill(NaN,N)                                #individual alphas\n",
    "for i = 1:N\n",
    "   #local b           #local/global is needed in script\n",
    "   b, = OlsNWFn(Re[:,i],[Factors ones(T)],0)\n",
    "   alphaM[i] = b[end]\n",
    "end\n",
    "\n",
    "printblue(\"\\nAverage annualised alphas for each of the two groups:\\n\")\n",
    "xx = [mean(alphaM[D0]) mean(alphaM[D])]*252\n",
    "colNames = [\"Inactive\",\"Active\"]\n",
    "printmat(xx;colNames,rowNames=[\"α\"])"
   ]
  },
  {
   "cell_type": "markdown",
   "metadata": {},
   "source": [
    "## Calendar Time Portfolios\n",
    "\n",
    "The following code creates two time series (with $T$ observations in each) of portfolio returns: one for inactive investors, the other for active investors. In both cases, the portfolios are equally weighted, so the return is the average return of those in the portfolio.\n",
    "\n",
    "Then, it calculates the (time series) average excess returns, the Sharpe ratios and finally the alphas.\n",
    "\n",
    "The alphas and betas are estimated with OLS, and we test the hypothesis that the two alphas are the same, using a OLS system estimation (SURE).\n",
    "\n",
    "### A Remark on the Code\n",
    "\n",
    "- The system/SURE approach is implemented in the function `OlsSureFn` (included in one of the first cells above).\n",
    "\n",
    "- if `x` is a 1x1 matrix or a vector with a single element, then `only(x)` will create a scalar."
   ]
  },
  {
   "cell_type": "code",
   "execution_count": 4,
   "metadata": {
    "tags": []
   },
   "outputs": [
    {
     "name": "stdout",
     "output_type": "stream",
     "text": [
      "\u001b[34m\u001b[1mgroup by group, annualised values:\u001b[22m\u001b[39m\n",
      "\n",
      "     Inactive    Active\n",
      "Avg    -1.262     5.534\n",
      "Std    15.728    13.882\n",
      "SR     -0.080     0.399\n",
      "α      -0.787     6.217\n",
      "\n"
     ]
    }
   ],
   "source": [
    "PortfRe = hcat( mean(Re[:,D0],dims=2),mean(Re[:,D],dims=2) )   #create portfolios as average across individuals\n",
    "\n",
    "printblue(\"group by group, annualised values:\\n\")\n",
    "Avg = mean(PortfRe,dims=1)*252          #average excess return on portfolios, annualised\n",
    "Std = std(PortfRe,dims=1)*sqrt(252)\n",
    "SR  = Avg./Std\n",
    "(b,res,yhat,Covb) = OlsSureFn(PortfRe,[ones(T) Factors],true,0)\n",
    "\n",
    "xx = [Avg;Std;SR;b[1:1,:]*252]\n",
    "printmat(xx;colNames,rowNames=[\"Avg\",\"Std\",\"SR\",\"α\"])"
   ]
  },
  {
   "cell_type": "code",
   "execution_count": 5,
   "metadata": {
    "tags": []
   },
   "outputs": [
    {
     "name": "stdout",
     "output_type": "stream",
     "text": [
      "\u001b[34m\u001b[1mdiff of annual alphas:\u001b[22m\u001b[39m\n",
      "\n",
      "α₁-α₂     -7.004\n",
      "t-stat    -2.784\n",
      "\n"
     ]
    }
   ],
   "source": [
    "R       = [1 0 0 0 -1 0 0 0]                       #testing if α₁ = α₂\n",
    "a_diff  = only(R*vec(b))                           #only() to make it a scalar\n",
    "tstatLS = a_diff/sqrt(only(R*Covb*R'))\n",
    "\n",
    "printblue(\"diff of annual alphas:\\n\")\n",
    "xx = [a_diff*252;tstatLS]\n",
    "printmat(xx;rowNames=[\"α₁-α₂\",\"t-stat\"])"
   ]
  },
  {
   "cell_type": "markdown",
   "metadata": {},
   "source": [
    "## Panel Regressions\n",
    "\n",
    "Finally, a panel ($T\\times N$) regression is done by simply stacking all data points---but by interacting the factors and constant with the activity dummies. The hypothesis of the same alphas is tested by both an OLS approach (assuming that all data is iid) and a Driscoll-Kraay approach (which accounts for cross-sectional correlations).\n",
    "\n",
    "The code for the panel regression is in the function `PanelOls()`. It does a straightforward LS regression and then estimates the covariance matrix in several different ways: traditional OLS, White, Driscoll-Kraay and optionally also clustered (the cluster/group membership can be supplied to the function). Also, autocorrelation can be accounted for by applying a Newey-West approach to the (White, DK, clustered) methods.\n",
    "\n",
    "In calling on `PanelOls()` we use the individual returns (`Re` which is $T \\times N$) as the dependent variables, a $T \\times K \\times N$ array containing the regressors (interactions of `[ones(T) Factors]` with the dummies in`[D0 D]`). This approach is somewhat wasteful with memory since the dummies are (here) time-invariant. However,`PanelOls()` is set up to handle also more general cases."
   ]
  },
  {
   "cell_type": "code",
   "execution_count": 6,
   "metadata": {
    "tags": []
   },
   "outputs": [],
   "source": [
    "# ?PanelOls        #uncomment to see the documentation"
   ]
  },
  {
   "cell_type": "code",
   "execution_count": 7,
   "metadata": {
    "tags": []
   },
   "outputs": [
    {
     "name": "stdout",
     "output_type": "stream",
     "text": [
      "\u001b[34m\u001b[1mpanel regression:\u001b[22m\u001b[39m\n",
      "\n",
      "α₁-α₂          -7.004\n",
      "t-stat (LS)   -24.017\n",
      "t-stat (DK)    -2.784\n",
      "\n",
      "\n",
      "\u001b[31m\u001b[1mCompare with calendar time regressions. Also notice the difference (any?) between the two t-stats\u001b[22m\u001b[39m\n"
     ]
    }
   ],
   "source": [
    "printblue(\"panel regression:\\n\")\n",
    "\n",
    "x  = [ones(T) Factors]\n",
    "K1 = size(x,2)\n",
    "X = fill(NaN,T,2*K1,N)                  #create TxKxN array of regressors\n",
    "for i = 1:N\n",
    "    X[:,:,i] = hcat(x.*D0[i],x.*D[i])\n",
    "end\n",
    "\n",
    "fnO = PanelOls(Re,X)                        #panel regression\n",
    "\n",
    "R       = [1 0 0 0 -1 0 0 0]                #testing if α₁ = α₂\n",
    "a_diff  = only(R*vec(fnO.theta))\n",
    "\n",
    "tstatLS = a_diff/sqrt(only(R*fnO.CovLS*R'))\n",
    "tstatDK = a_diff/sqrt(only(R*fnO.CovDK*R'))\n",
    "\n",
    "xx = [a_diff*252;tstatLS;tstatDK]\n",
    "printmat(xx;rowNames=[\"α₁-α₂\",\"t-stat (LS)\",\"t-stat (DK)\"])\n",
    "\n",
    "printred(\"\\nCompare with calendar time regressions. Also notice the difference (any?) between the two t-stats\")"
   ]
  },
  {
   "cell_type": "code",
   "execution_count": null,
   "metadata": {},
   "outputs": [],
   "source": []
  }
 ],
 "metadata": {
  "@webio": {
   "lastCommId": null,
   "lastKernelId": null
  },
  "anaconda-cloud": {},
  "kernelspec": {
   "display_name": "Julia 1.10.0",
   "language": "julia",
   "name": "julia-1.10"
  },
  "language_info": {
   "file_extension": ".jl",
   "mimetype": "application/julia",
   "name": "julia",
   "version": "1.10.0"
  }
 },
 "nbformat": 4,
 "nbformat_minor": 4
}
