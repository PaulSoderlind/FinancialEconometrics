{
 "cells": [
  {
   "cell_type": "markdown",
   "metadata": {},
   "source": [
    "# Instrumental Varibles\n",
    "\n",
    "This notebook defines a function for 2SLS and illustrates it by redoing an example from Ch 10.3.3 in \"Principles of Econometrics\", 3rd edition (Hill, Griffiths and Lim)."
   ]
  },
  {
   "cell_type": "markdown",
   "metadata": {},
   "source": [
    "## Load Packages and Extra Functions"
   ]
  },
  {
   "cell_type": "code",
   "execution_count": 1,
   "metadata": {
    "tags": []
   },
   "outputs": [
    {
     "data": {
      "text/plain": [
       "CovNWFn"
      ]
     },
     "execution_count": 1,
     "metadata": {},
     "output_type": "execute_result"
    }
   ],
   "source": [
    "using Printf, DelimitedFiles, LinearAlgebra, Statistics\n",
    "\n",
    "include(\"jlFiles/printmat.jl\")\n",
    "include(\"jlFiles/Ols.jl\")\n",
    "include(\"jlFiles/CovNWFn.jl\")"
   ]
  },
  {
   "cell_type": "markdown",
   "metadata": {},
   "source": [
    "# A Function for IV & 2SLS\n",
    "\n",
    "See the lecture notes for a derivation and more detailed explanation."
   ]
  },
  {
   "cell_type": "code",
   "execution_count": 2,
   "metadata": {
    "tags": []
   },
   "outputs": [
    {
     "data": {
      "text/plain": [
       "TwoSLSFn"
      ]
     },
     "execution_count": 2,
     "metadata": {},
     "output_type": "execute_result"
    }
   ],
   "source": [
    "\"\"\"\n",
    "    TwoSLSFn(y,x,z,NWQ=false,m=0)\n",
    "\n",
    "# Input\n",
    "- `y::VecOrMat`:      Tx1 or T-vector of the dependent variable\n",
    "- `x::Matrix`:        Txk matrix of regressors\n",
    "- `z::VecOrMat`:      TxL matrix of instruments\n",
    "- `NWQ:Bool`:         if true, then Newey-West's covariance matrix is used, otherwise Gauss-Markov\n",
    "- `m::Int`:           scalar, bandwidth in Newey-West\n",
    "\n",
    "# Output\n",
    "- `b::Vector`:             k-vector, regression coefficients\n",
    "- `fnOutput::NamedTuple`:  with\n",
    "  - res                Tx1 or Txn matrix, residuals y - yhat\n",
    "  - yhat               Tx1 or Txn matrix, fitted values\n",
    "  - Covb               matrix, covariance matrix of vec(b) = [beq1;beq2;...]\n",
    "  - R2                 1xn, R2\n",
    "  - R2_stage1          k-vector, R2 of each x[:,i] in first stage regression on z\n",
    "  - δ_stage1           Lxk matrix, coeffs from 1st stage x = z'δ\n",
    "  - Stdδ_stage1        Lxk matrix, std of δ\n",
    "\n",
    "# Requires\n",
    "- Statistics, LinearAlgebra\n",
    "- CovNWFn\n",
    "\n",
    "\n",
    "\"\"\"\n",
    "function TwoSLSFn(y,x,z,NWQ=false,m=0)\n",
    "\n",
    "    (Ty,n) = (size(y,1),size(y,2))\n",
    "    (k,L)  = (size(x,2),size(z,2))\n",
    "\n",
    "    δ         = z\\x             #stage 1 estimates, Lxk, one column per regression\n",
    "    xhat      = z*δ             #TxL * Lxk - > Txk\n",
    "    resx      = x - xhat        #Txk\n",
    "    R2_stage1 = [cor(x[:,i],xhat[:,i])^2  for i=1:k]\n",
    "\n",
    "    Szz_1 = inv(z'z)             #stage 1 standard errors\n",
    "    Stdδ  = similar(δ)           #Lxk standard errors of δ\n",
    "    for i = 1:k                  #loop over columns in x\n",
    "        if NWQ                   #NW standard errors\n",
    "            S      = CovNWFn(resx[:,i].*z,m)\n",
    "            Covδ_i = Szz_1*S*Szz_1\n",
    "        else                     #standard errors assuming iid\n",
    "            Covδ_i = Szz_1*var(resx[:,i])\n",
    "        end\n",
    "        Stdδ[:,i] = sqrt.(diag(Covδ_i))\n",
    "    end\n",
    "\n",
    "    b    = xhat\\y            #stage 2 estimates\n",
    "    yhat = x*b               #notice: from y=x'b+u, not 2nd stage regression\n",
    "    res  = y - yhat\n",
    "\n",
    "    R2   = cor(y,yhat)^2\n",
    "    Sxz  = x'z              #stage 2 standard errors \n",
    "    if NWQ     #Cov(b) using Newey-West \n",
    "        S    = CovNWFn(res.*z,m)\n",
    "        B    = inv(Sxz*Szz_1*Sxz')*Sxz*Szz_1\n",
    "        Covb = B*S*B'\n",
    "    else       #Cov(b) assuming iid residuals, independent of z\n",
    "        Covb = var(res)*inv(Sxz*Szz_1*Sxz')\n",
    "    end\n",
    "\n",
    "    fnOutput = (;res,yhat,Covb,R2,R2_stage1,δ_stage1=δ,Stdδ_stage1=Stdδ)\n",
    "\n",
    "    return b, fnOutput\n",
    "\n",
    "end"
   ]
  },
  {
   "cell_type": "markdown",
   "metadata": {},
   "source": [
    "# Loading the Data\n",
    "\n",
    "The next cells replicates an old example from Hill et al (2008). See the lecture notes for more details.\n",
    "\n",
    "### A remark on the code\n",
    "The data set contains many different variables. To import them and name them, we create a named tuple of them by using the function `PutDataInNT()`, see below. (This is convenient, but not important for the focus of this notebook.)"
   ]
  },
  {
   "cell_type": "code",
   "execution_count": 3,
   "metadata": {
    "tags": []
   },
   "outputs": [
    {
     "data": {
      "text/plain": [
       "PutDataInNT"
      ]
     },
     "execution_count": 3,
     "metadata": {},
     "output_type": "execute_result"
    }
   ],
   "source": [
    "\"\"\"\n",
    "    PutDataInNT(x,header)\n",
    "\n",
    "Creates a NamedTuple with, for instance, `N.X`, `N.Y` and `N.Z` where `x` is a matrix and `header = [\"X\" \"Y\" \"Z\"]`.\n",
    "\n",
    "\"\"\"\n",
    "function PutDataInNT(x,header)\n",
    "    namesB = tuple(Symbol.(header)...)                            #a tuple (:X,:Y,:Z)\n",
    "    N      = NamedTuple{namesB}([x[:,i] for i=1:size(x,2)])       #NamedTuple with N.X, N.Y and N.Z\n",
    "    return N\n",
    "end"
   ]
  },
  {
   "cell_type": "code",
   "execution_count": 4,
   "metadata": {
    "tags": []
   },
   "outputs": [
    {
     "name": "stdout",
     "output_type": "stream",
     "text": [
      "The variables in N (use as, for instance, N.wage): \n",
      "(:taxableinc, :federaltax, :hsiblings, :hfathereduc, :hmothereduc, :siblings, :lfp, :hours, :kidsl6, :kids618, :age, :educ, :wage, :wage76, :hhours, :hage, :heduc, :hwage, :faminc, :mtr, :mothereduc, :fathereduc, :unemployment, :bigcity, :exper)\n",
      "\n"
     ]
    }
   ],
   "source": [
    "(x,header) = readdlm(\"Data/mrozEd.txt\",header=true)\n",
    "N          = PutDataInNT(x,header)                         #NamedTuple with N.X, N.Y and N.Z\n",
    "\n",
    "c = ones(size(x,1))                                       #constant, used in the regressions\n",
    "\n",
    "println(\"The variables in N (use as, for instance, N.wage): \")\n",
    "printmat(keys(N))"
   ]
  },
  {
   "cell_type": "markdown",
   "metadata": {},
   "source": [
    "## OLS\n",
    "\n",
    "estimation of the log wage on education, experience and experience^2. Only data points where wage > 0 are used."
   ]
  },
  {
   "cell_type": "code",
   "execution_count": 5,
   "metadata": {
    "tags": []
   },
   "outputs": [
    {
     "name": "stdout",
     "output_type": "stream",
     "text": [
      "\u001b[34m\u001b[1mOLS estimates:\u001b[22m\u001b[39m\n",
      "\n",
      "             coef       std\n",
      "c         -0.5220    0.1979\n",
      "educ       0.1075    0.0141\n",
      "exper      0.0416    0.0131\n",
      "exper^2   -0.0008    0.0004\n",
      "\n"
     ]
    }
   ],
   "source": [
    "vv     = N.wage .> 0     #find data points where N.wage > 0\n",
    "                         #OLS on wage>0\n",
    "(b_OLS,_,_,Covb,) = OlsGMFn(log.(N.wage[vv]),[c N.educ N.exper N.exper.^2][vv,:])\n",
    "Stdb_ols = sqrt.(diag(Covb))\n",
    "\n",
    "colNames = [\"coef\",\"std\"]\n",
    "rowNames = [\"c\",\"educ\",\"exper\",\"exper^2\"]\n",
    "printblue(\"OLS estimates:\\n\")\n",
    "printmat(b_OLS,Stdb_ols;colNames,rowNames,prec=4)"
   ]
  },
  {
   "cell_type": "markdown",
   "metadata": {},
   "source": [
    "## IV (2SLS)\n",
    "\n",
    "using the mother's education as an instrument for education."
   ]
  },
  {
   "cell_type": "code",
   "execution_count": 6,
   "metadata": {
    "tags": []
   },
   "outputs": [
    {
     "name": "stdout",
     "output_type": "stream",
     "text": [
      "\u001b[34m\u001b[1mfirst-stage estimates: coeffs (each regression in its own column)\u001b[22m\u001b[39m\n",
      "                   c      educ     exper   exper^2\n",
      "c              1.000     9.775    -0.000     0.000\n",
      "exper          0.000     0.049     1.000    -0.000\n",
      "exper^2       -0.000    -0.001     0.000     1.000\n",
      "mothereduc     0.000     0.268    -0.000    -0.000\n",
      "\n",
      "\u001b[34m\u001b[1mfirst-stage estimates: std errors\u001b[22m\u001b[39m\n",
      "                   c      educ     exper   exper^2\n",
      "c              0.000     0.422     0.000     0.000\n",
      "exper          0.000     0.042     0.000     0.000\n",
      "exper^2        0.000     0.001     0.000     0.000\n",
      "mothereduc     0.000     0.031     0.000     0.000\n",
      "\n",
      "\u001b[34m\u001b[1mfirst-stage estimates: R²\u001b[22m\u001b[39m\n",
      "         c      educ     exper   exper^2\n",
      "       NaN     0.153     1.000     1.000\n",
      "\n"
     ]
    }
   ],
   "source": [
    "(b_iv,fO2) = TwoSLSFn(log.(N.wage[vv]),[c N.educ N.exper N.exper.^2][vv,:],\n",
    "                      [c N.exper N.exper.^2 N.mothereduc][vv,:])\n",
    "\n",
    "zNames = [\"c\",\"exper\",\"exper^2\",\"mothereduc\"]\n",
    "\n",
    "printblue(\"first-stage estimates: coeffs (each regression in its own column)\")\n",
    "printmat(fO2.δ_stage1;colNames=rowNames,rowNames=zNames)\n",
    "\n",
    "printblue(\"first-stage estimates: std errors\")\n",
    "printmat(fO2.Stdδ_stage1;colNames=rowNames,rowNames=zNames)\n",
    "\n",
    "printblue(\"first-stage estimates: R²\")\n",
    "printmat(fO2.R2_stage1';colNames=rowNames)"
   ]
  },
  {
   "cell_type": "code",
   "execution_count": 7,
   "metadata": {
    "tags": []
   },
   "outputs": [
    {
     "name": "stdout",
     "output_type": "stream",
     "text": [
      "\u001b[34m\u001b[1mIV estimates\u001b[22m\u001b[39m\n",
      "             coef       std\n",
      "c          0.1982    0.4712\n",
      "educ       0.0493    0.0373\n",
      "exper      0.0449    0.0135\n",
      "exper^2   -0.0009    0.0004\n",
      "\n",
      "\u001b[31m\u001b[1mThe results should be very close to Hill et al, 10.3.3,\u001b[22m\u001b[39m\n",
      "\u001b[31m\u001b[1mbut with small differences due to how df adjustments are made to variances\u001b[22m\u001b[39m\n"
     ]
    }
   ],
   "source": [
    "Stdb_iv = sqrt.(diag(fO2.Covb))\n",
    "printblue(\"IV estimates\")\n",
    "printmat(b_iv,Stdb_iv;colNames,rowNames,prec=4)\n",
    "\n",
    "printred(\"The results should be very close to Hill et al, 10.3.3,\n",
    "but with small differences due to how df adjustments are made to variances\")"
   ]
  },
  {
   "cell_type": "code",
   "execution_count": null,
   "metadata": {},
   "outputs": [],
   "source": []
  }
 ],
 "metadata": {
  "@webio": {
   "lastCommId": null,
   "lastKernelId": null
  },
  "anaconda-cloud": {},
  "kernelspec": {
   "display_name": "Julia 1.8.5",
   "language": "julia",
   "name": "julia-1.8"
  },
  "language_info": {
   "file_extension": ".jl",
   "mimetype": "application/julia",
   "name": "julia",
   "version": "1.8.5"
  }
 },
 "nbformat": 4,
 "nbformat_minor": 4
}
