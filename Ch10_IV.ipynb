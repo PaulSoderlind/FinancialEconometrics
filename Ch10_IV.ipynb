{
 "cells": [
  {
   "cell_type": "markdown",
   "metadata": {},
   "source": [
    "# Instrumental Varibles\n",
    "\n",
    "This notebook defines a function for 2SLS and illustrates it by redoing ab example from Ch 10.3.3 in \"Principles of Econometrics\", 3rd edition (Hill, Griffiths and Lim)."
   ]
  },
  {
   "cell_type": "markdown",
   "metadata": {},
   "source": [
    "## Load Packages and Extra Functions"
   ]
  },
  {
   "cell_type": "code",
   "execution_count": 1,
   "metadata": {},
   "outputs": [
    {
     "data": {
      "text/plain": [
       "CovNWFn"
      ]
     },
     "execution_count": 1,
     "metadata": {},
     "output_type": "execute_result"
    }
   ],
   "source": [
    "using Printf, DelimitedFiles, LinearAlgebra, Statistics\n",
    "\n",
    "include(\"jlFiles/printmat.jl\")\n",
    "include(\"jlFiles/Ols.jl\")\n",
    "include(\"jlFiles/CovNWFn.jl\")"
   ]
  },
  {
   "cell_type": "markdown",
   "metadata": {},
   "source": [
    "## Loading Data"
   ]
  },
  {
   "cell_type": "code",
   "execution_count": 2,
   "metadata": {},
   "outputs": [
    {
     "name": "stdout",
     "output_type": "stream",
     "text": [
      "The variables in N (use as N.x): \n",
      "(Symbol(\"%taxableinc\"), :federaltax, :hsiblings, :hfathereduc, :hmothereduc, :siblings, :lfp, :hours, :kidsl6, :kids618, :age, :educ, :wage, :wage76, :hhours, :hage, :heduc, :hwage, :faminc, :mtr, :mothereduc, :fathereduc, :unemployment, :bigcity, :exper)\n",
      "\n"
     ]
    }
   ],
   "source": [
    "(x,header) = readdlm(\"Data/mrozEd.txt\",header=true)\n",
    "namesB = tuple(Symbol.(header)...)                            #a tuple (:X,:Y,:Z)\n",
    "N      = NamedTuple{namesB}([x[:,i] for i=1:size(x,2)])       #NamedTuple with N.X, N.Y and N.Z\n",
    "\n",
    "c     = ones(size(x,1))                                       #constant\n",
    "\n",
    "println(\"The variables in N (use as N.x): \")\n",
    "printmat(keys(N))"
   ]
  },
  {
   "cell_type": "markdown",
   "metadata": {},
   "source": [
    "# A Function for IV & 2SLS\n"
   ]
  },
  {
   "cell_type": "code",
   "execution_count": 3,
   "metadata": {},
   "outputs": [
    {
     "data": {
      "text/plain": [
       "TwoSLSFn"
      ]
     },
     "execution_count": 3,
     "metadata": {},
     "output_type": "execute_result"
    }
   ],
   "source": [
    "\"\"\"\n",
    "    TwoSLSFn(y,x,z,NWQ=false,m=0)\n",
    "\n",
    "# Input\n",
    "- `y::VecOrMat`:      Tx1 or T-vector of the dependent variable\n",
    "- `x::Matrix`:        TxK matrix of regressors\n",
    "- `z::VecOrMat`:      TxL matrix of instruments\n",
    "- `NWQ:Bool`:         if true, then Newey-West's covariance matrix is used, otherwise Gauss-Markov\n",
    "- `m::Int`:           scalar, bandwidth in Newey-West\n",
    "\n",
    "# Output\n",
    "- `b::Vector`:             K-vector, regression coefficients\n",
    "- `fnOutput::NamedTuple`:  with\n",
    "  - res                Tx1 or Txn matrix, residuals y - yhat\n",
    "  - yhat               Tx1 or Txn matrix, fitted values\n",
    "  - Covb               matrix, covariance matrix of vec(b) = [beq1;beq2;...]\n",
    "  - R2                 1xn, R2\n",
    "  - R2_stage1          K-vector, R2 of each x[:,i] in first stage regression on z\n",
    "  - δ_stage1           LxK matrix, coeffs from 1st stage x = z'δ\n",
    "  - Stdδ_stage1        LxK matrix, std of δ\n",
    "\n",
    "# Requires\n",
    "- Statistics, LinearAlgebra\n",
    "- CovNWFn\n",
    "\n",
    "\n",
    "\"\"\"\n",
    "function TwoSLSFn(y,x,z,NWQ=false,m=0)\n",
    "\n",
    "    (Ty,n) = (size(y,1),size(y,2))\n",
    "    (K,L)  = (size(x,2),size(z,2))\n",
    "\n",
    "    δ         = z\\x             #LxK, one column for each regression\n",
    "    xhat      = z*δ             #TxL * LxK - > TxK\n",
    "    resx      = x - xhat        #TxK\n",
    "    R2_stage1 = [cor(x[:,i],xhat[:,i])^2  for i=1:K]\n",
    "\n",
    "    Szz_1 = inv(z'z)\n",
    "    Stdδ  = similar(δ)           #LxK standard errors of δ\n",
    "    for i = 1:K                  #loop over columns in x\n",
    "        if NWQ                   #NW standard errors\n",
    "            S      = CovNWFn(resx[:,i].*z,m)\n",
    "            Covδ_i = Szz_1*S*Szz_1\n",
    "        else                     #standard errors assuming iid\n",
    "            Covδ_i = Szz_1*var(resx[:,i])\n",
    "        end\n",
    "        Stdδ[:,i] = sqrt.(diag(Covδ_i))\n",
    "    end\n",
    "\n",
    "    b    = xhat\\y\n",
    "    yhat = x*b               #notice: from y=x'b+u, not 2nd stage regression\n",
    "    res  = y - yhat\n",
    "\n",
    "    R2   = cor(y,yhat)^2\n",
    "    Sxz  = x'z    \n",
    "    if NWQ     #Cov(b) using Newey-West \n",
    "        S    = CovNWFn(res.*z,m)             \n",
    "        B    = inv(Sxz*Szz_1*Sxz')*Sxz*Szz_1\n",
    "        Covb = B*S*B'        \n",
    "    else       #Cov(b) assuming iid residuals, independent of z\n",
    "        Covb = var(res)*inv(Sxz*Szz_1*Sxz')\n",
    "    end\n",
    "    \n",
    "    fnOutput = (;res,yhat,Covb,R2,R2_stage1,δ_stage1=δ,Stdδ_stage1=Stdδ)\n",
    "\n",
    "    return b, fnOutput\n",
    "\n",
    "end"
   ]
  },
  {
   "cell_type": "code",
   "execution_count": 4,
   "metadata": {},
   "outputs": [
    {
     "name": "stdout",
     "output_type": "stream",
     "text": [
      "OLS estimates\n",
      "             coef       std\n",
      "c         -0.5220    0.1979\n",
      "educ       0.1075    0.0141\n",
      "exper      0.0416    0.0131\n",
      "exper^2   -0.0008    0.0004\n",
      "\n"
     ]
    }
   ],
   "source": [
    "vv     = N.wage .> 0\n",
    "                         #OLS on wage>0\n",
    "(b_OLS,_,_,Covb,) = OlsGMFn(log.(N.wage[vv]),[c N.educ N.exper N.exper.^2][vv,:])\n",
    "Stdb_ols = sqrt.(diag(Covb))\n",
    "\n",
    "colNames = [\"coef\",\"std\"]\n",
    "rowNames = [\"c\",\"educ\",\"exper\",\"exper^2\"]\n",
    "println(\"OLS estimates\")\n",
    "printmat(b_OLS,Stdb_ols;colNames,rowNames,prec=4)"
   ]
  },
  {
   "cell_type": "code",
   "execution_count": 5,
   "metadata": {},
   "outputs": [
    {
     "name": "stdout",
     "output_type": "stream",
     "text": [
      "first-stage estimates: coeffs\n",
      "                   c      educ     exper   exper^2\n",
      "c              1.000     9.775    -0.000     0.000\n",
      "exper          0.000     0.049     1.000    -0.000\n",
      "exper^2       -0.000    -0.001     0.000     1.000\n",
      "mothereduc     0.000     0.268    -0.000    -0.000\n",
      "\n",
      "first-stage estimates: std errors\n",
      "                   c      educ     exper   exper^2\n",
      "c              0.000     0.422     0.000     0.000\n",
      "exper          0.000     0.042     0.000     0.000\n",
      "exper^2        0.000     0.001     0.000     0.000\n",
      "mothereduc     0.000     0.031     0.000     0.000\n",
      "\n",
      "IV estimates\n",
      "             coef       std\n",
      "c          0.1982    0.4712\n",
      "educ       0.0493    0.0373\n",
      "exper      0.0449    0.0135\n",
      "exper^2   -0.0009    0.0004\n",
      "\n",
      "\u001b[34m\u001b[1mThe results should be very close to Hill et al, 10.3.3,\u001b[22m\u001b[39m\n",
      "\u001b[34m\u001b[1mbut with small differences due to how df adjustments are made to variances\u001b[22m\u001b[39m\n"
     ]
    }
   ],
   "source": [
    "(b_iv,fO2) = TwoSLSFn(log.(N.wage[vv]),[c N.educ N.exper N.exper.^2][vv,:],\n",
    "                      [c N.exper N.exper.^2 N.mothereduc][vv,:])\n",
    "\n",
    "\n",
    "zNames = [\"c\",\"exper\",\"exper^2\",\"mothereduc\"]\n",
    "println(\"first-stage estimates: coeffs\")\n",
    "printmat(fO2.δ_stage1;colNames=rowNames,rowNames=zNames)\n",
    "println(\"first-stage estimates: std errors\")\n",
    "printmat(fO2.Stdδ_stage1;colNames=rowNames,rowNames=zNames)\n",
    "\n",
    "Stdb_iv = sqrt.(diag(fO2.Covb))\n",
    "println(\"IV estimates\")\n",
    "printmat(b_iv,Stdb_iv;colNames,rowNames,prec=4)\n",
    "\n",
    "printblue(\"The results should be very close to Hill et al, 10.3.3,\n",
    "but with small differences due to how df adjustments are made to variances\")"
   ]
  },
  {
   "cell_type": "code",
   "execution_count": null,
   "metadata": {},
   "outputs": [],
   "source": []
  }
 ],
 "metadata": {
  "@webio": {
   "lastCommId": null,
   "lastKernelId": null
  },
  "anaconda-cloud": {},
  "kernelspec": {
   "display_name": "Julia 1.6.1",
   "language": "julia",
   "name": "julia-1.6"
  },
  "language_info": {
   "file_extension": ".jl",
   "mimetype": "application/julia",
   "name": "julia",
   "version": "1.6.1"
  }
 },
 "nbformat": 4,
 "nbformat_minor": 1
}
