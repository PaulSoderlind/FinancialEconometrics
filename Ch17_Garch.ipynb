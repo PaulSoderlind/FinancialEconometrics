{
 "cells": [
  {
   "cell_type": "markdown",
   "metadata": {
    "tags": []
   },
   "source": [
    "# AR(1) + GARCH(1,1) Model\n",
    "\n",
    "This notebook estimates an AR(1) where the residuals follow a GARCH(1,1) model. The results are used to calculate a time-varying (daily) value at risk. \n",
    "\n",
    "For learning purposes the code specifies the likelihood function and then calls on the (home brewed) `MLE()` function. For a more automated approach, consider the [ARCHModels.jl](https://github.com/s-broda/ARCHModels.jl) package. You may want to look at the MLE notebook before the current one."
   ]
  },
  {
   "cell_type": "markdown",
   "metadata": {},
   "source": [
    "## Load Packages and Extra Functions"
   ]
  },
  {
   "cell_type": "code",
   "execution_count": 1,
   "metadata": {
    "tags": []
   },
   "outputs": [],
   "source": [
    "using Printf, Dates, DelimitedFiles, Statistics, LinearAlgebra, Optim\n",
    "\n",
    "using FiniteDiff: finite_difference_hessian as hessian, finite_difference_jacobian as jacobian\n",
    "\n",
    "include(\"jlFiles/MLE.jl\")              #function for MLE\n",
    "include(\"jlFiles/printmat.jl\");"
   ]
  },
  {
   "cell_type": "code",
   "execution_count": 2,
   "metadata": {
    "tags": []
   },
   "outputs": [],
   "source": [
    "using Plots\n",
    "\n",
    "gr(size=(480,320))\n",
    "default(fmt = :png)"
   ]
  },
  {
   "cell_type": "markdown",
   "metadata": {},
   "source": [
    "## Loading Data"
   ]
  },
  {
   "cell_type": "code",
   "execution_count": 3,
   "metadata": {
    "tags": []
   },
   "outputs": [],
   "source": [
    "xx  = readdlm(\"Data/FFdSizePs.csv\",',',skipstart=1)\n",
    "ymd = round.(Int,xx[:,1])     #YearMonthDay, like 20121231\n",
    "R   = xx[:,2]                 #returns for the smallest size portfolio\n",
    "xx  = nothing\n",
    "\n",
    "y = R[2:end]                           #dependent variable, y(t)\n",
    "x = [ones(size(y)) R[1:end-1]]         #regressors, [1, y(t-1)]\n",
    "\n",
    "dN = Date.(string.(ymd),\"yyyymmdd\");    #to Julia dates"
   ]
  },
  {
   "cell_type": "markdown",
   "metadata": {},
   "source": [
    "## The Likelihood Function"
   ]
  },
  {
   "cell_type": "markdown",
   "metadata": {},
   "source": [
    "Consider a regression equation, where the residual follows a GARCH(1,1) process\n",
    "\n",
    "$\n",
    "y_{t}             =x_{t}^{\\prime}b+u_{t} \\: \\text{ with }\\: u_{t}=v_{t}\\sigma_{t} \\: \\text{ and }\n",
    "$\n",
    "\n",
    "$\n",
    "\\sigma_{t}^{2}    =\\omega+\\alpha u_{t-1}^{2}+\\beta\\sigma_{t-1}^{2}.\n",
    "$\n",
    "\n",
    "Notice that we require $(\\omega,\\alpha,\\beta)$ to all be positive and $\\alpha + \\beta < 1$.\n",
    "\n",
    "If $v_{t}\\sim N(0,1)$, then the likelihood function is $\\sum_{t=1}^{T} \\ln L_t$ where\n",
    "\n",
    "$\n",
    "\\ln L_t=-\\frac{1}{2}\\ln(2\\pi) -\\frac{1}{2}\\ln\\sigma_{t}^{2}- \\frac{1}{2}\\frac{u_{t}^{2}}{\\sigma_{t}^{2}}.\n",
    "$\n",
    "\n",
    "The likelihood function of a GARCH(1,1) model is in `garch11LL`.\n",
    "\n",
    "### A Remark on the Code\n",
    "\n",
    "For simplicity, the $\\sigma_t^2$ is calculated in a loop. As an alternative, consider the `filt()` function from the [DSP.jl](https://github.com/JuliaDSP/DSP.jl) package."
   ]
  },
  {
   "cell_type": "code",
   "execution_count": 4,
   "metadata": {
    "tags": []
   },
   "outputs": [
    {
     "data": {
      "text/plain": [
       "garch11LL (generic function with 1 method)"
      ]
     },
     "execution_count": 4,
     "metadata": {},
     "output_type": "execute_result"
    }
   ],
   "source": [
    "function garch11LL(par,yx)\n",
    "    \n",
    "    (y,x) = (yx[:,1],yx[:,2:end])\n",
    "\n",
    "    (T,k) = (size(x,1),size(x,2))\n",
    "\n",
    "    b       = par[1:k]             #mean equation, y = x'*b\n",
    "    (ω,α,β) = par[k+1:k+3]         #GARCH(1,1) equation: \n",
    "                                   #σ²(t) = ω + α*u(t-1)^2 + β*σ²(t-1)\n",
    "    yhat = x*b                                \n",
    "    u    = y - yhat                #fitted regression residuals\n",
    "    σ²_0 = var(u)\n",
    "\n",
    "    σ²    = zeros(typeof(α),T)     #works with ForwardDiff too\n",
    "    σ²[1] = ω + α*σ²_0 + β*σ²_0\n",
    "    for t = 2:T                                    \n",
    "      σ²[t] = ω + α*u[t-1]^2 + β*σ²[t-1]\n",
    "    end\n",
    "\n",
    "    LL_t    = -(1/2)*log(2*π) .- (1/2)*log.(σ²) .- (1/2)*(u.^2)./σ²\n",
    "    LL_t[1] = 0.0               #effectively skip the first observation\n",
    "\n",
    "    #LL      = sum(LL_t)\n",
    "\n",
    "    return LL_t, σ², yhat, u\n",
    "\n",
    "end"
   ]
  },
  {
   "cell_type": "markdown",
   "metadata": {},
   "source": [
    "## Try the Likelihood Function"
   ]
  },
  {
   "cell_type": "code",
   "execution_count": 5,
   "metadata": {
    "tags": []
   },
   "outputs": [
    {
     "name": "stdout",
     "output_type": "stream",
     "text": [
      "Value of log-likelihood fn at starting guess of the parameters:  -9231.913\n"
     ]
    }
   ],
   "source": [
    "coefNames = [\"b₀\",\"b₁\",\"ω\",\"α\",\"β\"]\n",
    "par0      = [mean(y),0,var(y)*0.05,0.05,0.90]         #initial parameter guess\n",
    "\n",
    "(LLt,) = garch11LL(par0,[y x])                   #testing the log lik\n",
    "\n",
    "printlnPs(\"Value of log-likelihood fn at starting guess of the parameters: \",sum(LLt))"
   ]
  },
  {
   "cell_type": "markdown",
   "metadata": {},
   "source": [
    "## Maximize the Likelihood Function"
   ]
  },
  {
   "cell_type": "code",
   "execution_count": 7,
   "metadata": {
    "tags": []
   },
   "outputs": [
    {
     "name": "stdout",
     "output_type": "stream",
     "text": [
      "\u001b[34m\u001b[1mpoint estimates and standard errors:\u001b[22m\u001b[39m\n",
      "\n",
      "        estimate std (InfoMat)std (gradients)std (sandwich)\n",
      "b₀         0.049         0.006         0.006         0.007\n",
      "b₁         0.256         0.012         0.012         0.013\n",
      "ω          0.014         0.001         0.001         0.003\n",
      "α          0.162         0.009         0.005         0.020\n",
      "β          0.824         0.009         0.005         0.019\n",
      "\n"
     ]
    }
   ],
   "source": [
    "lower = [-Inf,-0.99, 0,0,0]        #upper and lower bounds on the parameters: b0,b1,ω,α,beta\n",
    "upper = [ Inf, 0.99,10,1,1]\n",
    "\n",
    "garch11LL_(par,x) = garch11LL(par,x)[1]    #to get a function with just one output as MLE wants\n",
    "(parHat,std_hess,std_grad,std_sandw) = MLE(garch11LL_,par0,[y x],lower,upper)\n",
    "\n",
    "printblue(\"point estimates and standard errors:\\n\")\n",
    "xx = [parHat std_hess std_grad std_sandw]\n",
    "printmat(xx,colNames=[\"estimate\",\"std (InfoMat)\",\"std (gradients)\",\"std (sandwich)\"],rowNames=coefNames,width=14)"
   ]
  },
  {
   "cell_type": "markdown",
   "metadata": {},
   "source": [
    "# Value at Risk\n",
    "\n",
    "calculated by assuming conditional (time-varying) normality,\n",
    "\n",
    "$\n",
    "\\text{VaR} = -(\\mu_t - 1.645 \\sigma_t),\n",
    "$\n",
    "\n",
    "where \n",
    "$\\mu_t$ are the predictions from the estimated mean equation ($x_t'b$) and $\\sigma_t$ from the GARCH(1,1) model."
   ]
  },
  {
   "cell_type": "code",
   "execution_count": 8,
   "metadata": {
    "tags": []
   },
   "outputs": [
    {
     "data": {
      "image/png": "[encoded data removed]"
     },
     "metadata": {},
     "output_type": "display_data"
    }
   ],
   "source": [
    "(σ²,μ) = garch11LL(parHat,[y x])[2:3]         #get the fitted values of the σ²- and μ-vectors\n",
    "VaR95  = -(μ - 1.645*sqrt.(σ²))\n",
    "\n",
    "\n",
    "xTicksLoc = [Date(1990),Date(2000),Date(2010)]\n",
    "xTicksLab = Dates.format.(xTicksLoc,\"Y\")\n",
    "\n",
    "p1 = plot( dN[2:end],VaR95,\n",
    "           xticks = (xTicksLoc,xTicksLab),\n",
    "           legend = false,\n",
    "           title = \"1-day VaR (95%)\" )\n",
    "display(p1)"
   ]
  },
  {
   "cell_type": "code",
   "execution_count": 9,
   "metadata": {
    "tags": []
   },
   "outputs": [
    {
     "name": "stdout",
     "output_type": "stream",
     "text": [
      "Coverage ratio for VaR(95%):      0.058\n"
     ]
    }
   ],
   "source": [
    "CovRatio = mean((-y) .>= VaR95)             #coverage ratio for VaR\n",
    "printlnPs(\"Coverage ratio for VaR(95%): \",CovRatio)"
   ]
  },
  {
   "cell_type": "markdown",
   "metadata": {},
   "source": [
    "# eGARCH (extra)\n",
    "\n",
    "This section estimates eGARCH models for 2 return series."
   ]
  },
  {
   "cell_type": "code",
   "execution_count": 10,
   "metadata": {
    "tags": []
   },
   "outputs": [
    {
     "data": {
      "text/plain": [
       "DccParTrans (generic function with 1 method)"
      ]
     },
     "execution_count": 10,
     "metadata": {},
     "output_type": "execute_result"
    }
   ],
   "source": [
    "include(\"jlFiles/Garch.jl\")"
   ]
  },
  {
   "cell_type": "markdown",
   "metadata": {},
   "source": [
    "## Load Data"
   ]
  },
  {
   "cell_type": "code",
   "execution_count": 11,
   "metadata": {
    "tags": []
   },
   "outputs": [],
   "source": [
    "xx  = readdlm(\"Data/FFdSizePs.csv\",',',skipstart=1)\n",
    "ymd = round.(Int,xx[:,1])     #YearMonthDay, like 20121231\n",
    "R   = xx[:,2:end]             #returns for 10 different portfolios\n",
    "xx  = nothing\n",
    "\n",
    "R9 = R[2:end,9]                         #returns, 2nd largest firms\n",
    "x9 = [ones(size(R9)) R[1:end-1,9]]      #regressors, [1, R1(t-1)]\n",
    "\n",
    "R10 = R[2:end,10]                         #returns, largest firms\n",
    "x10 = [ones(size(R10)) R[1:end-1,10]]     #regressors, [1, R10(t-1)]\n",
    "\n",
    "dN = Date.(string.(ymd),\"yyyymmdd\");    #to Julia dates"
   ]
  },
  {
   "cell_type": "markdown",
   "metadata": {},
   "source": [
    "## Estimate eGARCH(1,1) models\n",
    "\n",
    "for each of the two return series. Also, calculate the standardized residuals as \n",
    "$v_t = u_t/\\sigma_t$"
   ]
  },
  {
   "cell_type": "code",
   "execution_count": 12,
   "metadata": {
    "tags": []
   },
   "outputs": [
    {
     "name": "stdout",
     "output_type": "stream",
     "text": [
      "\u001b[34m\u001b[1meGARCH(1,1), parameter estimates for R9:\u001b[22m\u001b[39m\n",
      "\n",
      "        coef\n",
      "b₀     0.042\n",
      "b₁     0.100\n",
      "ω     -0.116\n",
      "α      0.147\n",
      "β      0.980\n",
      "γ     -0.088\n",
      "\n"
     ]
    }
   ],
   "source": [
    "par0 = [mean(R9),0,var(R9)*0.05,0.05,0.90,0]   #initial parameter guess: b0,b1,ω,α,β,γ\n",
    "\n",
    "lower = [-Inf,-0.99,-Inf,-Inf,0,-Inf]              #upper and lower bounds on the parameters\n",
    "upper = [ Inf, 0.99, Inf, Inf,1, Inf]\n",
    "\n",
    "egarch11LL_(par,yx) = egarch11LL(par,yx)[1]              #to get a function with just one output\n",
    "parHat, = MLE(egarch11LL_,par0,[R9 x9],lower,upper)\n",
    "\n",
    "(_,σ²_9,_,u) = egarch11LL(parHat,[R9 x9])\n",
    "v9 = u./sqrt.(σ²_9)                       #standardized residuals (used below)\n",
    "\n",
    "printblue(\"eGARCH(1,1), parameter estimates for R9:\\n\")\n",
    "coefNames = [\"b₀\",\"b₁\",\"ω\",\"α\",\"β\",\"γ\"]\n",
    "printmat(parHat,colNames=[\"coef\"],rowNames=coefNames)"
   ]
  },
  {
   "cell_type": "code",
   "execution_count": 13,
   "metadata": {
    "tags": []
   },
   "outputs": [
    {
     "name": "stdout",
     "output_type": "stream",
     "text": [
      "\u001b[34m\u001b[1meGARCH(1,1), parameter estimates for R10:\u001b[22m\u001b[39m\n",
      "\n",
      "        coef\n",
      "b₀     0.041\n",
      "b₁     0.001\n",
      "ω     -0.100\n",
      "α      0.130\n",
      "β      0.982\n",
      "γ     -0.085\n",
      "\n"
     ]
    }
   ],
   "source": [
    "parHat, = MLE(egarch11LL_,par0,[R10 x10],lower,upper)\n",
    "\n",
    "(_,σ²_10,_,u) = egarch11LL(parHat,[R10 x10])\n",
    "v10 = u./sqrt.(σ²_10)\n",
    "\n",
    "printblue(\"eGARCH(1,1), parameter estimates for R10:\\n\")\n",
    "printmat(parHat,colNames=[\"coef\"],rowNames=coefNames)"
   ]
  },
  {
   "cell_type": "markdown",
   "metadata": {
    "tags": []
   },
   "source": [
    "# DCC (extra)\n",
    "\n",
    "This section estimates a DCC model from the two series of standardized residuals (from the eGARCH estimation above).\n",
    "\n",
    "To impose the necessary restrictions, we estimate `(a,b)` but they imply the following `(α,β)` via the `DccParTrans()` function:\n",
    "\n",
    "$\n",
    "\\alpha = e^a/(1+e^a+e^b)\n",
    "$\n",
    "\n",
    "$\n",
    "\\beta = e^b/(1+e^a+e^b)\n",
    "$\n",
    "\n",
    "## A Note on the Code\n",
    "\n",
    "The `DccLL()` function calculates the ($T$-vector of) log-likelihood functions values. It takes the transformed parameters (see above) and a 3-vector `data` as inputs. The latter is a vector of arrays, where `v = data[1], σ² = data[2], Qbar = data[3]`."
   ]
  },
  {
   "cell_type": "code",
   "execution_count": 14,
   "metadata": {
    "tags": []
   },
   "outputs": [
    {
     "name": "stdout",
     "output_type": "stream",
     "text": [
      "Initial guess of parameters\n",
      "       coef\n",
      "α     0.182\n",
      "β     0.669\n",
      "\n",
      "Testing the log likelihood fn: -13944.615139051915\n"
     ]
    }
   ],
   "source": [
    "par0 = [0.2,1.5]\n",
    "(α,β) = DccParTrans(par0)            #we estimate (a,b), but they imply (α,β)\n",
    "\n",
    "println(\"Initial guess of parameters\")\n",
    "printmat([α,β],colNames=[\"coef\"],rowNames=[\"α\",\"β\"])\n",
    "\n",
    "v   = [v9 v10]\n",
    "σ²  = [σ²_9 σ²_10]\n",
    "Qbar = cov(v)\n",
    "data = [v,σ²,Qbar]             #vector of arrays, unpacked inside DccLL  \n",
    "\n",
    "LL_t, = DccLL(par0,data)       #testing the log likelihood fn\n",
    "println(\"Testing the log likelihood fn: \",sum(LL_t))"
   ]
  },
  {
   "cell_type": "code",
   "execution_count": 15,
   "metadata": {
    "tags": []
   },
   "outputs": [
    {
     "name": "stdout",
     "output_type": "stream",
     "text": [
      "Estimated parameters\n",
      "       coef\n",
      "α     0.024\n",
      "β     0.967\n",
      "\n"
     ]
    }
   ],
   "source": [
    "Sol = optimize(par->-sum(DccLL(par,data)[1]),par0)    #estimate (a,b)\n",
    "parHat = Optim.minimizer(Sol)\n",
    "(α,β) = DccParTrans(parHat)                                #(a,b) -> (α,beta) \n",
    "\n",
    "println(\"Estimated parameters\")\n",
    "printmat([α,β],colNames=[\"coef\"],rowNames=[\"α\",\"β\"])"
   ]
  },
  {
   "cell_type": "code",
   "execution_count": 16,
   "metadata": {
    "tags": []
   },
   "outputs": [
    {
     "data": {
      "text/plain": [
       "CovToCor"
      ]
     },
     "execution_count": 16,
     "metadata": {},
     "output_type": "execute_result"
    }
   ],
   "source": [
    "\"\"\"\n",
    "    CovToCor(covMat)\n",
    "\n",
    "Compute correlation matrix from covariance matrix.\n",
    "\n",
    "\"\"\"\n",
    "function CovToCor(covMat)\n",
    "  d      = diag(covMat)            #variances\n",
    "  corMat = covMat./sqrt.(d*d')\n",
    "  return corMat\n",
    "end"
   ]
  },
  {
   "cell_type": "code",
   "execution_count": 17,
   "metadata": {
    "tags": []
   },
   "outputs": [],
   "source": [
    "(_,Σ) = DccLL(parHat,data)     #nxnxT covariance arrays\n",
    "T = size(Σ,3)\n",
    "\n",
    "ρ = fill(NaN,T)                #the fitted correlations\n",
    "for t = 1:T\n",
    "    ρ[t] = CovToCor(Σ[:,:,t])[1,2]\n",
    "end"
   ]
  },
  {
   "cell_type": "code",
   "execution_count": 18,
   "metadata": {
    "tags": []
   },
   "outputs": [
    {
     "data": {
      "image/png": "[encoded data removed]"
     },
     "metadata": {},
     "output_type": "display_data"
    }
   ],
   "source": [
    "p1 = plot( dN[2:end],ρ,\n",
    "           xticks = (xTicksLoc,xTicksLab),\n",
    "           legend = false,\n",
    "           title = \"Fitted correlation\" )\n",
    "display(p1)"
   ]
  },
  {
   "cell_type": "code",
   "execution_count": null,
   "metadata": {},
   "outputs": [],
   "source": []
  }
 ],
 "metadata": {
  "@webio": {
   "lastCommId": null,
   "lastKernelId": null
  },
  "anaconda-cloud": {},
  "kernelspec": {
   "display_name": "Julia 1.8.5",
   "language": "julia",
   "name": "julia-1.8"
  },
  "language_info": {
   "file_extension": ".jl",
   "mimetype": "application/julia",
   "name": "julia",
   "version": "1.8.5"
  }
 },
 "nbformat": 4,
 "nbformat_minor": 4
}
