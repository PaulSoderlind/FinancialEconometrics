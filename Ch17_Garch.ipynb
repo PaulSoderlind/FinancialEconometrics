{
 "cells": [
  {
   "cell_type": "markdown",
   "metadata": {},
   "source": [
    "# AR(1) + GARCH(1,1) Model\n",
    "\n",
    "This notebook estimates an AR(1) where the residuals follow a GARCH(1,1) model. The results are used to calculate a time-varying (daily) value at risk. \n",
    "\n",
    "For learning purposes the code specifies the likelihood function, calls on a optimization function and calculates (numerical) derivatives. For a more automated approach, consider the [ARCHModels.jl](https://github.com/s-broda/ARCHModels.jl) package. You may want to look at the MLE notebook before the current one."
   ]
  },
  {
   "cell_type": "markdown",
   "metadata": {},
   "source": [
    "## Load Packages and Extra Functions"
   ]
  },
  {
   "cell_type": "code",
   "execution_count": 1,
   "metadata": {},
   "outputs": [
    {
     "data": {
      "text/plain": [
       "printyellow (generic function with 1 method)"
      ]
     },
     "execution_count": 1,
     "metadata": {},
     "output_type": "execute_result"
    }
   ],
   "source": [
    "using Printf, Dates, DelimitedFiles, Statistics, LinearAlgebra, Optim\n",
    "\n",
    "using FiniteDiff: finite_difference_hessian as hessian, finite_difference_jacobian as jacobian\n",
    "\n",
    "include(\"jlFiles/printmat.jl\")"
   ]
  },
  {
   "cell_type": "code",
   "execution_count": 2,
   "metadata": {},
   "outputs": [],
   "source": [
    "using Plots\n",
    "\n",
    "#pyplot(size=(600,400))           #pyplot() or gr()\n",
    "gr(size=(480,320))\n",
    "default(fmt = :png)"
   ]
  },
  {
   "cell_type": "markdown",
   "metadata": {},
   "source": [
    "## Loading Data"
   ]
  },
  {
   "cell_type": "code",
   "execution_count": 3,
   "metadata": {},
   "outputs": [],
   "source": [
    "xx  = readdlm(\"Data/FFdSizePs.csv\",',',skipstart=1)\n",
    "ymd = round.(Int,xx[:,1])     #YearMonthDay, like 20121231\n",
    "R   = xx[:,2]                 #returns for the smallest size portfolio\n",
    "xx  = nothing\n",
    "\n",
    "y = R[2:end]                           #dependent variable, y(t)\n",
    "x = [ones(size(y)) R[1:end-1]]         #regressors, [1, y(t-1)]\n",
    "\n",
    "dN = Date.(string.(ymd),\"yyyymmdd\");    #to Julia dates"
   ]
  },
  {
   "cell_type": "markdown",
   "metadata": {},
   "source": [
    "## The Likelihood Function"
   ]
  },
  {
   "cell_type": "markdown",
   "metadata": {},
   "source": [
    "Consider a regression equation, where the residual follows a GARCH(1,1) process\n",
    "\n",
    "$\n",
    "y_{t}             =x_{t}^{\\prime}b+u_{t} \\: \\text{ with }\\: u_{t}=v_{t}\\sigma_{t} \\: \\text{ and }\n",
    "$\n",
    "\n",
    "$\n",
    "\\sigma_{t}^{2}    =\\omega+\\alpha u_{t-1}^{2}+\\beta\\sigma_{t-1}^{2}.\n",
    "$\n",
    "\n",
    "Notice that we require $(\\omega,\\alpha,\\beta)$ to all be positive and $\\alpha + \\beta < 1$.\n",
    "\n",
    "If $v_{t}\\sim N(0,1)$, then the likelihood function is\n",
    "\n",
    "$\n",
    "\\ln L=-\\frac{T}{2}\\ln(2\\pi)  \n",
    "-\\frac{1}{2}\\sum_{t=1}^{T}\\ln\\sigma_{t}^{2}-\n",
    "\\frac{1}{2}\\sum_{t=1}^{T}\\frac{u_{t}^{2}}{\\sigma_{t}\n",
    "^{2}}.\n",
    "$\n",
    "\n",
    "The likelihood function of a GARCH(1,1) model is in `garch11LL`.\n",
    "\n",
    "### A Remark on the Code\n",
    "\n",
    "For simplicity, the $\\sigma_t^2$ is calculated in a loop. As an alternative, consider the `filt()` function from the [DSP.jl](https://github.com/JuliaDSP/DSP.jl) package."
   ]
  },
  {
   "cell_type": "code",
   "execution_count": 4,
   "metadata": {},
   "outputs": [
    {
     "data": {
      "text/plain": [
       "garch11LL (generic function with 1 method)"
      ]
     },
     "execution_count": 4,
     "metadata": {},
     "output_type": "execute_result"
    }
   ],
   "source": [
    "function garch11LL(par,y,x)\n",
    "\n",
    "    (T,k) = (size(x,1),size(x,2))\n",
    "\n",
    "    b       = par[1:k]             #mean equation, y = x'*b\n",
    "    (ω,α,β) = par[k+1:k+3]         #GARCH(1,1) equation: \n",
    "                                   #σ²(t) = ω + α*u(t-1)^2 + β*σ²(t-1)\n",
    "    yhat = x*b                                \n",
    "    u    = y - yhat                #fitted regression residuals\n",
    "    σ²_0 = var(u)\n",
    "\n",
    "    σ²    = zeros(typeof(α),T)     #works with ForwardDiff too\n",
    "    σ²[1] = ω + α*σ²_0 + β*σ²_0\n",
    "    for t = 2:T                                    \n",
    "      σ²[t] = ω + α*u[t-1]^2 + β*σ²[t-1]\n",
    "    end\n",
    "\n",
    "    LL_t    = -(1/2)*log(2*π) .- (1/2)*log.(σ²) .- (1/2)*(u.^2)./σ²\n",
    "    LL_t[1] = 0.0               #effectively skip the first observation\n",
    "\n",
    "    LL      = sum(LL_t)\n",
    "\n",
    "    return LL, LL_t, σ², yhat, u\n",
    "\n",
    "end"
   ]
  },
  {
   "cell_type": "markdown",
   "metadata": {},
   "source": [
    "## Try the Likelihood Function"
   ]
  },
  {
   "cell_type": "code",
   "execution_count": 5,
   "metadata": {},
   "outputs": [
    {
     "name": "stdout",
     "output_type": "stream",
     "text": [
      "Value of log-likelihood fn at starting guess of the parameters:  -9231.913\n"
     ]
    }
   ],
   "source": [
    "par0 = [mean(y),0,var(y)*0.05,0.05,0.90]         #initial parameter guess\n",
    "\n",
    "(LL,) = garch11LL(par0,y,x)                      #testing the log lik\n",
    "\n",
    "printlnPs(\"Value of log-likelihood fn at starting guess of the parameters: \",LL)"
   ]
  },
  {
   "cell_type": "markdown",
   "metadata": {},
   "source": [
    "## Maximize the Likelihood Function"
   ]
  },
  {
   "cell_type": "code",
   "execution_count": 6,
   "metadata": {},
   "outputs": [
    {
     "name": "stdout",
     "output_type": "stream",
     "text": [
      "\u001b[34m\u001b[1mParameter estimates:\u001b[22m\u001b[39m\n",
      "\n",
      "        coef\n",
      "b₀     0.049\n",
      "b₁     0.256\n",
      "ω      0.014\n",
      "α      0.162\n",
      "β      0.824\n",
      "\n"
     ]
    }
   ],
   "source": [
    "lower = [-Inf,-0.9999,0,0,0]        #upper and lower bounds on the parameters: b0,b1,ω,α,beta\n",
    "upper = [Inf,0.9999,Inf,1,1]\n",
    "\n",
    "Sol = optimize(par->-garch11LL(par,y,x)[1],lower,upper,par0)   #minimize -LL\n",
    "\n",
    "parHat = Optim.minimizer(Sol)          #extract the optimal solution\n",
    "\n",
    "printblue(\"Parameter estimates:\\n\")\n",
    "coefNames = [\"b₀\",\"b₁\",\"ω\",\"α\",\"β\"]\n",
    "printmat(parHat,colNames=[\"coef\"],rowNames=coefNames)"
   ]
  },
  {
   "cell_type": "markdown",
   "metadata": {},
   "source": [
    "## Standard Errors of the Estimates\n",
    "\n",
    "MLE is typically asymptotically normally distributed\n",
    "\n",
    "$\n",
    "\\sqrt{T}(\\hat{\\theta}-\\theta)  \\rightarrow^{d}N(0,V) \\: \\text{, where } \\: V=I(\\theta)^{-1}\\text{ with }\n",
    "$\n",
    "\n",
    "$\n",
    "I(\\theta) =-\\text{E}\\frac{\\partial^{2}\\ln L_t}{\\partial\\theta\\partial\\theta^{\\prime}}\n",
    "$\n",
    "\n",
    "where $\\ln L_t$  is the contribution of period $t$ to the likelihood function and $I(\\theta)$ is the information matrix.\n",
    "\n",
    "The code below calculates numerical derivatives.  \n",
    "\n",
    "\n",
    "Alternatively, we can use the outer product of the gradients to calculate the\n",
    "information matrix as\n",
    "\n",
    "$\n",
    "J(\\theta)=\\text{E}\\left[  \\frac{\\partial\\ln L_t}{\\partial\\theta\n",
    "}\\frac{\\partial\\ln L_t}{\\partial\\theta^{\\prime}}\\right]\n",
    "$\n",
    "\n",
    "We could also use the \"sandwich\" estimator\n",
    "\n",
    "$\n",
    "V=I(\\theta)^{-1}J(\\theta)I(\\theta)^{-1}.\n",
    "$"
   ]
  },
  {
   "cell_type": "markdown",
   "metadata": {},
   "source": [
    "### Std from Hessian"
   ]
  },
  {
   "cell_type": "code",
   "execution_count": 7,
   "metadata": {},
   "outputs": [
    {
     "name": "stdout",
     "output_type": "stream",
     "text": [
      "\u001b[34m\u001b[1mstd from Hessian:\u001b[22m\u001b[39m\n",
      "\n",
      "         Std\n",
      "b₀     0.006\n",
      "b₁     0.012\n",
      "ω      0.001\n",
      "α      0.009\n",
      "β      0.009\n",
      "\n"
     ]
    }
   ],
   "source": [
    "T = size(y,1)                    #finding std(coefs) by inverse of information matrix\n",
    "\n",
    "Ia         = -hessian(par->mean(garch11LL(par,y,x)[2]),parHat)\n",
    "Ia         = (Ia+Ia')/2              #to guarantee symmetry\n",
    "vcv        = inv(Ia)/T\n",
    "std_parHat = sqrt.(diag(vcv))\n",
    "\n",
    "printblue(\"std from Hessian:\\n\")\n",
    "printmat(std_parHat,colNames=[\"Std\"],rowNames=coefNames)"
   ]
  },
  {
   "cell_type": "markdown",
   "metadata": {},
   "source": [
    "### Std from Gradient and Sandwich"
   ]
  },
  {
   "cell_type": "code",
   "execution_count": 8,
   "metadata": {},
   "outputs": [
    {
     "name": "stdout",
     "output_type": "stream",
     "text": [
      "\u001b[34m\u001b[1mGARCH parameter estimates and 3 different standard errors:\u001b[22m\u001b[39m\n",
      "\n",
      "            coef   Std hessian  Std gradient  Std sandwich\n",
      "b₀         0.049         0.006         0.006         0.007\n",
      "b₁         0.256         0.012         0.012         0.013\n",
      "ω          0.014         0.001         0.001         0.003\n",
      "α          0.162         0.009         0.005         0.020\n",
      "β          0.824         0.009         0.005         0.019\n",
      "\n"
     ]
    }
   ],
   "source": [
    "LLgrad      = jacobian(par->garch11LL(par,y,x)[2],parHat)   #T x length(par) matrix, T gradients\n",
    "J           = LLgrad'LLgrad/T\n",
    "vcv         = inv(J)/T\n",
    "stdb_parHat = sqrt.(diag(vcv))                          #std from gradients\n",
    "\n",
    "vcv         = inv(Ia) * J * inv(Ia)/T\n",
    "stdc_parHat = sqrt.(diag(vcv))                          #std from sandwich\n",
    "\n",
    "printblue(\"GARCH parameter estimates and 3 different standard errors:\\n\")\n",
    "xx = [parHat std_parHat stdb_parHat stdc_parHat]\n",
    "printmat(xx,colNames=[\"coef\",\"Std hessian\",\"Std gradient\",\"Std sandwich\"],rowNames=coefNames,width=14)"
   ]
  },
  {
   "cell_type": "markdown",
   "metadata": {},
   "source": [
    "# Value at Risk\n",
    "\n",
    "calculated by assuming conditional (time-varying) normality,\n",
    "\n",
    "$\n",
    "\\text{VaR} = -(\\mu_t - 1.645 \\sigma_t),\n",
    "$\n",
    "\n",
    "where \n",
    "$\\mu_t$ are the predictions from the estimated mean equation ($x_t'b$) and $\\sigma_t$ from the GARCH(1,1) model."
   ]
  },
  {
   "cell_type": "code",
   "execution_count": 9,
   "metadata": {},
   "outputs": [
    {
     "data": {
      "image/png": "[encoded data removed]"
     },
     "metadata": {},
     "output_type": "display_data"
    }
   ],
   "source": [
    "(σ²,μ) = garch11LL(parHat,y,x)[3:4]         #get the fitted values of the σ²- and μ-vectors\n",
    "VaR95  = -(μ - 1.645*sqrt.(σ²))\n",
    "\n",
    "\n",
    "xTicksLoc = [Date(1990),Date(2000),Date(2010)]\n",
    "xTicksLab = Dates.format.(xTicksLoc,\"Y\")\n",
    "\n",
    "p1 = plot( dN[2:end],VaR95,\n",
    "           xticks = (xTicksLoc,xTicksLab),\n",
    "           legend = false,\n",
    "           title = \"1-day VaR (95%)\" )\n",
    "display(p1)"
   ]
  },
  {
   "cell_type": "code",
   "execution_count": 10,
   "metadata": {},
   "outputs": [
    {
     "name": "stdout",
     "output_type": "stream",
     "text": [
      "Coverage ratio for VaR(95%):      0.058\n"
     ]
    }
   ],
   "source": [
    "CovRatio = mean((-y) .>= VaR95)             #coverage ratio for VaR\n",
    "printlnPs(\"Coverage ratio for VaR(95%): \",CovRatio)"
   ]
  },
  {
   "cell_type": "markdown",
   "metadata": {},
   "source": [
    "# eGARCH (extra)\n",
    "\n",
    "This section estimates eGARCH models for 2 return series."
   ]
  },
  {
   "cell_type": "code",
   "execution_count": 11,
   "metadata": {},
   "outputs": [
    {
     "data": {
      "text/plain": [
       "DccParTrans (generic function with 1 method)"
      ]
     },
     "execution_count": 11,
     "metadata": {},
     "output_type": "execute_result"
    }
   ],
   "source": [
    "include(\"jlFiles/Garch.jl\")"
   ]
  },
  {
   "cell_type": "markdown",
   "metadata": {},
   "source": [
    "## Load Data"
   ]
  },
  {
   "cell_type": "code",
   "execution_count": 12,
   "metadata": {},
   "outputs": [],
   "source": [
    "xx  = readdlm(\"Data/FFdSizePs.csv\",',',skipstart=1)\n",
    "ymd = round.(Int,xx[:,1])     #YearMonthDay, like 20121231\n",
    "R   = xx[:,2:end]             #returns for 10 different portfolios\n",
    "xx  = nothing\n",
    "\n",
    "R9 = R[2:end,9]                         #returns, 2nd largest firms\n",
    "x9 = [ones(size(R9)) R[1:end-1,9]]      #regressors, [1, R1(t-1)]\n",
    "\n",
    "R10 = R[2:end,10]                         #returns, largest firms\n",
    "x10 = [ones(size(R10)) R[1:end-1,10]]     #regressors, [1, R10(t-1)]\n",
    "\n",
    "dN = Date.(string.(ymd),\"yyyymmdd\");    #to Julia dates"
   ]
  },
  {
   "cell_type": "markdown",
   "metadata": {},
   "source": [
    "## Estimate eGARCH(1,1) models\n",
    "\n",
    "for each of the two return series. Also, calculate the standardized residuals as \n",
    "$v_t = u_t/\\sigma_t$"
   ]
  },
  {
   "cell_type": "code",
   "execution_count": 13,
   "metadata": {},
   "outputs": [
    {
     "name": "stdout",
     "output_type": "stream",
     "text": [
      "\u001b[34m\u001b[1meGARCH(1,1), parameter estimates for R9:\u001b[22m\u001b[39m\n",
      "\n",
      "        coef\n",
      "b₀    -0.109\n",
      "b₁     0.156\n",
      "ω      0.000\n",
      "α      0.021\n",
      "β      0.981\n",
      "γ     -0.102\n",
      "\n"
     ]
    }
   ],
   "source": [
    "par0 = [mean(R9),0,var(R9)*0.05,0.05,0.90,0]   #initial parameter guess: b0,b1,ω,α,β,γ\n",
    "lower = [-Inf,-0.9999,0,0,0,-Inf]              #upper and lower bounds on the parameters\n",
    "upper = [Inf,0.9999,Inf,1,1,Inf]\n",
    "\n",
    "Sol = optimize(par->-egarch11LL(par,R9,x9)[1],lower,upper,par0)\n",
    "parHat = Optim.minimizer(Sol)\n",
    "\n",
    "(_,_,σ²_9,_,u) = egarch11LL(parHat,R9,x9)\n",
    "v9 = u./sqrt.(σ²_9)                       #standardized residuals (used below)\n",
    "\n",
    "printblue(\"eGARCH(1,1), parameter estimates for R9:\\n\")\n",
    "coefNames = [\"b₀\",\"b₁\",\"ω\",\"α\",\"β\",\"γ\"]\n",
    "printmat(parHat,colNames=[\"coef\"],rowNames=coefNames)"
   ]
  },
  {
   "cell_type": "code",
   "execution_count": 14,
   "metadata": {},
   "outputs": [
    {
     "name": "stdout",
     "output_type": "stream",
     "text": [
      "\u001b[34m\u001b[1meGARCH(1,1), parameter estimates for R10:\u001b[22m\u001b[39m\n",
      "\n",
      "        coef\n",
      "b₀    -0.126\n",
      "b₁     0.073\n",
      "ω      0.000\n",
      "α      0.033\n",
      "β      0.970\n",
      "γ     -0.132\n",
      "\n"
     ]
    }
   ],
   "source": [
    "Sol = optimize(par->-egarch11LL(par,R10,x10)[1],lower,upper,par0)\n",
    "parHat = Optim.minimizer(Sol)\n",
    "\n",
    "(_,_,σ²_10,_,u) = egarch11LL(parHat,R10,x10)\n",
    "v10 = u./sqrt.(σ²_10)\n",
    "\n",
    "printblue(\"eGARCH(1,1), parameter estimates for R10:\\n\")\n",
    "printmat(parHat,colNames=[\"coef\"],rowNames=coefNames)"
   ]
  },
  {
   "cell_type": "markdown",
   "metadata": {},
   "source": [
    "# DCC (extra)\n",
    "\n",
    "This section estimates a DCC model from the two series of standardized residuals (from the eGARCH estimation above).\n",
    "\n",
    "To impose the necessary restrictions, we estimate `(a,b)` but they imply the following `(α,β)` via the `DccParTrans()` function:\n",
    "\n",
    "$\n",
    "\\alpha = \\exp(a)/[1+\\exp(a)+\\exp(b)]\n",
    "$\n",
    "\n",
    "$\n",
    "\\beta = \\exp(b)/[1+\\exp(a)+\\exp(b)]\n",
    "$"
   ]
  },
  {
   "cell_type": "code",
   "execution_count": 15,
   "metadata": {},
   "outputs": [
    {
     "name": "stdout",
     "output_type": "stream",
     "text": [
      "Initial guess of parameters\n",
      "       coef\n",
      "α     0.182\n",
      "β     0.669\n",
      "\n",
      "Testing the log likelihood fn: -15327.318829409494\n"
     ]
    }
   ],
   "source": [
    "par0 = [0.2,1.5]\n",
    "(α,β) = DccParTrans(par0)            #we estimate (a,b), but they imply (α,β)\n",
    "\n",
    "println(\"Initial guess of parameters\")\n",
    "printmat([α,β],colNames=[\"coef\"],rowNames=[\"α\",\"β\"])\n",
    "\n",
    "v   = [v9 v10]\n",
    "σ²  = [σ²_9 σ²_10] \n",
    "Qbar = cov(v)\n",
    "\n",
    "LL, = DccLL(par0,v,σ²,Qbar)       #testing the log likelihood fn\n",
    "println(\"Testing the log likelihood fn: \",LL)"
   ]
  },
  {
   "cell_type": "code",
   "execution_count": 16,
   "metadata": {},
   "outputs": [
    {
     "name": "stdout",
     "output_type": "stream",
     "text": [
      "Estimated parameters\n",
      "       coef\n",
      "α     0.008\n",
      "β     0.987\n",
      "\n"
     ]
    }
   ],
   "source": [
    "Sol = optimize(par->-DccLL(par,v,σ²,Qbar)[1],par0)    #estimate (a,b)\n",
    "parHat = Optim.minimizer(Sol)\n",
    "(α,β) = DccParTrans(parHat)                           #(a,b) -> (α,β) \n",
    "\n",
    "println(\"Estimated parameters\")\n",
    "printmat([α,β],colNames=[\"coef\"],rowNames=[\"α\",\"β\"])"
   ]
  },
  {
   "cell_type": "code",
   "execution_count": 17,
   "metadata": {},
   "outputs": [
    {
     "data": {
      "text/plain": [
       "CovToCor"
      ]
     },
     "execution_count": 17,
     "metadata": {},
     "output_type": "execute_result"
    }
   ],
   "source": [
    "\"\"\"\n",
    "    CovToCor(covMat)\n",
    "\n",
    "Compute correlation matrix from covariance matrix.\n",
    "\n",
    "\"\"\"\n",
    "function CovToCor(covMat)\n",
    "  d      = diag(covMat)            #variances\n",
    "  corMat = covMat./sqrt.(d*d')\n",
    "  return corMat\n",
    "end"
   ]
  },
  {
   "cell_type": "code",
   "execution_count": 18,
   "metadata": {},
   "outputs": [],
   "source": [
    "Σ = DccLL(parHat,v,σ²,Qbar)[3]               #nxnxT covariance arrays\n",
    "\n",
    "ρ = fill(NaN,T)                              #the fitted correlations\n",
    "for t = 1:T\n",
    "    ρ[t] = CovToCor(Σ[:,:,t])[1,2]\n",
    "end"
   ]
  },
  {
   "cell_type": "code",
   "execution_count": 19,
   "metadata": {},
   "outputs": [
    {
     "data": {
      "image/png": "[encoded data removed]"
     },
     "metadata": {},
     "output_type": "display_data"
    }
   ],
   "source": [
    "p1 = plot( dN[2:end],ρ,\n",
    "           xticks = (xTicksLoc,xTicksLab),\n",
    "           legend = false,\n",
    "           title = \"Fitted correlation\" )\n",
    "display(p1)"
   ]
  },
  {
   "cell_type": "code",
   "execution_count": null,
   "metadata": {},
   "outputs": [],
   "source": []
  }
 ],
 "metadata": {
  "@webio": {
   "lastCommId": null,
   "lastKernelId": null
  },
  "anaconda-cloud": {},
  "kernelspec": {
   "display_name": "Julia 1.7.3",
   "language": "julia",
   "name": "julia-1.7"
  },
  "language_info": {
   "file_extension": ".jl",
   "mimetype": "application/julia",
   "name": "julia",
   "version": "1.7.3"
  }
 },
 "nbformat": 4,
 "nbformat_minor": 4
}
