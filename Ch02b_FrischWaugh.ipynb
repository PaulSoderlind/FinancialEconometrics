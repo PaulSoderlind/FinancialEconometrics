{
 "cells": [
  {
   "cell_type": "markdown",
   "metadata": {},
   "source": [
    "# OLS, The Frisch-Waugh Theorem\n",
    "\n",
    "This notebook illustrates the Frish-Waugh theorem. "
   ]
  },
  {
   "cell_type": "markdown",
   "metadata": {},
   "source": [
    "## Load Packages and Extra Functions"
   ]
  },
  {
   "cell_type": "code",
   "execution_count": 1,
   "metadata": {},
   "outputs": [],
   "source": [
    "using Printf, DelimitedFiles, LinearAlgebra, Distributions\n",
    "\n",
    "include(\"jlFiles/printmat.jl\")\n",
    "include(\"jlFiles/Ols.jl\");         #functions for OLS"
   ]
  },
  {
   "cell_type": "markdown",
   "metadata": {},
   "source": [
    "## Loading Data"
   ]
  },
  {
   "cell_type": "code",
   "execution_count": 2,
   "metadata": {},
   "outputs": [],
   "source": [
    "x = readdlm(\"Data/FFmFactorsPs.csv\",',',skipstart=1)\n",
    "\n",
    "y  = x[:,2]/100\n",
    "x₁ = [ones(length(y)) x[:,3]/100]\n",
    "x₂ = x[:,4]/100\n",
    "x = nothing"
   ]
  },
  {
   "cell_type": "markdown",
   "metadata": {},
   "source": [
    "## Regress y on x₁ and x₂"
   ]
  },
  {
   "cell_type": "code",
   "execution_count": 3,
   "metadata": {},
   "outputs": [
    {
     "name": "stdout",
     "output_type": "stream",
     "text": [
      "\u001b[34m\u001b[1mOLS Results from y regressed on x:\u001b[22m\u001b[39m\n",
      "\n",
      "             b       std\n",
      "c        0.007     0.002\n",
      "x₁_2     0.217     0.073\n",
      "x₂_1    -0.429     0.074\n",
      "\n"
     ]
    }
   ],
   "source": [
    "(b,_,_,V,) = OlsGMFn(y,[x₁ x₂])\n",
    "std_b = sqrt.(diag(V))\n",
    "\n",
    "printblue(\"OLS Results from y regressed on x:\\n\")\n",
    "printmat([b std_b],colNames=[\"b\",\"std\"],rowNames=[\"c\",\"x₁_2\",\"x₂_1\",])"
   ]
  },
  {
   "cell_type": "markdown",
   "metadata": {},
   "source": [
    "## The Three Steps in Frisch-Waugh\n",
    "\n",
    "1. Regress y on x₁ and save the residuals as `e_y`. (Sorry, cannot create a symbol like $e_y$.)\n",
    "\n",
    "2. Regress x₂ on x₁ and save the residuals as `e₂`.\n",
    "\n",
    "3. Regress e_y on e₂"
   ]
  },
  {
   "cell_type": "code",
   "execution_count": 4,
   "metadata": {},
   "outputs": [
    {
     "name": "stdout",
     "output_type": "stream",
     "text": [
      "\u001b[34m\u001b[1mOLS Results from e_y regressed on e₂:\u001b[22m\u001b[39m\n",
      "\n",
      "           b       std\n",
      "e₂    -0.429     0.074\n",
      "\n",
      "\u001b[31m\u001b[1mShould be same coeff and std as in multiple regression (above)\u001b[22m\u001b[39m\n"
     ]
    }
   ],
   "source": [
    "\n",
    "(_,e_y,) = OlsGMFn(y,x₁);              #step 1\n",
    "\n",
    "(_,e₂,) = OlsGMFn(x₂,x₁);              #step 2\n",
    "\n",
    "(b,_,_,V,) = OlsGMFn(e_y,e₂)           #step 3\n",
    "std_b = isa(V,Number) ? sqrt(V) : sqrt.(diag(V)) #diag() fails if V is a number (not a matrix)\n",
    "\n",
    "printblue(\"OLS Results from e_y regressed on e₂:\\n\")\n",
    "printmat([b std_b],colNames=[\"b\",\"std\"],rowNames=[\"e₂\"])\n",
    "printred(\"Should be same coeff and std as in multiple regression (above)\")"
   ]
  },
  {
   "cell_type": "code",
   "execution_count": null,
   "metadata": {},
   "outputs": [],
   "source": []
  }
 ],
 "metadata": {
  "@webio": {
   "lastCommId": null,
   "lastKernelId": null
  },
  "anaconda-cloud": {},
  "kernelspec": {
   "display_name": "Julia 1.8.5",
   "language": "julia",
   "name": "julia-1.8"
  },
  "language_info": {
   "file_extension": ".jl",
   "mimetype": "application/julia",
   "name": "julia",
   "version": "1.8.5"
  }
 },
 "nbformat": 4,
 "nbformat_minor": 4
}
