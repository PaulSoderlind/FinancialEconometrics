{
 "cells": [
  {
   "cell_type": "markdown",
   "metadata": {},
   "source": [
    "# OLS, The Frisch-Waugh Theorem\n",
    "\n",
    "This notebook illustrates the Frish-Waugh theorem.\n",
    "\n",
    "In particular, it shows the following. First, we regress\n",
    "\n",
    "$y = x_1'\\beta_1 + x_2'\\beta_2 + u$\n",
    "\n",
    "Second, we run three regressions\n",
    "\n",
    "1. $y = x_1'\\gamma_1 + e_y$\n",
    "\n",
    "2. $x_2 = x_1'\\delta + e_2$.\n",
    "\n",
    "3. $e_y = e_2'\\theta + v$,\n",
    "where $(e_y,e_2)$ are from the regressions in 1. and 2.\n",
    "\n",
    "Then, the estimates of $\\beta_2$ and $\\theta$ will be the same (as will their standard errors).\n"
   ]
  },
  {
   "cell_type": "markdown",
   "metadata": {},
   "source": [
    "## Load Packages and Extra Functions"
   ]
  },
  {
   "cell_type": "code",
   "execution_count": 1,
   "metadata": {},
   "outputs": [],
   "source": [
    "using Printf, DelimitedFiles, LinearAlgebra, Distributions\n",
    "\n",
    "include(\"jlFiles/printmat.jl\")\n",
    "include(\"jlFiles/Ols.jl\");         #functions for OLS"
   ]
  },
  {
   "cell_type": "markdown",
   "metadata": {},
   "source": [
    "## Loading Data"
   ]
  },
  {
   "cell_type": "code",
   "execution_count": 2,
   "metadata": {},
   "outputs": [],
   "source": [
    "x = readdlm(\"Data/FFmFactorsPs.csv\",',',skipstart=1)\n",
    "\n",
    "y  = x[:,2]/100\n",
    "x₁ = [ones(length(y)) x[:,3]/100]             #1st set of regressors (2)\n",
    "x₂ = x[:,4]/100                               #2nd set of regressors (here just 1)\n",
    "x = nothing"
   ]
  },
  {
   "cell_type": "markdown",
   "metadata": {},
   "source": [
    "## Regress y on Both x₁ and x₂"
   ]
  },
  {
   "cell_type": "code",
   "execution_count": 3,
   "metadata": {},
   "outputs": [
    {
     "name": "stdout",
     "output_type": "stream",
     "text": [
      "\u001b[34m\u001b[1mOLS Results from y regressed on x:\u001b[22m\u001b[39m\n",
      "\n",
      "               b       std\n",
      "x₁ (1)     0.007     0.002\n",
      "x₁ (2)     0.217     0.073\n",
      "x₂        -0.429     0.074\n",
      "\n",
      "Remark: x₁ (1) indicates variable 1 in x₁\n"
     ]
    }
   ],
   "source": [
    "(b,_,_,V,) = OlsGMFn(y,[x₁ x₂])\n",
    "std_b = sqrt.(diag(V))\n",
    "\n",
    "printblue(\"OLS Results from y regressed on x:\\n\")\n",
    "printmat([b std_b],colNames=[\"b\",\"std\"],rowNames=[\"x₁ (1)\",\"x₁ (2)\",\"x₂\"])\n",
    "\n",
    "println(\"Remark: x₁ (1) indicates variable 1 in x₁\")"
   ]
  },
  {
   "cell_type": "markdown",
   "metadata": {},
   "source": [
    "## The Three Steps in Frisch-Waugh\n",
    "\n",
    "1. Regress y on x₁ and save the residuals as e_y. (Sorry, cannot create a symbol like $e_y$.)\n",
    "\n",
    "2. Regress x₂ on x₁ and save the residuals as e₂.\n",
    "\n",
    "3. Regress e_y on e₂."
   ]
  },
  {
   "cell_type": "code",
   "execution_count": 4,
   "metadata": {},
   "outputs": [
    {
     "name": "stdout",
     "output_type": "stream",
     "text": [
      "\u001b[34m\u001b[1mOLS Results from e_y regressed on e₂:\u001b[22m\u001b[39m\n",
      "\n",
      "           b       std\n",
      "e₂    -0.429     0.074\n",
      "\n",
      "\u001b[31m\u001b[1mShould be same coeff and std as in multiple regression (above)\u001b[22m\u001b[39m\n"
     ]
    }
   ],
   "source": [
    "\n",
    "(_,e_y,) = OlsGMFn(y,x₁);              #step 1\n",
    "\n",
    "(_,e₂,) = OlsGMFn(x₂,x₁);              #step 2\n",
    "\n",
    "(b,_,_,V,) = OlsGMFn(e_y,e₂)           #step 3\n",
    "std_b = isa(V,Number) ? sqrt(V) : sqrt.(diag(V)) #diag() fails if V is a number (not a matrix)\n",
    "\n",
    "printblue(\"OLS Results from e_y regressed on e₂:\\n\")\n",
    "printmat([b std_b],colNames=[\"b\",\"std\"],rowNames=[\"e₂\"])\n",
    "printred(\"Should be same coeff and std as in multiple regression (above)\")"
   ]
  },
  {
   "cell_type": "code",
   "execution_count": null,
   "metadata": {},
   "outputs": [],
   "source": []
  }
 ],
 "metadata": {
  "@webio": {
   "lastCommId": null,
   "lastKernelId": null
  },
  "anaconda-cloud": {},
  "kernelspec": {
   "display_name": "Julia 1.9.4",
   "language": "julia",
   "name": "julia-1.9"
  },
  "language_info": {
   "file_extension": ".jl",
   "mimetype": "application/julia",
   "name": "julia",
   "version": "1.9.4"
  }
 },
 "nbformat": 4,
 "nbformat_minor": 4
}
