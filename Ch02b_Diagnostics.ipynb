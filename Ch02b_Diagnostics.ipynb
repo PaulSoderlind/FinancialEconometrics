{
 "cells": [
  {
   "cell_type": "markdown",
   "metadata": {},
   "source": [
    "# OLS Diagnostics\n",
    "\n",
    "This notebook studies key properties of the model (measures of fit, normality, multicollinearity).\n",
    "\n",
    "You may also consider the [HypothesisTests.jl](https://github.com/JuliaStats/HypothesisTests.jl) package (not used here)."
   ]
  },
  {
   "cell_type": "markdown",
   "metadata": {},
   "source": [
    "## Load Packages and Extra Functions\n",
    "\n",
    "The key functions for the diagnostic tests are from the (local) `FinEcmt_OLS` module."
   ]
  },
  {
   "cell_type": "code",
   "execution_count": 1,
   "metadata": {},
   "outputs": [],
   "source": [
    "MyModulePath = joinpath(pwd(),\"src\")\n",
    "!in(MyModulePath,LOAD_PATH) && push!(LOAD_PATH,MyModulePath)\n",
    "using FinEcmt_OLS"
   ]
  },
  {
   "cell_type": "code",
   "execution_count": 2,
   "metadata": {},
   "outputs": [],
   "source": [
    "#=\n",
    "include(joinpath(pwd(),\"src\",\"FinEcmt_OLS.jl\"))\n",
    "using .FinEcmt_OLS\n",
    "=#"
   ]
  },
  {
   "cell_type": "code",
   "execution_count": 3,
   "metadata": {
    "tags": []
   },
   "outputs": [],
   "source": [
    "using DelimitedFiles, Statistics, LinearAlgebra"
   ]
  },
  {
   "cell_type": "markdown",
   "metadata": {},
   "source": [
    "## Loading Data"
   ]
  },
  {
   "cell_type": "code",
   "execution_count": 4,
   "metadata": {
    "tags": []
   },
   "outputs": [
    {
     "name": "stdout",
     "output_type": "stream",
     "text": [
      "(388,)\n"
     ]
    },
    {
     "data": {
      "text/plain": [
       "3"
      ]
     },
     "execution_count": 4,
     "metadata": {},
     "output_type": "execute_result"
    }
   ],
   "source": [
    "x = readdlm(\"Data/FFmFactorsPs.csv\",',',skipstart=1)\n",
    "\n",
    "                #yearmonth, market, small minus big, high minus low\n",
    "(ym,Rme,RSMB,RHML) = (x[:,1],x[:,2]/100,x[:,3]/100,x[:,4]/100)\n",
    "x = nothing\n",
    "println(size(Rme))\n",
    "\n",
    "Y = Rme         #or copy(Rme) is independent copies are needed\n",
    "T = size(Y,1)\n",
    "X = [ones(T) RSMB RHML]\n",
    "k = size(X,2)"
   ]
  },
  {
   "cell_type": "code",
   "execution_count": 5,
   "metadata": {
    "tags": []
   },
   "outputs": [
    {
     "name": "stdout",
     "output_type": "stream",
     "text": [
      "\u001b[34m\u001b[1mOLS with traditional standard errors:\u001b[22m\u001b[39m\n",
      "\n",
      "         coef       std\n",
      "c       0.007     0.002\n",
      "SMB     0.217     0.073\n",
      "HML    -0.429     0.074\n",
      "\n"
     ]
    }
   ],
   "source": [
    "(b,u,_,V,R²) = OlsGM(Y,X)    #do OLS\n",
    "Stdb = sqrt.(diag(V))\n",
    "\n",
    "printblue(\"OLS with traditional standard errors:\\n\")\n",
    "xNames = [\"c\",\"SMB\",\"HML\"]\n",
    "printmat([b Stdb],colNames=[\"coef\",\"std\"],rowNames=xNames)"
   ]
  },
  {
   "cell_type": "markdown",
   "metadata": {},
   "source": [
    "# Measures of Fit\n",
    "\n",
    "Adjusted R², AIC, BIC  (the two latter is discussed in more detail in another chapter)"
   ]
  },
  {
   "cell_type": "code",
   "execution_count": 6,
   "metadata": {},
   "outputs": [
    {
     "data": {
      "text/markdown": [
       "```\n",
       "RegressionFit(u,R²,k)\n",
       "```\n",
       "\n",
       "Calculate adjusted R², AIC and BIC from regression residuals.\n",
       "\n",
       "### Input\n",
       "\n",
       "  * `u::Vector`:      T-vector of residuals\n",
       "  * `R²::Float`:      the R² value\n",
       "  * `k::Int`:         number of regressors\n"
      ]
     },
     "metadata": {},
     "output_type": "display_data"
    }
   ],
   "source": [
    "@doc2 RegressionFit\n",
    "#using CodeTracking\n",
    "#println(@code_string RegressionFit([1],0.0,3))    #print the source code"
   ]
  },
  {
   "cell_type": "code",
   "execution_count": 7,
   "metadata": {},
   "outputs": [
    {
     "name": "stdout",
     "output_type": "stream",
     "text": [
      "\u001b[34m\u001b[1mMeasures of fit\u001b[22m\u001b[39m\n",
      "R²        0.134\n",
      "R²adj     0.130\n",
      "AIC      -6.285\n",
      "BIC      -6.255\n",
      "\n"
     ]
    }
   ],
   "source": [
    "(R²adj,AIC,BIC) = RegressionFit(u,R²,k)\n",
    "\n",
    "printblue(\"Measures of fit\")\n",
    "printmat([R²,R²adj,AIC,BIC];rowNames=[\"R²\",\"R²adj\",\"AIC\",\"BIC\"])"
   ]
  },
  {
   "cell_type": "markdown",
   "metadata": {},
   "source": [
    "# Test of Normality\n",
    "\n",
    "of the residuals, applying the Jarque-Bera test."
   ]
  },
  {
   "cell_type": "code",
   "execution_count": 8,
   "metadata": {},
   "outputs": [
    {
     "data": {
      "text/markdown": [
       "```\n",
       "JarqueBeraTest(x)\n",
       "```\n",
       "\n",
       "Calculate the JB test for each column in a matrix. Reports `(skewness,kurtosis,JB)`.\n"
      ]
     },
     "metadata": {},
     "output_type": "display_data"
    }
   ],
   "source": [
    "@doc2 JarqueBeraTest\n",
    "#println(@code_string JarqueBeraTest([1]))    #print the source code"
   ]
  },
  {
   "cell_type": "code",
   "execution_count": 9,
   "metadata": {},
   "outputs": [
    {
     "name": "stdout",
     "output_type": "stream",
     "text": [
      "\u001b[34m\u001b[1mTest of normality\u001b[22m\u001b[39m\n",
      "                 stat   p-value\n",
      "skewness       -0.746     0.000\n",
      "kurtosis        5.583     0.000\n",
      "Jarque-Bera   143.834     0.000\n",
      "\n"
     ]
    }
   ],
   "source": [
    "(skewness,kurtosis,JB,pvals) = JarqueBeraTest(u)\n",
    "\n",
    "printblue(\"Test of normality\")\n",
    "xut = vcat(skewness,kurtosis,JB)\n",
    "printmat(xut,collect(pvals);rowNames=[\"skewness\",\"kurtosis\",\"Jarque-Bera\"],colNames=[\"stat\",\"p-value\"])"
   ]
  },
  {
   "cell_type": "markdown",
   "metadata": {},
   "source": [
    "# Multicollinearity\n",
    "\n",
    "by studying the correlation matrix and the variance inflation factor (VIF). A high VIF (5 to 10) might indicate issues with multicollinearity."
   ]
  },
  {
   "cell_type": "code",
   "execution_count": 10,
   "metadata": {},
   "outputs": [
    {
     "data": {
      "text/markdown": [
       "```\n",
       "VIF(X)\n",
       "```\n",
       "\n",
       "Calculate the variance inflation factor\n",
       "\n",
       "### Input\n",
       "\n",
       "  * `x::Matrix`:    Txk matrix with regressors\n",
       "\n",
       "### Output\n",
       "\n",
       "  * `maxVIF::Float`:     highest VIF value\n",
       "  * `allVIF::Vector`:    a k VIF values\n"
      ]
     },
     "metadata": {},
     "output_type": "display_data"
    }
   ],
   "source": [
    "@doc2 VIF\n",
    "#println(@code_string VIF([1]))    #print the source code"
   ]
  },
  {
   "cell_type": "code",
   "execution_count": 11,
   "metadata": {},
   "outputs": [
    {
     "name": "stdout",
     "output_type": "stream",
     "text": [
      "\u001b[34m\u001b[1mCorrelation matrix (checking multicollinearity)\u001b[22m\u001b[39m\n",
      "            c       SMB       HML\n",
      "c       1.000       NaN       NaN\n",
      "SMB       NaN     1.000    -0.320\n",
      "HML       NaN    -0.320     1.000\n",
      "\n"
     ]
    }
   ],
   "source": [
    "printblue(\"Correlation matrix (checking multicollinearity)\")\n",
    "printmat(cor(X);colNames=xNames,rowNames=xNames)"
   ]
  },
  {
   "cell_type": "code",
   "execution_count": 12,
   "metadata": {},
   "outputs": [
    {
     "name": "stdout",
     "output_type": "stream",
     "text": [
      "\u001b[34m\u001b[1mVIF (checking multicollinearity)\u001b[22m\u001b[39m\n",
      "c       1.000\n",
      "SMB     1.114\n",
      "HML     1.114\n",
      "\n"
     ]
    }
   ],
   "source": [
    "(maxVIF,allVIF) = VIF(X)\n",
    "printblue(\"VIF (checking multicollinearity)\")\n",
    "printmat(allVIF;rowNames=xNames)"
   ]
  },
  {
   "cell_type": "markdown",
   "metadata": {},
   "source": [
    "# A Convenience Function for Printing All These Tests (extra)"
   ]
  },
  {
   "cell_type": "code",
   "execution_count": 13,
   "metadata": {},
   "outputs": [
    {
     "data": {
      "text/markdown": [
       "```\n",
       "DiagnosticsTable(X,u,R²,nlags,xNames=\"\")\n",
       "```\n",
       "\n",
       "Compute and print a number of regression diagnostic tests.\n",
       "\n",
       "### Input\n",
       "\n",
       "  * `X::Matrix`:      Txk matrix of regressors\n",
       "  * `u::Vector`:      T-vector of residuals\n",
       "  * `R²::Float`:      the R² value\n",
       "  * `xNames::Vector`: of strings, regressor names\n"
      ]
     },
     "metadata": {},
     "output_type": "display_data"
    }
   ],
   "source": [
    "@doc2 DiagnosticsTable\n",
    "#println(@code_string DiagnosticsTable([1],[1],0.0))    #print the source code"
   ]
  },
  {
   "cell_type": "code",
   "execution_count": 14,
   "metadata": {},
   "outputs": [
    {
     "name": "stdout",
     "output_type": "stream",
     "text": [
      "\u001b[34m\u001b[1mTest of all slopes = 0\u001b[22m\u001b[39m\n",
      "stat     60.165\n",
      "p-val     0.000\n",
      "\n",
      "\u001b[34m\u001b[1mMeasures of fit\u001b[22m\u001b[39m\n",
      "R²        0.134\n",
      "R²adj     0.130\n",
      "AIC      -6.285\n",
      "BIC      -6.255\n",
      "\n",
      "\u001b[34m\u001b[1mTest of normality\u001b[22m\u001b[39m\n",
      "                 stat   p-value\n",
      "skewness       -0.746     0.000\n",
      "kurtosis        5.583     0.000\n",
      "Jarque-Bera   143.834     0.000\n",
      "\n",
      "\u001b[34m\u001b[1mCorrelation matrix (checking multicollinearity)\u001b[22m\u001b[39m\n",
      "            c       SMB       HML\n",
      "c       1.000       NaN       NaN\n",
      "SMB       NaN     1.000    -0.320\n",
      "HML       NaN    -0.320     1.000\n",
      "\n",
      "\u001b[34m\u001b[1mVIF (checking multicollinearity)\u001b[22m\u001b[39m\n",
      "c       1.000\n",
      "SMB     1.114\n",
      "HML     1.114\n",
      "\n"
     ]
    }
   ],
   "source": [
    "DiagnosticsTable(X,u,R²,xNames)"
   ]
  },
  {
   "cell_type": "code",
   "execution_count": null,
   "metadata": {},
   "outputs": [],
   "source": []
  }
 ],
 "metadata": {
  "@webio": {
   "lastCommId": null,
   "lastKernelId": null
  },
  "anaconda-cloud": {},
  "kernelspec": {
   "display_name": "Julia 1.11.5",
   "language": "julia",
   "name": "julia-1.11"
  },
  "language_info": {
   "file_extension": ".jl",
   "mimetype": "application/julia",
   "name": "julia",
   "version": "1.11.5"
  }
 },
 "nbformat": 4,
 "nbformat_minor": 4
}
