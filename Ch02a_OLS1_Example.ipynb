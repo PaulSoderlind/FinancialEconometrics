{
 "cells": [
  {
   "cell_type": "markdown",
   "metadata": {},
   "source": [
    "# Basic OLS, An Example\n",
    "\n",
    "This notebook gives a simple example of a linear regression."
   ]
  },
  {
   "cell_type": "markdown",
   "metadata": {},
   "source": [
    "## Load Packages and Extra Functions"
   ]
  },
  {
   "cell_type": "code",
   "execution_count": 1,
   "metadata": {},
   "outputs": [
    {
     "data": {
      "text/plain": [
       "printyellow (generic function with 1 method)"
      ]
     },
     "execution_count": 1,
     "metadata": {},
     "output_type": "execute_result"
    }
   ],
   "source": [
    "using Printf\n",
    "\n",
    "include(\"jlFiles/printmat.jl\")"
   ]
  },
  {
   "cell_type": "markdown",
   "metadata": {},
   "source": [
    "## Manual Calculation of OLS"
   ]
  },
  {
   "cell_type": "code",
   "execution_count": 2,
   "metadata": {},
   "outputs": [
    {
     "name": "stdout",
     "output_type": "stream",
     "text": [
      "x₁\n",
      "     1    \n",
      "    -1    \n",
      "\n",
      "x₁'\n",
      "     1        -1    \n",
      "\n",
      "x₁*x₁' and x₁y₁\n",
      "     1        -1    \n",
      "    -1         1    \n",
      "\n",
      "    -1.500\n",
      "     1.500\n",
      "\n"
     ]
    }
   ],
   "source": [
    "(y₁,y₂,y₃) = (-1.5,-0.6,2.1)        #dependent variable in t=1,2,3 \n",
    "\n",
    "x₁ = [1;-1]                        #regressors in t=1\n",
    "x₂ = [1;0]                         #regressors in t=2\n",
    "x₃ = [1;1]                         #regressors in t=3\n",
    "\n",
    "println(\"x₁\")\n",
    "printmat(x₁)\n",
    "println(\"x₁'\")\n",
    "printmat(x₁')\n",
    "\n",
    "println(\"x₁*x₁' and x₁y₁\")\n",
    "printmat(x₁*x₁')\n",
    "printmat(x₁*y₁)"
   ]
  },
  {
   "cell_type": "code",
   "execution_count": 3,
   "metadata": {},
   "outputs": [
    {
     "name": "stdout",
     "output_type": "stream",
     "text": [
      "Sxx and Sxy\n",
      "     3         0    \n",
      "     0         2    \n",
      "\n",
      "     0.000\n",
      "     3.600\n",
      "\n"
     ]
    }
   ],
   "source": [
    "Sxx = x₁*x₁' + x₂*x₂' + x₃*x₃'\n",
    "Sxy = x₁*y₁ + x₂*y₂ + x₃*y₃\n",
    "\n",
    "println(\"Sxx and Sxy\")\n",
    "printmat(Sxx)\n",
    "printmat(Sxy)"
   ]
  },
  {
   "cell_type": "code",
   "execution_count": 4,
   "metadata": {},
   "outputs": [
    {
     "name": "stdout",
     "output_type": "stream",
     "text": [
      "Sxx^(-1)\n",
      "     0.333     0.000\n",
      "     0.000     0.500\n",
      "\n",
      "Sxx * Sxx^(-1) = \n",
      "     1.000     0.000\n",
      "     0.000     1.000\n",
      "\n"
     ]
    }
   ],
   "source": [
    "println(\"Sxx^(-1)\")               #a matrix inverse\n",
    "printmat(Sxx^(-1))\n",
    "\n",
    "println(\"Sxx * Sxx^(-1) = \")\n",
    "printmat(Sxx * Sxx^(-1))"
   ]
  },
  {
   "cell_type": "code",
   "execution_count": 5,
   "metadata": {},
   "outputs": [
    {
     "name": "stdout",
     "output_type": "stream",
     "text": [
      "The estimated coeffs are\n",
      "     0.000\n",
      "     1.800\n",
      "\n"
     ]
    }
   ],
   "source": [
    "b1 = Sxx^(-1)*Sxy\n",
    "println(\"The estimated coeffs are\")\n",
    "printmat(b1)"
   ]
  },
  {
   "cell_type": "markdown",
   "metadata": {},
   "source": [
    "## Matrix Version"
   ]
  },
  {
   "cell_type": "code",
   "execution_count": 6,
   "metadata": {},
   "outputs": [
    {
     "name": "stdout",
     "output_type": "stream",
     "text": [
      "X\n",
      "     1        -1    \n",
      "     1         0    \n",
      "     1         1    \n",
      "\n",
      "Y\n",
      "    -1.500\n",
      "    -0.600\n",
      "     2.100\n",
      "\n",
      "The estimated coeffs are\n",
      "     0.000\n",
      "     1.800\n",
      "\n"
     ]
    }
   ],
   "source": [
    "X = [x₁';x₂';x₃']       #put xᵢ' in row i of X\n",
    "Y = [y₁;y₂;y₃]          #put yᵢ in row i of Y\n",
    "\n",
    "println(\"X\")\n",
    "printmat(X)\n",
    "println(\"Y\")\n",
    "printmat(Y)\n",
    "\n",
    "b2 = (X'X)^(-1)*X'Y\n",
    "println(\"The estimated coeffs are\")\n",
    "printmat(b2)"
   ]
  },
  {
   "cell_type": "markdown",
   "metadata": {},
   "source": [
    "## How to Code\n",
    "\n",
    "to get a more robust (numerical) calculation"
   ]
  },
  {
   "cell_type": "code",
   "execution_count": 7,
   "metadata": {},
   "outputs": [
    {
     "name": "stdout",
     "output_type": "stream",
     "text": [
      "The estimated coeffs are\n",
      "    -0.000\n",
      "     1.800\n",
      "\n"
     ]
    }
   ],
   "source": [
    "b3 = X\\Y\n",
    "println(\"The estimated coeffs are\")\n",
    "printmat(b3)"
   ]
  },
  {
   "cell_type": "code",
   "execution_count": null,
   "metadata": {},
   "outputs": [],
   "source": []
  }
 ],
 "metadata": {
  "@webio": {
   "lastCommId": null,
   "lastKernelId": null
  },
  "anaconda-cloud": {},
  "kernelspec": {
   "display_name": "Julia 1.5.3",
   "language": "julia",
   "name": "julia-1.5"
  },
  "language_info": {
   "file_extension": ".jl",
   "mimetype": "application/julia",
   "name": "julia",
   "version": "1.5.3"
  }
 },
 "nbformat": 4,
 "nbformat_minor": 1
}
