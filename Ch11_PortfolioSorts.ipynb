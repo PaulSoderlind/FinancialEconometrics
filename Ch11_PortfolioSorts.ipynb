{
 "cells": [
  {
   "cell_type": "markdown",
   "metadata": {},
   "source": [
    "# Portfolio Sorts\n",
    "\n",
    "This notebook implements univariate and bivariate portfolio sorts."
   ]
  },
  {
   "cell_type": "markdown",
   "metadata": {},
   "source": [
    "## Load Packages and Extra Functions"
   ]
  },
  {
   "cell_type": "code",
   "execution_count": 1,
   "metadata": {},
   "outputs": [
    {
     "data": {
      "text/plain": [
       "EMAFn"
      ]
     },
     "execution_count": 1,
     "metadata": {},
     "output_type": "execute_result"
    }
   ],
   "source": [
    "using Printf, Dates, DelimitedFiles, Statistics\n",
    "\n",
    "include(\"jlFiles/printmat.jl\")\n",
    "include(\"jlFiles/lagFn.jl\")                #creating lags of a matrix\n",
    "include(\"jlFiles/EMAFn.jl\")                #moving average of rows of a matrix"
   ]
  },
  {
   "cell_type": "code",
   "execution_count": 2,
   "metadata": {},
   "outputs": [
    {
     "data": {
      "text/plain": [
       "ReturnStats"
      ]
     },
     "execution_count": 2,
     "metadata": {},
     "output_type": "execute_result"
    }
   ],
   "source": [
    "\"\"\"\n",
    "    ReturnStats(Re,Annfactor=252)\n",
    "\n",
    "Calculate average excess return, the std and the SR ratio - and annualise. \n",
    "Returns a 3xn matrix with (annualised) [μ;σ;SR], where `n=size(x,2)`.\n",
    "\"\"\"\n",
    "function ReturnStats(Re,Annfactor=252)\n",
    "    μ  = mean(Re,dims=1)*Annfactor\n",
    "    σ  = std(Re,dims=1)*sqrt(Annfactor)\n",
    "    SR = μ./σ\n",
    "    stats = [μ;σ;SR]\n",
    "    return stats\n",
    "end"
   ]
  },
  {
   "cell_type": "markdown",
   "metadata": {},
   "source": [
    "## Load Data\n",
    "\n",
    "The data set contains daily data for \"dates\", the equity market return, riskfree rate and the the returns of the 25 Fama-French portfolios. All returns are in percent."
   ]
  },
  {
   "cell_type": "code",
   "execution_count": 3,
   "metadata": {},
   "outputs": [
    {
     "name": "stdout",
     "output_type": "stream",
     "text": [
      "\n",
      "The first few rows of dN, Rm and Rf\n",
      "1979-01-02     0.615     0.035\n",
      "1979-01-03     1.155     0.035\n",
      "1979-01-04     0.975     0.035\n",
      "1979-01-05     0.685     0.035\n",
      "\n",
      "size of dN, Rm, Rf, R\n",
      "(9837,)\n",
      "(9837,)\n",
      "(9837,)\n",
      "(9837, 25)\n"
     ]
    }
   ],
   "source": [
    "x   = readdlm(\"Data/MomentumSR.csv\",',')\n",
    "dN  = Date.(x[:,1],\"yyyy-mm-dd\")                  #Julia dates \n",
    "y   = convert.(Float64,x[:,2:end])\n",
    "\n",
    "(Rm,Rf,R) = (y[:,1],y[:,2],y[:,3:end])\n",
    "\n",
    "println(\"\\nThe first few rows of dN, Rm and Rf\")\n",
    "printmat([dN[1:4] Rm[1:4] Rf[1:4]])\n",
    "\n",
    "println(\"size of dN, Rm, Rf, R\")\n",
    "println(size(dN),\"\\n\",size(Rm),\"\\n\",size(Rf),\"\\n\",size(R))\n",
    "\n",
    "(T,n) = size(R);                      #number of periods and assets"
   ]
  },
  {
   "cell_type": "markdown",
   "metadata": {},
   "source": [
    "# A Univariate Sort\n",
    "\n",
    "on recent retturns."
   ]
  },
  {
   "cell_type": "code",
   "execution_count": 4,
   "metadata": {},
   "outputs": [],
   "source": [
    "X = lagFn(EMAFn(R,22));                     #sort on lag of MA(22) of R\n",
    "\n",
    "#println(\"rows 2-4 of X*10:\")\n",
    "#printmat(X[2:4,:]*10,width=5,prec=2,colNames=string.(1:n))"
   ]
  },
  {
   "cell_type": "code",
   "execution_count": 5,
   "metadata": {},
   "outputs": [],
   "source": [
    "(RHi,RLo) = (fill(NaN,T),fill(NaN,T))\n",
    "for t = 2:T         #loop over periods, save portfolio returns\n",
    "    #local sort1, wHi, wLo          #only needed in script\n",
    "    sort1                  = sortperm(X[t,:])  #X is lagged already, sort1[1] is index of worst asset\n",
    "    (wLo,wHi)              = (zeros(n),zeros(n))\n",
    "    wLo[sort1[1:5]]       .= 1/5    #equally weighted inside Lo portfolio\n",
    "    wHi[sort1[end-4:end]] .= 1/5\n",
    "    RLo[t]                 = wLo'R[t,:]\n",
    "    RHi[t]                 = wHi'R[t,:]\n",
    "end\n",
    "\n",
    "ReLo = RLo[2:end] - Rf[2:end]\n",
    "ReHi = RHi[2:end] - Rf[2:end];       #cut out t=1 and create excess returns"
   ]
  },
  {
   "cell_type": "markdown",
   "metadata": {},
   "source": [
    "Calculate the mean (excess) return, its standard deviation and the Sharpe ratio. Annualize by assuming 252 trading days per year. Compare with the excess return on passively holding an equity market index."
   ]
  },
  {
   "cell_type": "code",
   "execution_count": 6,
   "metadata": {},
   "outputs": [
    {
     "name": "stdout",
     "output_type": "stream",
     "text": [
      "\u001b[34m\u001b[1mStats for the portfolio returns, annualized:\u001b[22m\u001b[39m\n",
      "          Lo        Hi    market\n",
      "μ      3.836    14.168     8.374\n",
      "σ     19.042    17.331    16.837\n",
      "SR     0.201     0.818     0.497\n",
      "\n"
     ]
    }
   ],
   "source": [
    "Rme = Rm - Rf           #market excess return\n",
    "Stats = ReturnStats([ReLo ReHi Rme[2:end]],252)\n",
    "\n",
    "printblue(\"Stats for the portfolio returns, annualized:\")\n",
    "printmat(Stats,colNames=[\"Lo\" \"Hi\" \"market\"],rowNames=[\"μ\";\"σ\";\"SR\"])"
   ]
  },
  {
   "cell_type": "markdown",
   "metadata": {},
   "source": [
    "# A Univariate Sort (again)\n",
    "\n",
    "on recent returns - but using another approach, which turns out to be easy to apply to the double sort as well.\n",
    "\n",
    "The `sortLoHi(x,v,m)` function below create vectors `vL` and `vH` with trues/falses (Bools) indicating membership of the Lo and Hi groups.\n",
    "\n",
    "The `EWportf(v)` function takes such a Bool vector (eg. `vL`) and (equal) portfolio weights. It handles the case of an empty portfolio (all elements in `v` are falsse) by setting all portfolio weights to `NaN`."
   ]
  },
  {
   "cell_type": "code",
   "execution_count": 7,
   "metadata": {},
   "outputs": [
    {
     "data": {
      "text/plain": [
       "EWportf"
      ]
     },
     "execution_count": 7,
     "metadata": {},
     "output_type": "execute_result"
    }
   ],
   "source": [
    "\"\"\"\n",
    "    sortLoHi(x,v,m)\n",
    "\n",
    "Create vectors `vL` and `vH` with trues/falses indicating membership of the Lo and Hi\n",
    "groups. It sorts according to x[v], setting the `m` lowest (in `vL`) and \n",
    "highest values (in `vH`) to `true`. All other elements \n",
    "(also those in x[.!v]) are set to false.\n",
    "\n",
    "# Input\n",
    "- `x::Vector`:    n-vector, sorting variable\n",
    "- `v::Vector`:    n-vector of true/false. Sorting is done within x[v]\n",
    "- `m::Int`:       number of assets in Lo/Hi portfolio\n",
    "\n",
    "# Output\n",
    "- `vL::Vector`:   n-vector of true/false, indicating membership of Lo portfolio\n",
    "- `vH::Vector`:   n-vector of true/false, indicating membership of Hi portfolio\n",
    "\n",
    "\"\"\"\n",
    "function sortLoHi(x,v,m)\n",
    "    \n",
    "    xb  = copy(x)\n",
    "    nv  = sum(v)\n",
    "    (nv < 2m) && error(\"sum(v) < 2m\")\n",
    "\n",
    "    (vL,vH) = [falses(length(x)) for i=1:2]\n",
    "    xb[.!v]               .= Inf   #v[i] = false are put to Inf to sort last\n",
    "    sort1                  = sortperm(xb)   #lowest are first\n",
    "    vL[sort1[1:m]]        .= true\n",
    "    vH[sort1[nv-m+1:nv]]  .= true\n",
    "    \n",
    "    return vL, vH\n",
    "end\n",
    "\n",
    "\n",
    "\"\"\"\n",
    "    EWportf(v)\n",
    "\n",
    "Create (equal) portfolio weights from a vector of trues/falses. If all elements are falses,\n",
    "then the weights are NaNs.\n",
    "\n",
    "# Examples\n",
    "- EWportf([true,false,true]) gives [0.5,0.0,0.5]. \n",
    "- EWportf([false,false]) gives [NaN,NaN]\n",
    "\n",
    "\"\"\"\n",
    "function EWportf(v) \n",
    "    w = ifelse( all(.!v), fill(NaN,length(v)), v/sum(v) )\n",
    "    return w\n",
    "end    "
   ]
  },
  {
   "cell_type": "code",
   "execution_count": 8,
   "metadata": {
    "tags": []
   },
   "outputs": [
    {
     "name": "stdout",
     "output_type": "stream",
     "text": [
      "\u001b[34m\u001b[1mStats for the portfolio returns, annualized:\u001b[22m\u001b[39m\n",
      "          Lo        Hi    market\n",
      "μ      3.836    14.168     8.374\n",
      "σ     19.042    17.331    16.837\n",
      "SR     0.201     0.818     0.497\n",
      "\n"
     ]
    }
   ],
   "source": [
    "X = lagFn(EMAFn(R,22));                     #sort on lag of MA(22) of R\n",
    "\n",
    "m = 5\n",
    "\n",
    "(RH,RL) = (fill(NaN,T),fill(NaN,T))\n",
    "for t = 2:T                    #loop over periods, save portfolio returns \n",
    "    #local vL,vH,wL,wH         #only needed in script\n",
    "    (vL,vH) = sortLoHi(X[t,:],trues(n),m)\n",
    "    (wL,wH) = (EWportf(vL),EWportf(vH))       #portfolio weights, EW\n",
    "    RL[t]   = wL'R[t,:]\n",
    "    RH[t]   = wH'R[t,:]\n",
    "end\n",
    "\n",
    "ReL = RL[2:end] - Rf[2:end]\n",
    "ReH = RH[2:end] - Rf[2:end]       #cut out t=1, excess returns\n",
    "\n",
    "Statm = ReturnStats([ReL ReH Rme[2:end]],252)\n",
    "printblue(\"Stats for the portfolio returns, annualized:\")\n",
    "printmat(Stats,colNames=[\"Lo\" \"Hi\" \"market\"],rowNames=[\"μ\";\"σ\";\"SR\"])"
   ]
  },
  {
   "cell_type": "markdown",
   "metadata": {},
   "source": [
    "# An Independent Double Sort\n",
    "\n",
    "on recent volatility (X) and and returns (Z).\n",
    "\n",
    "This creates four portfolios: (Low X, Low Z), (Low X, High Z), (High X, Low Z) and (High X, High Z). Each of them is an intersection from independent sorts on X and Z.\n",
    "\n",
    "The size of each of these portfolios can vary over time - and sometimes be an empty portfolio. The portfolio weights created by the `EWportf()` function are then `NaN`."
   ]
  },
  {
   "cell_type": "code",
   "execution_count": 9,
   "metadata": {},
   "outputs": [],
   "source": [
    "X = lagFn(EMAFn(abs.(R),22))                #sort on lag of MA(22) of |R|, first sort variable\n",
    "Z = lagFn(EMAFn(R,22));                     #sort on lag of MA(22) of R, second sort variable"
   ]
  },
  {
   "cell_type": "code",
   "execution_count": 10,
   "metadata": {},
   "outputs": [],
   "source": [
    "(mX,mZ) = (10,10)\n",
    "\n",
    "(RLL,RLH,RHL,RHH) = [fill(NaN,T) for i=1:4]\n",
    "for t = 2:T                    #loop over periods, save portfolio returns\n",
    "    #local vXL,vXH,vZL,vZH,vLL,vLH,vHL,vHH,wLL,wLH,wHL,wHH       #only needed in script\n",
    "    (vXL,vXH) = sortLoHi(X[t,:],trues(n),mX)       #in Lo/Hi according to X\n",
    "    (vZL,vZH) = sortLoHi(Z[t,:],trues(n),mZ)       #in Lo/Hi according to Z\n",
    "    vLL     = vXL .& vZL                                  #in Lo X,Low Z\n",
    "    vLH     = vXL .& vZH                                  #in Lo X, Hi Z\n",
    "    vHL     = vXH .& vZL                                  #in Hi X, Lo Z\n",
    "    vHH     = vXH .& vZH                                  #in Hi X, Hi Z\n",
    "    (wLL,wLH,wHL,wHH) = (EWportf(vLL),EWportf(vLH),EWportf(vHL),EWportf(vHH))  #portfolio weights, EW\n",
    "    (RLL[t],RLH[t],RHL[t],RHH[t])  = (wLL'R[t,:],wLH'R[t,:],wHL'R[t,:],wHH'R[t,:])\n",
    "end"
   ]
  },
  {
   "cell_type": "markdown",
   "metadata": {},
   "source": [
    "There are NaNs in the return series, since the portfolios are sometimes empty. We need to decide on how to handle those data points. \n",
    "\n",
    "The assumption below is that an empty portfolio (when all weights are `NaNs`) means that the full investment is done in the riskfree asset and thus the excess return is zero. We thus replace the excess return of a `NaN` return with zero.\n",
    "\n",
    "We typically want to study `RLH - RLL` and `RHH - RHL` since they show the \"effect\" of the second sort variable (`Z`) while controlling for the first (`X`)."
   ]
  },
  {
   "cell_type": "code",
   "execution_count": 11,
   "metadata": {},
   "outputs": [
    {
     "name": "stdout",
     "output_type": "stream",
     "text": [
      "\u001b[34m\u001b[1mStats for the portfolio returns, annualized:\u001b[22m\u001b[39m\n",
      "          LL        LH        HL        HH\n",
      "μ      6.327    12.499     4.708    12.628\n",
      "σ     14.635    14.335    20.553    19.057\n",
      "SR     0.432     0.872     0.229     0.663\n",
      "\n",
      "\u001b[34m\u001b[1mStudy LH-LL and HH-HL to see the momentum effect (controlling for volatility)\u001b[22m\u001b[39m\n",
      "     RLH-RLL   RHH-RHL\n",
      "μ      6.172     7.920\n",
      "σ      7.880    11.196\n",
      "SR     0.783     0.707\n",
      "\n"
     ]
    }
   ],
   "source": [
    "ReAll = [RLL RLH RHL RHH] .- Rf\n",
    "replace!(ReAll,NaN=>0)         #replace NaN by 0, assuming investment in riskfree    \n",
    "Stats = ReturnStats(ReAll,252) \n",
    "\n",
    "printblue(\"Stats for the portfolio returns, annualized:\")\n",
    "colNames = [\"LL\",\"LH\",\"HL\",\"HH\"]\n",
    "printmat(Stats,colNames=colNames,rowNames=[\"μ\";\"σ\";\"SR\"])\n",
    "\n",
    "printblue(\"Study LH-LL and HH-HL to see the momentum effect (controlling for volatility)\")\n",
    "RLH_LL = ReAll[:,2] - ReAll[:,1]         #(L,H) minus (L,L)\n",
    "RHH_HL = ReAll[:,4] - ReAll[:,3]         #(H,H) minus (H,L)\n",
    "\n",
    "Stats = ReturnStats([RLH_LL RHH_HL],252)\n",
    "printmat(Stats,colNames=[\"RLH-RLL\",\"RHH-RHL\"],rowNames=[\"μ\";\"σ\";\"SR\"])"
   ]
  },
  {
   "cell_type": "markdown",
   "metadata": {},
   "source": [
    "# A Dependent Double Sort\n",
    "\n",
    "n recent volatility (X) and and returns (Z).\n",
    "\n",
    "This also creates four portfolios: (Low X, Low Z), (Low X, High Z), (High X, Low Z) and (High X, High Z). In this case, the Low X group is split up into (Low X, Low Z) and (Low X, High Z), and similarly for the high X group.\n",
    "\n",
    "The size of each of these portfolios is constant over time (unless there are missing values)."
   ]
  },
  {
   "cell_type": "code",
   "execution_count": 12,
   "metadata": {},
   "outputs": [],
   "source": [
    "(mX,mZ) = (10,5)\n",
    "\n",
    "(RLL,RLH,RHL,RHH) = [fill(NaN,T) for i=1:4]\n",
    "for t = 2:T                    #loop over periods, save portfolio returns\n",
    "    #local vXL,vXH,vLL,vLH,vHL,vHH,wLL,wLH,wHL,wHH       #only needed in script\n",
    "    (vXL,vXH) = sortLoHi(X[t,:],trues(n),mX)       #Lo/Hi according to X\n",
    "    (vLL,vLH) = sortLoHi(Z[t,:],vXL,mZ)            #within Lo X, Lo/Hi according to Z\n",
    "    (vHL,vHH) = sortLoHi(Z[t,:],vXH,mZ)            #within Hi X, Lo/Hi according to Z    \n",
    "    (wLL,wLH,wHL,wHH) = (EWportf(vLL),EWportf(vLH),EWportf(vHL),EWportf(vHH))  #portfolio weights, EW\n",
    "    (RLL[t],RLH[t],RHL[t],RHH[t])  = (wLL'R[t,:],wLH'R[t,:],wHL'R[t,:],wHH'R[t,:])\n",
    "end"
   ]
  },
  {
   "cell_type": "code",
   "execution_count": 13,
   "metadata": {},
   "outputs": [
    {
     "name": "stdout",
     "output_type": "stream",
     "text": [
      "\u001b[34m\u001b[1mStats for the portfolio returns, annualized:\u001b[22m\u001b[39m\n",
      "          LL        LH        HL        HH\n",
      "μ      7.433    12.768     5.357    13.211\n",
      "σ     15.000    14.456    20.809    19.769\n",
      "SR     0.495     0.883     0.257     0.668\n",
      "\n",
      "\u001b[34m\u001b[1mStudy LH-LL and HH-HL to see the momentum effect (controlling for volatility)\u001b[22m\u001b[39m\n",
      "     RLH-RLL   RHH-RHL\n",
      "μ      5.335     7.854\n",
      "σ      4.563     7.319\n",
      "SR     1.169     1.073\n",
      "\n"
     ]
    }
   ],
   "source": [
    "ReAll = [RLL RLH RHL RHH] .- Rf\n",
    "replace!(ReAll,NaN=>0)         #replace NaN by 0, assuming investment in riskfree    \n",
    "Stats = ReturnStats(ReAll,252) \n",
    "\n",
    "printblue(\"Stats for the portfolio returns, annualized:\")\n",
    "colNames = [\"LL\",\"LH\",\"HL\",\"HH\"]\n",
    "printmat(Stats,colNames=colNames,rowNames=[\"μ\";\"σ\";\"SR\"])\n",
    "\n",
    "printblue(\"Study LH-LL and HH-HL to see the momentum effect (controlling for volatility)\")\n",
    "RLH_LL = ReAll[:,2] - ReAll[:,1]         #(L,H) minus (L,L)\n",
    "RHH_HL = ReAll[:,4] - ReAll[:,3]         #(H,H) minus (H,L)\n",
    "\n",
    "Stats = ReturnStats([RLH_LL RHH_HL],252)\n",
    "printmat(Stats,colNames=[\"RLH-RLL\",\"RHH-RHL\"],rowNames=[\"μ\";\"σ\";\"SR\"])"
   ]
  },
  {
   "cell_type": "code",
   "execution_count": null,
   "metadata": {},
   "outputs": [],
   "source": []
  }
 ],
 "metadata": {
  "@webio": {
   "lastCommId": null,
   "lastKernelId": null
  },
  "anaconda-cloud": {},
  "kernelspec": {
   "display_name": "Julia 1.6.0",
   "language": "julia",
   "name": "julia-1.6"
  },
  "language_info": {
   "file_extension": ".jl",
   "mimetype": "application/julia",
   "name": "julia",
   "version": "1.6.0"
  }
 },
 "nbformat": 4,
 "nbformat_minor": 1
}
