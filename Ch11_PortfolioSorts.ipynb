{
 "cells": [
  {
   "cell_type": "markdown",
   "metadata": {},
   "source": [
    "# Portfolio Sorts\n",
    "\n",
    "This notebook implements univariate and bivariate portfolio sorts."
   ]
  },
  {
   "cell_type": "markdown",
   "metadata": {},
   "source": [
    "## Load Packages and Extra Functions\n",
    "\n"
   ]
  },
  {
   "cell_type": "code",
   "execution_count": 12,
   "metadata": {
    "tags": []
   },
   "outputs": [],
   "source": [
    "using Printf, Dates, DelimitedFiles, Statistics\n",
    "\n",
    "include(\"jlFiles/printmat.jl\")\n",
    "include(\"jlFiles/UtilityFunctions.jl\")\n",
    "include(\"jlFiles/PortfolioSorts.jl\");"
   ]
  },
  {
   "cell_type": "markdown",
   "metadata": {},
   "source": [
    "## Load Data\n",
    "\n",
    "The data set contains daily data for \"dates\", the equity market return, riskfree rate and the the returns of the 25 Fama-French portfolios. All returns are in percent."
   ]
  },
  {
   "cell_type": "code",
   "execution_count": 13,
   "metadata": {
    "tags": []
   },
   "outputs": [
    {
     "name": "stdout",
     "output_type": "stream",
     "text": [
      "\n",
      "The first few rows of dN, Rm and Rf\n",
      "1979-01-02     0.615     0.035\n",
      "1979-01-03     1.155     0.035\n",
      "1979-01-04     0.975     0.035\n",
      "1979-01-05     0.685     0.035\n",
      "\n",
      "size of dN, Rm, Rf, R\n",
      "(9837,)\n",
      "(9837,)\n",
      "(9837,)\n",
      "(9837, 25)\n"
     ]
    }
   ],
   "source": [
    "x   = readdlm(\"Data/MomentumSR.csv\",',')\n",
    "dN  = Date.(x[:,1],\"yyyy-mm-dd\")                  #Julia dates\n",
    "y   = convert.(Float64,x[:,2:end])\n",
    "\n",
    "(Rm,Rf,R) = (y[:,1],y[:,2],y[:,3:end])\n",
    "\n",
    "println(\"\\nThe first few rows of dN, Rm and Rf\")\n",
    "printmat([dN[1:4] Rm[1:4] Rf[1:4]])\n",
    "\n",
    "println(\"size of dN, Rm, Rf, R\")\n",
    "println(size(dN),\"\\n\",size(Rm),\"\\n\",size(Rf),\"\\n\",size(R))\n",
    "\n",
    "(T,n) = size(R);                      #number of periods and assets"
   ]
  },
  {
   "cell_type": "markdown",
   "metadata": {},
   "source": [
    "# A Univariate Sort\n",
    "\n",
    "on recent returns. \n",
    "\n",
    "The next cells create a sorting variable `X` and does a portfolio sort to create a `Lo` portfolio and a `Hi` portfolio (corresponding to the 5 lowest and highest values of `X`). The sort is done for each trading day of the sample, so the portfolios are dynamic (has time-varying portfolio weights).\n",
    "\n",
    "### A Remark on the Code\n",
    "\n",
    "- The `EMAFn(R,22)` function (included above) calculates a moving average of `R[t-21:t,i]` for each column `i`. We then lag thus result using `lagfn()`.\n",
    "- With `x = [9,7,8]`, the `rankPs(x)` function (included above) gives the output `[3,1,2]`. This says, for instance, that `7` is the lowest number (rank 1)."
   ]
  },
  {
   "cell_type": "code",
   "execution_count": 14,
   "metadata": {
    "tags": []
   },
   "outputs": [
    {
     "data": {
      "text/plain": [
       "9837×25 Matrix{Float64}:\n",
       " NaN          NaN          NaN          …  NaN          NaN\n",
       "   0.0136364    0.0272727    0.0295455       0.0368182    0.0645455\n",
       "   0.109545     0.120909     0.0963636       0.0890909    0.144091\n",
       "   0.196818     0.172273     0.171818        0.123182     0.215\n",
       "   0.274545     0.238636     0.231818        0.145455     0.28\n",
       "   0.268636     0.226818     0.233636   …    0.133636     0.28\n",
       "   0.300455     0.259545     0.268182        0.151364     0.304091\n",
       "   0.281364     0.267273     0.276818        0.132727     0.281818\n",
       "   0.312727     0.279091     0.280455        0.132727     0.29\n",
       "   0.372273     0.334545     0.314091        0.144545     0.308182\n",
       "   ⋮                                    ⋱               \n",
       "   0.240909     0.245909     0.216818        0.201818     0.28\n",
       "   0.308182     0.294545     0.306364        0.250909     0.299091\n",
       "   0.220455     0.181818     0.183182   …    0.195455     0.277273\n",
       "   0.221818     0.188182     0.172727        0.209545     0.272727\n",
       "   0.225909     0.180455     0.132273        0.240909     0.286818\n",
       "   0.164545     0.114545     0.100909        0.221364     0.277273\n",
       "   0.174545     0.132727     0.0927273       0.221818     0.278636\n",
       "   0.181364     0.0940909    0.0768182  …    0.219545     0.281818\n",
       "   0.242727     0.145        0.109091        0.247727     0.309091"
      ]
     },
     "metadata": {},
     "output_type": "display_data"
    }
   ],
   "source": [
    "m = 5                       #number of assets in each of Lo and Hi portfolio\n",
    "q = 22\n",
    "X = lagFn(EMAFn(R,q));      #(lag of) moving average of R\n",
    "\n",
    "#println(\"rows 2-4 of X*10:\")\n",
    "#printmat(X[2:4,:]*10,width=5,prec=2,colNames=string.(1:n))"
   ]
  },
  {
   "cell_type": "code",
   "execution_count": 15,
   "metadata": {
    "tags": []
   },
   "outputs": [],
   "source": [
    "(RHi,RLo) = (fill(NaN,T),fill(NaN,T))\n",
    "for t = 2:T         #loop over periods, save portfolio returns\n",
    "    #local r, wHi, wLo          #local/global is needed in script\n",
    "    r                 = rankPs(X[t,:])  #X is lagged already, sort1[1] is index of worst asset\n",
    "    (wLo,wHi)         = (zeros(n),zeros(n))\n",
    "    wLo[r.<=m]       .= 1/m        #low rank: in Lo portfortolio\n",
    "    wHi[(n-m+1).<=r] .= 1/m        #high rank: in Hi portfolio\n",
    "    RLo[t]            = wLo'R[t,:]\n",
    "    RHi[t]            = wHi'R[t,:]\n",
    "end\n",
    "\n",
    "Rp = mean(R,dims=2);         #'passive' portfolio, equal weight on all assets"
   ]
  },
  {
   "cell_type": "markdown",
   "metadata": {},
   "source": [
    "## Return Statistics\n",
    "\n",
    "...comparing with a passive portfolio. \n",
    "\n",
    "Excess returns for the `Lo`, `Hi` and passive (`p`) portfolios are calculated.\n",
    "\n",
    "We then use the `ReturnStats(Re,Annfactor)` function (included above) to calculate the mean (excess) return, its standard deviation and the Sharpe ratio. Annualisation is done by assuming 252 trading days per year.\n",
    "\n",
    "In calculating the return stats, we drop the first `q` observations (and thus extract observation `q+1:end`, since we use `q` observations to form the first dynamic portfolio."
   ]
  },
  {
   "cell_type": "code",
   "execution_count": 16,
   "metadata": {
    "tags": []
   },
   "outputs": [
    {
     "name": "stdout",
     "output_type": "stream",
     "text": [
      "\u001b[34m\u001b[1mStats for the portfolio returns, annualized:\u001b[22m\u001b[39m\n",
      "\n",
      "μ      3.745    14.022     9.626\n",
      "σ     19.056    17.340    16.928\n",
      "SR     0.197     0.809     0.569\n",
      "\n"
     ]
    }
   ],
   "source": [
    "ReLo = RLo - Rf         #create excess returns\n",
    "ReHi = RHi - Rf\n",
    "Rep  = Rp - Rf          #excess return of passive portfolio\n",
    "\n",
    "Stats = ReturnStats([ReLo ReHi Rep][q+1:end,:],252)    #return stats for obs q+1 to T\n",
    "\n",
    "printblue(\"Stats for the portfolio returns, annualized:\\n\")\n",
    "printmat(Stats;colNames=[\"Lo\" \"Hi\" \"passive\"],rowNames=[\"μ\";\"σ\";\"SR\"])"
   ]
  },
  {
   "cell_type": "markdown",
   "metadata": {},
   "source": [
    "# A Univariate Sort (again)\n",
    "\n",
    "on recent returns - but using another approach, which turns out to be easy to apply to the double sort as well.\n",
    "\n",
    "### A Remark on the Code\n",
    "\n",
    "- The `sortLoHi(x,v,m)` function (included above) below create n-vectors `vL` and `vH` with trues/falses indicating membership of the Lo and Hi groups.\n",
    "- As an example, `(vL,vH) = sortLoHi([3,1,2],[false,true,true],1)` gives `vL=[false,true,false]` and `vH=[false,false,true]`. This means that the 'Lo' portfolio consists of asset 2 and the 'Hi' portfolio of asset 3. Asset 1 is not assigned to any.\n",
    "\n",
    "- The `EWportf(v)` function (also included above) takes such a Bool vector (eg. `vL`) and calculates (equal) portfolio weights among those assets that are `true` in `v`. It handles the case of an empty portfolio (all elements in `v` are false) by setting all portfolio weights to `NaN`."
   ]
  },
  {
   "cell_type": "code",
   "execution_count": 17,
   "metadata": {
    "tags": []
   },
   "outputs": [
    {
     "name": "stdout",
     "output_type": "stream",
     "text": [
      "\u001b[34m\u001b[1mStats for the portfolio returns, annualized:\u001b[22m\u001b[39m\n",
      "\n",
      "μ      3.745    14.022     9.626\n",
      "σ     19.056    17.340    16.928\n",
      "SR     0.197     0.809     0.569\n",
      "\n",
      "\u001b[31m\u001b[1mCompare with the previous results to verify that they are the same\u001b[22m\u001b[39m\n"
     ]
    }
   ],
   "source": [
    "X = lagFn(EMAFn(R,q))                      #sort on lag of MA(q) of R\n",
    "\n",
    "m = 5                                      #m asset in each of Lo and Hi\n",
    "\n",
    "(RH,RL) = (fill(NaN,T),fill(NaN,T))\n",
    "for t = 2:T                    #loop over periods, save portfolio returns\n",
    "    #local vL,vH,wL,wH         #local/global is needed in script\n",
    "    (vL,vH) = sortLoHi(X[t,:],trues(n),m)\n",
    "    (wL,wH) = (EWportf(vL),EWportf(vH))       #portfolio weights, EW\n",
    "    RL[t]   = wL'R[t,:]\n",
    "    RH[t]   = wH'R[t,:]\n",
    "end\n",
    "\n",
    "ReL = RL - Rf\n",
    "ReH = RH - Rf       #cut out t=1, excess returns\n",
    "\n",
    "Statm = ReturnStats([ReL ReH Rep][q+1:end,:],252)\n",
    "printblue(\"Stats for the portfolio returns, annualized:\\n\")\n",
    "printmat(Stats,colNames=[\"Lo\" \"Hi\" \"passive\"],rowNames=[\"μ\";\"σ\";\"SR\"])\n",
    "\n",
    "printred(\"Compare with the previous results to verify that they are the same\")"
   ]
  },
  {
   "cell_type": "markdown",
   "metadata": {},
   "source": [
    "# An Independent Double Sort\n",
    "\n",
    "on recent volatility ($X$) and and returns ($Z$).\n",
    "\n",
    "This creates four portfolios: (Low $X$, Low $Z$), (Low $X$, High $Z$), (High $X$, Low $Z$) and (High $X$, High $Z$). Each of them is an intersection from independent sorts on $X$ and $Z.$\n",
    "\n",
    "The size of each of these portfolios can vary over time: sometimes the portfolio is empty. The portfolio weights created by the `EWportf()` function are then `NaN`.\n",
    "\n",
    "\n",
    "### A Remark on the Code\n",
    "\n",
    "- `vXL .& vZL` tests if `vXL[i]` and `vZL[i]` are both true (and then repeats for each `i`)."
   ]
  },
  {
   "cell_type": "code",
   "execution_count": 18,
   "metadata": {
    "tags": []
   },
   "outputs": [],
   "source": [
    "X = lagFn(EMAFn(abs.(R),q))                #(lag of) MA of |R|, first sort variable\n",
    "Z = lagFn(EMAFn(R,q));                     #(lag of) MA of R, second sort variable"
   ]
  },
  {
   "cell_type": "code",
   "execution_count": 19,
   "metadata": {
    "tags": []
   },
   "outputs": [],
   "source": [
    "(mX,mZ) = (10,10)\n",
    "\n",
    "(RLL,RLH,RHL,RHH) = [fill(NaN,T) for i=1:4]\n",
    "for t = 2:T                    #loop over periods, save portfolio returns\n",
    "    #local vXL,vXH,vZL,vZH,vLL,vLH,vHL,vHH,wLL,wLH,wHL,wHH       #local/global is needed in script\n",
    "    (vXL,vXH) = sortLoHi(X[t,:],trues(n),mX)       #in Lo/Hi according to X\n",
    "    (vZL,vZH) = sortLoHi(Z[t,:],trues(n),mZ)       #in Lo/Hi according to Z\n",
    "    vLL     = vXL .& vZL                                  #in Lo X,Low Z\n",
    "    vLH     = vXL .& vZH                                  #in Lo X, Hi Z\n",
    "    vHL     = vXH .& vZL                                  #in Hi X, Lo Z\n",
    "    vHH     = vXH .& vZH                                  #in Hi X, Hi Z\n",
    "    (wLL,wLH,wHL,wHH) = (EWportf(vLL),EWportf(vLH),EWportf(vHL),EWportf(vHH))  #portfolio weights, EW\n",
    "    (RLL[t],RLH[t],RHL[t],RHH[t])  = (wLL'R[t,:],wLH'R[t,:],wHL'R[t,:],wHH'R[t,:])\n",
    "end"
   ]
  },
  {
   "cell_type": "markdown",
   "metadata": {},
   "source": [
    "## Handling NaNs and Reporting Results\n",
    "\n",
    "There are NaNs in the return series, since the portfolios are sometimes empty. We need to decide on how to handle those data points. \n",
    "\n",
    "The assumption below is that an empty portfolio (when all weights are `NaNs`) means that the full investment is done in the riskfree asset and thus the excess return is zero. We thus replace the excess return of a `NaN` return with zero.\n",
    "\n",
    "We typically want to study `RLH - RLL` and `RHH - RHL` since they show the \"effect\" of the second sort variable (`Z`) while controlling for the first (`X`)."
   ]
  },
  {
   "cell_type": "code",
   "execution_count": 20,
   "metadata": {
    "tags": []
   },
   "outputs": [
    {
     "name": "stdout",
     "output_type": "stream",
     "text": [
      "\u001b[34m\u001b[1mStats for the portfolio returns, annualized:\u001b[22m\u001b[39m\n"
     ]
    },
    {
     "name": "stdout",
     "output_type": "stream",
     "text": [
      "\n",
      "          LL        LH        HL        HH\n",
      "μ      6.207    12.508     4.731    12.483\n",
      "σ     14.644    14.350    20.575    19.069\n",
      "SR     0.424     0.872     0.230     0.655\n",
      "\n",
      "\u001b[34m\u001b[1mStudy LH-LL and HH-HL to see the momentum effect (controlling for volatility):\u001b[22m\u001b[39m\n",
      "\n",
      "       LH-LL     HH-HL\n",
      "μ      6.301     7.752\n",
      "σ      7.878    11.195\n",
      "SR     0.800     0.692\n",
      "\n"
     ]
    }
   ],
   "source": [
    "ReAll = [RLL RLH RHL RHH] .- Rf  #excess returns\n",
    "replace!(ReAll,NaN=>0)           #replace NaN by 0, assuming investment in riskfree\n",
    "Stats = ReturnStats(ReAll[q+1:end,:],252)\n",
    "\n",
    "printblue(\"Stats for the portfolio returns, annualized:\\n\")\n",
    "colNames = [\"LL\",\"LH\",\"HL\",\"HH\"]\n",
    "printmat(Stats,colNames=colNames,rowNames=[\"μ\";\"σ\";\"SR\"])\n",
    "\n",
    "printblue(\"Study LH-LL and HH-HL to see the momentum effect (controlling for volatility):\\n\")\n",
    "RLH_LL = ReAll[:,2] - ReAll[:,1]         #(L,H) minus (L,L)\n",
    "RHH_HL = ReAll[:,4] - ReAll[:,3]         #(H,H) minus (H,L)\n",
    "\n",
    "Stats = ReturnStats([RLH_LL RHH_HL][q+1:end,:],252)\n",
    "printmat(Stats,colNames=[\"LH-LL\",\"HH-HL\"],rowNames=[\"μ\";\"σ\";\"SR\"])"
   ]
  },
  {
   "cell_type": "markdown",
   "metadata": {},
   "source": [
    "# A Dependent Double Sort\n",
    "\n",
    "on recent volatility ($X$) and and returns ($Z$).\n",
    "\n",
    "This also creates four portfolios: (Low $X$, Low $Z$), (Low $X$, High $Z$), (High $X$, Low $Z$) and (High $X$, High $Z$). However, in this case, the Low $X$ group is split up into: (Low $X$, Low $Z$) and (Low $X$, High $Z$), and similarly for the high $X$ group.\n",
    "\n",
    "The size of each of these portfolios is constant over time (unless there are missing values).\n",
    "\n",
    "### A Remark on the Code\n",
    "\n",
    "- The `vXL` from `(vXL,vXH) = sortLoHi(X[t,:],trues(n),mX)` is an n-vector where element $i$ is `true` when asset $i$ belongs to 'low according to `X[t,:]`'.\n",
    "\n",
    "- `sortLoHi(Z[t,:],vXL,mZ)` sorts `Z[t,vXL]` into low/high. The other elements in `Z[t,:]` will not belong to either."
   ]
  },
  {
   "cell_type": "code",
   "execution_count": 21,
   "metadata": {
    "tags": []
   },
   "outputs": [],
   "source": [
    "(mX,mZ) = (10,5)\n",
    "\n",
    "(RLL,RLH,RHL,RHH) = [fill(NaN,T) for i=1:4]\n",
    "for t = 2:T                    #loop over periods, save portfolio returns\n",
    "    #local vXL,vXH,vLL,vLH,vHL,vHH,wLL,wLH,wHL,wHH       #local/global is needed in script\n",
    "    (vXL,vXH) = sortLoHi(X[t,:],trues(n),mX)       #Lo/Hi according to X\n",
    "    (vLL,vLH) = sortLoHi(Z[t,:],vXL,mZ)            #within Lo X, Lo/Hi according to Z\n",
    "    (vHL,vHH) = sortLoHi(Z[t,:],vXH,mZ)            #within Hi X, Lo/Hi according to Z\n",
    "    (wLL,wLH,wHL,wHH) = (EWportf(vLL),EWportf(vLH),EWportf(vHL),EWportf(vHH))  #portfolio weights, EW\n",
    "    (RLL[t],RLH[t],RHL[t],RHH[t])  = (wLL'R[t,:],wLH'R[t,:],wHL'R[t,:],wHH'R[t,:])\n",
    "end"
   ]
  },
  {
   "cell_type": "code",
   "execution_count": 22,
   "metadata": {
    "tags": []
   },
   "outputs": [
    {
     "name": "stdout",
     "output_type": "stream",
     "text": [
      "\u001b[34m\u001b[1mStats for the portfolio returns, annualized:\u001b[22m\u001b[39m\n",
      "\n",
      "          LL        LH        HL        HH\n",
      "μ      7.324    12.648     5.212    13.063\n",
      "σ     15.010    14.466    20.824    19.783\n",
      "SR     0.488     0.874     0.250     0.660\n",
      "\n",
      "\u001b[34m\u001b[1mStudy LH-LL and HH-HL to see the momentum effect (controlling for volatility):\u001b[22m\u001b[39m\n",
      "\n",
      "       LH-LL     HH-HL\n",
      "μ      5.324     7.852\n",
      "σ      4.565     7.326\n",
      "SR     1.166     1.072\n",
      "\n"
     ]
    }
   ],
   "source": [
    "ReAll = [RLL RLH RHL RHH] .- Rf\n",
    "replace!(ReAll,NaN=>0)         #replace NaN by 0, assuming investment in riskfree\n",
    "Stats = ReturnStats(ReAll[q+1:end,:],252)\n",
    "\n",
    "printblue(\"Stats for the portfolio returns, annualized:\\n\")\n",
    "colNames = [\"LL\",\"LH\",\"HL\",\"HH\"]\n",
    "printmat(Stats,colNames=colNames,rowNames=[\"μ\";\"σ\";\"SR\"])\n",
    "\n",
    "printblue(\"Study LH-LL and HH-HL to see the momentum effect (controlling for volatility):\\n\")\n",
    "RLH_LL = ReAll[:,2] - ReAll[:,1]         #(L,H) minus (L,L)\n",
    "RHH_HL = ReAll[:,4] - ReAll[:,3]         #(H,H) minus (H,L)\n",
    "\n",
    "Stats = ReturnStats([RLH_LL RHH_HL][q+1:end,:],252)\n",
    "printmat(Stats,colNames=[\"LH-LL\",\"HH-HL\"],rowNames=[\"μ\";\"σ\";\"SR\"])"
   ]
  },
  {
   "cell_type": "code",
   "execution_count": null,
   "metadata": {},
   "outputs": [],
   "source": []
  }
 ],
 "metadata": {
  "@webio": {
   "lastCommId": null,
   "lastKernelId": null
  },
  "anaconda-cloud": {},
  "kernelspec": {
   "display_name": "Julia 1.10.0",
   "language": "julia",
   "name": "julia-1.10"
  },
  "language_info": {
   "file_extension": ".jl",
   "mimetype": "application/julia",
   "name": "julia",
   "version": "1.10.0"
  }
 },
 "nbformat": 4,
 "nbformat_minor": 4
}
