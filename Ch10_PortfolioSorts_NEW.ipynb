{
 "cells": [
  {
   "cell_type": "markdown",
   "metadata": {},
   "source": [
    "# Portfolio Sorts\n",
    "\n",
    "This notebook implements a simple portfolio sort."
   ]
  },
  {
   "cell_type": "markdown",
   "metadata": {},
   "source": [
    "## Load Packages and Extra Functions"
   ]
  },
  {
   "cell_type": "code",
   "execution_count": 1,
   "metadata": {},
   "outputs": [
    {
     "name": "stdout",
     "output_type": "stream",
     "text": [
      "   0   1   0   1   0   0\n",
      "   0   1   1   0   0   0\n",
      "\n",
      "   1   0   1   0   0   0\n",
      "   1   0   0   1   0   0\n",
      "\n",
      "   0   0   0   0   0   0\n",
      "   0   0   0   0   0   0\n",
      "\n",
      "   0   0   0   0   0   0\n",
      "   0   0   0   0   0   0\n",
      "\n"
     ]
    }
   ],
   "source": [
    "using Printf, Dates, DelimitedFiles, Statistics\n",
    "\n",
    "include(\"jlFiles/printmat.jl\")\n",
    "include(\"jlFiles/lagFn.jl\")                #creating lags of a matrix\n",
    "include(\"jlFiles/EMAFn.jl\")                #moving average of rows of a matrix\n",
    "\n",
    "include(\"jlFiles/sorts.jl\")"
   ]
  },
  {
   "cell_type": "markdown",
   "metadata": {},
   "source": [
    "## Load Data\n",
    "\n",
    "The data set contains daily data for \"dates\", the equity market return, riskfree rate and the the returns of the 25 Fama-French portfolios. All returns are in percent."
   ]
  },
  {
   "cell_type": "code",
   "execution_count": 2,
   "metadata": {},
   "outputs": [
    {
     "name": "stdout",
     "output_type": "stream",
     "text": [
      "\n",
      "The first few rows of dN, Rm and Rf\n",
      "1979-01-02     0.615     0.035\n",
      "1979-01-03     1.155     0.035\n",
      "1979-01-04     0.975     0.035\n",
      "1979-01-05     0.685     0.035\n",
      "\n",
      "size of dN, Rm, Rf, R\n",
      "(9837,)\n",
      "(9837,)\n",
      "(9837,)\n",
      "(9837, 25)\n"
     ]
    }
   ],
   "source": [
    "x   = readdlm(\"Data/MomentumSR.csv\",',')\n",
    "dN  = Date.(x[:,1],\"yyyy-mm-dd\")                  #Julia dates \n",
    "y   = convert.(Float64,x[:,2:end])\n",
    "\n",
    "(Rm,Rf,R) = (y[:,1],y[:,2],y[:,3:end])\n",
    "\n",
    "println(\"\\nThe first few rows of dN, Rm and Rf\")\n",
    "printmat([dN[1:4] Rm[1:4] Rf[1:4]])\n",
    "\n",
    "println(\"size of dN, Rm, Rf, R\")\n",
    "println(size(dN),\"\\n\",size(Rm),\"\\n\",size(Rf),\"\\n\",size(R))\n",
    "\n",
    "(T,n) = size(R);                      #number of periods and assets"
   ]
  },
  {
   "cell_type": "markdown",
   "metadata": {},
   "source": [
    "## Creating Signals as Moving Averages"
   ]
  },
  {
   "cell_type": "code",
   "execution_count": 3,
   "metadata": {},
   "outputs": [
    {
     "name": "stdout",
     "output_type": "stream",
     "text": [
      "\n"
     ]
    }
   ],
   "source": [
    "vol = EMAFn(abs.(R),22)                       #MA(22) of |R|\n",
    "ret = EMAFn(R,22)                             #MA(22) of R\n",
    "\n",
    "Z1 = lagFn(vol)                                    #sort on vol[t-1]\n",
    "Z2 = lagFn(ret)                                    #sort on ret[t-1]\n",
    "\n",
    "println()"
   ]
  },
  {
   "cell_type": "markdown",
   "metadata": {},
   "source": [
    "## Implementing the Portfolio Sorts\n",
    "\n",
    "1.  Sort  $R_{t-1}$  across the 25 assets.\n",
    "2. (In the evening of) period  $t-1$, construct the `Hi` portfolio by buying 1/5 of each of the 5 best assets based on the sort in point 1. Similarly, construct the `Lo` portfolio by buying 1/5 of each of the 5 worst assets. Collect these portfolio weights in the vectors `wHi` and `wLo`.\n",
    "3. In period  $t$ , the return on the `Hi` portfolio is $R_{p,t}=wHi'R_{t}$. Similarly for `Lo`.\n",
    "4. Repeat for all periods"
   ]
  },
  {
   "cell_type": "code",
   "execution_count": 4,
   "metadata": {},
   "outputs": [],
   "source": [
    "(RHi,RLo) = (fill(NaN,T),fill(NaN,T))\n",
    "for t = 2:T         #loop over periods, save portfolio returns\n",
    "    #local sort1, wHi, wLo          #only needed in script\n",
    "    sort1                  = sortperm(R[t-1,:])  #sort1[1] is index of worst asset\n",
    "    (wLo,wHi)              = (zeros(n),zeros(n))\n",
    "    wLo[sort1[1:5]]       .= 1/5    #equally weighted inside Lo portfolio\n",
    "    wHi[sort1[end-4:end]] .= 1/5\n",
    "    RLo[t]                 = wLo'R[t,:]\n",
    "    RHi[t]                 = wHi'R[t,:]\n",
    "end\n",
    "\n",
    "ReLo = RLo[2:end] - Rf[2:end]\n",
    "ReHi = RHi[2:end] - Rf[2:end];       #cut out t=1, excess returns"
   ]
  },
  {
   "cell_type": "markdown",
   "metadata": {},
   "source": [
    "Calculate the mean (excess) return, its standard deviation and the Sharpe ratio. Annualize by assuming 252 trading days per year. Compare with the excess return on passively holding an equity market index."
   ]
  },
  {
   "cell_type": "code",
   "execution_count": 5,
   "metadata": {},
   "outputs": [
    {
     "data": {
      "text/plain": [
       "ReturnStats (generic function with 2 methods)"
      ]
     },
     "execution_count": 5,
     "metadata": {},
     "output_type": "execute_result"
    }
   ],
   "source": [
    "```\n",
    "\n",
    "Calculate average excess return, the std and the SR ratio - and annualise all of them.\n",
    "```\n",
    "function ReturnStats(Re,Annfactor=252)\n",
    "    μ  = mean(Re)*Annfactor\n",
    "    σ  = std(Re)*sqrt(Annfactor)\n",
    "    SR = μ/σ\n",
    "    stats = [μ,σ,SR]\n",
    "    return stats\n",
    "end"
   ]
  },
  {
   "cell_type": "code",
   "execution_count": 6,
   "metadata": {},
   "outputs": [
    {
     "name": "stdout",
     "output_type": "stream",
     "text": [
      "\u001b[34m\u001b[1mStats for the portfolio returns, annualized:\u001b[22m\u001b[39m\n",
      "          Lo        Hi    market\n",
      "μ      1.651    17.914     8.374\n",
      "σ     18.706    17.610    16.837\n",
      "SR     0.088     1.017     0.497\n",
      "\n"
     ]
    }
   ],
   "source": [
    "Rme = Rm - Rf\n",
    "\n",
    "StatLo = ReturnStats(ReLo,252)\n",
    "StatHi = ReturnStats(ReHi,252)\n",
    "Statm  = ReturnStats(Rme[2:end],252)\n",
    "\n",
    "printblue(\"Stats for the portfolio returns, annualized:\")\n",
    "printmat([StatLo StatHi Statm],colNames=[\"Lo\" \"Hi\" \"market\"],rowNames=[\"μ\";\"σ\";\"SR\"])"
   ]
  },
  {
   "cell_type": "markdown",
   "metadata": {},
   "source": [
    "## Univariate Sort on Past Returns"
   ]
  },
  {
   "cell_type": "code",
   "execution_count": 7,
   "metadata": {},
   "outputs": [],
   "source": [
    "L = 22       #MA over L periods to create signals\n",
    "\n",
    "Z1 = lagFn(EMAFn(R,L));"
   ]
  },
  {
   "cell_type": "code",
   "execution_count": 8,
   "metadata": {},
   "outputs": [
    {
     "name": "stdout",
     "output_type": "stream",
     "text": [
      "printing the first few lines of GLo and GHi\n",
      "  1  1  1  1  1  0  0  0  0  0  0  0  0  0  0  0  0  0  0  0  0  0  0  0  0\n",
      "  1  0  0  0  0  0  0  1  0  0  1  0  0  0  0  0  1  0  0  0  0  0  1  0  0\n",
      "  0  0  0  0  0  0  0  1  1  0  0  0  0  1  0  0  1  0  0  0  0  0  1  0  0\n",
      "  0  0  0  0  0  0  0  0  0  0  0  0  0  1  0  0  1  0  0  0  1  1  1  0  0\n",
      "  0  0  0  0  0  0  0  0  0  0  0  0  0  1  0  0  1  0  0  0  1  0  1  1  0\n",
      "\n",
      "  0  0  0  0  0  0  0  0  0  0  0  0  0  0  0  0  0  0  0  0  1  1  1  1  1\n",
      "  0  0  0  0  1  0  0  0  0  0  0  1  0  0  1  0  0  0  0  1  0  0  0  0  1\n",
      "  0  0  0  0  1  0  0  0  0  0  0  1  0  0  1  0  0  0  0  1  0  0  0  0  1\n",
      "  0  0  0  0  1  0  1  0  0  0  0  0  0  0  1  0  0  0  0  1  0  0  0  0  1\n",
      "  1  0  0  0  1  0  1  0  0  0  0  0  0  0  1  0  0  0  0  0  0  0  0  0  1\n",
      "\n",
      "\u001b[31m\u001b[1mdo not use the first rows sinze Z1[t,:] is NaN\u001b[22m\u001b[39m\n"
     ]
    }
   ],
   "source": [
    "M1 = 5                                  #number of assets in each portfolio\n",
    "\n",
    "(GLo,GHi) = PortfSortLoHiPs(Z1,M1)      #Txn bitarrays indicating group membership\n",
    "\n",
    "println(\"printing the first few lines of GLo and GHi\")\n",
    "printmat(GLo[1:5,:],prec=0,width=3)\n",
    "printmat(GHi[1:5,:],prec=0,width=3)\n",
    "\n",
    "printred(\"do not use the first rows sinze Z1[t,:] is NaN\")"
   ]
  },
  {
   "cell_type": "code",
   "execution_count": 9,
   "metadata": {},
   "outputs": [],
   "source": [
    "WLo = GLo./sum(GLo,dims=2)           #create portfolio weights\n",
    "WHi = GHi./sum(GHi,dims=2)\n",
    "\n",
    "RLo = sum(WLo.*R,dims=2)            #returns on the portfolios\n",
    "RHi = sum(WHi.*R,dims=2)\n",
    "\n",
    "ReLo = RLo[2:end] - Rf[2:end]\n",
    "ReHi = RHi[2:end] - Rf[2:end];       #cut out t=1, excess returns"
   ]
  },
  {
   "cell_type": "code",
   "execution_count": 10,
   "metadata": {},
   "outputs": [
    {
     "name": "stdout",
     "output_type": "stream",
     "text": [
      "\u001b[34m\u001b[1mStats for the portfolio returns, annualized:\u001b[22m\u001b[39m\n",
      "          Lo        Hi    market\n",
      "μ      3.836    14.168     8.374\n",
      "σ     19.042    17.331    16.837\n",
      "SR     0.201     0.818     0.497\n",
      "\n"
     ]
    }
   ],
   "source": [
    "Rme = Rm - Rf\n",
    "\n",
    "StatLo = ReturnStats(ReLo,252)\n",
    "StatHi = ReturnStats(ReHi,252)\n",
    "Statm  = ReturnStats(Rme[2:end],252)\n",
    "\n",
    "printblue(\"Stats for the portfolio returns, annualized:\")\n",
    "printmat([StatLo StatHi Statm],colNames=[\"Lo\" \"Hi\" \"market\"],rowNames=[\"μ\";\"σ\";\"SR\"])"
   ]
  },
  {
   "cell_type": "code",
   "execution_count": 11,
   "metadata": {},
   "outputs": [
    {
     "name": "stdout",
     "output_type": "stream",
     "text": [
      "\u001b[34m\u001b[1mStats for the portfolio returns, annualized:\u001b[22m\u001b[39m\n",
      "          Lo        Hi    market\n",
      "μ      1.651    17.914     8.374\n",
      "σ     18.706    17.610    16.837\n",
      "SR     0.088     1.017     0.497\n",
      "\n"
     ]
    }
   ],
   "source": [
    "M1 = 5\n",
    "\n",
    "\n",
    "(RHi,RLo) = (fill(NaN,T),fill(NaN,T))\n",
    "for t = 2:T         #loop over periods, save portfolio returns\n",
    "    #local sort1, wHi, wLo          #only needed in script\n",
    "    sort1                  = sortperm(R[t-1,:])  #sort1[1] is index of worst asset\n",
    "    (wLo,wHi)              = (zeros(n),zeros(n))\n",
    "    wLo[sort1[1:M1]]         .= 1/M1    #equally weighted inside Lo portfolio\n",
    "    wHi[sort1[end-M1+1:end]] .= 1/M1\n",
    "    RLo[t]                 = wLo'R[t,:]\n",
    "    RHi[t]                 = wHi'R[t,:]\n",
    "end\n",
    "\n",
    "ReLo = RLo[2:end] - Rf[2:end]\n",
    "ReHi = RHi[2:end] - Rf[2:end];       #cut out t=1, excess returns\n",
    "\n",
    "Rme = Rm - Rf\n",
    "\n",
    "StatLo = ReturnStats(ReLo,252)\n",
    "StatHi = ReturnStats(ReHi,252)\n",
    "Statm  = ReturnStats(Rme[2:end],252)\n",
    "\n",
    "printblue(\"Stats for the portfolio returns, annualized:\")\n",
    "printmat([StatLo StatHi Statm],colNames=[\"Lo\" \"Hi\" \"market\"],rowNames=[\"μ\";\"σ\";\"SR\"])"
   ]
  },
  {
   "cell_type": "code",
   "execution_count": 23,
   "metadata": {},
   "outputs": [
    {
     "name": "stdout",
     "output_type": "stream",
     "text": [
      "     1.000     0.642    23.000     0.000     1.000\n",
      "     2.000     0.468    12.000     0.000     0.000\n",
      "     3.000     0.438     8.000     1.000     0.000\n",
      "     4.000     0.408     3.000     1.000     0.000\n",
      "     5.000     0.425     6.000     1.000     0.000\n",
      "     6.000     0.660    24.000     0.000     1.000\n",
      "     7.000     0.490    14.000     0.000     0.000\n",
      "     8.000     0.454    11.000     0.000     0.000\n",
      "     9.000     0.390     2.000     1.000     0.000\n",
      "    10.000     0.513    18.000     0.000     1.000\n",
      "    11.000     0.496    16.000     0.000     1.000\n",
      "    12.000     0.595    22.000     0.000     1.000\n",
      "    13.000     0.411     4.000     1.000     0.000\n",
      "    14.000     0.449    10.000     1.000     0.000\n",
      "    15.000     0.670    25.000     0.000     1.000\n",
      "    16.000     0.565    21.000     0.000     1.000\n",
      "    17.000     0.344     1.000     1.000     0.000\n",
      "    18.000     0.431     7.000     1.000     0.000\n",
      "    19.000     0.423     5.000     1.000     0.000\n",
      "    20.000     0.556    20.000     0.000     1.000\n",
      "    21.000     0.472    13.000     0.000     0.000\n",
      "    22.000     0.518    19.000     0.000     1.000\n",
      "    23.000     0.441     9.000     1.000     0.000\n",
      "    24.000     0.494    15.000     0.000     0.000\n",
      "    25.000     0.497    17.000     0.000     1.000\n",
      "\n"
     ]
    },
    {
     "ename": "LoadError",
     "evalue": "",
     "output_type": "error",
     "traceback": [
      "",
      "",
      "Stacktrace:",
      " [1] error() at .\\error.jl:42",
      " [2] top-level scope at In[23]:18",
      " [3] include_string(::Function, ::Module, ::String, ::String) at .\\loading.jl:1091"
     ]
    }
   ],
   "source": [
    "using StatsBase\n",
    "\n",
    "L = 22\n",
    "Z1 = lagFn(EMAFn(abs.(R),L))\n",
    "Z2 = lagFn(EMAFn(R,L))\n",
    "\n",
    "M1 = 10\n",
    "M2 = 5\n",
    "\n",
    "t = 100\n",
    "sort1           = sortperm(Z1[t,:])  #sort1[1] is index of the asset with lowest Z1\n",
    "(sort2L,sort2H) = (falses(n),falses(n))   \n",
    "sort2L[sort1[1:M1]]         .= true\n",
    "sort2H[sort1[end-M1+1:end]] .= true\n",
    "\n",
    "printmat(1:n,Z1[t,:],ordinalrank(Z1[t,:]),sort2L,sort2H)\n",
    "\n",
    "error()\n",
    "(RHi,RLo) = (fill(NaN,T),fill(NaN,T))\n",
    "for t = 2:T         #loop over periods, save portfolio returns\n",
    "    #local sort1, wHi, wLo          #only needed in script\n",
    "    sort1           = sortperm(Z1[t,:])  #sort1[1] is index of worst asset\n",
    "\n",
    "    sort2\n",
    "    \n",
    "    (wL,wH)                = (zeros(n),zeros(n))\n",
    "    wL[sort1[1:M1]]         .= 1/M1    #equally weighted inside Lo portfolio\n",
    "    wH[sort1[end-M1+1:end]] .= 1/M1\n",
    "    RLo[t]                 = wL'R[t,:]\n",
    "    RH[t]                 = wH'R[t,:]\n",
    "end\n",
    "\n",
    "ReLo = RLo[2:end] - Rf[2:end]\n",
    "ReHi = RHi[2:end] - Rf[2:end];       #cut out t=1, excess returns\n",
    "\n",
    "Rme = Rm - Rf\n",
    "\n",
    "StatLo = ReturnStats(ReLo,252)\n",
    "StatHi = ReturnStats(ReHi,252)\n",
    "Statm  = ReturnStats(Rme[2:end],252)\n",
    "\n",
    "printblue(\"Stats for the portfolio returns, annualized:\")\n",
    "printmat([StatLo StatHi Statm],colNames=[\"Lo\" \"Hi\" \"market\"],rowNames=[\"μ\";\"σ\";\"SR\"])"
   ]
  },
  {
   "cell_type": "code",
   "execution_count": 15,
   "metadata": {},
   "outputs": [
    {
     "data": {
      "text/plain": [
       "25-element Array{Int64,1}:\n",
       " 17\n",
       "  9\n",
       "  4\n",
       " 13\n",
       " 19\n",
       "  5\n",
       " 18\n",
       "  3\n",
       " 23\n",
       " 14\n",
       "  8\n",
       "  2\n",
       " 21\n",
       "  7\n",
       " 24\n",
       " 11\n",
       " 25\n",
       " 10\n",
       " 22\n",
       " 20\n",
       " 16\n",
       " 12\n",
       "  1\n",
       "  6\n",
       " 15"
      ]
     },
     "execution_count": 15,
     "metadata": {},
     "output_type": "execute_result"
    }
   ],
   "source": [
    "sort1"
   ]
  },
  {
   "cell_type": "code",
   "execution_count": null,
   "metadata": {},
   "outputs": [],
   "source": []
  }
 ],
 "metadata": {
  "@webio": {
   "lastCommId": null,
   "lastKernelId": null
  },
  "anaconda-cloud": {},
  "kernelspec": {
   "display_name": "Julia 1.5.4",
   "language": "julia",
   "name": "julia-1.5"
  },
  "language_info": {
   "file_extension": ".jl",
   "mimetype": "application/julia",
   "name": "julia",
   "version": "1.5.4"
  }
 },
 "nbformat": 4,
 "nbformat_minor": 1
}
