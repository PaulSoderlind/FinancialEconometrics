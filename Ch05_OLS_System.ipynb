{
 "cells": [
  {
   "cell_type": "markdown",
   "metadata": {},
   "source": [
    "# OLS on a System of Regressions\n",
    "\n",
    "\n",
    "This notebook illustrates how to estimate a system of regressions with OLS - and to test (coefficients) across the regressions. (SURE means Seemingly Unrelated Regression Equations.)"
   ]
  },
  {
   "cell_type": "markdown",
   "metadata": {},
   "source": [
    "## Load Packages and Extra Functions"
   ]
  },
  {
   "cell_type": "code",
   "execution_count": 1,
   "metadata": {},
   "outputs": [
    {
     "data": {
      "text/plain": [
       "CovNWFn"
      ]
     },
     "execution_count": 1,
     "metadata": {},
     "output_type": "execute_result"
    }
   ],
   "source": [
    "using Printf, DelimitedFiles, Statistics, LinearAlgebra, Distributions\n",
    "\n",
    "include(\"jlFiles/printmat.jl\")\n",
    "include(\"jlFiles/CovNWFn.jl\")"
   ]
  },
  {
   "cell_type": "markdown",
   "metadata": {},
   "source": [
    "## Loading Data"
   ]
  },
  {
   "cell_type": "code",
   "execution_count": 2,
   "metadata": {},
   "outputs": [
    {
     "data": {
      "text/plain": [
       "(388, 5)"
      ]
     },
     "execution_count": 2,
     "metadata": {},
     "output_type": "execute_result"
    }
   ],
   "source": [
    "x    = readdlm(\"Data/FFmFactorsPs.csv\",',',skipstart=1)\n",
    "Rme  = x[:,2]                #market excess return\n",
    "Rf   = x[:,5]                #interest rate\n",
    "\n",
    "\n",
    "x  = readdlm(\"Data/FF25Ps.csv\",',') #no header line: x is matrix\n",
    "R  = x[:,2:end]                     #returns for 25 FF portfolios\n",
    "Re = R .- Rf                        #excess returns for the 25 FF portfolios\n",
    "Re = Re[:,[1;7;13;19;25]]           #use just 5 assets to make the printing easier \n",
    "\n",
    "(T,n) = size(Re)                    #number of observations and test assets"
   ]
  },
  {
   "cell_type": "markdown",
   "metadata": {
    "collapsed": true
   },
   "source": [
    "## A Function for Joint Estimation of Several Regressions (OLS)\n",
    "\n",
    "\n",
    "Consider the linear regression\n",
    "\n",
    "$\n",
    "y_{it}=\\beta_i^{\\prime}x_{t}+\\varepsilon_{it}, \n",
    "$\n",
    "\n",
    "where $i=1,2,..,n$ indicates $n$ different dependent variables. The regressors are the *same* across the regressions. \n",
    "\n",
    "The next cell defines a function for this estimation."
   ]
  },
  {
   "cell_type": "code",
   "execution_count": 3,
   "metadata": {},
   "outputs": [
    {
     "data": {
      "text/plain": [
       "OlsSureFn"
      ]
     },
     "execution_count": 3,
     "metadata": {},
     "output_type": "execute_result"
    }
   ],
   "source": [
    "\"\"\"\n",
    "    OlsSureFn(Y,X,NWQ=false,m=0)\n",
    "\n",
    "LS of Y on X; where Y is Txn, and X is the same for all regressions\n",
    "\n",
    "# Usage\n",
    "(b,res,Yhat,Covb,R2) = OlsSureFn(Y,X,NWQ,m)\n",
    "\n",
    "# Input\n",
    "- `Y::Matrix`:     Txn, the n dependent variables\n",
    "- `X::Matrix`:     Txk matrix of regressors (including deterministic ones)\n",
    "- `NWQ:Bool`:      if true, then Newey-West's covariance matrix is used, otherwise Gauss-Markov\n",
    "- `m::Int`:        scalar, bandwidth in Newey-West\n",
    "\n",
    "# Output\n",
    "- `b::Matrix`:     n*kx1, regression coefficients\n",
    "- `u::Matrix`:     Txn, residuals Y - Yhat\n",
    "- `Yhat::Matrix`:  Txn, fitted values X*b\n",
    "- `V::Matrix`:     covariance matrix of vec(b)\n",
    "- `R2::Vector`:    n-vector, R2 values\n",
    "\n",
    "\"\"\"\n",
    "function OlsSureFn(Y,X,NWQ=false,m=0)\n",
    "\n",
    "    (T,n) = (size(Y,1),size(Y,2))\n",
    "    k     = size(X,2)\n",
    "\n",
    "    b     = X\\Y\n",
    "    Yhat  = X*b\n",
    "    u     = Y - Yhat\n",
    "\n",
    "    g     = zeros(T,n*k)\n",
    "    for i = 1:n\n",
    "      vv      = (1+(i-1)*k):(i*k)   #1:k,(1+k):2k,...\n",
    "      g[:,vv] = X.*u[:,i]           #moment conditions for Y[:,i] regression\n",
    "    end\n",
    "\n",
    "    Sxx = X'X\n",
    "    if NWQ\n",
    "        S     = CovNWFn(g,m)            #Newey-West covariance matrix\n",
    "        Sxx_1 = kron(I(n),inv(Sxx))\n",
    "        V     = Sxx_1 * S * Sxx_1\n",
    "    else\n",
    "        V = kron(cov(u),inv(Sxx))      #traditional covariance matrix, Gauss-Markov \n",
    "    end    \n",
    "    \n",
    "    R2   = 1 .- var(u,dims=1)./var(Y,dims=1)\n",
    "\n",
    "    return b, u, Yhat, V, R2\n",
    "\n",
    "end"
   ]
  },
  {
   "cell_type": "code",
   "execution_count": 4,
   "metadata": {},
   "outputs": [
    {
     "name": "stdout",
     "output_type": "stream",
     "text": [
      "\u001b[34m\u001b[1mCAPM regressions\u001b[22m\u001b[39m\n",
      "coeffs\n",
      "      asset 1   asset 2   asset 3   asset 4   asset 5\n",
      "c      -0.504     0.153     0.305     0.279     0.336\n",
      "Rme     1.341     1.169     0.994     0.943     0.849\n",
      "\n",
      "t-stats\n",
      "      asset 1   asset 2   asset 3   asset 4   asset 5\n",
      "c      -1.656     1.031     2.471     2.163     2.073\n",
      "Rme    20.427    36.534    37.298    33.848    24.279\n",
      "\n"
     ]
    }
   ],
   "source": [
    "(b,u,yhat,V,R2) = OlsSureFn(Re,[ones(T) Rme])\n",
    "Stdb   = sqrt.(reshape(diag(V),2,n))      #V = Cov(vec(b)), in vec(b) 1:2 are for asset 1, 3:4 for asset 2,...\n",
    "tstat  = b./Stdb\n",
    "\n",
    "printblue(\"CAPM regressions\")\n",
    "colNames = [string(\"asset \",i) for i=1:n]\n",
    "rowNames = [\"c\",\"Rme\"]\n",
    "\n",
    "println(\"coeffs\")\n",
    "printmat(b,colNames=colNames,rowNames=rowNames)\n",
    "\n",
    "println(\"t-stats\")\n",
    "printmat(tstat,colNames=colNames,rowNames=rowNames)"
   ]
  },
  {
   "cell_type": "markdown",
   "metadata": {},
   "source": [
    "## Testing Across Regressions\n",
    "\n",
    "To test across regressions, we first stack the point estimates into a vector by `θ = vec(b)`.\n",
    "\n",
    "The test below applies the usual $\\chi^2$ test, where \n",
    "\n",
    "$\n",
    "H_0: R\\theta=q,\n",
    "$\n",
    "\n",
    "where $R$ is a $J \\times K$ matrix and $q$ is a $J$-vector. To test this, use\n",
    "\n",
    "$\n",
    "(R\\theta-q)^{\\prime}(RVR^{\\prime}) ^{-1}(R\\theta-q)\\overset{d}{\\rightarrow}\\chi_{J}^{2}.\n",
    "$"
   ]
  },
  {
   "cell_type": "code",
   "execution_count": 5,
   "metadata": {},
   "outputs": [
    {
     "name": "stdout",
     "output_type": "stream",
     "text": [
      "stacking the coeffs into a vector: \n",
      "    -0.504\n",
      "     1.341\n",
      "     0.153\n",
      "     1.169\n",
      "     0.305\n",
      "     0.994\n",
      "     0.279\n",
      "     0.943\n",
      "     0.336\n",
      "     0.849\n",
      "\n",
      "The R matrix\n",
      "   1   0   0   0   0   0   0   0   0   0\n",
      "   0   0   1   0   0   0   0   0   0   0\n",
      "   0   0   0   0   1   0   0   0   0   0\n",
      "   0   0   0   0   0   0   1   0   0   0\n",
      "   0   0   0   0   0   0   0   0   1   0\n",
      "\n",
      "The number of hypotheses that we test: 5 \n",
      "\n",
      "R*vec(b)\n",
      "    -0.504\n",
      "     0.153\n",
      "     0.305\n",
      "     0.279\n",
      "     0.336\n",
      "\n"
     ]
    }
   ],
   "source": [
    "θ = vec(b)\n",
    "\n",
    "println(\"stacking the coeffs into a vector: \")\n",
    "printmat(θ)\n",
    "\n",
    "#R = [1 0 -1 0 zeros(1,2*n-4)]           #are intercepts the same for assets 1 and 2?\n",
    "R = zeros(n,2n)                          #are all intercepts == 0? \n",
    "for i = 1:n\n",
    "    R[i,(i-1)*2+1] = 1\n",
    "end\n",
    "\n",
    "println(\"The R matrix\")\n",
    "printmat(R,width=4,prec=0)\n",
    "\n",
    "J = size(R,1)\n",
    "printlnPs(\"The number of hypotheses that we test: $J \\n\")\n",
    "\n",
    "println(\"R*vec(b)\")\n",
    "printmat(R*θ)"
   ]
  },
  {
   "cell_type": "code",
   "execution_count": 6,
   "metadata": {},
   "outputs": [
    {
     "name": "stdout",
     "output_type": "stream",
     "text": [
      "      test stat   10% crit val\n",
      "         10.930          9.236\n",
      "\n"
     ]
    }
   ],
   "source": [
    "Γ = R*V*R'\n",
    "test_stat = (R*θ)'inv(Γ)*(R*θ)\n",
    "\n",
    "critval = quantile(Chisq(J),0.9)          #10% critical value\n",
    "\n",
    "printmat([test_stat critval],colNames=[\"test stat\",\"10% crit val\"],width=15)"
   ]
  },
  {
   "cell_type": "code",
   "execution_count": null,
   "metadata": {},
   "outputs": [],
   "source": []
  }
 ],
 "metadata": {
  "@webio": {
   "lastCommId": null,
   "lastKernelId": null
  },
  "anaconda-cloud": {},
  "kernelspec": {
   "display_name": "Julia 1.6.0",
   "language": "julia",
   "name": "julia-1.6"
  },
  "language_info": {
   "file_extension": ".jl",
   "mimetype": "application/julia",
   "name": "julia",
   "version": "1.6.0"
  }
 },
 "nbformat": 4,
 "nbformat_minor": 1
}
