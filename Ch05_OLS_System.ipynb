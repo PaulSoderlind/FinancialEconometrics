{
 "cells": [
  {
   "cell_type": "markdown",
   "metadata": {
    "tags": []
   },
   "source": [
    "# OLS on a System of Regressions\n",
    "\n",
    "This notebook illustrates how to estimate a system of regressions with OLS - and to test (coefficients) across the regressions."
   ]
  },
  {
   "cell_type": "markdown",
   "metadata": {},
   "source": [
    "## Load Packages and Extra Functions\n",
    "\n",
    "The key function `OlsSure()` is from the (local) `FinEcmt_OLS` module."
   ]
  },
  {
   "cell_type": "code",
   "execution_count": 1,
   "metadata": {},
   "outputs": [],
   "source": [
    "MyModulePath = joinpath(pwd(),\"src\")\n",
    "!in(MyModulePath,LOAD_PATH) && push!(LOAD_PATH,MyModulePath)\n",
    "using FinEcmt_OLS"
   ]
  },
  {
   "cell_type": "code",
   "execution_count": 2,
   "metadata": {},
   "outputs": [],
   "source": [
    "#=\n",
    "include(joinpath(pwd(),\"src\",\"FinEcmt_OLS.jl\"))\n",
    "using .FinEcmt_OLS\n",
    "=#"
   ]
  },
  {
   "cell_type": "code",
   "execution_count": 3,
   "metadata": {
    "tags": []
   },
   "outputs": [],
   "source": [
    "using DelimitedFiles, LinearAlgebra, Distributions"
   ]
  },
  {
   "cell_type": "markdown",
   "metadata": {},
   "source": [
    "## Loading Data"
   ]
  },
  {
   "cell_type": "code",
   "execution_count": 4,
   "metadata": {
    "tags": []
   },
   "outputs": [
    {
     "data": {
      "text/plain": [
       "(388, 5)"
      ]
     },
     "execution_count": 4,
     "metadata": {},
     "output_type": "execute_result"
    }
   ],
   "source": [
    "x    = readdlm(\"Data/FFmFactorsPs.csv\",',',skipstart=1)\n",
    "(Rme,Rf) = (x[:,2],x[:,5])          #market excess return, interest rate\n",
    "\n",
    "x  = readdlm(\"Data/FF25Ps.csv\",',') #no header line\n",
    "R  = x[:,2:end]                     #returns for 25 FF portfolios\n",
    "Re = R .- Rf                        #excess returns for the 25 FF portfolios\n",
    "Re = Re[:,[1,7,13,19,25]]           #use just 5 assets to make the printing easier\n",
    "\n",
    "(T,n) = size(Re)                    #number of observations and test assets"
   ]
  },
  {
   "cell_type": "markdown",
   "metadata": {},
   "source": [
    "## A Function for Joint Estimation of Several Regressions (OLS)\n",
    "\n",
    "Consider the linear regressions\n",
    "\n",
    "$\n",
    "y_{it}=x_{t}^{\\prime}\\beta_i+u_{it}, \n",
    "$\n",
    "\n",
    "where $i=1,2,..,n$ indicates $n$ different dependent variables. The $K$ regressors are the *same* across the $n$ regressions. (This is often called SURE, Seemingly Unrelated Regression Equations.)\n",
    "\n",
    "For the case of two regressions, the variance-covariance matrix has the following structure. \n",
    "Stack the $\\beta$ coefficients into a vector (from equation 1 first, then from equation 2.) Then, the variance-covariance matrix is\n",
    "\n",
    "$\n",
    "\\mathrm{Var}\\left(\n",
    "\t\\begin{bmatrix}\n",
    "\t\t\\hat{\\beta}_{1}\\\\\n",
    "\t\t\\hat{\\beta}_{2}%\n",
    "\t\\end{bmatrix}\n",
    "\t\\right)  =\n",
    "\t\\begin{bmatrix}\n",
    "\t\tS_{xx}^{-1} & \\mathbf{0}\\\\\n",
    "\t\t\\mathbf{0} & S_{xx}^{-1}\n",
    "\t\\end{bmatrix}\n",
    "\t\\Omega\n",
    "\t\\begin{bmatrix}\n",
    "\t\tS_{xx}^{-1} & \\mathbf{0}\\\\\n",
    "\t\t\\mathbf{0} & S_{xx}^{-1}\n",
    "\t\\end{bmatrix}\n",
    "$\n",
    "\n",
    "where \n",
    "\n",
    "$\n",
    "\\Omega  = \\mathrm{Var}\\left(\n",
    "\\sum\\nolimits_{t=1}^{T}\n",
    "\\begin{bmatrix}\n",
    "\tx_{t}u_{1t}\\\\\n",
    "\tx_{t}u_{2t}\n",
    "\\end{bmatrix}\n",
    "\\right) \n",
    "$\n",
    "\n",
    "Notice that $x_{t}u_{1t}$ is a vector with $K$ elements (as many as there are regressors) and $x_{t}u_{2t}$ is similar. The $\\Omega$ matrix is thus $2K \\times 2K$.\n",
    "\n",
    "The case of $n$ regressions (rather than 2) involves creating similar matrices. This is implemented in the `OlsSure()` function."
   ]
  },
  {
   "cell_type": "code",
   "execution_count": 5,
   "metadata": {},
   "outputs": [
    {
     "data": {
      "text/markdown": [
       "```\n",
       "OlsSure(Y,X,NWQ=false,m=0)\n",
       "```\n",
       "\n",
       "LS of `Y` on `X`; where `Y` is Txn, and `X` is the same for all regressions\n",
       "\n",
       "### Input\n",
       "\n",
       "  * `Y::Matrix`:     Txn, the n dependent variables\n",
       "  * `X::Matrix`:     Txk matrix of regressors (including deterministic ones)\n",
       "  * `NWQ:Bool`:      if true, then Newey-West's covariance matrix is used, otherwise Gauss-Markov\n",
       "  * `m::Int`:        scalar, bandwidth in Newey-West\n",
       "\n",
       "### Output\n",
       "\n",
       "  * `b::Matrix`:     kxn, regression coefficients (one column for each `Y[:,i]`)\n",
       "  * `u::Matrix`:     Txn, residuals Y - Yhat\n",
       "  * `Yhat::Matrix`:  Txn, fitted values X*b\n",
       "  * `V::Matrix`:     covariance matrix of θ=vec(b)\n",
       "  * `R²::Matrix`:    1xn matrix, R² values\n"
      ]
     },
     "metadata": {},
     "output_type": "display_data"
    }
   ],
   "source": [
    "@doc2 OlsSure"
   ]
  },
  {
   "cell_type": "code",
   "execution_count": 6,
   "metadata": {},
   "outputs": [
    {
     "name": "stdout",
     "output_type": "stream",
     "text": [
      "function OlsSure(Y,X,NWQ=false,m=0)\n",
      "\n",
      "    (T,n) = (size(Y,1),size(Y,2))\n",
      "    k     = size(X,2)\n",
      "\n",
      "    b     = X\\Y\n",
      "    Yhat  = X*b\n",
      "    u     = Y - Yhat\n",
      "\n",
      "    Sxx = X'X\n",
      "\n",
      "    if NWQ\n",
      "        g      = hcat([X.*u[:,i] for i=1:n]...)    #hcat(X.*u[:,1],X.*u[:,2], etc)\n",
      "        S      = CovNW(g,m)           #Newey-West covariance matrix\n",
      "        SxxM_1 = kron(I(n),inv(Sxx))\n",
      "        V      = SxxM_1 * S * SxxM_1\n",
      "    else\n",
      "        V = kron(cov(u),inv(Sxx))      #traditional covariance matrix, Gauss-Markov\n",
      "    end\n",
      "\n",
      "    R²   = 1 .- var(u,dims=1)./var(Y,dims=1)\n",
      "\n",
      "    return b, u, Yhat, V, R²\n",
      "\n",
      "end\n"
     ]
    }
   ],
   "source": [
    "using CodeTracking\n",
    "println(@code_string OlsSure([1],[1]))   #print the source code"
   ]
  },
  {
   "cell_type": "markdown",
   "metadata": {},
   "source": [
    "## Using the Function"
   ]
  },
  {
   "cell_type": "code",
   "execution_count": 7,
   "metadata": {
    "tags": []
   },
   "outputs": [
    {
     "name": "stdout",
     "output_type": "stream",
     "text": [
      "\u001b[34m\u001b[1mCAPM regressions: α is the intecept, γ the coeff on Rme\u001b[22m\u001b[39m\n",
      "\n",
      "coeffs\n",
      "    asset 1   asset 2   asset 3   asset 4   asset 5\n",
      "α    -0.504     0.153     0.305     0.279     0.336\n",
      "γ     1.341     1.169     0.994     0.943     0.849\n",
      "\n",
      "t-stats\n",
      "    asset 1   asset 2   asset 3   asset 4   asset 5\n",
      "α    -1.720     1.045     2.436     2.094     2.070\n",
      "γ    22.322    30.609    28.416    23.209    17.242\n",
      "\n"
     ]
    }
   ],
   "source": [
    "(b,u,yhat,V,R²) = OlsSure(Re,[ones(T) Rme],true)\n",
    "Stdb   = sqrt.(reshape(diag(V),2,n))      #V = Cov(vec(b)), in vec(b) 1:2 are for asset 1, 3:4 for asset 2,...\n",
    "tstat  = b./Stdb\n",
    "\n",
    "printblue(\"CAPM regressions: α is the intecept, γ the coeff on Rme\\n\")\n",
    "assetNames = [string(\"asset \",i) for i=1:n]\n",
    "xNames      = [\"c\",\"Rme\"]\n",
    "\n",
    "println(\"coeffs\")\n",
    "printmat(b;colNames=assetNames,rowNames=[\"α\",\"γ\"])\n",
    "\n",
    "println(\"t-stats\")\n",
    "printmat(tstat;colNames=assetNames,rowNames=[\"α\",\"γ\"])"
   ]
  },
  {
   "cell_type": "markdown",
   "metadata": {},
   "source": [
    "## Testing Across Regressions\n",
    "\n",
    "To test across regressions, we first stack the point estimates into a vector by `θ = vec(b)`.\n",
    "\n",
    "The test below applies the usual $\\chi^2$ test, where \n",
    "\n",
    "$\n",
    "H_0: R\\theta=q,\n",
    "$\n",
    "\n",
    "where $R$ is a $J \\times k$ matrix and $q$ is a $J$-vector. To test this, use\n",
    "\n",
    "$\n",
    "(R\\theta-q)^{\\prime}(RVR^{\\prime}) ^{-1}(R\\theta-q)\\overset{d}{\\rightarrow}\\chi_{J}^{2}.\n",
    "$\n",
    "\n",
    "The $R$ matrix clearly depends on which hypotheses that we want to test.\n",
    "\n",
    "The next cell creates a matrix of coefficient names that will help us see how the results are organised."
   ]
  },
  {
   "cell_type": "code",
   "execution_count": 8,
   "metadata": {
    "tags": []
   },
   "outputs": [
    {
     "name": "stdout",
     "output_type": "stream",
     "text": [
      "        α₁        α₂        α₃        α₄        α₅\n",
      "        γ₁        γ₂        γ₃        γ₄        γ₅\n",
      "\n"
     ]
    }
   ],
   "source": [
    "bNames = fill(\"\",2,n)       #matrix of coef names, subscript for the asset number\n",
    "for i = 1:n\n",
    "    bNames[:,i] = [string(\"α\",'₀'+i),string(\"γ\",'₀'+i)]         #'₀'+1 to get ₁\n",
    "end\n",
    "printmat(bNames)"
   ]
  },
  {
   "cell_type": "code",
   "execution_count": 9,
   "metadata": {
    "tags": []
   },
   "outputs": [
    {
     "name": "stdout",
     "output_type": "stream",
     "text": [
      "\u001b[34m\u001b[1mstacking the coeffs into a vector:\u001b[22m\u001b[39m\n",
      "α₁    -0.504\n",
      "γ₁     1.341\n",
      "α₂     0.153\n",
      "γ₂     1.169\n",
      "α₃     0.305\n",
      "γ₃     0.994\n",
      "α₄     0.279\n",
      "γ₄     0.943\n",
      "α₅     0.336\n",
      "γ₅     0.849\n",
      "\n"
     ]
    }
   ],
   "source": [
    "θ = vec(b)\n",
    "\n",
    "printblue(\"stacking the coeffs into a vector:\")\n",
    "printmat(θ;rowNames=vec(bNames))"
   ]
  },
  {
   "cell_type": "code",
   "execution_count": 10,
   "metadata": {
    "tags": []
   },
   "outputs": [
    {
     "name": "stdout",
     "output_type": "stream",
     "text": [
      "\u001b[34m\u001b[1mThe R matrix:\u001b[22m\u001b[39m\n",
      "hypothesis 1   1   0   0   0   0   0   0   0   0   0\n",
      "hypothesis 2   0   0   1   0   0   0   0   0   0   0\n",
      "hypothesis 3   0   0   0   0   1   0   0   0   0   0\n",
      "hypothesis 4   0   0   0   0   0   0   1   0   0   0\n",
      "hypothesis 5   0   0   0   0   0   0   0   0   1   0\n",
      "\n",
      "The number of hypotheses that we test: 5 \n",
      "\n",
      "\u001b[34m\u001b[1mR*vec(b) - q:\u001b[22m\u001b[39m\n",
      "hypothesis 1    -0.504\n",
      "hypothesis 2     0.153\n",
      "hypothesis 3     0.305\n",
      "hypothesis 4     0.279\n",
      "hypothesis 5     0.336\n",
      "\n"
     ]
    }
   ],
   "source": [
    "#R = [1 0 -1 0 zeros(1,2*n-4)]           #are intercepts the same for assets 1 and 2?\n",
    "R = zeros(n,2*n)                         #are all intercepts == 0?\n",
    "for i = 1:n\n",
    "    R[i,(i-1)*2+1] = 1\n",
    "end\n",
    "\n",
    "printblue(\"The R matrix:\")\n",
    "hypNames = string.(\"hypothesis \",1:size(R,1))\n",
    "printmat(R;colNames=bNames,rowNames=hypNames,width=4,prec=0)\n",
    "\n",
    "J = size(R,1)\n",
    "printlnPs(\"The number of hypotheses that we test: $J \\n\")\n",
    "\n",
    "q = zeros(J)\n",
    "\n",
    "printblue(\"R*vec(b) - q:\")\n",
    "printmat(R*θ-q;rowNames=hypNames)"
   ]
  },
  {
   "cell_type": "code",
   "execution_count": 11,
   "metadata": {
    "tags": []
   },
   "outputs": [
    {
     "name": "stdout",
     "output_type": "stream",
     "text": [
      "Joint test of all hypotheses\n",
      "test statistic    10.707\n",
      "10% crit value     9.236\n",
      "\n"
     ]
    }
   ],
   "source": [
    "println(\"Joint test of all hypotheses\")\n",
    "\n",
    "Γ = R*V*R'\n",
    "test_stat = (R*θ - q)'inv(Γ)*(R*θ - q)\n",
    "\n",
    "critval = quantile(Chisq(J),0.9)          #10% critical value\n",
    "\n",
    "printmat([test_stat,critval];rowNames=[\"test statistic\",\"10% crit value\"])"
   ]
  },
  {
   "cell_type": "code",
   "execution_count": null,
   "metadata": {},
   "outputs": [],
   "source": []
  }
 ],
 "metadata": {
  "@webio": {
   "lastCommId": null,
   "lastKernelId": null
  },
  "anaconda-cloud": {},
  "kernelspec": {
   "display_name": "Julia 1.11.4",
   "language": "julia",
   "name": "julia-1.11"
  },
  "language_info": {
   "file_extension": ".jl",
   "mimetype": "application/julia",
   "name": "julia",
   "version": "1.11.4"
  }
 },
 "nbformat": 4,
 "nbformat_minor": 4
}
