{
 "cells": [
  {
   "cell_type": "markdown",
   "metadata": {},
   "source": [
    "# Portfolio Sorts\n",
    "\n",
    "This notebook implements a simple portfolio sort."
   ]
  },
  {
   "cell_type": "markdown",
   "metadata": {},
   "source": [
    "## Load Packages and Extra Functions"
   ]
  },
  {
   "cell_type": "code",
   "execution_count": 1,
   "metadata": {},
   "outputs": [
    {
     "data": {
      "text/plain": [
       "printyellow (generic function with 1 method)"
      ]
     },
     "execution_count": 1,
     "metadata": {},
     "output_type": "execute_result"
    }
   ],
   "source": [
    "using Printf, Dates, DelimitedFiles, Statistics\n",
    "\n",
    "include(\"jlFiles/printmat.jl\")"
   ]
  },
  {
   "cell_type": "markdown",
   "metadata": {},
   "source": [
    "## Load Data\n",
    "\n",
    "The data set contains daily data for \"dates\", the equity market return, riskfree rate and the the returns of the 25 Fama-French portfolios. All returns are in percent."
   ]
  },
  {
   "cell_type": "code",
   "execution_count": 2,
   "metadata": {},
   "outputs": [
    {
     "name": "stdout",
     "output_type": "stream",
     "text": [
      "\n",
      "The first few rows of dN, Rm and Rf\n",
      "1979-01-02     0.615     0.035\n",
      "1979-01-03     1.155     0.035\n",
      "1979-01-04     0.975     0.035\n",
      "1979-01-05     0.685     0.035\n",
      "\n",
      "size of dN, Rm, Rf, R\n",
      "(9837,)\n",
      "(9837,)\n",
      "(9837,)\n",
      "(9837, 25)\n"
     ]
    }
   ],
   "source": [
    "x   = readdlm(\"Data/MomentumSR.csv\",',')\n",
    "dN  = Date.(x[:,1],\"yyyy-mm-dd\")                  #Julia dates \n",
    "y   = convert.(Float64,x[:,2:end])\n",
    "\n",
    "(Rm,Rf,R) = (y[:,1],y[:,2],y[:,3:end])\n",
    "\n",
    "println(\"\\nThe first few rows of dN, Rm and Rf\")\n",
    "printmat([dN[1:4] Rm[1:4] Rf[1:4]])\n",
    "\n",
    "println(\"size of dN, Rm, Rf, R\")\n",
    "println(size(dN),\"\\n\",size(Rm),\"\\n\",size(Rf),\"\\n\",size(R))\n",
    "\n",
    "(T,n) = size(R);                      #number of periods and assets"
   ]
  },
  {
   "cell_type": "markdown",
   "metadata": {},
   "source": [
    "## Implementing the Portfolio Sorts\n",
    "\n",
    "1.  Sort  $R_{t-1}$  across the 25 assets.\n",
    "2. (In the evening of) period  $t-1$, construct the `Hi` portfolio by buying 1/5 of each of the 5 best assets based on the sort in point 1. Similarly, construct the `Lo` portfolio by buying 1/5 of each of the 5 worst assets. Collect these portfolio weights in the vectors `wHi` and `wLo`.\n",
    "3. In period  $t$ , the return on the `Hi` portfolio is $R_{p,t}=wHi'R_{t}$. Similarly for `Lo`.\n",
    "4. Repeat for all periods"
   ]
  },
  {
   "cell_type": "code",
   "execution_count": 3,
   "metadata": {},
   "outputs": [],
   "source": [
    "(RHi,RLo) = (fill(NaN,T),fill(NaN,T))\n",
    "for t = 2:T         #loop over periods, save portfolio returns\n",
    "    #local sort1, wHi, wLo          #only needed in script\n",
    "    sort1                  = sortperm(R[t-1,:])  #sort1[1] is index of worst asset\n",
    "    (wLo,wHi)              = (zeros(n),zeros(n))\n",
    "    wLo[sort1[1:5]]       .= 1/5    #equally weighted inside Lo portfolio\n",
    "    wHi[sort1[end-4:end]] .= 1/5\n",
    "    RLo[t]                 = wLo'R[t,:]\n",
    "    RHi[t]                 = wHi'R[t,:]\n",
    "end\n",
    "\n",
    "ReLo = RLo[2:end] - Rf[2:end]\n",
    "ReHi = RHi[2:end] - Rf[2:end];       #cut out t=1, excess returns"
   ]
  },
  {
   "cell_type": "markdown",
   "metadata": {},
   "source": [
    "Calculate the mean (excess) return, its standard deviation and the Sharpe ratio. Annualize by assuming 252 trading days per year. Compare with the excess return on passively holding an equity market index."
   ]
  },
  {
   "cell_type": "code",
   "execution_count": 4,
   "metadata": {},
   "outputs": [
    {
     "data": {
      "text/plain": [
       "ReturnStats (generic function with 2 methods)"
      ]
     },
     "execution_count": 4,
     "metadata": {},
     "output_type": "execute_result"
    }
   ],
   "source": [
    "```\n",
    "\n",
    "Calculate average excess return, the std and the SR ratio - and annualise all of them.\n",
    "```\n",
    "function ReturnStats(Re,Annfactor=252)\n",
    "    μ  = mean(Re)*Annfactor\n",
    "    σ  = std(Re)*sqrt(Annfactor)\n",
    "    SR = μ/σ\n",
    "    stats = [μ,σ,SR]\n",
    "    return stats\n",
    "end"
   ]
  },
  {
   "cell_type": "code",
   "execution_count": 5,
   "metadata": {},
   "outputs": [
    {
     "name": "stdout",
     "output_type": "stream",
     "text": [
      "\u001b[34m\u001b[1mStats for the portfolio returns, annualized:\u001b[22m\u001b[39m\n",
      "          Lo        Hi    market\n",
      "μ      1.651    17.914     8.374\n",
      "σ     18.706    17.610    16.837\n",
      "SR     0.088     1.017     0.497\n",
      "\n"
     ]
    }
   ],
   "source": [
    "Rme = Rm - Rf\n",
    "\n",
    "StatLo = ReturnStats(ReLo,252)\n",
    "StatHi = ReturnStats(ReHi,252)\n",
    "Statm  = ReturnStats(Rme[2:end],252)\n",
    "\n",
    "printblue(\"Stats for the portfolio returns, annualized:\")\n",
    "printmat([StatLo StatHi Statm],colNames=[\"Lo\" \"Hi\" \"market\"],rowNames=[\"μ\";\"σ\";\"SR\"])"
   ]
  },
  {
   "cell_type": "code",
   "execution_count": null,
   "metadata": {},
   "outputs": [],
   "source": []
  }
 ],
 "metadata": {
  "@webio": {
   "lastCommId": null,
   "lastKernelId": null
  },
  "anaconda-cloud": {},
  "kernelspec": {
   "display_name": "Julia 1.6.0",
   "language": "julia",
   "name": "julia-1.6"
  },
  "language_info": {
   "file_extension": ".jl",
   "mimetype": "application/julia",
   "name": "julia",
   "version": "1.6.0"
  }
 },
 "nbformat": 4,
 "nbformat_minor": 1
}
