{
 "cells": [
  {
   "cell_type": "markdown",
   "metadata": {},
   "source": [
    "# How To Use the Notebooks\n",
    "\n",
    "The notebooks use various packages (which you need to install) and also some local modules (`FinEcmt_OLS` etc) which are located in the `src` subfolder.\n",
    "\n",
    "The next fell cells illustrate how to work with these notebooks."
   ]
  },
  {
   "cell_type": "markdown",
   "metadata": {},
   "source": [
    "## Load Packages and Extra Functions\n",
    "\n",
    "The next two cells puts the `src` subfolder in the `LOAD_PATH` (if it isn't already) and then loads some modules and packages.\n",
    "\n",
    "1. The `FinEcmt_OLS` module is defined in the `src` subfolder. It uses many of the .jl files in that subfolder and exports the key functions. The cells below show two *different* ways of loading this module.\n",
    "\n",
    "2. The `Statistics` package is part of the Julia distribution, so you don't have to install it (this may change in the future). \n",
    "\n",
    "3. The `Distributions.jl` package needs to be installed. Do \n",
    "```import Pkg;Pkg.add(\"Distributions\")```."
   ]
  },
  {
   "cell_type": "code",
   "execution_count": 1,
   "metadata": {},
   "outputs": [],
   "source": [
    "#approach 1 to load the FinEcmt_OLS module, precompiles so is quicker\n",
    "\n",
    "MyModulePath = joinpath(pwd(),\"src\")     #add /src to module path\n",
    "!in(MyModulePath,LOAD_PATH) && push!(LOAD_PATH,MyModulePath);\n",
    "\n",
    "using FinEcmt_OLS: OlsGM, printmat, @doc2   #to load a few functions from module\n",
    "#using FinEcmt_OLS                          #to load all functions in module"
   ]
  },
  {
   "cell_type": "code",
   "execution_count": 2,
   "metadata": {},
   "outputs": [],
   "source": [
    "#approach 2 to load the FinEcmt_OLS module, works also on Colab\n",
    "\n",
    "#=\n",
    "include(joinpath(pwd(),\"src\",\"FinEcmt_OLS.jl\"))\n",
    "using .FinEcmt_OLS: OlsGM, printmat, @doc2   #to load a few functions from module\n",
    "using .FinEcmt_OLS                          #to load all functions in module\n",
    "=#"
   ]
  },
  {
   "cell_type": "code",
   "execution_count": 3,
   "metadata": {},
   "outputs": [],
   "source": [
    "using Statistics, Distributions"
   ]
  },
  {
   "cell_type": "markdown",
   "metadata": {},
   "source": [
    "## See the Documentation\n",
    "\n",
    "The next cell shows the documentation of the `OLSGM` function."
   ]
  },
  {
   "cell_type": "code",
   "execution_count": 4,
   "metadata": {},
   "outputs": [
    {
     "data": {
      "text/markdown": [
       "```\n",
       "OlsGM(Y,X)\n",
       "```\n",
       "\n",
       "LS of Y on X; for one dependent variable, Gauss-Markov assumptions\n",
       "\n",
       "### Input\n",
       "\n",
       "  * `Y::Vector`:    T-vector, the dependent variable\n",
       "  * `X::Matrix`:    Txk matrix of regressors (including deterministic ones)\n",
       "\n",
       "### Output\n",
       "\n",
       "  * `b::Vector`:    k-vector, regression coefficients\n",
       "  * `u::Vector`:    T-vector, residuals Y - yhat\n",
       "  * `Yhat::Vector`: T-vector, fitted values X*b\n",
       "  * `V::Matrix`:    kxk matrix, covariance matrix of b\n",
       "  * `R²::Number`:   scalar, R² value\n"
      ]
     },
     "metadata": {},
     "output_type": "display_data"
    }
   ],
   "source": [
    "@doc2 OlsGM                           #`doc OlsGM` does not work in VS Code\n",
    "#println(@doc OlsGM)                  #plain text printing instead"
   ]
  },
  {
   "cell_type": "markdown",
   "metadata": {},
   "source": [
    "## See the Source Code\n",
    "\n",
    "To see the source code, either open the correct file in the src subfolder, or use the\n",
    "[`CodeTracking.jl`](https://github.com/timholy/CodeTracking.jl) package to print the source code here in the notebook. The latter approach requires \"calling\" on the function with some valid inputs (in this case we use `[1],[1]`). In many notebooks, such printing is coded but commented out."
   ]
  },
  {
   "cell_type": "code",
   "execution_count": 5,
   "metadata": {},
   "outputs": [
    {
     "name": "stdout",
     "output_type": "stream",
     "text": [
      "function OlsGM(Y,X)\n",
      "\n",
      "    T    = size(Y,1)\n",
      "\n",
      "    b    = X\\Y\n",
      "    Yhat = X*b\n",
      "    u    = Y - Yhat\n",
      "\n",
      "    σ²   = var(u)\n",
      "    V    = inv(X'X)*σ²\n",
      "    R²   = 1 - σ²/var(Y)\n",
      "\n",
      "    return b, u, Yhat, V, R²\n",
      "\n",
      "end\n"
     ]
    }
   ],
   "source": [
    "using CodeTracking\n",
    "println(@code_string OlsGM([1],[1]))   #println gets the line breaks right"
   ]
  },
  {
   "cell_type": "markdown",
   "metadata": {},
   "source": [
    "# Use the Function\n",
    "\n",
    "(here with some artificial inputs)"
   ]
  },
  {
   "cell_type": "code",
   "execution_count": 6,
   "metadata": {},
   "outputs": [
    {
     "name": "stdout",
     "output_type": "stream",
     "text": [
      "     1.000\n",
      "     0.500\n",
      "\n"
     ]
    }
   ],
   "source": [
    "Y = [1,2,3]\n",
    "X = [1 2;1 1;1 3]\n",
    "b, = OlsGM(Y,X);\n",
    "printmat(b)"
   ]
  },
  {
   "cell_type": "markdown",
   "metadata": {},
   "source": [
    "## Required External Packages\n",
    "\n",
    "for the different local modules. These packages need to be installed:\n",
    "\n",
    "1. FinEcmt_OLS: Distributions, StatsBase, FiniteDiff\n",
    "2. FinEcmt_Lasso: OSQP\n",
    "3. FinEcmt_TimeSeries: none\n",
    "4. FinEcmt_MLEGMM: Optim, NLsolve, FiniteDiff\n",
    "5. FinEcmt_KernelRegression: none\n",
    "\n",
    "We also use a number of standard libraries (eg. Printf), but they are typically shipped with the Julia binary.    \n",
    "\n",
    "For the notebooks, some more external packages are needed, for instance, CodeTracking for printing the functions. See the different notebooks for more information. \n",
    "\n",
    "In case a package is missing, Julia will give an error message (and often tell you what you need to do)."
   ]
  },
  {
   "cell_type": "code",
   "execution_count": null,
   "metadata": {},
   "outputs": [],
   "source": []
  }
 ],
 "metadata": {
  "@webio": {
   "lastCommId": null,
   "lastKernelId": null
  },
  "anaconda-cloud": {},
  "kernelspec": {
   "display_name": "Julia 1.11.5",
   "language": "julia",
   "name": "julia-1.11"
  },
  "language_info": {
   "file_extension": ".jl",
   "mimetype": "application/julia",
   "name": "julia",
   "version": "1.11.5"
  }
 },
 "nbformat": 4,
 "nbformat_minor": 4
}
