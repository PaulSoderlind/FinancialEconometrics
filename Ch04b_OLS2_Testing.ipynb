{
 "cells": [
  {
   "cell_type": "markdown",
   "metadata": {},
   "source": [
    "# OLS, Testing\n",
    "\n",
    "This notebook estimates a linear regression and tests various hypotheses using standard errors assuming (a) iid residuals (Gauss-Markov assumptions); (b) heteroskedasticity (White); (c) autocorrelation and heteroskedasticity (Newey-West)."
   ]
  },
  {
   "cell_type": "markdown",
   "metadata": {},
   "source": [
    "## Load Packages and Extra Functions"
   ]
  },
  {
   "cell_type": "code",
   "execution_count": 1,
   "metadata": {},
   "outputs": [
    {
     "data": {
      "text/plain": [
       "OlsNWFn"
      ]
     },
     "execution_count": 1,
     "metadata": {},
     "output_type": "execute_result"
    }
   ],
   "source": [
    "using Printf, DelimitedFiles, Statistics, LinearAlgebra, Distributions\n",
    "\n",
    "include(\"jlFiles/printmat.jl\")\n",
    "include(\"jlFiles/Ols.jl\")         #functions for OLS"
   ]
  },
  {
   "cell_type": "markdown",
   "metadata": {},
   "source": [
    "## Loading Data"
   ]
  },
  {
   "cell_type": "code",
   "execution_count": 2,
   "metadata": {},
   "outputs": [
    {
     "name": "stdout",
     "output_type": "stream",
     "text": [
      "Sample size:    (388,)\n"
     ]
    }
   ],
   "source": [
    "x = readdlm(\"Data/FFmFactorsPs.csv\",',',skipstart=1)\n",
    "\n",
    "                #yearmonth, market, small minus big, high minus low\n",
    "(ym,Rme,RSMB,RHML) = (x[:,1],x[:,2]/100,x[:,3]/100,x[:,4]/100) \n",
    "x = nothing\n",
    "\n",
    "printlnPs(\"Sample size:\",size(Rme))"
   ]
  },
  {
   "cell_type": "markdown",
   "metadata": {},
   "source": [
    "## OLS (assuming iid residuals)"
   ]
  },
  {
   "cell_type": "code",
   "execution_count": 3,
   "metadata": {},
   "outputs": [
    {
     "name": "stdout",
     "output_type": "stream",
     "text": [
      "\u001b[34m\u001b[1mOLS Results (assuming iid residuals)\u001b[22m\u001b[39m\n",
      "\n",
      "            b   std_iid\n",
      "c       0.007     0.002\n",
      "SMB     0.217     0.073\n",
      "HML    -0.429     0.074\n",
      "\n"
     ]
    }
   ],
   "source": [
    "Y = Rme\n",
    "T = size(Y,1)\n",
    "X = [ones(T) RSMB RHML]\n",
    "\n",
    "(b,u,_,V,R2) = OlsGMFn(Y,X)\n",
    "std_iid = sqrt.(diag(V))\n",
    "\n",
    "printblue(\"OLS Results (assuming iid residuals)\\n\")\n",
    "rowNames = [\"c\",\"SMB\",\"HML\"]\n",
    "printmat([b std_iid],colNames=[\"b\",\"std_iid\"],rowNames=rowNames)"
   ]
  },
  {
   "cell_type": "markdown",
   "metadata": {},
   "source": [
    "# Testing a Joint Hypothesis"
   ]
  },
  {
   "cell_type": "markdown",
   "metadata": {},
   "source": [
    "Since the estimator $\\hat{\\beta}_{_{k\\times1}}$ satisfies\n",
    "\n",
    "$\n",
    "\\hat{\\beta}-\\beta_{0} \\sim N(0,V_{k\\times k})  ,\n",
    "$\n",
    "\n",
    "we can easily apply various tests. Consider a joint linear hypothesis of the\n",
    "form\n",
    "\n",
    "$\n",
    "H_0: R\\beta=q,\n",
    "$\n",
    "\n",
    "where $R$ is a $J \\times K$ matrix and $q$ is a $J$-vector. To test this, use\n",
    "\n",
    "$\n",
    "(R\\beta-q)^{\\prime}(RVR^{\\prime}) ^{-1}(R\\beta\n",
    "-q)\\overset{d}{\\rightarrow}\\chi_{J}^{2}.\n",
    "$\n",
    "\n",
    "Clearly, this approach is valid also when $V$ has been estimated by one of the other methods discussed below (allowing for heteroskedasticity and/or autocorrelation)."
   ]
  },
  {
   "cell_type": "code",
   "execution_count": 4,
   "metadata": {},
   "outputs": [
    {
     "name": "stdout",
     "output_type": "stream",
     "text": [
      "\u001b[34m\u001b[1mTesting Rb = a:\u001b[22m\u001b[39m\n",
      "test-statistic and 10% critical value of chi-square(2)\n",
      "    60.010     4.605\n",
      "\n"
     ]
    }
   ],
   "source": [
    "R = [0 1 0;               #testing if b(2)=0 and b(3)=0\n",
    "     0 0 1]\n",
    "q = [0;0]\n",
    "test_stat = (R*b-q)'inv(R*V*R')*(R*b-q)    #R*V*R' is 2x2\n",
    "\n",
    "printblue(\"Testing Rb = a:\")\n",
    "println(\"test-statistic and 10% critical value of chi-square(2)\")\n",
    "printmat([test_stat quantile(Chisq(2),0.9)])"
   ]
  },
  {
   "cell_type": "markdown",
   "metadata": {},
   "source": [
    "# Distribution of OLS Estimates without Gauss-Markov\n",
    "\n",
    "\n",
    "The distribution of the OLS estimates is (typically)\n",
    "\n",
    "$\n",
    "(\\hat{\\beta}-\\beta_{0})\\overset{d}{\\rightarrow}N(0,V)\n",
    "\\: \\text{ where } \\: V=S_{xx}^{-1} S S_{xx}^{-1}\n",
    "$\n",
    "\n",
    "and where $S$ is the covariance matrix of $\\sum_{t=1}^{T}u_{t}x_{t}$.\n",
    "\n",
    "*When* the Gauss-Markov assumptions do hold, then $S$ can be simplified as $S=S_{xx}\\sigma^2$, where $\\sigma^2$ is the variance of $u_t$. Clearly, this means that $V$ can be simplified to $V=S_{xx}^{-1}\\sigma^2$. \n",
    "\n",
    "In contrast, with heteroskedasticity and/or autocorrelation $S$ must be estimated differently."
   ]
  },
  {
   "cell_type": "markdown",
   "metadata": {},
   "source": [
    "# White's Covariance Matrix\n",
    "\n",
    "We can calculate `S` as \n",
    "```\n",
    "K = size(X,2)\n",
    "S = zeros(K,K)\n",
    "for t = 1:T\n",
    "    S = S + X[t,:]*X[t,:]'*u[t]^2\n",
    "end\n",
    "```\n",
    "\n",
    "or (more compactly) as \n",
    "```\n",
    "S = (X.*u)'*(X.*u)\n",
    "```"
   ]
  },
  {
   "cell_type": "code",
   "execution_count": 5,
   "metadata": {},
   "outputs": [
    {
     "name": "stdout",
     "output_type": "stream",
     "text": [
      "\u001b[34m\u001b[1mStandard errors from different methods:\u001b[22m\u001b[39m\n",
      "              b     std_iid   std_White\n",
      "c         0.007       0.002       0.002\n",
      "SMB       0.217       0.073       0.113\n",
      "HML      -0.429       0.074       0.097\n",
      "\n"
     ]
    }
   ],
   "source": [
    "Sxx = X'X\n",
    "\n",
    "S     = (X.*u)'*(X.*u)                #\n",
    "V     = inv(Sxx)'S*inv(Sxx)           #Cov(b), White\n",
    "std_W = sqrt.(diag(V))\n",
    "\n",
    "printblue(\"Standard errors from different methods:\")\n",
    "xx = [b std_iid std_W]\n",
    "printmat(xx,colNames=[\"b\",\"std_iid\",\"std_White\"],rowNames=rowNames,width=12)"
   ]
  },
  {
   "cell_type": "markdown",
   "metadata": {},
   "source": [
    "# Newey-West's Covariance Matrix\n",
    "\n",
    "Let $g_t$ be a $K$-vector of data.\n",
    "\n",
    "To calculate the Newey-West covariance matrix, we first need the \n",
    "autocovariance matrices (multiplied by $T$) $\\Lambda_{s}=T\\text{Cov}(g_{t},g_{t-s})  $, \n",
    "which are estimated as \n",
    "\n",
    "$ \n",
    "\\Lambda_{s} = \\sum_{t=s+1}^{T} (g_{t}-\\bar{g})(g_{t-s}-\\bar{g})^{\\prime}.\n",
    "$\n",
    "\n",
    "Then we form a linear\n",
    "combination (with tent-shaped weights) of those autocovariance matrices (from\n",
    "lag $-m$ to $m$), or equivalently\n",
    "\n",
    "$\n",
    "\\text{Cov}(\\bar{g})  = \n",
    "\\Lambda_{0} + \\sum_{s=1}^{m}( 1-\\frac{s}{m+1})  \n",
    "(\\Lambda_{s}+\\Lambda_{s}^{\\prime}).\n",
    "$"
   ]
  },
  {
   "cell_type": "code",
   "execution_count": 6,
   "metadata": {},
   "outputs": [
    {
     "data": {
      "text/plain": [
       "CovNWFn"
      ]
     },
     "execution_count": 6,
     "metadata": {},
     "output_type": "execute_result"
    }
   ],
   "source": [
    "\"\"\"\n",
    "    CovNWFn(g0,m=0)\n",
    "\n",
    "Calculates covariance matrix of sample average.\n",
    "\n",
    "# Input\n",
    "- `g0::Matrix`: Txq Matrix of q moment conditions\n",
    "- `m:int`:     scalar, number of lags to use\n",
    "\n",
    "# Output\n",
    "- `S::Matrix`: qxq covariance matrix(average g0)\n",
    "\n",
    "\"\"\"\n",
    "function CovNWFn(g0,m=0)\n",
    "\n",
    "    T = size(g0,1)                    #g0 is Txq\n",
    "    m = min(m,T-1)                    #number of lags\n",
    "\n",
    "    g = g0 .- mean(g0,dims=1)         #normalizing to zero means\n",
    "\n",
    "    S = g'g                           #(qxT)*(Txq)\n",
    "    for s = 1:m\n",
    "        Λ_s = g[s+1:T,:]'g[1:T-s,:]   #same as Sum[g_t*g_{t-s}',t=s+1,T]\n",
    "        S   = S  +  (1 - s/(m+1))*(Λ_s + Λ_s')\n",
    "    end\n",
    "  \n",
    "    return S\n",
    "\n",
    "end"
   ]
  },
  {
   "cell_type": "code",
   "execution_count": 7,
   "metadata": {},
   "outputs": [
    {
     "name": "stdout",
     "output_type": "stream",
     "text": [
      "\u001b[34m\u001b[1mStandard errors from different methods:\u001b[22m\u001b[39m\n",
      "              b     std_iid   std_White      std_NW\n",
      "c         0.007       0.002       0.002       0.002\n",
      "SMB       0.217       0.073       0.113       0.129\n",
      "HML      -0.429       0.074       0.097       0.118\n",
      "\n"
     ]
    }
   ],
   "source": [
    "S      = CovNWFn(X.*u,2)         #Newey-West covariance matrix\n",
    "V      = inv(Sxx)'S*inv(Sxx)     #Cov(b), Newey-West\n",
    "std_NW = sqrt.(diag(V))\n",
    "\n",
    "printblue(\"Standard errors from different methods:\")\n",
    "xx = [b std_iid std_W std_NW]\n",
    "printmat(xx,colNames=[\"b\",\"std_iid\",\"std_White\",\"std_NW\"],rowNames=rowNames,width=12)"
   ]
  },
  {
   "cell_type": "code",
   "execution_count": null,
   "metadata": {},
   "outputs": [],
   "source": []
  }
 ],
 "metadata": {
  "@webio": {
   "lastCommId": null,
   "lastKernelId": null
  },
  "anaconda-cloud": {},
  "kernelspec": {
   "display_name": "Julia 1.6.0",
   "language": "julia",
   "name": "julia-1.6"
  },
  "language_info": {
   "file_extension": ".jl",
   "mimetype": "application/julia",
   "name": "julia",
   "version": "1.6.0"
  }
 },
 "nbformat": 4,
 "nbformat_minor": 1
}
