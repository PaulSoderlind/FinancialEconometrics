{
 "cells": [
  {
   "cell_type": "markdown",
   "metadata": {},
   "source": [
    "# OLS, Testing\n",
    "\n",
    "This notebook estimates a linear regression and tests various hypotheses using standard errors assuming iid residuals (Gauss-Markov assumptions).\n",
    "\n",
    "You may also consider the [HypothesisTests.jl](https://github.com/JuliaStats/HypothesisTests.jl) package (not used here)."
   ]
  },
  {
   "cell_type": "markdown",
   "metadata": {},
   "source": [
    "## Load Packages and Extra Functions"
   ]
  },
  {
   "cell_type": "code",
   "execution_count": 1,
   "metadata": {},
   "outputs": [],
   "source": [
    "MyModulePath = joinpath(pwd(),\"src\")\n",
    "!in(MyModulePath,LOAD_PATH) && push!(LOAD_PATH,MyModulePath)\n",
    "using FinEcmt_OLS"
   ]
  },
  {
   "cell_type": "code",
   "execution_count": 2,
   "metadata": {},
   "outputs": [],
   "source": [
    "#=\n",
    "include(joinpath(pwd(),\"src\",\"FinEcmt_OLS.jl\"))\n",
    "using .FinEcmt_OLS\n",
    "=#"
   ]
  },
  {
   "cell_type": "code",
   "execution_count": 3,
   "metadata": {
    "tags": []
   },
   "outputs": [],
   "source": [
    "using DelimitedFiles, Statistics, LinearAlgebra, Distributions"
   ]
  },
  {
   "cell_type": "markdown",
   "metadata": {},
   "source": [
    "## Loading Data"
   ]
  },
  {
   "cell_type": "code",
   "execution_count": 4,
   "metadata": {
    "tags": []
   },
   "outputs": [
    {
     "name": "stdout",
     "output_type": "stream",
     "text": [
      "Sample size:    (388,)\n"
     ]
    }
   ],
   "source": [
    "x = readdlm(\"Data/FFmFactorsPs.csv\",',',skipstart=1)\n",
    "\n",
    "                #yearmonth, market, small minus big, high minus low\n",
    "(ym,Rme,RSMB,RHML) = (x[:,1],x[:,2]/100,x[:,3]/100,x[:,4]/100)\n",
    "x = nothing\n",
    "\n",
    "printlnPs(\"Sample size:\",size(Rme))"
   ]
  },
  {
   "cell_type": "markdown",
   "metadata": {},
   "source": [
    "## OLS under the Gauss-Markov Assumptions\n",
    "\n",
    "(assuming iid residuals)"
   ]
  },
  {
   "cell_type": "code",
   "execution_count": 5,
   "metadata": {
    "tags": []
   },
   "outputs": [
    {
     "name": "stdout",
     "output_type": "stream",
     "text": [
      "\u001b[34m\u001b[1mOLS Results (assuming iid residuals):\u001b[22m\u001b[39m\n",
      "\n",
      "            b   std_iid\n",
      "c       0.007     0.002\n",
      "SMB     0.217     0.073\n",
      "HML    -0.429     0.074\n",
      "\n"
     ]
    }
   ],
   "source": [
    "Y = Rme\n",
    "T = size(Y,1)\n",
    "X = [ones(T) RSMB RHML]\n",
    "\n",
    "(b,u,_,V,R²) = OlsGM(Y,X)\n",
    "std_iid = sqrt.(diag(V))\n",
    "\n",
    "printblue(\"OLS Results (assuming iid residuals):\\n\")\n",
    "xNames = [\"c\",\"SMB\",\"HML\"]\n",
    "printmat(b,std_iid;colNames=[\"b\",\"std_iid\"],rowNames=xNames)"
   ]
  },
  {
   "cell_type": "markdown",
   "metadata": {},
   "source": [
    "## Testing a Joint Hypothesis\n",
    "\n",
    "Since the estimator $\\hat{\\beta}_{_{k\\times1}}$ satisfies\n",
    "\n",
    "$\\hat{\\beta}-\\beta_{0} \\sim N(0,V_{k\\times k}),$\n",
    "\n",
    "we can easily apply various tests. Consider a joint linear hypothesis of the\n",
    "form\n",
    "\n",
    "$H_0: R\\beta=q,$\n",
    "\n",
    "where $R$ is a $J \\times k$ matrix and $q$ is a $J$-vector. To test this, use\n",
    "\n",
    "$(R\\beta-q)^{\\prime}(RVR^{\\prime}) ^{-1}(R\\beta\n",
    "-q)\\overset{d}{\\rightarrow}\\chi_{J}^{2}.$\n",
    "\n",
    "How we estimate $V$ depends on whether there is heteroskedasticity and/or autocorrelation (discussed below)."
   ]
  },
  {
   "cell_type": "code",
   "execution_count": 6,
   "metadata": {
    "tags": []
   },
   "outputs": [
    {
     "name": "stdout",
     "output_type": "stream",
     "text": [
      "\u001b[34m\u001b[1mTesting Rb = a:\u001b[22m\u001b[39m\n",
      "test statistic        60.010\n",
      "10% critical value     4.605\n",
      "\n"
     ]
    }
   ],
   "source": [
    "R = [0 1 0;               #testing if b₂=0 and b₃=0\n",
    "     0 0 1]\n",
    "q = [0;0]\n",
    "test_stat = (R*b-q)'inv(R*V*R')*(R*b-q)    #R*V*R' is 2x2\n",
    "\n",
    "printblue(\"Testing Rb = a:\")\n",
    "printmat([test_stat,quantile(Chisq(2),0.9)];rowNames=[\"test statistic\",\"10% critical value\"])"
   ]
  },
  {
   "cell_type": "markdown",
   "metadata": {},
   "source": [
    "## Regression Diagnostics: Testing All Slope Coefficients\n",
    "\n",
    "The `OlsR2Test()` function tests all slope coefficients (or equivalently, the $R^2$) of a regression. Notice that the regression must contain an intercept for R² to be useful."
   ]
  },
  {
   "cell_type": "code",
   "execution_count": 7,
   "metadata": {},
   "outputs": [
    {
     "data": {
      "text/markdown": [
       "```\n",
       "OlsR2Test(R²,T,df)\n",
       "```\n",
       "\n",
       "Test of all slope coefficients. Notice that the regression must contain an intercept for R² to be useful.\n",
       "\n",
       "### Input\n",
       "\n",
       "  * `R²::Number`:    R² value\n",
       "  * `T::Int`:        number of observations\n",
       "  * `df::Number`:    number of (non-constant) regressors\n",
       "\n",
       "### Output\n",
       "\n",
       "  * `RegrStat::Number`: test statistic\n",
       "  * `pval::Number`:     p-value\n"
      ]
     },
     "metadata": {},
     "output_type": "display_data"
    }
   ],
   "source": [
    "@doc2 OlsR2Test"
   ]
  },
  {
   "cell_type": "code",
   "execution_count": 8,
   "metadata": {},
   "outputs": [
    {
     "name": "stdout",
     "output_type": "stream",
     "text": [
      "function OlsR2Test(R²,T,df)\n",
      "    RegrStat = T*R²/(1-R²)           #R\\^2[TAB]\n",
      "    pval     = ccdf(Chisq(df),RegrStat)    #same as 1-cdf()\n",
      "    return RegrStat, pval\n",
      "end\n"
     ]
    }
   ],
   "source": [
    "using CodeTracking\n",
    "println(@code_string OlsR2Test(1.0,1,25))    #print the source code"
   ]
  },
  {
   "cell_type": "code",
   "execution_count": 9,
   "metadata": {
    "tags": []
   },
   "outputs": [
    {
     "name": "stdout",
     "output_type": "stream",
     "text": [
      "\u001b[34m\u001b[1mTest of all slopes = 0:\u001b[22m\u001b[39m\n",
      "\n",
      "stat     60.165\n",
      "p-val     0.000\n",
      "\n"
     ]
    }
   ],
   "source": [
    "df = size(X,2) - 1              #number of slope coefficients\n",
    "(RegrStat,pval) = OlsR2Test(R²,T,df)\n",
    "\n",
    "printblue(\"Test of all slopes = 0:\\n\")\n",
    "printmat([RegrStat,pval],rowNames=[\"stat\",\"p-val\"])"
   ]
  },
  {
   "cell_type": "code",
   "execution_count": null,
   "metadata": {},
   "outputs": [],
   "source": []
  }
 ],
 "metadata": {
  "@webio": {
   "lastCommId": null,
   "lastKernelId": null
  },
  "anaconda-cloud": {},
  "kernelspec": {
   "display_name": "Julia 1.11.5",
   "language": "julia",
   "name": "julia-1.11"
  },
  "language_info": {
   "file_extension": ".jl",
   "mimetype": "application/julia",
   "name": "julia",
   "version": "1.11.5"
  }
 },
 "nbformat": 4,
 "nbformat_minor": 4
}
