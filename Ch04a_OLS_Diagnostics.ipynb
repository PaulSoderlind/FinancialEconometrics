{
 "cells": [
  {
   "cell_type": "markdown",
   "metadata": {},
   "source": [
    "# OLS Diagnostics\n",
    "\n",
    "\n",
    "This notebook tests (a) the fit of a regression model; (b) properties of the residuals (heteroskedasticity and autocorrelation).\n",
    "\n",
    "You may also consider the [HypothesisTests.jl](https://github.com/JuliaStats/HypothesisTests.jl) package (not used here)."
   ]
  },
  {
   "cell_type": "markdown",
   "metadata": {},
   "source": [
    "## Load Packages and Extra Functions"
   ]
  },
  {
   "cell_type": "code",
   "execution_count": 1,
   "metadata": {
    "tags": []
   },
   "outputs": [
    {
     "data": {
      "text/plain": [
       "OlsNWFn"
      ]
     },
     "execution_count": 1,
     "metadata": {},
     "output_type": "execute_result"
    }
   ],
   "source": [
    "using Printf, DelimitedFiles, Statistics, LinearAlgebra, StatsBase, Distributions\n",
    "\n",
    "include(\"jlFiles/printmat.jl\") \n",
    "include(\"jlFiles/Ols.jl\")        #functions for OLS"
   ]
  },
  {
   "cell_type": "markdown",
   "metadata": {},
   "source": [
    "## Loading Data"
   ]
  },
  {
   "cell_type": "code",
   "execution_count": 3,
   "metadata": {
    "tags": []
   },
   "outputs": [
    {
     "name": "stdout",
     "output_type": "stream",
     "text": [
      "(388,)\n"
     ]
    }
   ],
   "source": [
    "x = readdlm(\"Data/FFmFactorsPs.csv\",',',skipstart=1)\n",
    "\n",
    "                #yearmonth, market, small minus big, high minus low\n",
    "(ym,Rme,RSMB,RHML) = (x[:,1],x[:,2]/100,x[:,3]/100,x[:,4]/100) \n",
    "x = nothing\n",
    "println(size(Rme))\n",
    "\n",
    "Y = Rme         #or copy(Rme) is independent copies are needed\n",
    "T = size(Y,1)\n",
    "X = [ones(T) RSMB RHML];"
   ]
  },
  {
   "cell_type": "code",
   "execution_count": 4,
   "metadata": {
    "tags": []
   },
   "outputs": [
    {
     "name": "stdout",
     "output_type": "stream",
     "text": [
      "\u001b[34m\u001b[1mOLS with traditional standard errors:\u001b[22m\u001b[39m\n",
      "\n",
      "         coef       std\n",
      "c       0.007     0.002\n",
      "SMB     0.217     0.073\n",
      "HML    -0.429     0.074\n",
      "\n"
     ]
    }
   ],
   "source": [
    "(b,u,_,V,R²) = OlsGMFn(Y,X)    #do OLS\n",
    "Stdb = sqrt.(diag(V))\n",
    "\n",
    "printblue(\"OLS with traditional standard errors:\\n\")\n",
    "xNames = [\"c\",\"SMB\",\"HML\"]\n",
    "printmat([b Stdb],colNames=[\"coef\",\"std\"],rowNames=xNames)"
   ]
  },
  {
   "cell_type": "markdown",
   "metadata": {},
   "source": [
    "## Regression Diagnostics: Testing All Slope Coefficients\n",
    "\n",
    "The function in the next cell tests all slope coefficients (or equivalently, the $R^2$) of a regression."
   ]
  },
  {
   "cell_type": "code",
   "execution_count": 5,
   "metadata": {
    "tags": []
   },
   "outputs": [
    {
     "data": {
      "text/plain": [
       "OlsR2TestFn"
      ]
     },
     "execution_count": 5,
     "metadata": {},
     "output_type": "execute_result"
    }
   ],
   "source": [
    "\"\"\"\n",
    "    OlsR2TestFn(R²,T,df)\n",
    "\n",
    "Test of all slope coefficients. Notice that the regression must contain an intercept for R² to be useful.\n",
    "\n",
    "# Input\n",
    "- `R²::Number`:    R² value\n",
    "- `T::Int`:        number of observations\n",
    "- `df::Number`:    number of (non-constant) regressors\n",
    "\n",
    "# Output\n",
    "- `RegrStat::Number`: test statistic\n",
    "- `pval::Number`:     p-value\n",
    "\n",
    "\"\"\"\n",
    "function OlsR2TestFn(R²,T,df)\n",
    "    RegrStat = T*R²/(1-R²)           #R\\^2[TAB]\n",
    "    pval     = 1 - cdf(Chisq(df),RegrStat)\n",
    "    return RegrStat, pval\n",
    "end"
   ]
  },
  {
   "cell_type": "code",
   "execution_count": 6,
   "metadata": {
    "tags": []
   },
   "outputs": [
    {
     "name": "stdout",
     "output_type": "stream",
     "text": [
      "\u001b[34m\u001b[1mTest of all slopes = 0:\u001b[22m\u001b[39m\n",
      "\n",
      "stat     60.165\n",
      "p-val     0.000\n",
      "\n"
     ]
    }
   ],
   "source": [
    "df = size(X,2) - 1\n",
    "(RegrStat,pval) = OlsR2TestFn(R²,T,df)\n",
    "\n",
    "printblue(\"Test of all slopes = 0:\\n\")\n",
    "printmat([RegrStat,pval],rowNames=[\"stat\",\"p-val\"]) "
   ]
  },
  {
   "cell_type": "markdown",
   "metadata": {},
   "source": [
    "## Regression Diagnostics: Heteroskedasticity\n",
    "\n",
    "The function in the next cell performs White's test for heteroskedasticity. Again, the regression must have an intercept for this test to be useful."
   ]
  },
  {
   "cell_type": "code",
   "execution_count": 7,
   "metadata": {
    "tags": []
   },
   "outputs": [
    {
     "data": {
      "text/plain": [
       "OlsWhitesTestFn"
      ]
     },
     "execution_count": 7,
     "metadata": {},
     "output_type": "execute_result"
    }
   ],
   "source": [
    "\"\"\"\n",
    "    OlsWhitesTestFn(u,x)\n",
    "\n",
    "Test of heteroskedasticity. Notice that the regression must contain \n",
    "an intercept for the test to be useful.\n",
    "\n",
    "# Input\n",
    "- `u::Vector`:   T-vector, residuals\n",
    "- `x::Matrix`:   Txk, regressors\n",
    "\n",
    "# Output\n",
    "- `RegrStat::Number`: test statistic\n",
    "- `pval::Number`:     p-value\n",
    "\n",
    "\"\"\"\n",
    "function OlsWhitesTestFn(u,x)\n",
    "\n",
    "    (T,k) = (size(x,1),size(x,2))\n",
    "\n",
    "    w = zeros(T,round(Int,k*(k+1)/2))   #matrix of cross products of x\n",
    "    vv = 1\n",
    "    for i = 1:k, j = i:k\n",
    "        w[:,vv] = x[:,i].*x[:,j]        #eg. x1*x1, x1*x2, x2*x2\n",
    "        vv        = vv + 1\n",
    "    end\n",
    "\n",
    "    R² = OlsGMFn(u.^2,w)[5]             #[5] picks out output 5\n",
    "    df = rank(w) - 1                    #number of independent regressors in w\n",
    "\n",
    "    WhiteStat = T*R²/(1-R²)\n",
    "    pval      = 1 - cdf(Chisq(df),WhiteStat)\n",
    "\n",
    "    return WhiteStat, pval\n",
    "\n",
    "end"
   ]
  },
  {
   "cell_type": "code",
   "execution_count": 8,
   "metadata": {
    "tags": []
   },
   "outputs": [
    {
     "name": "stdout",
     "output_type": "stream",
     "text": [
      "\u001b[34m\u001b[1mWhite's test (H₀: heteroskedasticity is not correlated with regressors):\u001b[22m\u001b[39m\n",
      "\n",
      "stat     77.278\n",
      "p-val     0.000\n",
      "\n"
     ]
    }
   ],
   "source": [
    "(WhiteStat,pval) = OlsWhitesTestFn(u,X)\n",
    "\n",
    "printblue(\"White's test (H₀: heteroskedasticity is not correlated with regressors):\\n\")\n",
    "printmat([WhiteStat,pval],rowNames=[\"stat\",\"p-val\"])"
   ]
  },
  {
   "cell_type": "markdown",
   "metadata": {},
   "source": [
    "## Regression Diagnostics: Autocorrelation of the Residuals\n",
    "\n",
    "The function in the next cell estimates autocorrelations, calculates the DW and Box-Pierce statistics."
   ]
  },
  {
   "cell_type": "code",
   "execution_count": 9,
   "metadata": {
    "tags": []
   },
   "outputs": [
    {
     "data": {
      "text/plain": [
       "OlsAutoCorrFn"
      ]
     },
     "execution_count": 9,
     "metadata": {},
     "output_type": "execute_result"
    }
   ],
   "source": [
    "\"\"\"\n",
    "    OlsAutoCorrFn(u,L=1)\n",
    "\n",
    "Test the autocorrelation of OLS residuals\n",
    "\n",
    "# Input:\n",
    "- `u::Vector`:   T-vector, residuals\n",
    "- `L::Int`:      scalar, number of lags in autocorrelation and Box-Pierce test\n",
    "\n",
    "# Output\n",
    "- `AutoCorr::Matrix`:   Lx3, autocorrelation, t-stat and p-value\n",
    "- `BoxPierce::Matrix`:  1x2, Box-Pierce statistic and p-value\n",
    "- `DW::Number`:         DW statistic\n",
    "\n",
    "# Requires\n",
    "- StatsBase, Distributions\n",
    "\n",
    "\"\"\"\n",
    "function OlsAutoCorrFn(u,L=1)\n",
    "\n",
    "    T = size(u,1)\n",
    "\n",
    "    Stdu = std(u)\n",
    "    ρ    = autocor(u,1:L)        #\\rho[TAB]\n",
    "    t_ρ  = sqrt(T)*ρ\n",
    "\n",
    "    pval      = 2*(1.0 .- cdf.(Normal(0,1),abs.(t_ρ)))\n",
    "    AutoCorr  = [ρ t_ρ pval]\n",
    "\n",
    "    BPStat    = T*sum(ρ.^2)\n",
    "    pval      = 1 - cdf(Chisq(L),BPStat)\n",
    "    BoxPierce = [BPStat pval]\n",
    "\n",
    "    DWStat    = mean(diff(u).^2)/Stdu^2\n",
    "\n",
    "    return AutoCorr, BoxPierce, DWStat\n",
    "\n",
    "end"
   ]
  },
  {
   "cell_type": "code",
   "execution_count": 10,
   "metadata": {
    "tags": []
   },
   "outputs": [
    {
     "name": "stdout",
     "output_type": "stream",
     "text": [
      "\u001b[35m\u001b[1mTesting autocorrelation of residuals\u001b[22m\u001b[39m\n",
      "\n",
      "\u001b[34m\u001b[1mAutocorrelations (lag 1 to 3):\u001b[22m\u001b[39m\n",
      "\n",
      "lag  autocorr    t-stat     p-val\n",
      "1       0.074     1.467     0.142\n",
      "2      -0.037    -0.733     0.464\n",
      "3       0.019     0.377     0.706\n",
      "\n",
      "\n",
      "\u001b[34m\u001b[1mBoxPierce (3 lags): \u001b[22m\u001b[39m\n",
      "stat      2.831\n",
      "p-val     0.418\n",
      "\n",
      "\u001b[34m\u001b[1mDW statistic:\u001b[22m\u001b[39m\n",
      "     1.849\n"
     ]
    }
   ],
   "source": [
    "L = 3     #number of autocorrs to test\n",
    "\n",
    "(ρStats,BoxPierce,DW) = OlsAutoCorrFn(u,L)\n",
    "\n",
    "printmagenta(\"Testing autocorrelation of residuals\\n\")\n",
    "\n",
    "printblue(\"Autocorrelations (lag 1 to $L):\\n\")\n",
    "printmat(ρStats,colNames=[\"autocorr\",\"t-stat\",\"p-val\"],rowNames=1:L,cell00=\"lag\")\n",
    "\n",
    "printblue(\"\\nBoxPierce ($L lags): \")\n",
    "printmat(BoxPierce',rowNames=[\"stat\",\"p-val\"])\n",
    "\n",
    "printblue(\"DW statistic:\")\n",
    "printlnPs(DW)"
   ]
  },
  {
   "cell_type": "code",
   "execution_count": null,
   "metadata": {},
   "outputs": [],
   "source": []
  }
 ],
 "metadata": {
  "@webio": {
   "lastCommId": null,
   "lastKernelId": null
  },
  "anaconda-cloud": {},
  "kernelspec": {
   "display_name": "Julia 1.8.5",
   "language": "julia",
   "name": "julia-1.8"
  },
  "language_info": {
   "file_extension": ".jl",
   "mimetype": "application/julia",
   "name": "julia",
   "version": "1.8.5"
  }
 },
 "nbformat": 4,
 "nbformat_minor": 4
}
